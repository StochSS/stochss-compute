{
 "cells": [
  {
   "cell_type": "code",
   "execution_count": null,
   "metadata": {},
   "outputs": [],
   "source": [
    "import sys, os\n",
    "sys.path.insert(1, os.path.abspath(os.path.join(os.getcwd(), '../')))\n",
    "from stochss_compute.cloud.ec2 import EC2Cluster, p"
   ]
  },
  {
   "cell_type": "code",
   "execution_count": null,
   "metadata": {},
   "outputs": [],
   "source": [
    "cluster = EC2Cluster()"
   ]
  },
  {
   "cell_type": "code",
   "execution_count": null,
   "metadata": {},
   "outputs": [],
   "source": [
    "cluster.launch_single_node_cluster()"
   ]
  },
  {
   "cell_type": "code",
   "execution_count": null,
   "metadata": {},
   "outputs": [],
   "source": [
    "vpcId = 'vpc-0aaae1dae8fe0eac7'\n",
    "vpc = cluster.resources.Vpc(vpcId)"
   ]
  },
  {
   "cell_type": "code",
   "execution_count": 32,
   "metadata": {},
   "outputs": [
    {
     "name": "stdout",
     "output_type": "stream",
     "text": [
      "ec2.Subnet(id='subnet-002920bdc4dd9956a')\n"
     ]
    }
   ],
   "source": [
    "for subnet in vpc.subnets.all():\n",
    "    print(subnet)\n",
    "    subnet.delete()"
   ]
  },
  {
   "cell_type": "code",
   "execution_count": 33,
   "metadata": {},
   "outputs": [
    {
     "ename": "ClientError",
     "evalue": "An error occurred (CannotDelete) when calling the DeleteSecurityGroup operation: the specified group: \"sg-0906fd7486ece22f1\" name: \"default\" cannot be deleted by a user",
     "output_type": "error",
     "traceback": [
      "\u001b[0;31m---------------------------------------------------------------------------\u001b[0m",
      "\u001b[0;31mClientError\u001b[0m                               Traceback (most recent call last)",
      "\u001b[1;32m/home/mdip/Projects/stochss-compute/examples/ec2_testing.ipynb Cell 6'\u001b[0m in \u001b[0;36m<cell line: 1>\u001b[0;34m()\u001b[0m\n\u001b[1;32m      <a href='vscode-notebook-cell:/home/mdip/Projects/stochss-compute/examples/ec2_testing.ipynb#ch0000023?line=0'>1</a>\u001b[0m \u001b[39mfor\u001b[39;00m sg \u001b[39min\u001b[39;00m vpc\u001b[39m.\u001b[39msecurity_groups\u001b[39m.\u001b[39mall():\n\u001b[0;32m----> <a href='vscode-notebook-cell:/home/mdip/Projects/stochss-compute/examples/ec2_testing.ipynb#ch0000023?line=1'>2</a>\u001b[0m     sg\u001b[39m.\u001b[39;49mdelete()\n",
      "File \u001b[0;32m~/Projects/stochss-compute/env/lib/python3.8/site-packages/boto3/resources/factory.py:580\u001b[0m, in \u001b[0;36mResourceFactory._create_action.<locals>.do_action\u001b[0;34m(self, *args, **kwargs)\u001b[0m\n\u001b[1;32m    579\u001b[0m \u001b[39mdef\u001b[39;00m \u001b[39mdo_action\u001b[39m(\u001b[39mself\u001b[39m, \u001b[39m*\u001b[39margs, \u001b[39m*\u001b[39m\u001b[39m*\u001b[39mkwargs):\n\u001b[0;32m--> 580\u001b[0m     response \u001b[39m=\u001b[39m action(\u001b[39mself\u001b[39;49m, \u001b[39m*\u001b[39;49margs, \u001b[39m*\u001b[39;49m\u001b[39m*\u001b[39;49mkwargs)\n\u001b[1;32m    582\u001b[0m     \u001b[39mif\u001b[39;00m \u001b[39mhasattr\u001b[39m(\u001b[39mself\u001b[39m, \u001b[39m'\u001b[39m\u001b[39mload\u001b[39m\u001b[39m'\u001b[39m):\n\u001b[1;32m    583\u001b[0m         \u001b[39m# Clear cached data. It will be reloaded the next\u001b[39;00m\n\u001b[1;32m    584\u001b[0m         \u001b[39m# time that an attribute is accessed.\u001b[39;00m\n\u001b[1;32m    585\u001b[0m         \u001b[39m# TODO: Make this configurable in the future?\u001b[39;00m\n\u001b[1;32m    586\u001b[0m         \u001b[39mself\u001b[39m\u001b[39m.\u001b[39mmeta\u001b[39m.\u001b[39mdata \u001b[39m=\u001b[39m \u001b[39mNone\u001b[39;00m\n",
      "File \u001b[0;32m~/Projects/stochss-compute/env/lib/python3.8/site-packages/boto3/resources/action.py:88\u001b[0m, in \u001b[0;36mServiceAction.__call__\u001b[0;34m(self, parent, *args, **kwargs)\u001b[0m\n\u001b[1;32m     79\u001b[0m params\u001b[39m.\u001b[39mupdate(kwargs)\n\u001b[1;32m     81\u001b[0m logger\u001b[39m.\u001b[39mdebug(\n\u001b[1;32m     82\u001b[0m     \u001b[39m'\u001b[39m\u001b[39mCalling \u001b[39m\u001b[39m%s\u001b[39;00m\u001b[39m:\u001b[39m\u001b[39m%s\u001b[39;00m\u001b[39m with \u001b[39m\u001b[39m%r\u001b[39;00m\u001b[39m'\u001b[39m,\n\u001b[1;32m     83\u001b[0m     parent\u001b[39m.\u001b[39mmeta\u001b[39m.\u001b[39mservice_name,\n\u001b[1;32m     84\u001b[0m     operation_name,\n\u001b[1;32m     85\u001b[0m     params,\n\u001b[1;32m     86\u001b[0m )\n\u001b[0;32m---> 88\u001b[0m response \u001b[39m=\u001b[39m \u001b[39mgetattr\u001b[39;49m(parent\u001b[39m.\u001b[39;49mmeta\u001b[39m.\u001b[39;49mclient, operation_name)(\u001b[39m*\u001b[39;49margs, \u001b[39m*\u001b[39;49m\u001b[39m*\u001b[39;49mparams)\n\u001b[1;32m     90\u001b[0m logger\u001b[39m.\u001b[39mdebug(\u001b[39m'\u001b[39m\u001b[39mResponse: \u001b[39m\u001b[39m%r\u001b[39;00m\u001b[39m'\u001b[39m, response)\n\u001b[1;32m     92\u001b[0m \u001b[39mreturn\u001b[39;00m \u001b[39mself\u001b[39m\u001b[39m.\u001b[39m_response_handler(parent, params, response)\n",
      "File \u001b[0;32m~/Projects/stochss-compute/env/lib/python3.8/site-packages/botocore/client.py:508\u001b[0m, in \u001b[0;36mClientCreator._create_api_method.<locals>._api_call\u001b[0;34m(self, *args, **kwargs)\u001b[0m\n\u001b[1;32m    504\u001b[0m     \u001b[39mraise\u001b[39;00m \u001b[39mTypeError\u001b[39;00m(\n\u001b[1;32m    505\u001b[0m         \u001b[39mf\u001b[39m\u001b[39m\"\u001b[39m\u001b[39m{\u001b[39;00mpy_operation_name\u001b[39m}\u001b[39;00m\u001b[39m() only accepts keyword arguments.\u001b[39m\u001b[39m\"\u001b[39m\n\u001b[1;32m    506\u001b[0m     )\n\u001b[1;32m    507\u001b[0m \u001b[39m# The \"self\" in this scope is referring to the BaseClient.\u001b[39;00m\n\u001b[0;32m--> 508\u001b[0m \u001b[39mreturn\u001b[39;00m \u001b[39mself\u001b[39;49m\u001b[39m.\u001b[39;49m_make_api_call(operation_name, kwargs)\n",
      "File \u001b[0;32m~/Projects/stochss-compute/env/lib/python3.8/site-packages/botocore/client.py:911\u001b[0m, in \u001b[0;36mBaseClient._make_api_call\u001b[0;34m(self, operation_name, api_params)\u001b[0m\n\u001b[1;32m    909\u001b[0m     error_code \u001b[39m=\u001b[39m parsed_response\u001b[39m.\u001b[39mget(\u001b[39m\"\u001b[39m\u001b[39mError\u001b[39m\u001b[39m\"\u001b[39m, {})\u001b[39m.\u001b[39mget(\u001b[39m\"\u001b[39m\u001b[39mCode\u001b[39m\u001b[39m\"\u001b[39m)\n\u001b[1;32m    910\u001b[0m     error_class \u001b[39m=\u001b[39m \u001b[39mself\u001b[39m\u001b[39m.\u001b[39mexceptions\u001b[39m.\u001b[39mfrom_code(error_code)\n\u001b[0;32m--> 911\u001b[0m     \u001b[39mraise\u001b[39;00m error_class(parsed_response, operation_name)\n\u001b[1;32m    912\u001b[0m \u001b[39melse\u001b[39;00m:\n\u001b[1;32m    913\u001b[0m     \u001b[39mreturn\u001b[39;00m parsed_response\n",
      "\u001b[0;31mClientError\u001b[0m: An error occurred (CannotDelete) when calling the DeleteSecurityGroup operation: the specified group: \"sg-0906fd7486ece22f1\" name: \"default\" cannot be deleted by a user"
     ]
    }
   ],
   "source": [
    "for sg in vpc.security_groups.all():\n",
    "    sg.delete()"
   ]
  },
  {
   "cell_type": "code",
   "execution_count": null,
   "metadata": {},
   "outputs": [],
   "source": [
    "for igw in vpc.internet_gateways.all():\n",
    "    print(igw)\n",
    "    igw.detach_from_vpc(VpcId=vpc.vpc_id)\n",
    "    igw.delete()"
   ]
  },
  {
   "cell_type": "code",
   "execution_count": null,
   "metadata": {},
   "outputs": [],
   "source": [
    "for rtb in vpc.route_tables.all():\n",
    "    print(rtb)\n",
    "    for assoc in rtb.associations:\n",
    "        print(assoc.association_state)\n",
    "        assoc.delete()\n",
    "    # rtb.delete()\n",
    "    # rtb.delete()"
   ]
  },
  {
   "cell_type": "code",
   "execution_count": null,
   "metadata": {},
   "outputs": [],
   "source": [
    "head = cluster.instances[0]"
   ]
  },
  {
   "cell_type": "code",
   "execution_count": null,
   "metadata": {},
   "outputs": [],
   "source": [
    "# cluster.create_root_key()\n",
    "vpcId = cluster.create_default_vpc()\n",
    "print(f'vpcId: {vpcId}')\n"
   ]
  },
  {
   "cell_type": "code",
   "execution_count": null,
   "metadata": {},
   "outputs": [],
   "source": [
    "subnetId = cluster.create_default_subnet(vpcId)\n",
    "print(f'subnetId: {subnetId}')\n"
   ]
  },
  {
   "cell_type": "code",
   "execution_count": null,
   "metadata": {},
   "outputs": [],
   "source": [
    "subnet = cluster.resources.Subnet(subnetId)"
   ]
  },
  {
   "cell_type": "code",
   "execution_count": null,
   "metadata": {},
   "outputs": [],
   "source": [
    "subnet.map_public_ip_on_launch"
   ]
  },
  {
   "cell_type": "code",
   "execution_count": null,
   "metadata": {},
   "outputs": [],
   "source": [
    "sgId = cluster.create_default_security_group(vpcId)\n",
    "print(f'sgId: {sgId}')\n"
   ]
  },
  {
   "cell_type": "code",
   "execution_count": null,
   "metadata": {},
   "outputs": [],
   "source": [
    "head = cluster.launch_instances(subnetId=\"\", securityGroupId=\"\")\n",
    "print(f'head: {head}')\n"
   ]
  },
  {
   "cell_type": "code",
   "execution_count": null,
   "metadata": {},
   "outputs": [],
   "source": [
    "head.authorize_SSH()"
   ]
  },
  {
   "cell_type": "code",
   "execution_count": null,
   "metadata": {},
   "outputs": [],
   "source": [
    "igw_response = cluster.client.create_internet_gateway()"
   ]
  },
  {
   "cell_type": "code",
   "execution_count": null,
   "metadata": {},
   "outputs": [],
   "source": [
    "igwId = igw_response['InternetGateway']['InternetGatewayId']\n",
    "vpc = cluster.resources.Vpc('vpc-07a07397c4d088fec')"
   ]
  },
  {
   "cell_type": "code",
   "execution_count": null,
   "metadata": {},
   "outputs": [],
   "source": [
    "igw_response"
   ]
  },
  {
   "cell_type": "code",
   "execution_count": null,
   "metadata": {},
   "outputs": [],
   "source": [
    "vpc.attach_internet_gateway(InternetGatewayId=igwId)"
   ]
  },
  {
   "cell_type": "code",
   "execution_count": null,
   "metadata": {},
   "outputs": [],
   "source": [
    "vpc.create_route_table()"
   ]
  },
  {
   "cell_type": "code",
   "execution_count": null,
   "metadata": {},
   "outputs": [],
   "source": [
    "rtbId = 'rtb-09714e8cfb9e31a6c'"
   ]
  },
  {
   "cell_type": "code",
   "execution_count": null,
   "metadata": {},
   "outputs": [],
   "source": [
    "cluster.client.create_route(RouteTableId=\"rtb-0674cb67d39179144\",GatewayId=\"igw-09222916c2f305eca\",DestinationCidrBlock='0.0.0.0/0')"
   ]
  },
  {
   "cell_type": "code",
   "execution_count": null,
   "metadata": {},
   "outputs": [],
   "source": [
    "cluster.terminate_all_instances()"
   ]
  }
 ],
 "metadata": {
  "kernelspec": {
   "display_name": "Python 3.8.10 ('env': venv)",
   "language": "python",
   "name": "python3"
  },
  "language_info": {
   "codemirror_mode": {
    "name": "ipython",
    "version": 3
   },
   "file_extension": ".py",
   "mimetype": "text/x-python",
   "name": "python",
   "nbconvert_exporter": "python",
   "pygments_lexer": "ipython3",
   "version": "3.8.10"
  },
  "orig_nbformat": 4,
  "vscode": {
   "interpreter": {
    "hash": "aef72cacc8a435b2ad5622cea92730a93ce97854f4a76157042673d76f872b67"
   }
  }
 },
 "nbformat": 4,
 "nbformat_minor": 2
}
