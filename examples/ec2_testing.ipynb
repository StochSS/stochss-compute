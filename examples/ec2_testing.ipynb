{
 "cells": [
  {
   "cell_type": "code",
   "execution_count": null,
   "metadata": {},
   "outputs": [],
   "source": [
    "import sys, os\n",
    "sys.path.insert(1, os.path.abspath(os.path.join(os.getcwd(), '../')))\n",
    "from stochss_compute.cloud.ec2 import EC2Cluster, p"
   ]
  },
  {
   "cell_type": "code",
   "execution_count": null,
   "metadata": {},
   "outputs": [],
   "source": [
    "cluster = EC2Cluster()"
   ]
  },
  {
   "cell_type": "code",
   "execution_count": null,
   "metadata": {},
   "outputs": [],
   "source": [
    "vpc_cidrBlock = '172.31.0.0/16'\n",
    "vpc_tag = [\n",
    "    {\n",
    "        'ResourceType': 'vpc',\n",
    "        'Tags': [\n",
    "            {\n",
    "                'Key': 'Name',\n",
    "                'Value': 'sssc-vpc'\n",
    "            }\n",
    "        ]\n",
    "    }\n",
    "]\n",
    "vpc_response = cluster.client.create_vpc(CidrBlock=vpc_cidrBlock, TagSpecifications=vpc_tag)\n",
    "vpc_id = vpc_response['Vpc']['VpcId']\n",
    "cluster.client.modify_vpc_attribute( VpcId = vpc_id , EnableDnsSupport = { 'Value': True } )\n",
    "cluster.client.modify_vpc_attribute( VpcId = vpc_id , EnableDnsHostnames = { 'Value': True } )"
   ]
  },
  {
   "cell_type": "code",
   "execution_count": null,
   "metadata": {},
   "outputs": [],
   "source": [
    "vpc = cluster.resources.Vpc(vpc_id)\n",
    "for igw in vpc.internet_gateways.all():\n",
    "    print(igw)\n"
   ]
  },
  {
   "cell_type": "code",
   "execution_count": null,
   "metadata": {},
   "outputs": [],
   "source": [
    "igw_response = cluster.client.create_internet_gateway()\n",
    "igw_id = igw_response['InternetGateway']['InternetGatewayId']\n",
    "vpc.attach_internet_gateway(InternetGatewayId=igw_id)"
   ]
  },
  {
   "cell_type": "code",
   "execution_count": null,
   "metadata": {},
   "outputs": [],
   "source": [
    "for rtb in vpc.route_tables.all():\n",
    "    if rtb.associations_attribute[0]['Main'] == True:\n",
    "        rtb_id = rtb.route_table_id\n",
    "rtb_id"
   ]
  },
  {
   "cell_type": "code",
   "execution_count": null,
   "metadata": {},
   "outputs": [],
   "source": [
    "cluster.client.create_route(RouteTableId=rtb_id, GatewayId=igw_id, DestinationCidrBlock='0.0.0.0/0')"
   ]
  },
  {
   "cell_type": "code",
   "execution_count": null,
   "metadata": {},
   "outputs": [],
   "source": [
    "cluster.launch_single_node_cluster()"
   ]
  },
  {
   "cell_type": "code",
   "execution_count": null,
   "metadata": {},
   "outputs": [],
   "source": [
    "vpcId = 'vpc-0aaae1dae8fe0eac7'\n",
    "vpc = cluster.resources.Vpc(vpcId)"
   ]
  },
  {
   "cell_type": "code",
   "execution_count": null,
   "metadata": {},
   "outputs": [],
   "source": [
    "for subnet in vpc.subnets.all():\n",
    "    print(subnet)\n",
    "    subnet.delete()"
   ]
  },
  {
   "cell_type": "code",
   "execution_count": null,
   "metadata": {},
   "outputs": [],
   "source": [
    "for sg in vpc.security_groups.all():\n",
    "    sg.delete()"
   ]
  },
  {
   "cell_type": "code",
   "execution_count": null,
   "metadata": {},
   "outputs": [],
   "source": [
    "for igw in vpc.internet_gateways.all():\n",
    "    print(igw)\n",
    "    igw.detach_from_vpc(VpcId=vpc.vpc_id)\n",
    "    igw.delete()"
   ]
  },
  {
   "cell_type": "code",
   "execution_count": null,
   "metadata": {},
   "outputs": [],
   "source": [
    "for rtb in vpc.route_tables.all():\n",
    "    print(rtb)\n",
    "    for assoc in rtb.associations:\n",
    "        print(assoc.association_state)\n",
    "        assoc.delete()\n",
    "    # rtb.delete()\n",
    "    # rtb.delete()"
   ]
  },
  {
   "cell_type": "code",
   "execution_count": null,
   "metadata": {},
   "outputs": [],
   "source": [
    "head = cluster.instances[0]"
   ]
  },
  {
   "cell_type": "code",
   "execution_count": null,
   "metadata": {},
   "outputs": [],
   "source": [
    "# cluster.create_root_key()\n",
    "vpcId = cluster.create_default_vpc()\n",
    "print(f'vpcId: {vpcId}')\n"
   ]
  },
  {
   "cell_type": "code",
   "execution_count": null,
   "metadata": {},
   "outputs": [],
   "source": [
    "subnetId = cluster.create_default_subnet(vpcId)\n",
    "print(f'subnetId: {subnetId}')\n"
   ]
  },
  {
   "cell_type": "code",
   "execution_count": null,
   "metadata": {},
   "outputs": [],
   "source": [
    "sgId = cluster.create_default_security_group(vpcId)\n",
    "print(f'sgId: {sgId}')\n"
   ]
  },
  {
   "cell_type": "code",
   "execution_count": null,
   "metadata": {},
   "outputs": [],
   "source": [
    "head = cluster.launch_instances(subnetId=\"\", securityGroupId=\"\")\n",
    "print(f'head: {head}')\n"
   ]
  },
  {
   "cell_type": "code",
   "execution_count": null,
   "metadata": {},
   "outputs": [],
   "source": [
    "head.authorize_SSH()"
   ]
  },
  {
   "cell_type": "code",
   "execution_count": null,
   "metadata": {},
   "outputs": [],
   "source": [
    "cluster.terminate_all_instances()"
   ]
  }
 ],
 "metadata": {
  "kernelspec": {
   "display_name": "Python 3.8.10 ('env': venv)",
   "language": "python",
   "name": "python3"
  },
  "language_info": {
   "codemirror_mode": {
    "name": "ipython",
    "version": 3
   },
   "file_extension": ".py",
   "mimetype": "text/x-python",
   "name": "python",
   "nbconvert_exporter": "python",
   "pygments_lexer": "ipython3",
   "version": "3.8.10"
  },
  "orig_nbformat": 4,
  "vscode": {
   "interpreter": {
    "hash": "aef72cacc8a435b2ad5622cea92730a93ce97854f4a76157042673d76f872b67"
   }
  }
 },
 "nbformat": 4,
 "nbformat_minor": 2
}
