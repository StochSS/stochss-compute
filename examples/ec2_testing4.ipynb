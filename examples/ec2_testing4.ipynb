{
 "cells": [
  {
   "cell_type": "code",
   "execution_count": 1,
   "metadata": {},
   "outputs": [],
   "source": [
    "import sys, os\n",
    "sys.path.insert(1, os.path.abspath(os.path.join(os.getcwd(), '../')))\n",
    "from stochss_compute.cloud.ec2 import Cluster\n"
   ]
  },
  {
   "cell_type": "code",
   "execution_count": 2,
   "metadata": {},
   "outputs": [
    {
     "name": "stdout",
     "output_type": "stream",
     "text": [
      "No instances named \"sssc-server\".\n",
      "No subnet named \"sssc-subnet\".\n",
      "Missing or misconfigured resources. You need to call clean_up().\n",
      "Misconfigured cluster detected. Cleaning up.\n",
      "Deleting sg-0fe85a8e481011e34.......\n",
      "Security group sg-0fe85a8e481011e34 deleted.\n",
      "Deleting subnet-02429cd5ffaa1f2e8.......\n",
      "Subnet subnet-02429cd5ffaa1f2e8 deleted.\n",
      "Detaching igw-0f0d0468f34ccc72d.......\n",
      "Gateway igw-0f0d0468f34ccc72d detached.\n",
      "Deleting igw-0f0d0468f34ccc72d.......\n",
      "Gateway igw-0f0d0468f34ccc72d deleted.\n",
      "Deleting vpc-0b2027be57867e1a4.......\n",
      "VPC vpc-0b2027be57867e1a4 deleted.\n",
      "StochSS-Compute ready to re-launch.\n"
     ]
    }
   ],
   "source": [
    "cluster = Cluster()"
   ]
  }
 ],
 "metadata": {
  "kernelspec": {
   "display_name": "Python 3 (ipykernel)",
   "language": "python",
   "name": "python3"
  },
  "language_info": {
   "codemirror_mode": {
    "name": "ipython",
    "version": 3
   },
   "file_extension": ".py",
   "mimetype": "text/x-python",
   "name": "python",
   "nbconvert_exporter": "python",
   "pygments_lexer": "ipython3",
   "version": "3.8.10"
  },
  "vscode": {
   "interpreter": {
    "hash": "aef72cacc8a435b2ad5622cea92730a93ce97854f4a76157042673d76f872b67"
   }
  }
 },
 "nbformat": 4,
 "nbformat_minor": 2
}
