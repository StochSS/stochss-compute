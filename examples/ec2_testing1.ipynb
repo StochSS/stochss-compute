{
 "cells": [
  {
   "cell_type": "code",
   "execution_count": 1,
   "metadata": {},
   "outputs": [],
   "source": [
    "import sys, os\n",
    "sys.path.insert(1, os.path.abspath(os.path.join(os.getcwd(), '../')))\n",
    "from stochss_compute.cloud.ec2 import Cluster\n",
    "import gillespy2\n",
    "import numpy\n",
    "from stochss_compute import RemoteSimulation, ComputeServer"
   ]
  },
  {
   "cell_type": "code",
   "execution_count": 2,
   "metadata": {},
   "outputs": [],
   "source": [
    "cluster = EC2Cluster()"
   ]
  },
  {
   "cell_type": "code",
   "execution_count": 3,
   "metadata": {},
   "outputs": [],
   "source": [
    "vpc_id = cluster._create_sssc_vpc()\n",
    "sg_id = cluster._create_sssc_security_group(vpc_id)\n",
    "# sg_id"
   ]
  },
  {
   "cell_type": "code",
   "execution_count": 4,
   "metadata": {},
   "outputs": [
    {
     "name": "stdout",
     "output_type": "stream",
     "text": [
      "{'SecurityGroupRules': [{'SecurityGroupRuleId': 'sgr-003d3548e19c80378', 'GroupId': 'sg-022fa23c49ea4774f', 'GroupOwnerId': '946980283210', 'IsEgress': False, 'IpProtocol': 'tcp', 'FromPort': 29681, 'ToPort': 29681, 'CidrIpv4': '0.0.0.0/0', 'Tags': [{'Key': 'Name', 'Value': '29681'}]}], 'ResponseMetadata': {'RequestId': '0478ebab-5eb6-45b6-9cd0-32962aa4ea74', 'HTTPStatusCode': 200, 'HTTPHeaders': {'x-amzn-requestid': '0478ebab-5eb6-45b6-9cd0-32962aa4ea74', 'cache-control': 'no-cache, no-store', 'strict-transport-security': 'max-age=31536000; includeSubDomains', 'vary': 'accept-encoding', 'content-type': 'text/xml;charset=UTF-8', 'transfer-encoding': 'chunked', 'date': 'Mon, 27 Jun 2022 13:33:38 GMT', 'server': 'AmazonEC2'}, 'RetryAttempts': 0}}\n",
      "{'SecurityGroupRules': [{'SecurityGroupRuleId': 'sgr-003d3548e19c80378', 'GroupId': 'sg-022fa23c49ea4774f', 'GroupOwnerId': '946980283210', 'IsEgress': False, 'IpProtocol': 'tcp', 'FromPort': 29681, 'ToPort': 29681, 'CidrIpv4': '0.0.0.0/0', 'Description': 'TEST', 'Tags': [{'Key': 'Name', 'Value': '29681'}]}], 'ResponseMetadata': {'RequestId': 'c8b86a2c-6135-4747-8553-980df0a52699', 'HTTPStatusCode': 200, 'HTTPHeaders': {'x-amzn-requestid': 'c8b86a2c-6135-4747-8553-980df0a52699', 'cache-control': 'no-cache, no-store', 'strict-transport-security': 'max-age=31536000; includeSubDomains', 'vary': 'accept-encoding', 'content-type': 'text/xml;charset=UTF-8', 'transfer-encoding': 'chunked', 'date': 'Mon, 27 Jun 2022 13:33:38 GMT', 'server': 'AmazonEC2'}, 'RetryAttempts': 0}}\n"
     ]
    }
   ],
   "source": [
    "# cluster._restrict_ingress()"
   ]
  },
  {
   "cell_type": "code",
   "execution_count": 5,
   "metadata": {},
   "outputs": [],
   "source": [
    "# cluster.clean_up()"
   ]
  }
 ],
 "metadata": {
  "kernelspec": {
   "display_name": "Python 3.8.10 ('env': venv)",
   "language": "python",
   "name": "python3"
  },
  "language_info": {
   "codemirror_mode": {
    "name": "ipython",
    "version": 3
   },
   "file_extension": ".py",
   "mimetype": "text/x-python",
   "name": "python",
   "nbconvert_exporter": "python",
   "pygments_lexer": "ipython3",
   "version": "3.8.10"
  },
  "orig_nbformat": 4,
  "vscode": {
   "interpreter": {
    "hash": "aef72cacc8a435b2ad5622cea92730a93ce97854f4a76157042673d76f872b67"
   }
  }
 },
 "nbformat": 4,
 "nbformat_minor": 2
}
