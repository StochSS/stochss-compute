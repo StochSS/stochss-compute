{
 "cells": [
  {
   "cell_type": "markdown",
   "metadata": {},
   "source": [
    "# Introduction  \n",
    "  \n",
    "Running a simulation with GillesPy2 requires only 2 components: a model (data), and a solver (algorithm)."
   ]
  },
  {
   "cell_type": "markdown",
   "metadata": {},
   "source": [
    "## BASIC"
   ]
  },
  {
   "cell_type": "markdown",
   "metadata": {},
   "source": [
    "### Creating a GillesPy2 Model  \n",
    "  \n",
    "A GillesPy2 model must include species, rates, and reactions."
   ]
  },
  {
   "cell_type": "code",
   "execution_count": 1,
   "metadata": {},
   "outputs": [
    {
     "name": "stdout",
     "output_type": "stream",
     "text": [
      "V1 API has been initialized.\n"
     ]
    }
   ],
   "source": [
    "import sys, os\n",
    "import matplotlib.pyplot as plt\n",
    "import numpy\n",
    "sys.path.append(os.path.abspath(os.path.join(os.getcwd(), '../')))\n",
    "import gillespy2\n",
    "from stochss_compute import RemoteSimulation, ComputeServer\n",
    "class MichaelisMenten(gillespy2.Model):\n",
    "     def __init__(self, parameter_values=None):\n",
    "            #initialize Model\n",
    "            gillespy2.Model.__init__(self, name=\"Michaelis_Menten\")\n",
    "            \n",
    "            ''' \n",
    "            PARAMETERS:\n",
    "            These are constant values relevant to the system, such as reaction kinetic rates.\n",
    "            \n",
    "            name: user defined name for reference\n",
    "            expression: constant value\n",
    "            '''\n",
    "            rate1 = gillespy2.Parameter(name='rate1', expression= 0.0017)\n",
    "            rate2 = gillespy2.Parameter(name='rate2', expression= 0.5)\n",
    "            rate3 = gillespy2.Parameter(name='rate3', expression = 0.1)\n",
    "            \n",
    "            # Add parameters to the model\n",
    "            self.add_parameter([rate1,rate2,rate3])\n",
    "            \n",
    "            '''\n",
    "            SPECIES:\n",
    "            These can be anything that participates in or is produced by a reaction channel.\n",
    "            \n",
    "            name: A user defined name for the species\n",
    "            initial_value: value/population count of species at start of simulation\n",
    "            '''\n",
    "            A = gillespy2.Species(name='A', initial_value=301)\n",
    "            B = gillespy2.Species(name='B', initial_value=120)\n",
    "            C = gillespy2.Species(name='C', initial_value=0)\n",
    "            D = gillespy2.Species(name='D', initial_value=0)\n",
    "            \n",
    "            # Add species to the model\n",
    "            self.add_species([A, B, C, D])\n",
    "            \n",
    "            '''Reactions:\n",
    "            These are the reaction channels causing the system to change over time\n",
    "            \n",
    "            name: a user defined name for the reaction\n",
    "            reactants: dictionary with participant reactants as keys, and consumed per reaction as value.\n",
    "            products: dictionary with reaction products as keys, and number formed per reaction as value.\n",
    "            rate: parameter rate constant to be applied to the propensity of this reaction firing\n",
    "            propensity_function: can be used instead of rate in order to declare a custom propensity function in string format'''\n",
    "            r1 = gillespy2.Reaction(name=\"r1\",reactants={A:1,B:1}, products={C:1},\n",
    "                   rate=rate1)\n",
    "            \n",
    "            r2 = gillespy2.Reaction(name=\"r2\",reactants={C:1}, products={A:1,B:1},\n",
    "                    rate=rate2)\n",
    "            \n",
    "            r3 = gillespy2.Reaction(name=\"r3\",reactants={C:1}, products={B:1,D:1},\n",
    "                    rate=rate3)\n",
    "            \n",
    "            # Add reactions to the model\n",
    "            self.add_reaction([r1,r2,r3])\n",
    "            \n",
    "            # Set timespan of model\n",
    "            self.timespan(numpy.linspace(0,100,101))"
   ]
  },
  {
   "cell_type": "code",
   "execution_count": 2,
   "metadata": {
    "tags": []
   },
   "outputs": [
    {
     "name": "stdout",
     "output_type": "stream",
     "text": [
      "<Response [500]>\n"
     ]
    },
    {
     "ename": "ValidationError",
     "evalue": "1 validation error for ErrorResponse\n__root__\n  Expecting value: line 1 column 1 (char 0) (type=value_error.jsondecode; msg=Expecting value; doc=<!DOCTYPE HTML PUBLIC \"-//W3C//DTD HTML 4.01 Transitional//EN\"\n  \"http://www.w3.org/TR/html4/loose.dtd\">\n<html>\n  <head>\n    <title>FileNotFoundError: [Errno 2] No such file or directory: &#x27;kubernetes/dask_worker_spec.yaml&#x27; // Werkzeug Debugger</title>\n    <link rel=\"stylesheet\" href=\"?__debugger__=yes&amp;cmd=resource&amp;f=style.css\"\n        type=\"text/css\">\n    <!-- We need to make sure this has a favicon so that the debugger does\n         not accidentally trigger a request to /favicon.ico which might\n         change the application's state. -->\n    <link rel=\"shortcut icon\"\n        href=\"?__debugger__=yes&amp;cmd=resource&amp;f=console.png\">\n    <script src=\"?__debugger__=yes&amp;cmd=resource&amp;f=debugger.js\"></script>\n    <script type=\"text/javascript\">\n      var TRACEBACK = 140204819180656,\n          CONSOLE_MODE = false,\n          EVALEX = true,\n          EVALEX_TRUSTED = false,\n          SECRET = \"WdUOG2LIQ7CvWgcI0GVO\";\n    </script>\n  </head>\n  <body style=\"background-color: #fff\">\n    <div class=\"debugger\">\n<h1>FileNotFoundError</h1>\n<div class=\"detail\">\n  <p class=\"errormsg\">FileNotFoundError: [Errno 2] No such file or directory: &#x27;kubernetes/dask_worker_spec.yaml&#x27;</p>\n</div>\n<h2 class=\"traceback\">Traceback <em>(most recent call last)</em></h2>\n<div class=\"traceback\">\n  <h3></h3>\n  <ul><li><div class=\"frame\" id=\"frame-140204819180800\">\n  <h4>File <cite class=\"filename\">\"/usr/local/lib/python3.9/site-packages/flask/app.py\"</cite>,\n      line <em class=\"line\">2088</em>,\n      in <code class=\"function\">__call__</code></h4>\n  <div class=\"source library\"><pre class=\"line before\"><span class=\"ws\">    </span>def __call__(self, environ: dict, start_response: t.Callable) -&gt; t.Any:</pre>\n<pre class=\"line before\"><span class=\"ws\">        </span>&quot;&quot;&quot;The WSGI server calls the Flask application object as the</pre>\n<pre class=\"line before\"><span class=\"ws\">        </span>WSGI application. This calls :meth:`wsgi_app`, which can be</pre>\n<pre class=\"line before\"><span class=\"ws\">        </span>wrapped to apply middleware.</pre>\n<pre class=\"line before\"><span class=\"ws\">        </span>&quot;&quot;&quot;</pre>\n<pre class=\"line current\"><span class=\"ws\">        </span>return self.wsgi_app(environ, start_response)</pre></div>\n</div>\n\n<li><div class=\"frame\" id=\"frame-140204819180848\">\n  <h4>File <cite class=\"filename\">\"/usr/local/lib/python3.9/site-packages/flask/app.py\"</cite>,\n      line <em class=\"line\">2073</em>,\n      in <code class=\"function\">wsgi_app</code></h4>\n  <div class=\"source library\"><pre class=\"line before\"><span class=\"ws\">            </span>try:</pre>\n<pre class=\"line before\"><span class=\"ws\">                </span>ctx.push()</pre>\n<pre class=\"line before\"><span class=\"ws\">                </span>response = self.full_dispatch_request()</pre>\n<pre class=\"line before\"><span class=\"ws\">            </span>except Exception as e:</pre>\n<pre class=\"line before\"><span class=\"ws\">                </span>error = e</pre>\n<pre class=\"line current\"><span class=\"ws\">                </span>response = self.handle_exception(e)</pre>\n<pre class=\"line after\"><span class=\"ws\">            </span>except:  # noqa: B001</pre>\n<pre class=\"line after\"><span class=\"ws\">                </span>error = sys.exc_info()[1]</pre>\n<pre class=\"line after\"><span class=\"ws\">                </span>raise</pre>\n<pre class=\"line after\"><span class=\"ws\">            </span>return response(environ, start_response)</pre>\n<pre class=\"line after\"><span class=\"ws\">        </span>finally:</pre></div>\n</div>\n\n<li><div class=\"frame\" id=\"frame-140204819180896\">\n  <h4>File <cite class=\"filename\">\"/usr/local/lib/python3.9/site-packages/flask/app.py\"</cite>,\n      line <em class=\"line\">2070</em>,\n      in <code class=\"function\">wsgi_app</code></h4>\n  <div class=\"source library\"><pre class=\"line before\"><span class=\"ws\">        </span>ctx = self.request_context(environ)</pre>\n<pre class=\"line before\"><span class=\"ws\">        </span>error: t.Optional[BaseException] = None</pre>\n<pre class=\"line before\"><span class=\"ws\">        </span>try:</pre>\n<pre class=\"line before\"><span class=\"ws\">            </span>try:</pre>\n<pre class=\"line before\"><span class=\"ws\">                </span>ctx.push()</pre>\n<pre class=\"line current\"><span class=\"ws\">                </span>response = self.full_dispatch_request()</pre>\n<pre class=\"line after\"><span class=\"ws\">            </span>except Exception as e:</pre>\n<pre class=\"line after\"><span class=\"ws\">                </span>error = e</pre>\n<pre class=\"line after\"><span class=\"ws\">                </span>response = self.handle_exception(e)</pre>\n<pre class=\"line after\"><span class=\"ws\">            </span>except:  # noqa: B001</pre>\n<pre class=\"line after\"><span class=\"ws\">                </span>error = sys.exc_info()[1]</pre></div>\n</div>\n\n<li><div class=\"frame\" id=\"frame-140204819180992\">\n  <h4>File <cite class=\"filename\">\"/usr/local/lib/python3.9/site-packages/flask/app.py\"</cite>,\n      line <em class=\"line\">1515</em>,\n      in <code class=\"function\">full_dispatch_request</code></h4>\n  <div class=\"source library\"><pre class=\"line before\"><span class=\"ws\">            </span>request_started.send(self)</pre>\n<pre class=\"line before\"><span class=\"ws\">            </span>rv = self.preprocess_request()</pre>\n<pre class=\"line before\"><span class=\"ws\">            </span>if rv is None:</pre>\n<pre class=\"line before\"><span class=\"ws\">                </span>rv = self.dispatch_request()</pre>\n<pre class=\"line before\"><span class=\"ws\">        </span>except Exception as e:</pre>\n<pre class=\"line current\"><span class=\"ws\">            </span>rv = self.handle_user_exception(e)</pre>\n<pre class=\"line after\"><span class=\"ws\">        </span>return self.finalize_request(rv)</pre>\n<pre class=\"line after\"><span class=\"ws\"></span> </pre>\n<pre class=\"line after\"><span class=\"ws\">    </span>def finalize_request(</pre>\n<pre class=\"line after\"><span class=\"ws\">        </span>self,</pre>\n<pre class=\"line after\"><span class=\"ws\">        </span>rv: t.Union[ResponseReturnValue, HTTPException],</pre></div>\n</div>\n\n<li><div class=\"frame\" id=\"frame-140204819181040\">\n  <h4>File <cite class=\"filename\">\"/usr/local/lib/python3.9/site-packages/flask/app.py\"</cite>,\n      line <em class=\"line\">1513</em>,\n      in <code class=\"function\">full_dispatch_request</code></h4>\n  <div class=\"source library\"><pre class=\"line before\"><span class=\"ws\">        </span>self.try_trigger_before_first_request_functions()</pre>\n<pre class=\"line before\"><span class=\"ws\">        </span>try:</pre>\n<pre class=\"line before\"><span class=\"ws\">            </span>request_started.send(self)</pre>\n<pre class=\"line before\"><span class=\"ws\">            </span>rv = self.preprocess_request()</pre>\n<pre class=\"line before\"><span class=\"ws\">            </span>if rv is None:</pre>\n<pre class=\"line current\"><span class=\"ws\">                </span>rv = self.dispatch_request()</pre>\n<pre class=\"line after\"><span class=\"ws\">        </span>except Exception as e:</pre>\n<pre class=\"line after\"><span class=\"ws\">            </span>rv = self.handle_user_exception(e)</pre>\n<pre class=\"line after\"><span class=\"ws\">        </span>return self.finalize_request(rv)</pre>\n<pre class=\"line after\"><span class=\"ws\"></span> </pre>\n<pre class=\"line after\"><span class=\"ws\">    </span>def finalize_request(</pre></div>\n</div>\n\n<li><div class=\"frame\" id=\"frame-140204819181232\">\n  <h4>File <cite class=\"filename\">\"/usr/local/lib/python3.9/site-packages/flask/app.py\"</cite>,\n      line <em class=\"line\">1499</em>,\n      in <code class=\"function\">dispatch_request</code></h4>\n  <div class=\"source library\"><pre class=\"line before\"><span class=\"ws\">            </span>getattr(rule, &quot;provide_automatic_options&quot;, False)</pre>\n<pre class=\"line before\"><span class=\"ws\">            </span>and req.method == &quot;OPTIONS&quot;</pre>\n<pre class=\"line before\"><span class=\"ws\">        </span>):</pre>\n<pre class=\"line before\"><span class=\"ws\">            </span>return self.make_default_options_response()</pre>\n<pre class=\"line before\"><span class=\"ws\">        </span># otherwise dispatch to the handler for that endpoint</pre>\n<pre class=\"line current\"><span class=\"ws\">        </span>return self.ensure_sync(self.view_functions[rule.endpoint])(**req.view_args)</pre>\n<pre class=\"line after\"><span class=\"ws\"></span> </pre>\n<pre class=\"line after\"><span class=\"ws\">    </span>def full_dispatch_request(self) -&gt; Response:</pre>\n<pre class=\"line after\"><span class=\"ws\">        </span>&quot;&quot;&quot;Dispatches the request and on top of that performs request</pre>\n<pre class=\"line after\"><span class=\"ws\">        </span>pre and postprocessing as well as HTTP exception catching and</pre>\n<pre class=\"line after\"><span class=\"ws\">        </span>error handling.</pre></div>\n</div>\n\n<li><div class=\"frame\" id=\"frame-140204819181280\">\n  <h4>File <cite class=\"filename\">\"/usr/src/app/stochss_compute/api/v1/job.py\"</cite>,\n      line <em class=\"line\">71</em>,\n      in <code class=\"function\">start_job</code></h4>\n  <div class=\"source \"><pre class=\"line before\"><span class=\"ws\">            </span>msg=&quot;The job has already been started.&quot;,</pre>\n<pre class=\"line before\"><span class=\"ws\">            </span>status=f&quot;/v1/job/{request_obj.job_id}/status&quot;</pre>\n<pre class=\"line before\"><span class=\"ws\">        </span>).json(), 202</pre>\n<pre class=\"line before\"><span class=\"ws\"></span> </pre>\n<pre class=\"line before\"><span class=\"ws\">    </span>model = Model.from_json(request_obj.model)</pre>\n<pre class=\"line current\"><span class=\"ws\">    </span>delegate.start_job(request_obj.job_id, model.run)</pre>\n<pre class=\"line after\"><span class=\"ws\"></span> </pre>\n<pre class=\"line after\"><span class=\"ws\">    </span>return StartJobResponse(</pre>\n<pre class=\"line after\"><span class=\"ws\">        </span>job_id=request_obj.job_id,</pre>\n<pre class=\"line after\"><span class=\"ws\">        </span>msg=&quot;The job has been successfully started.&quot;,</pre>\n<pre class=\"line after\"><span class=\"ws\">        </span>status=f&quot;/v1/job/{request_obj.job_id}/status&quot;</pre></div>\n</div>\n\n<li><div class=\"frame\" id=\"frame-140204819181328\">\n  <h4>File <cite class=\"filename\">\"/usr/src/app/stochss_compute/api/delegate/dask_delegate.py\"</cite>,\n      line <em class=\"line\">103</em>,\n      in <code class=\"function\">start_job</code></h4>\n  <div class=\"source \"><pre class=\"line before\"><span class=\"ws\">    </span>def start_job(self, id: str, work: Callable, *args, **kwargs) -&gt; bool:</pre>\n<pre class=\"line before\"><span class=\"ws\">        </span>if self.job_exists(id) or self.job_complete(id):</pre>\n<pre class=\"line before\"><span class=\"ws\">            </span>return False</pre>\n<pre class=\"line before\"><span class=\"ws\"></span> </pre>\n<pre class=\"line before\"><span class=\"ws\">        </span># Initialize the Dask client and connect to the specified cluster.</pre>\n<pre class=\"line current\"><span class=\"ws\">        </span>cluster = KubeCluster(self.delegate_config.dask_worker_spec)</pre>\n<pre class=\"line after\"><span class=\"ws\">        </span>cluster.adapt(minimum=1, maximum=100)</pre>\n<pre class=\"line after\"><span class=\"ws\">        </span>client = Client(self.cluster_address)</pre>\n<pre class=\"line after\"><span class=\"ws\"></span> </pre>\n<pre class=\"line after\"><span class=\"ws\">        </span># Create a job and set a callback to cache the results once complete.</pre>\n<pre class=\"line after\"><span class=\"ws\">        </span>job_future: Future = client.submit(work, key=id)</pre></div>\n</div>\n\n<li><div class=\"frame\" id=\"frame-140204819181088\">\n  <h4>File <cite class=\"filename\">\"/usr/local/lib/python3.9/site-packages/dask_kubernetes/core.py\"</cite>,\n      line <em class=\"line\">421</em>,\n      in <code class=\"function\">__init__</code></h4>\n  <div class=\"source library\"><pre class=\"line before\"><span class=\"ws\">        </span>scheduler_service_wait_timeout=None,</pre>\n<pre class=\"line before\"><span class=\"ws\">        </span>scheduler_pod_template=None,</pre>\n<pre class=\"line before\"><span class=\"ws\">        </span>**kwargs</pre>\n<pre class=\"line before\"><span class=\"ws\">    </span>):</pre>\n<pre class=\"line before\"><span class=\"ws\">        </span>if isinstance(pod_template, str):</pre>\n<pre class=\"line current\"><span class=\"ws\">            </span>with open(pod_template) as f:</pre>\n<pre class=\"line after\"><span class=\"ws\">                </span>pod_template = dask.config.expand_environment_variables(</pre>\n<pre class=\"line after\"><span class=\"ws\">                    </span>yaml.safe_load(f)</pre>\n<pre class=\"line after\"><span class=\"ws\">                </span>)</pre>\n<pre class=\"line after\"><span class=\"ws\">        </span>if isinstance(pod_template, dict):</pre>\n<pre class=\"line after\"><span class=\"ws\">            </span>pod_template = make_pod_from_dict(pod_template)</pre></div>\n</div>\n</ul>\n  <blockquote>FileNotFoundError: [Errno 2] No such file or directory: &#x27;kubernetes/dask_worker_spec.yaml&#x27;</blockquote>\n</div>\n\n<div class=\"plain\">\n    <p>\n      This is the Copy/Paste friendly version of the traceback.\n    </p>\n    <textarea cols=\"50\" rows=\"10\" name=\"code\" readonly>Traceback (most recent call last):\n  File &quot;/usr/local/lib/python3.9/site-packages/flask/app.py&quot;, line 2088, in __call__\n    return self.wsgi_app(environ, start_response)\n  File &quot;/usr/local/lib/python3.9/site-packages/flask/app.py&quot;, line 2073, in wsgi_app\n    response = self.handle_exception(e)\n  File &quot;/usr/local/lib/python3.9/site-packages/flask/app.py&quot;, line 2070, in wsgi_app\n    response = self.full_dispatch_request()\n  File &quot;/usr/local/lib/python3.9/site-packages/flask/app.py&quot;, line 1515, in full_dispatch_request\n    rv = self.handle_user_exception(e)\n  File &quot;/usr/local/lib/python3.9/site-packages/flask/app.py&quot;, line 1513, in full_dispatch_request\n    rv = self.dispatch_request()\n  File &quot;/usr/local/lib/python3.9/site-packages/flask/app.py&quot;, line 1499, in dispatch_request\n    return self.ensure_sync(self.view_functions[rule.endpoint])(**req.view_args)\n  File &quot;/usr/src/app/stochss_compute/api/v1/job.py&quot;, line 71, in start_job\n    delegate.start_job(request_obj.job_id, model.run)\n  File &quot;/usr/src/app/stochss_compute/api/delegate/dask_delegate.py&quot;, line 103, in start_job\n    cluster = KubeCluster(self.delegate_config.dask_worker_spec)\n  File &quot;/usr/local/lib/python3.9/site-packages/dask_kubernetes/core.py&quot;, line 421, in __init__\n    with open(pod_template) as f:\nFileNotFoundError: [Errno 2] No such file or directory: &#x27;kubernetes/dask_worker_spec.yaml&#x27;</textarea>\n</div>\n<div class=\"explanation\">\n  The debugger caught an exception in your WSGI application.  You can now\n  look at the traceback which led to the error.  <span class=\"nojavascript\">\n  If you enable JavaScript you can also use additional features such as code\n  execution (if the evalex feature is enabled), automatic pasting of the\n  exceptions and much more.</span>\n</div>\n      <div class=\"footer\">\n        Brought to you by <strong class=\"arthur\">DON'T PANIC</strong>, your\n        friendly Werkzeug powered traceback interpreter.\n      </div>\n    </div>\n\n    <div class=\"pin-prompt\">\n      <div class=\"inner\">\n        <h3>Console Locked</h3>\n        <p>\n          The console is locked and needs to be unlocked by entering the PIN.\n          You can find the PIN printed out on the standard output of your\n          shell that runs the server.\n        <form>\n          <p>PIN:\n            <input type=text name=pin size=14>\n            <input type=submit name=btn value=\"Confirm Pin\">\n        </form>\n      </div>\n    </div>\n  </body>\n</html>\n\n<!--\n\nTraceback (most recent call last):\n  File \"/usr/local/lib/python3.9/site-packages/flask/app.py\", line 2088, in __call__\n    return self.wsgi_app(environ, start_response)\n  File \"/usr/local/lib/python3.9/site-packages/flask/app.py\", line 2073, in wsgi_app\n    response = self.handle_exception(e)\n  File \"/usr/local/lib/python3.9/site-packages/flask/app.py\", line 2070, in wsgi_app\n    response = self.full_dispatch_request()\n  File \"/usr/local/lib/python3.9/site-packages/flask/app.py\", line 1515, in full_dispatch_request\n    rv = self.handle_user_exception(e)\n  File \"/usr/local/lib/python3.9/site-packages/flask/app.py\", line 1513, in full_dispatch_request\n    rv = self.dispatch_request()\n  File \"/usr/local/lib/python3.9/site-packages/flask/app.py\", line 1499, in dispatch_request\n    return self.ensure_sync(self.view_functions[rule.endpoint])(**req.view_args)\n  File \"/usr/src/app/stochss_compute/api/v1/job.py\", line 71, in start_job\n    delegate.start_job(request_obj.job_id, model.run)\n  File \"/usr/src/app/stochss_compute/api/delegate/dask_delegate.py\", line 103, in start_job\n    cluster = KubeCluster(self.delegate_config.dask_worker_spec)\n  File \"/usr/local/lib/python3.9/site-packages/dask_kubernetes/core.py\", line 421, in __init__\n    with open(pod_template) as f:\nFileNotFoundError: [Errno 2] No such file or directory: 'kubernetes/dask_worker_spec.yaml'\n\n-->\n; pos=0; lineno=1; colno=1)",
     "output_type": "error",
     "traceback": [
      "\u001b[0;31m---------------------------------------------------------------------------\u001b[0m",
      "\u001b[0;31mJSONDecodeError\u001b[0m                           Traceback (most recent call last)",
      "\u001b[0;32m~/Projects/stochss-compute/env/lib/python3.9/site-packages/pydantic/main.cpython-39-x86_64-linux-gnu.so\u001b[0m in \u001b[0;36mpydantic.main.BaseModel.parse_raw\u001b[0;34m()\u001b[0m\n",
      "\u001b[0;32m~/Projects/stochss-compute/env/lib/python3.9/site-packages/pydantic/parse.cpython-39-x86_64-linux-gnu.so\u001b[0m in \u001b[0;36mpydantic.parse.load_str_bytes\u001b[0;34m()\u001b[0m\n",
      "\u001b[0;32m/usr/lib/python3.9/json/__init__.py\u001b[0m in \u001b[0;36mloads\u001b[0;34m(s, cls, object_hook, parse_float, parse_int, parse_constant, object_pairs_hook, **kw)\u001b[0m\n\u001b[1;32m    345\u001b[0m             parse_constant is None and object_pairs_hook is None and not kw):\n\u001b[0;32m--> 346\u001b[0;31m         \u001b[0;32mreturn\u001b[0m \u001b[0m_default_decoder\u001b[0m\u001b[0;34m.\u001b[0m\u001b[0mdecode\u001b[0m\u001b[0;34m(\u001b[0m\u001b[0ms\u001b[0m\u001b[0;34m)\u001b[0m\u001b[0;34m\u001b[0m\u001b[0;34m\u001b[0m\u001b[0m\n\u001b[0m\u001b[1;32m    347\u001b[0m     \u001b[0;32mif\u001b[0m \u001b[0mcls\u001b[0m \u001b[0;32mis\u001b[0m \u001b[0;32mNone\u001b[0m\u001b[0;34m:\u001b[0m\u001b[0;34m\u001b[0m\u001b[0;34m\u001b[0m\u001b[0m\n",
      "\u001b[0;32m/usr/lib/python3.9/json/decoder.py\u001b[0m in \u001b[0;36mdecode\u001b[0;34m(self, s, _w)\u001b[0m\n\u001b[1;32m    336\u001b[0m         \"\"\"\n\u001b[0;32m--> 337\u001b[0;31m         \u001b[0mobj\u001b[0m\u001b[0;34m,\u001b[0m \u001b[0mend\u001b[0m \u001b[0;34m=\u001b[0m \u001b[0mself\u001b[0m\u001b[0;34m.\u001b[0m\u001b[0mraw_decode\u001b[0m\u001b[0;34m(\u001b[0m\u001b[0ms\u001b[0m\u001b[0;34m,\u001b[0m \u001b[0midx\u001b[0m\u001b[0;34m=\u001b[0m\u001b[0m_w\u001b[0m\u001b[0;34m(\u001b[0m\u001b[0ms\u001b[0m\u001b[0;34m,\u001b[0m \u001b[0;36m0\u001b[0m\u001b[0;34m)\u001b[0m\u001b[0;34m.\u001b[0m\u001b[0mend\u001b[0m\u001b[0;34m(\u001b[0m\u001b[0;34m)\u001b[0m\u001b[0;34m)\u001b[0m\u001b[0;34m\u001b[0m\u001b[0;34m\u001b[0m\u001b[0m\n\u001b[0m\u001b[1;32m    338\u001b[0m         \u001b[0mend\u001b[0m \u001b[0;34m=\u001b[0m \u001b[0m_w\u001b[0m\u001b[0;34m(\u001b[0m\u001b[0ms\u001b[0m\u001b[0;34m,\u001b[0m \u001b[0mend\u001b[0m\u001b[0;34m)\u001b[0m\u001b[0;34m.\u001b[0m\u001b[0mend\u001b[0m\u001b[0;34m(\u001b[0m\u001b[0;34m)\u001b[0m\u001b[0;34m\u001b[0m\u001b[0;34m\u001b[0m\u001b[0m\n",
      "\u001b[0;32m/usr/lib/python3.9/json/decoder.py\u001b[0m in \u001b[0;36mraw_decode\u001b[0;34m(self, s, idx)\u001b[0m\n\u001b[1;32m    354\u001b[0m         \u001b[0;32mexcept\u001b[0m \u001b[0mStopIteration\u001b[0m \u001b[0;32mas\u001b[0m \u001b[0merr\u001b[0m\u001b[0;34m:\u001b[0m\u001b[0;34m\u001b[0m\u001b[0;34m\u001b[0m\u001b[0m\n\u001b[0;32m--> 355\u001b[0;31m             \u001b[0;32mraise\u001b[0m \u001b[0mJSONDecodeError\u001b[0m\u001b[0;34m(\u001b[0m\u001b[0;34m\"Expecting value\"\u001b[0m\u001b[0;34m,\u001b[0m \u001b[0ms\u001b[0m\u001b[0;34m,\u001b[0m \u001b[0merr\u001b[0m\u001b[0;34m.\u001b[0m\u001b[0mvalue\u001b[0m\u001b[0;34m)\u001b[0m \u001b[0;32mfrom\u001b[0m \u001b[0;32mNone\u001b[0m\u001b[0;34m\u001b[0m\u001b[0;34m\u001b[0m\u001b[0m\n\u001b[0m\u001b[1;32m    356\u001b[0m         \u001b[0;32mreturn\u001b[0m \u001b[0mobj\u001b[0m\u001b[0;34m,\u001b[0m \u001b[0mend\u001b[0m\u001b[0;34m\u001b[0m\u001b[0;34m\u001b[0m\u001b[0m\n",
      "\u001b[0;31mJSONDecodeError\u001b[0m: Expecting value: line 1 column 1 (char 0)",
      "\nDuring handling of the above exception, another exception occurred:\n",
      "\u001b[0;31mValidationError\u001b[0m                           Traceback (most recent call last)",
      "\u001b[0;32m/tmp/ipykernel_192776/3078477278.py\u001b[0m in \u001b[0;36m<module>\u001b[0;34m\u001b[0m\n\u001b[1;32m      3\u001b[0m \u001b[0mmodel2\u001b[0m \u001b[0;34m=\u001b[0m \u001b[0mMichaelisMenten\u001b[0m\u001b[0;34m(\u001b[0m\u001b[0;34m)\u001b[0m\u001b[0;34m\u001b[0m\u001b[0;34m\u001b[0m\u001b[0m\n\u001b[1;32m      4\u001b[0m \u001b[0;34m\u001b[0m\u001b[0m\n\u001b[0;32m----> 5\u001b[0;31m results = RemoteSimulation.on(ComputeServer(\n\u001b[0m\u001b[1;32m      6\u001b[0m     \"192.168.49.2\", port=31214)).with_model(model).run()\n",
      "\u001b[0;32m~/Projects/stochss-compute/stochss_compute/remote_simulation.py\u001b[0m in \u001b[0;36mrun\u001b[0;34m(self, **params)\u001b[0m\n\u001b[1;32m     76\u001b[0m         \u001b[0;32mif\u001b[0m \u001b[0mstart_raw\u001b[0m\u001b[0;34m.\u001b[0m\u001b[0mstatus_code\u001b[0m \u001b[0;34m!=\u001b[0m \u001b[0;36m202\u001b[0m\u001b[0;34m:\u001b[0m\u001b[0;34m\u001b[0m\u001b[0;34m\u001b[0m\u001b[0m\n\u001b[1;32m     77\u001b[0m             \u001b[0mprint\u001b[0m\u001b[0;34m(\u001b[0m\u001b[0mstart_raw\u001b[0m\u001b[0;34m)\u001b[0m\u001b[0;34m\u001b[0m\u001b[0;34m\u001b[0m\u001b[0m\n\u001b[0;32m---> 78\u001b[0;31m             \u001b[0merror\u001b[0m \u001b[0;34m=\u001b[0m \u001b[0mErrorResponse\u001b[0m\u001b[0;34m.\u001b[0m\u001b[0mparse_raw\u001b[0m\u001b[0;34m(\u001b[0m\u001b[0mstart_raw\u001b[0m\u001b[0;34m.\u001b[0m\u001b[0mtext\u001b[0m\u001b[0;34m)\u001b[0m\u001b[0;34m\u001b[0m\u001b[0;34m\u001b[0m\u001b[0m\n\u001b[0m\u001b[1;32m     79\u001b[0m \u001b[0;34m\u001b[0m\u001b[0m\n\u001b[1;32m     80\u001b[0m             \u001b[0;32mraise\u001b[0m \u001b[0mException\u001b[0m\u001b[0;34m(\u001b[0m\u001b[0merror\u001b[0m\u001b[0;34m.\u001b[0m\u001b[0mmsg\u001b[0m\u001b[0;34m)\u001b[0m\u001b[0;34m\u001b[0m\u001b[0;34m\u001b[0m\u001b[0m\n",
      "\u001b[0;32m~/Projects/stochss-compute/env/lib/python3.9/site-packages/pydantic/main.cpython-39-x86_64-linux-gnu.so\u001b[0m in \u001b[0;36mpydantic.main.BaseModel.parse_raw\u001b[0;34m()\u001b[0m\n",
      "\u001b[0;31mValidationError\u001b[0m: 1 validation error for ErrorResponse\n__root__\n  Expecting value: line 1 column 1 (char 0) (type=value_error.jsondecode; msg=Expecting value; doc=<!DOCTYPE HTML PUBLIC \"-//W3C//DTD HTML 4.01 Transitional//EN\"\n  \"http://www.w3.org/TR/html4/loose.dtd\">\n<html>\n  <head>\n    <title>FileNotFoundError: [Errno 2] No such file or directory: &#x27;kubernetes/dask_worker_spec.yaml&#x27; // Werkzeug Debugger</title>\n    <link rel=\"stylesheet\" href=\"?__debugger__=yes&amp;cmd=resource&amp;f=style.css\"\n        type=\"text/css\">\n    <!-- We need to make sure this has a favicon so that the debugger does\n         not accidentally trigger a request to /favicon.ico which might\n         change the application's state. -->\n    <link rel=\"shortcut icon\"\n        href=\"?__debugger__=yes&amp;cmd=resource&amp;f=console.png\">\n    <script src=\"?__debugger__=yes&amp;cmd=resource&amp;f=debugger.js\"></script>\n    <script type=\"text/javascript\">\n      var TRACEBACK = 140204819180656,\n          CONSOLE_MODE = false,\n          EVALEX = true,\n          EVALEX_TRUSTED = false,\n          SECRET = \"WdUOG2LIQ7CvWgcI0GVO\";\n    </script>\n  </head>\n  <body style=\"background-color: #fff\">\n    <div class=\"debugger\">\n<h1>FileNotFoundError</h1>\n<div class=\"detail\">\n  <p class=\"errormsg\">FileNotFoundError: [Errno 2] No such file or directory: &#x27;kubernetes/dask_worker_spec.yaml&#x27;</p>\n</div>\n<h2 class=\"traceback\">Traceback <em>(most recent call last)</em></h2>\n<div class=\"traceback\">\n  <h3></h3>\n  <ul><li><div class=\"frame\" id=\"frame-140204819180800\">\n  <h4>File <cite class=\"filename\">\"/usr/local/lib/python3.9/site-packages/flask/app.py\"</cite>,\n      line <em class=\"line\">2088</em>,\n      in <code class=\"function\">__call__</code></h4>\n  <div class=\"source library\"><pre class=\"line before\"><span class=\"ws\">    </span>def __call__(self, environ: dict, start_response: t.Callable) -&gt; t.Any:</pre>\n<pre class=\"line before\"><span class=\"ws\">        </span>&quot;&quot;&quot;The WSGI server calls the Flask application object as the</pre>\n<pre class=\"line before\"><span class=\"ws\">        </span>WSGI application. This calls :meth:`wsgi_app`, which can be</pre>\n<pre class=\"line before\"><span class=\"ws\">        </span>wrapped to apply middleware.</pre>\n<pre class=\"line before\"><span class=\"ws\">        </span>&quot;&quot;&quot;</pre>\n<pre class=\"line current\"><span class=\"ws\">        </span>return self.wsgi_app(environ, start_response)</pre></div>\n</div>\n\n<li><div class=\"frame\" id=\"frame-140204819180848\">\n  <h4>File <cite class=\"filename\">\"/usr/local/lib/python3.9/site-packages/flask/app.py\"</cite>,\n      line <em class=\"line\">2073</em>,\n      in <code class=\"function\">wsgi_app</code></h4>\n  <div class=\"source library\"><pre class=\"line before\"><span class=\"ws\">            </span>try:</pre>\n<pre class=\"line before\"><span class=\"ws\">                </span>ctx.push()</pre>\n<pre class=\"line before\"><span class=\"ws\">                </span>response = self.full_dispatch_request()</pre>\n<pre class=\"line before\"><span class=\"ws\">            </span>except Exception as e:</pre>\n<pre class=\"line before\"><span class=\"ws\">                </span>error = e</pre>\n<pre class=\"line current\"><span class=\"ws\">                </span>response = self.handle_exception(e)</pre>\n<pre class=\"line after\"><span class=\"ws\">            </span>except:  # noqa: B001</pre>\n<pre class=\"line after\"><span class=\"ws\">                </span>error = sys.exc_info()[1]</pre>\n<pre class=\"line after\"><span class=\"ws\">                </span>raise</pre>\n<pre class=\"line after\"><span class=\"ws\">            </span>return response(environ, start_response)</pre>\n<pre class=\"line after\"><span class=\"ws\">        </span>finally:</pre></div>\n</div>\n\n<li><div class=\"frame\" id=\"frame-140204819180896\">\n  <h4>File <cite class=\"filename\">\"/usr/local/lib/python3.9/site-packages/flask/app.py\"</cite>,\n      line <em class=\"line\">2070</em>,\n      in <code class=\"function\">wsgi_app</code></h4>\n  <div class=\"source library\"><pre class=\"line before\"><span class=\"ws\">        </span>ctx = self.request_context(environ)</pre>\n<pre class=\"line before\"><span class=\"ws\">        </span>error: t.Optional[BaseException] = None</pre>\n<pre class=\"line before\"><span class=\"ws\">        </span>try:</pre>\n<pre class=\"line before\"><span class=\"ws\">            </span>try:</pre>\n<pre class=\"line before\"><span class=\"ws\">                </span>ctx.push()</pre>\n<pre class=\"line current\"><span class=\"ws\">                </span>response = self.full_dispatch_request()</pre>\n<pre class=\"line after\"><span class=\"ws\">            </span>except Exception as e:</pre>\n<pre class=\"line after\"><span class=\"ws\">                </span>error = e</pre>\n<pre class=\"line after\"><span class=\"ws\">                </span>response = self.handle_exception(e)</pre>\n<pre class=\"line after\"><span class=\"ws\">            </span>except:  # noqa: B001</pre>\n<pre class=\"line after\"><span class=\"ws\">                </span>error = sys.exc_info()[1]</pre></div>\n</div>\n\n<li><div class=\"frame\" id=\"frame-140204819180992\">\n  <h4>File <cite class=\"filename\">\"/usr/local/lib/python3.9/site-packages/flask/app.py\"</cite>,\n      line <em class=\"line\">1515</em>,\n      in <code class=\"function\">full_dispatch_request</code></h4>\n  <div class=\"source library\"><pre class=\"line before\"><span class=\"ws\">            </span>request_started.send(self)</pre>\n<pre class=\"line before\"><span class=\"ws\">            </span>rv = self.preprocess_request()</pre>\n<pre class=\"line before\"><span class=\"ws\">            </span>if rv is None:</pre>\n<pre class=\"line before\"><span class=\"ws\">                </span>rv = self.dispatch_request()</pre>\n<pre class=\"line before\"><span class=\"ws\">        </span>except Exception as e:</pre>\n<pre class=\"line current\"><span class=\"ws\">            </span>rv = self.handle_user_exception(e)</pre>\n<pre class=\"line after\"><span class=\"ws\">        </span>return self.finalize_request(rv)</pre>\n<pre class=\"line after\"><span class=\"ws\"></span> </pre>\n<pre class=\"line after\"><span class=\"ws\">    </span>def finalize_request(</pre>\n<pre class=\"line after\"><span class=\"ws\">        </span>self,</pre>\n<pre class=\"line after\"><span class=\"ws\">        </span>rv: t.Union[ResponseReturnValue, HTTPException],</pre></div>\n</div>\n\n<li><div class=\"frame\" id=\"frame-140204819181040\">\n  <h4>File <cite class=\"filename\">\"/usr/local/lib/python3.9/site-packages/flask/app.py\"</cite>,\n      line <em class=\"line\">1513</em>,\n      in <code class=\"function\">full_dispatch_request</code></h4>\n  <div class=\"source library\"><pre class=\"line before\"><span class=\"ws\">        </span>self.try_trigger_before_first_request_functions()</pre>\n<pre class=\"line before\"><span class=\"ws\">        </span>try:</pre>\n<pre class=\"line before\"><span class=\"ws\">            </span>request_started.send(self)</pre>\n<pre class=\"line before\"><span class=\"ws\">            </span>rv = self.preprocess_request()</pre>\n<pre class=\"line before\"><span class=\"ws\">            </span>if rv is None:</pre>\n<pre class=\"line current\"><span class=\"ws\">                </span>rv = self.dispatch_request()</pre>\n<pre class=\"line after\"><span class=\"ws\">        </span>except Exception as e:</pre>\n<pre class=\"line after\"><span class=\"ws\">            </span>rv = self.handle_user_exception(e)</pre>\n<pre class=\"line after\"><span class=\"ws\">        </span>return self.finalize_request(rv)</pre>\n<pre class=\"line after\"><span class=\"ws\"></span> </pre>\n<pre class=\"line after\"><span class=\"ws\">    </span>def finalize_request(</pre></div>\n</div>\n\n<li><div class=\"frame\" id=\"frame-140204819181232\">\n  <h4>File <cite class=\"filename\">\"/usr/local/lib/python3.9/site-packages/flask/app.py\"</cite>,\n      line <em class=\"line\">1499</em>,\n      in <code class=\"function\">dispatch_request</code></h4>\n  <div class=\"source library\"><pre class=\"line before\"><span class=\"ws\">            </span>getattr(rule, &quot;provide_automatic_options&quot;, False)</pre>\n<pre class=\"line before\"><span class=\"ws\">            </span>and req.method == &quot;OPTIONS&quot;</pre>\n<pre class=\"line before\"><span class=\"ws\">        </span>):</pre>\n<pre class=\"line before\"><span class=\"ws\">            </span>return self.make_default_options_response()</pre>\n<pre class=\"line before\"><span class=\"ws\">        </span># otherwise dispatch to the handler for that endpoint</pre>\n<pre class=\"line current\"><span class=\"ws\">        </span>return self.ensure_sync(self.view_functions[rule.endpoint])(**req.view_args)</pre>\n<pre class=\"line after\"><span class=\"ws\"></span> </pre>\n<pre class=\"line after\"><span class=\"ws\">    </span>def full_dispatch_request(self) -&gt; Response:</pre>\n<pre class=\"line after\"><span class=\"ws\">        </span>&quot;&quot;&quot;Dispatches the request and on top of that performs request</pre>\n<pre class=\"line after\"><span class=\"ws\">        </span>pre and postprocessing as well as HTTP exception catching and</pre>\n<pre class=\"line after\"><span class=\"ws\">        </span>error handling.</pre></div>\n</div>\n\n<li><div class=\"frame\" id=\"frame-140204819181280\">\n  <h4>File <cite class=\"filename\">\"/usr/src/app/stochss_compute/api/v1/job.py\"</cite>,\n      line <em class=\"line\">71</em>,\n      in <code class=\"function\">start_job</code></h4>\n  <div class=\"source \"><pre class=\"line before\"><span class=\"ws\">            </span>msg=&quot;The job has already been started.&quot;,</pre>\n<pre class=\"line before\"><span class=\"ws\">            </span>status=f&quot;/v1/job/{request_obj.job_id}/status&quot;</pre>\n<pre class=\"line before\"><span class=\"ws\">        </span>).json(), 202</pre>\n<pre class=\"line before\"><span class=\"ws\"></span> </pre>\n<pre class=\"line before\"><span class=\"ws\">    </span>model = Model.from_json(request_obj.model)</pre>\n<pre class=\"line current\"><span class=\"ws\">    </span>delegate.start_job(request_obj.job_id, model.run)</pre>\n<pre class=\"line after\"><span class=\"ws\"></span> </pre>\n<pre class=\"line after\"><span class=\"ws\">    </span>return StartJobResponse(</pre>\n<pre class=\"line after\"><span class=\"ws\">        </span>job_id=request_obj.job_id,</pre>\n<pre class=\"line after\"><span class=\"ws\">        </span>msg=&quot;The job has been successfully started.&quot;,</pre>\n<pre class=\"line after\"><span class=\"ws\">        </span>status=f&quot;/v1/job/{request_obj.job_id}/status&quot;</pre></div>\n</div>\n\n<li><div class=\"frame\" id=\"frame-140204819181328\">\n  <h4>File <cite class=\"filename\">\"/usr/src/app/stochss_compute/api/delegate/dask_delegate.py\"</cite>,\n      line <em class=\"line\">103</em>,\n      in <code class=\"function\">start_job</code></h4>\n  <div class=\"source \"><pre class=\"line before\"><span class=\"ws\">    </span>def start_job(self, id: str, work: Callable, *args, **kwargs) -&gt; bool:</pre>\n<pre class=\"line before\"><span class=\"ws\">        </span>if self.job_exists(id) or self.job_complete(id):</pre>\n<pre class=\"line before\"><span class=\"ws\">            </span>return False</pre>\n<pre class=\"line before\"><span class=\"ws\"></span> </pre>\n<pre class=\"line before\"><span class=\"ws\">        </span># Initialize the Dask client and connect to the specified cluster.</pre>\n<pre class=\"line current\"><span class=\"ws\">        </span>cluster = KubeCluster(self.delegate_config.dask_worker_spec)</pre>\n<pre class=\"line after\"><span class=\"ws\">        </span>cluster.adapt(minimum=1, maximum=100)</pre>\n<pre class=\"line after\"><span class=\"ws\">        </span>client = Client(self.cluster_address)</pre>\n<pre class=\"line after\"><span class=\"ws\"></span> </pre>\n<pre class=\"line after\"><span class=\"ws\">        </span># Create a job and set a callback to cache the results once complete.</pre>\n<pre class=\"line after\"><span class=\"ws\">        </span>job_future: Future = client.submit(work, key=id)</pre></div>\n</div>\n\n<li><div class=\"frame\" id=\"frame-140204819181088\">\n  <h4>File <cite class=\"filename\">\"/usr/local/lib/python3.9/site-packages/dask_kubernetes/core.py\"</cite>,\n      line <em class=\"line\">421</em>,\n      in <code class=\"function\">__init__</code></h4>\n  <div class=\"source library\"><pre class=\"line before\"><span class=\"ws\">        </span>scheduler_service_wait_timeout=None,</pre>\n<pre class=\"line before\"><span class=\"ws\">        </span>scheduler_pod_template=None,</pre>\n<pre class=\"line before\"><span class=\"ws\">        </span>**kwargs</pre>\n<pre class=\"line before\"><span class=\"ws\">    </span>):</pre>\n<pre class=\"line before\"><span class=\"ws\">        </span>if isinstance(pod_template, str):</pre>\n<pre class=\"line current\"><span class=\"ws\">            </span>with open(pod_template) as f:</pre>\n<pre class=\"line after\"><span class=\"ws\">                </span>pod_template = dask.config.expand_environment_variables(</pre>\n<pre class=\"line after\"><span class=\"ws\">                    </span>yaml.safe_load(f)</pre>\n<pre class=\"line after\"><span class=\"ws\">                </span>)</pre>\n<pre class=\"line after\"><span class=\"ws\">        </span>if isinstance(pod_template, dict):</pre>\n<pre class=\"line after\"><span class=\"ws\">            </span>pod_template = make_pod_from_dict(pod_template)</pre></div>\n</div>\n</ul>\n  <blockquote>FileNotFoundError: [Errno 2] No such file or directory: &#x27;kubernetes/dask_worker_spec.yaml&#x27;</blockquote>\n</div>\n\n<div class=\"plain\">\n    <p>\n      This is the Copy/Paste friendly version of the traceback.\n    </p>\n    <textarea cols=\"50\" rows=\"10\" name=\"code\" readonly>Traceback (most recent call last):\n  File &quot;/usr/local/lib/python3.9/site-packages/flask/app.py&quot;, line 2088, in __call__\n    return self.wsgi_app(environ, start_response)\n  File &quot;/usr/local/lib/python3.9/site-packages/flask/app.py&quot;, line 2073, in wsgi_app\n    response = self.handle_exception(e)\n  File &quot;/usr/local/lib/python3.9/site-packages/flask/app.py&quot;, line 2070, in wsgi_app\n    response = self.full_dispatch_request()\n  File &quot;/usr/local/lib/python3.9/site-packages/flask/app.py&quot;, line 1515, in full_dispatch_request\n    rv = self.handle_user_exception(e)\n  File &quot;/usr/local/lib/python3.9/site-packages/flask/app.py&quot;, line 1513, in full_dispatch_request\n    rv = self.dispatch_request()\n  File &quot;/usr/local/lib/python3.9/site-packages/flask/app.py&quot;, line 1499, in dispatch_request\n    return self.ensure_sync(self.view_functions[rule.endpoint])(**req.view_args)\n  File &quot;/usr/src/app/stochss_compute/api/v1/job.py&quot;, line 71, in start_job\n    delegate.start_job(request_obj.job_id, model.run)\n  File &quot;/usr/src/app/stochss_compute/api/delegate/dask_delegate.py&quot;, line 103, in start_job\n    cluster = KubeCluster(self.delegate_config.dask_worker_spec)\n  File &quot;/usr/local/lib/python3.9/site-packages/dask_kubernetes/core.py&quot;, line 421, in __init__\n    with open(pod_template) as f:\nFileNotFoundError: [Errno 2] No such file or directory: &#x27;kubernetes/dask_worker_spec.yaml&#x27;</textarea>\n</div>\n<div class=\"explanation\">\n  The debugger caught an exception in your WSGI application.  You can now\n  look at the traceback which led to the error.  <span class=\"nojavascript\">\n  If you enable JavaScript you can also use additional features such as code\n  execution (if the evalex feature is enabled), automatic pasting of the\n  exceptions and much more.</span>\n</div>\n      <div class=\"footer\">\n        Brought to you by <strong class=\"arthur\">DON'T PANIC</strong>, your\n        friendly Werkzeug powered traceback interpreter.\n      </div>\n    </div>\n\n    <div class=\"pin-prompt\">\n      <div class=\"inner\">\n        <h3>Console Locked</h3>\n        <p>\n          The console is locked and needs to be unlocked by entering the PIN.\n          You can find the PIN printed out on the standard output of your\n          shell that runs the server.\n        <form>\n          <p>PIN:\n            <input type=text name=pin size=14>\n            <input type=submit name=btn value=\"Confirm Pin\">\n        </form>\n      </div>\n    </div>\n  </body>\n</html>\n\n<!--\n\nTraceback (most recent call last):\n  File \"/usr/local/lib/python3.9/site-packages/flask/app.py\", line 2088, in __call__\n    return self.wsgi_app(environ, start_response)\n  File \"/usr/local/lib/python3.9/site-packages/flask/app.py\", line 2073, in wsgi_app\n    response = self.handle_exception(e)\n  File \"/usr/local/lib/python3.9/site-packages/flask/app.py\", line 2070, in wsgi_app\n    response = self.full_dispatch_request()\n  File \"/usr/local/lib/python3.9/site-packages/flask/app.py\", line 1515, in full_dispatch_request\n    rv = self.handle_user_exception(e)\n  File \"/usr/local/lib/python3.9/site-packages/flask/app.py\", line 1513, in full_dispatch_request\n    rv = self.dispatch_request()\n  File \"/usr/local/lib/python3.9/site-packages/flask/app.py\", line 1499, in dispatch_request\n    return self.ensure_sync(self.view_functions[rule.endpoint])(**req.view_args)\n  File \"/usr/src/app/stochss_compute/api/v1/job.py\", line 71, in start_job\n    delegate.start_job(request_obj.job_id, model.run)\n  File \"/usr/src/app/stochss_compute/api/delegate/dask_delegate.py\", line 103, in start_job\n    cluster = KubeCluster(self.delegate_config.dask_worker_spec)\n  File \"/usr/local/lib/python3.9/site-packages/dask_kubernetes/core.py\", line 421, in __init__\n    with open(pod_template) as f:\nFileNotFoundError: [Errno 2] No such file or directory: 'kubernetes/dask_worker_spec.yaml'\n\n-->\n; pos=0; lineno=1; colno=1)"
     ]
    }
   ],
   "source": [
    "# Instantiate your model\n",
    "model = MichaelisMenten()\n",
    "model2 = MichaelisMenten()\n",
    "\n",
    "results = RemoteSimulation.on(ComputeServer(\n",
    "    \"192.168.49.2\", port=31214)).with_model(model).run()\n"
   ]
  },
  {
   "cell_type": "markdown",
   "metadata": {},
   "source": [
    "### Running Simulations and Plotting"
   ]
  },
  {
   "cell_type": "code",
   "execution_count": null,
   "metadata": {
    "tags": []
   },
   "outputs": [],
   "source": [
    "results.plot()"
   ]
  },
  {
   "cell_type": "markdown",
   "metadata": {},
   "source": [
    "While the model.run() function can be called without any given arguments, GillesPy2 provides several options for customizing your simulations.  The following keyword arguments can be used in the model.run() function to customize your simulations:\n",
    "<br/><br/>\n",
    "### model.run() kwargs\n",
    "**solver=[solver]**  \n",
    "    manually choose a solver/algorithm one of the following GillesPy2 solvers:  \n",
    "    [BasicODESolver()](./BasicExamples/Michaelis-Menten_Basic_ODE.ipynb)  \n",
    "    [NumPySSASolver()](./BasicExamples/Michaelis-Menten_NumPy_SSA.ipynb)    \n",
    "    [SSACSolver()](./BasicExamples/Michaelis-Menten_SSA_C.ipynb)    \n",
    "    [CythonSSASolver()](./BasicExamples/Michaelis-Menten_Cython_SSA.ipynb)    \n",
    "    [BasicTauLeapingSolver()](./BasicExamples/Michaelis-Menten_Basic_Tau_Leaping.ipynb)    \n",
    "    [BasicTauHybridSolver()](./BasicExamples/Michaelis-Menten_Basic_Tau_Hybrid.ipynb)    \n",
    "    \n",
    "**number_of_trajectories=1**  \n",
    "    [int]: Number of times to run the current simulation  \n",
    "    \n",
    "**seed=None**  \n",
    "    [int]: Define a custom seed for random number generation\n",
    "\n",
    "**show_labels=True**  \n",
    "    [bool]: When set to true (default) returns results in a dictonary with time and species as dictionary keys, and relevant trajectory vectors as value pair.  When set to False, results will be returned as a numpy array with dimensions [timestep][species_index].  Either way, the the results of each trajectory are stored in a list.\n",
    "\n",
    "<br/><br/>\n",
    "### results.plot() kwargs\n",
    "***xaxis_label='Time (s)'***  \n",
    "    [string]: Label for the plot's x-axis  \n",
    "***yaxis_label='Species Population'***  \n",
    "    [string]: Label for the plot's y-axis  \n",
    "***style='default'***  \n",
    "    [string]: matplotlib stylesheets https://matplotlib.org/3.1.1/gallery/style_sheets/style_sheets_reference.html  \n",
    "***title=None***  \n",
    "    [string]: title of figure  \n",
    "***show_legend=True***  \n",
    "    [bool]: Show legend if true.  \n",
    "***multiple_graphs=False***  \n",
    "    [bool]: if each trajectory should have its own graph or if they should overlap  \n",
    "***included_species_list=[]***  \n",
    "    [list]: A list of strings describing which species to include by species name. By default displays all species.  \n",
    "    \n",
    "<br/><br/>\n",
    "GillesPy2 also offers built-in offline plotly plotting and statistical data plotting.  [See the documents for more details.](https://gillespy2.readthedocs.io)  \n",
    "<br/><br/>\n",
    "  \n",
    "### solver specific kwargs\n",
    "**BasicODESolver, BasicTauHybridSolver: integrator='lsoda'**  \n",
    "    [String]:  \n",
    "integrator to be used form scipy.integrate.ode. Options include 'vode', 'zvode', 'lsoda', 'dopri5', and 'dop835'.  For more details, see https://docs.scipy.org/doc/scipy/reference/generated/scipy.integrate.ode.html  \n",
    "  \n",
    "***BasicODESolver, BasicTauHybridSolver: integrator_options={}**  \n",
    "    [dictionary]:  \n",
    "contains options to the scipy integrator. for a list of options, see https://docs.scipy.org/doc/scipy/reference/generated/scipy.integrate.ode.html  \n",
    "  \n",
    "**BasicTauLeapingSolver, BasicTauHybridSolver: tau_tol=0.03**  \n",
    "    [float]:  \n",
    "Relative error tolerance value for calculating tau_step. value should be between 0.0-1.0  \n",
    "  \n",
    "**BasicTauHybridSolver: switch_tol=0.03**  \n",
    "    [float]:  \n",
    "Relative error tolerance value for switching between deterministic/stochastic.  value should be between 0.0-1.0 \n",
    "<br/><br/>"
   ]
  },
  {
   "cell_type": "markdown",
   "metadata": {},
   "source": [
    "## HYBRID - ADVANCED\n",
    "\n",
    "Some of the solvers in GillesPy2 provide further options for customizing simulations.  For examples on how to use these advanced features, please see the following links:  \n",
    "\n",
    "[Hybrid: Using Rate Rules to model continuous species](./AdvancedExamples/Hybrid/hybrid_continuous_species.ipynb)  \n",
    "[Hybrid: Dynamically switching between stochastic and deterministic representations](./AdvancedExamples/Hybrid/hybrid_switching_example.ipynb)  \n",
    "\n",
    "\n"
   ]
  },
  {
   "cell_type": "code",
   "execution_count": null,
   "metadata": {},
   "outputs": [],
   "source": []
  }
 ],
 "metadata": {
  "interpreter": {
   "hash": "0d8cb07411f73f986fdb4302174b7f31a0ca638c7e42c94b789c4579c5c5e5d2"
  },
  "kernelspec": {
   "display_name": "Python 3.8.10 64-bit ('env': venv)",
   "language": "python",
   "name": "python3810jvsc74a57bd00d8cb07411f73f986fdb4302174b7f31a0ca638c7e42c94b789c4579c5c5e5d2"
  },
  "language_info": {
   "codemirror_mode": {
    "name": "ipython",
    "version": 3
   },
   "file_extension": ".py",
   "mimetype": "text/x-python",
   "name": "python",
   "nbconvert_exporter": "python",
   "pygments_lexer": "ipython3",
   "version": "3.9.6"
  }
 },
 "nbformat": 4,
 "nbformat_minor": 2
}
