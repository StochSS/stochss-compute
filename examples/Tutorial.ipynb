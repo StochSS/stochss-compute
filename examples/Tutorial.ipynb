{
 "cells": [
  {
   "cell_type": "markdown",
   "metadata": {},
   "source": [
    "# StochSS-Compute Tutorial\n",
    "This self-contained tutorial will show you how to use StochSS-Compute with the Python Dask API to run a simulation. Since it is self-contained, you should shut down any other StochSS-Compute servers or Dask clusters you may have running before beginning."
   ]
  },
  {
   "cell_type": "markdown",
   "metadata": {},
   "source": [
    "#### 1. First, import the necessary dependencies."
   ]
  },
  {
   "cell_type": "code",
   "execution_count": null,
   "metadata": {},
   "outputs": [],
   "source": [
    "# Tutorial-specific dependencies\n",
    "import sys, os            # used to set $PATH\n",
    "sys.path.append(os.path.abspath(os.path.join(os.getcwd(), '../')))\n",
    "\n",
    "import subprocess         # used to run the api server in the background\n",
    "\n",
    "# GillesPy2\n",
    "\n",
    "import gillespy2\n",
    "import numpy\n",
    "\n",
    "# StochSS-Compute\n",
    "\n",
    "from stochss_compute import RemoteSimulation, ComputeServer\n",
    "\n",
    "# Dask\n",
    "\n",
    "from distributed import Client"
   ]
  },
  {
   "cell_type": "markdown",
   "metadata": {},
   "source": [
    "#### 2. Instantiate a dask.distributed cluster.  \n",
    "\n",
    "This command will start up a single-machine dask.distributed cluster on `localhost` with default settings. By default, the number of workers corresponds to the number of cores on your machine. \n",
    "\n",
    "For in-depth customization, refer to:  \n",
    "\n",
    "https://docs.dask.org/en/latest/how-to/deploy-dask/single-distributed.html  \n",
    "\n",
    "For information about deployment via command line, see:  \n",
    "\n",
    "https://docs.dask.org/en/latest/how-to/deploy-dask/cli.html  \n",
    "\n",
    "For other and more advanced deployments:  \n",
    "\n",
    "https://docs.dask.org/en/latest/how-to/deploy-dask/python-advanced.html  \n",
    "https://docs.dask.org/en/latest/how-to/deploy-dask-clusters.html  \n",
    "https://github.com/dask/dask-tutorial"
   ]
  },
  {
   "cell_type": "code",
   "execution_count": null,
   "metadata": {
    "scrolled": true
   },
   "outputs": [],
   "source": [
    "client = Client()\n",
    "# Click the link to see the dashboard. \n",
    "client"
   ]
  },
  {
   "cell_type": "markdown",
   "metadata": {},
   "source": [
    "Pass the correct address and port of the dask scheduler to the `ComputeServer`. In this case, the address is `\"localhost\"`, the default. Here is one way to find the port:"
   ]
  },
  {
   "cell_type": "code",
   "execution_count": null,
   "metadata": {},
   "outputs": [],
   "source": [
    "dask_scheduler_port = client.scheduler.addr.split(\":\")[2]\n",
    "dask_scheduler_port"
   ]
  },
  {
   "cell_type": "markdown",
   "metadata": {},
   "source": [
    "#### 3. Start up the `ComputeServer`\n",
    "\n",
    "Now we can start the API server in the background. Full output will appear in the terminal that you used to start the Jupyter notebook."
   ]
  },
  {
   "cell_type": "code",
   "execution_count": null,
   "metadata": {},
   "outputs": [],
   "source": [
    "cmd = [\"python3\", \"../app.py\", \"--dask-scheduler-port\", dask_scheduler_port]\n",
    "api_server = subprocess.Popen(cmd)\n",
    "api_server"
   ]
  },
  {
   "cell_type": "markdown",
   "metadata": {},
   "source": [
    "If you have ever used Gillespy2 to run simulations locally, you should not have too much difficulty running remote simulations, as the syntax is nearly the same. Running a simulation remotely with GillesPy2 requires 3 components: a `Model()` (your data), a `Solver()` (SSA, TauHybrid, ODE, etc.), and a running instance of a `ComputeServer()`. If you do not wish to explicitly state the solver, one will be automatically chosen."
   ]
  },
  {
   "cell_type": "markdown",
   "metadata": {},
   "source": [
    "#### 4. Creating a GillesPy2 Model  \n",
    "  \n",
    "A GillesPy2 model must include species, rates, and reactions."
   ]
  },
  {
   "cell_type": "code",
   "execution_count": null,
   "metadata": {},
   "outputs": [],
   "source": [
    "class MichaelisMenten(gillespy2.Model):\n",
    "     def __init__(self, parameter_values=None):\n",
    "            #initialize Model\n",
    "            gillespy2.Model.__init__(self, name=\"Michaelis_Menten\")\n",
    "            \n",
    "            ''' \n",
    "            PARAMETERS:\n",
    "            These are constant values relevant to the system, such as reaction kinetic rates.\n",
    "            \n",
    "            name: user defined name for reference\n",
    "            expression: constant value\n",
    "            '''\n",
    "            rate1 = gillespy2.Parameter(name='rate1', expression= 0.0017)\n",
    "            rate2 = gillespy2.Parameter(name='rate2', expression= 0.51)\n",
    "            rate3 = gillespy2.Parameter(name='rate3', expression = 0.11)\n",
    "            \n",
    "            # Add parameters to the model\n",
    "            self.add_parameter([rate1,rate2,rate3])\n",
    "            \n",
    "            '''\n",
    "            SPECIES:\n",
    "            These can be anything that participates in or is produced by a reaction channel.\n",
    "            \n",
    "            name: A user defined name for the species\n",
    "            initial_value: value/population count of species at start of simulation\n",
    "            '''\n",
    "            A = gillespy2.Species(name='A', initial_value=301)\n",
    "            B = gillespy2.Species(name='B', initial_value=121)\n",
    "            C = gillespy2.Species(name='C', initial_value=0)\n",
    "            D = gillespy2.Species(name='D', initial_value=0)\n",
    "            \n",
    "            # Add species to the model\n",
    "            self.add_species([A, B, C, D])\n",
    "            \n",
    "            '''Reactions:\n",
    "            These are the reaction channels causing the system to change over time\n",
    "            \n",
    "            name: a user defined name for the reaction\n",
    "            reactants: dictionary with participant reactants as keys, and consumed per reaction as value.\n",
    "            products: dictionary with reaction products as keys, and number formed per reaction as value.\n",
    "            rate: parameter rate constant to be applied to the propensity of this reaction firing\n",
    "            propensity_function: can be used instead of rate in order to declare a custom propensity function in string format'''\n",
    "            r1 = gillespy2.Reaction(name=\"r1\",reactants={A:1,B:1}, products={C:1},\n",
    "                   rate=rate1)\n",
    "            \n",
    "            r2 = gillespy2.Reaction(name=\"r2\",reactants={C:1}, products={A:1,B:1},\n",
    "                    rate=rate2)\n",
    "            \n",
    "            r3 = gillespy2.Reaction(name=\"r3\",reactants={C:1}, products={B:1,D:1},\n",
    "                    rate=rate3)\n",
    "            \n",
    "            # Add reactions to the model\n",
    "            self.add_reaction([r1,r2,r3])\n",
    "            \n",
    "            # Set timespan of model\n",
    "            self.timespan(numpy.linspace(0,1000,101))"
   ]
  },
  {
   "cell_type": "markdown",
   "metadata": {},
   "source": [
    "### Running Simulations and Plotting\n",
    "\n",
    "First, instantiate a `Model()`. Next, instantiate a `ComputeServer()` that points to your running instance of StochSS-Compute. After you call `run()`, which returns your future `RemoteResults`, you will have to wait for the simulation to finish. Calling `wait()`, `status()`, `resolve()`, or `cancel()` allows you to interact with your results. Call `resolve()` to wait for the simulation to finish and fetch the results. Continue reading for more details on the various parameters that you may set."
   ]
  },
  {
   "cell_type": "code",
   "execution_count": null,
   "metadata": {
    "scrolled": true,
    "tags": []
   },
   "outputs": [],
   "source": [
    "myModel = MichaelisMenten()\n",
    "\n",
    "myServer = ComputeServer(\"localhost\", port=29681)"
   ]
  },
  {
   "cell_type": "code",
   "execution_count": null,
   "metadata": {},
   "outputs": [],
   "source": [
    "remoteResults = RemoteSimulation.on(myServer).with_model(myModel).run()\n",
    "\n",
    "results = remoteResults.resolve()"
   ]
  },
  {
   "cell_type": "code",
   "execution_count": null,
   "metadata": {},
   "outputs": [],
   "source": [
    "results.plot()"
   ]
  },
  {
   "cell_type": "markdown",
   "metadata": {},
   "source": [
    "#### 6. Shut-down"
   ]
  },
  {
   "cell_type": "markdown",
   "metadata": {},
   "source": [
    "Sends a `SIGTERM` to the `ComputeServer`"
   ]
  },
  {
   "cell_type": "code",
   "execution_count": null,
   "metadata": {},
   "outputs": [],
   "source": [
    "api_server.terminate()"
   ]
  },
  {
   "cell_type": "markdown",
   "metadata": {},
   "source": [
    "Shuts down the dask cluster"
   ]
  },
  {
   "cell_type": "code",
   "execution_count": null,
   "metadata": {},
   "outputs": [],
   "source": [
    "client.shutdown()"
   ]
  },
  {
   "cell_type": "markdown",
   "metadata": {},
   "source": [
    "#### 7. Options\n",
    "#### Model.run() keyword arguments\n",
    "While the model.run() function can be called without any given arguments, GillesPy2 provides several options for customizing your simulations. The following keyword arguments can be used in the model.run() function to customize your simulations:  \n",
    "\n",
    "**algorithm=None**  \n",
    "    [str]: Manually choose an algorithm from one of the following GillesPy2 solvers:  \n",
    "    \"ODE\"  \n",
    "    \"Tau-Hybrid\"    \n",
    "    \"Tau-Leaping\"    \n",
    "    \"SSA\"    \n",
    "    \n",
    "**number_of_trajectories=1**  \n",
    "    [int]: Number of times to run the current simulation.  \n",
    "    \n",
    "**seed=None**  \n",
    "    [int]: Define a custom seed for random number generation.\n",
    "\n",
    "**show_labels=True**  \n",
    "    [bool]: When set to true (default) returns results in a dictonary with time and species as dictionary keys, and relevant trajectory vectors as value pair.  When set to False, results will be returned as a numpy array with dimensions [timestep][species_index].  Either way, the the results of each trajectory are stored in a list.\n",
    "\n",
    "***\n",
    "\n",
    "#### Results.plot() keyword arguments\n",
    "**xaxis_label='Time (s)'**  \n",
    "    [string]: Label for the plot's x-axis.  \n",
    "    \n",
    "**yaxis_label='Species Population'**  \n",
    "    [string]: Label for the plot's y-axis.  \n",
    "\n",
    "**style='default'**  \n",
    "    [string]: matplotlib stylesheets https://matplotlib.org/3.1.1/gallery/style_sheets/style_sheets_reference.html.  \n",
    "\n",
    "**title=None**  \n",
    "    [string]: Title of figure.  \n",
    "\n",
    "**show_legend=True**  \n",
    "    [bool]: Show legend if true.  \n",
    "\n",
    "**multiple_graphs=False**  \n",
    "    [bool]: Whether each trajectory should have its own graph or if they should overlap.  \n",
    "\n",
    "**included_species_list=[]**  \n",
    "    [list]: A list of strings describing which species to include by species name. By default displays all species.  \n",
    "    \n",
    "GillesPy2 also offers built-in offline plotly plotting and statistical data plotting.  [See the documents for more details.](https://gillespy2.readthedocs.io)  \n",
    "  \n",
    "***\n",
    "\n",
    "#### Solver specific keyword arguments\n",
    "##### ODESolver, TauHybridSolver\n",
    "**integrator='lsoda'**  \n",
    "    [String]: Integrator to be used form scipy.integrate.ode. Options include 'vode', 'zvode', 'lsoda', 'dopri5', and 'dop835'.  For more details, see https://docs.scipy.org/doc/scipy/reference/generated/scipy.integrate.ode.html.  \n",
    "    \n",
    "**integrator_options={}**  \n",
    "    [dictionary]: Contains options to the scipy integrator. For a list of options, see https://docs.scipy.org/doc/scipy/reference/generated/scipy.integrate.ode.html.  \n",
    "  \n",
    "##### TauLeapingSolver, TauHybridSolver\n",
    "**tau_tol=0.03**  \n",
    "    [float]:  \n",
    "Relative error tolerance value for calculating tau_step. Value should be between 0.0 - 1.0.  \n",
    "  \n",
    "##### TauHybridSolver\n",
    "**TauHybridSolver: switch_tol=0.03**  \n",
    "    [float]:  \n",
    "Relative error tolerance value for switching between deterministic/stochastic.  Value should be between 0.0 - 1.0. \n",
    "<br/><br/>\n",
    "\n",
    "## Hybrid Solver Examples\n",
    "\n",
    "Some of the solvers in GillesPy2 provide further options for customizing simulations.  For examples on how to use these advanced features, please see the following links:  \n",
    "\n",
    "[Hybrid: Using Rate Rules to model continuous species](https://github.com/StochSS/GillesPy2/blob/main/examples/AdvancedFeatures/hybrid_continuous_species.ipynb)  \n",
    "[Hybrid: Dynamically switching between stochastic and deterministic representations](https://github.com/StochSS/GillesPy2/blob/main/examples/AdvancedFeatures/hybrid_switching_example.ipynb)  "
   ]
  }
 ],
 "metadata": {
  "kernelspec": {
   "display_name": "Python 3.8.10 ('env': venv)",
   "language": "python",
   "name": "python3"
  },
  "language_info": {
   "codemirror_mode": {
    "name": "ipython",
    "version": 3
   },
   "file_extension": ".py",
   "mimetype": "text/x-python",
   "name": "python",
   "nbconvert_exporter": "python",
   "pygments_lexer": "ipython3",
   "version": "3.8.10"
  },
  "vscode": {
   "interpreter": {
    "hash": "aef72cacc8a435b2ad5622cea92730a93ce97854f4a76157042673d76f872b67"
   }
  }
 },
 "nbformat": 4,
 "nbformat_minor": 2
}
