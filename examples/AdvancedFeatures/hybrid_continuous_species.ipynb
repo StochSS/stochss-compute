{
 "cells": [
  {
   "cell_type": "markdown",
   "metadata": {},
   "source": [
    "# Simple Hybrid Example - Basic Tau Hybrid Solver\n",
    "\n",
    "The hybrid solver is capable of solving models which include both discrete and continuous species.  In order for a species to be considered continuously, it must be included in a rate_rule, along with it's rate of change.  This species can then be considered in reactions by explicitly declaring the species as part of the reaction's propensity function."
   ]
  },
  {
   "cell_type": "markdown",
   "metadata": {},
   "source": [
    "### Imports"
   ]
  },
  {
   "cell_type": "code",
   "execution_count": null,
   "metadata": {
    "pycharm": {
     "is_executing": false
    }
   },
   "outputs": [],
   "source": [
    "import sys, os\n",
    "sys.path.append(os.path.abspath(os.path.join(os.getcwd(), '../../')))\n",
    "import gillespy2\n",
    "from gillespy2 import TauHybridSolver"
   ]
  },
  {
   "cell_type": "markdown",
   "metadata": {},
   "source": [
    "### Instantiate Model\n",
    "Model requires species, parameters, and reactions.  rate_rules can also be added to model a species continuously"
   ]
  },
  {
   "cell_type": "code",
   "execution_count": null,
   "metadata": {
    "pycharm": {
     "is_executing": false
    }
   },
   "outputs": [],
   "source": [
    "\n",
    "class SimpleHybridModel(gillespy2.Model):\n",
    "     def __init__(self, parameter_values=None, init_v=1):\n",
    "            #initialize Model\n",
    "            gillespy2.Model.__init__(self, name=\"Simple_Hybrid_Model\")\n",
    "\n",
    "            \n",
    "            #Species\n",
    "            A = gillespy2.Species(name='A', initial_value=0)\n",
    "            '''\n",
    "            Setting the continuous species.mode to \"continuous\" will prevent this species from being\n",
    "            considered discretely, and allows it to be modeled continuously with a rate rule.\n",
    "            '''\n",
    "            V = gillespy2.Species(name='V', initial_value=init_v, mode='continuous')\n",
    "\n",
    "            self.add_species([A, V])\n",
    "            \n",
    "            #parameters\n",
    "            rate1 = gillespy2.Parameter(name='rate1', expression= 20.0)\n",
    "            rate2 = gillespy2.Parameter(name='rate2', expression= 10.0)\n",
    "            \n",
    "            #rate_rules\n",
    "            '''We create a rate rule with two arguments.  The first is the species\n",
    "            we intend to associate the rate rule with.  In this case, we choose our\n",
    "            previously declared continuous species \"V\" and give it the rate function of\n",
    "            cos(t).\n",
    "            '''\n",
    "            rate_rule1 = gillespy2.RateRule(variable=V, formula=\"cos(t)\")\n",
    "            self.add_parameter([rate1, rate2])\n",
    "            self.add_rate_rule([rate_rule1])\n",
    "            \n",
    "            #reactions\n",
    "            '''\n",
    "            Because we want to use our continuous species \"V\" in the propensity function\n",
    "            for r1, we associate a custom propensity function, rather than a simple rate.\n",
    "            Here we can simply use the rate times our continuous species \"V\".'''\n",
    "            r1 = gillespy2.Reaction(name=\"r1\",reactants={}, products={A:1},\n",
    "                   propensity_function=\"rate1 * V\")\n",
    "            \n",
    "            r2 = gillespy2.Reaction(name=\"r2\",reactants={A:1}, products={},\n",
    "                    rate=rate2)\n",
    "            \n",
    "            self.add_reaction([r1, r2])"
   ]
  },
  {
   "cell_type": "code",
   "execution_count": null,
   "metadata": {
    "pycharm": {
     "is_executing": false
    },
    "scrolled": true
   },
   "outputs": [],
   "source": [
    "model = SimpleHybridModel()"
   ]
  },
  {
   "cell_type": "markdown",
   "metadata": {},
   "source": [
    "### Run Model and Plot"
   ]
  },
  {
   "cell_type": "code",
   "execution_count": null,
   "metadata": {
    "pycharm": {
     "is_executing": false
    },
    "scrolled": true
   },
   "outputs": [],
   "source": [
    "# %time results = model.run(solver=TauHybridSolver)\n",
    "from stochss_remote import ComputeServer\n",
    "\n",
    "results = ComputeServer(\"http://127.0.0.1\", 5000).with_model(model).run(solver = TauHybridSolver)"
   ]
  },
  {
   "cell_type": "code",
   "execution_count": null,
   "metadata": {
    "pycharm": {
     "is_executing": false,
     "name": "#%%\n"
    }
   },
   "outputs": [],
   "source": [
    "results.plot()"
   ]
  },
  {
   "cell_type": "code",
   "execution_count": null,
   "metadata": {
    "pycharm": {
     "is_executing": false
    }
   },
   "outputs": [],
   "source": []
  }
 ],
 "metadata": {
  "@webio": {
   "lastCommId": null,
   "lastKernelId": null
  },
  "kernelspec": {
   "display_name": "stochss-remote-kernel",
   "language": "python",
   "name": "stochss-remote-kernel"
  },
  "language_info": {
   "codemirror_mode": {
    "name": "ipython",
    "version": 3
   },
   "file_extension": ".py",
   "mimetype": "text/x-python",
   "name": "python",
   "nbconvert_exporter": "python",
   "pygments_lexer": "ipython3",
   "version": "3.9.2"
  }
 },
 "nbformat": 4,
 "nbformat_minor": 2
}