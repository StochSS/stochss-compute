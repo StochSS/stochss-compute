{
 "cells": [
  {
   "cell_type": "markdown",
   "metadata": {},
   "source": [
    "# Hybrid Switching  \n",
    "  \n",
    "The Hybrid Switching solver is designed to allow a model's species to be represented dynamically as either continuous or stochastic throughout the simulation.  This solver will represent a reaction channel deterministically at high populations in order to favor performance, and will automatically switch to a stochastic representation at lower populations.  This allows for substantial run-time improvements over the SSA, minimizing the loss of stochastic accuracy.  \n",
    "  \n",
    "There is no special setup for the standard case of using this switching mechanism, however for cases where a particular species should always be represented as 'stochastic' or always represented as 'continuous,' the GillesPy2.species can be constructed with kwarg 'mode' locking that into place.  \n",
    "  \n",
    "  \n",
    "**mode='dynamic'(default) - allows for hybrid switching  \n",
    "mode='continuous' - forces a species to be modeled continuously/deterministically  \n",
    "mode='discrete' - forces a species to be modeled discretely/stochastically**  \n",
    "  \n",
    "Ex:  \n",
    "A = GillesPy2.Species(name='A', initial_value=400, mode='continuous')"
   ]
  },
  {
   "cell_type": "code",
   "execution_count": null,
   "metadata": {},
   "outputs": [],
   "source": [
    "import sys, os\n",
    "import numpy\n",
    "import matplotlib.pyplot as plt\n",
    "sys.path.append(os.path.abspath(os.path.join(os.getcwd(), os.pardir)))\n",
    "sys.path.append('../../../')"
   ]
  },
  {
   "cell_type": "code",
   "execution_count": null,
   "metadata": {},
   "outputs": [],
   "source": [
    "import gillespy2\n",
    "from gillespy2 import TauHybridSolver\n",
    "\n",
    "from stochss_remote import RemoteSimulation, ComputeServer"
   ]
  },
  {
   "cell_type": "code",
   "execution_count": null,
   "metadata": {},
   "outputs": [],
   "source": [
    "class AutomaticSwitchExample(gillespy2.Model):\n",
    "     def __init__(self, parameter_values=None):\n",
    "            #initialize Model\n",
    "            gillespy2.Model.__init__(self, name=\"Automatic Switch Example\")\n",
    "            \n",
    "            #parameters\n",
    "            k1 = gillespy2.Parameter(name='k1', expression= 3e-4)\n",
    "            k2 = gillespy2.Parameter(name='k2', expression= .5e-2)\n",
    "            k3 = gillespy2.Parameter(name='k3', expression = 2e-1)\n",
    "            self.add_parameter([k1,k2,k3])\n",
    "            \n",
    "            #Species\n",
    "            A = gillespy2.Species(name='A', initial_value=400)\n",
    "            B = gillespy2.Species(name='B', initial_value=10000)\n",
    "            C = gillespy2.Species(name='C', initial_value=10000)\n",
    "            self.add_species([A, B, C])\n",
    "            \n",
    "            #reactions\n",
    "            r1 = gillespy2.Reaction(name=\"r1\",reactants={A:1,B:1}, products={B:1,C:1},\n",
    "                   rate=k1)\n",
    "            \n",
    "            r2 = gillespy2.Reaction(name=\"r2\",reactants={B:1}, products={},\n",
    "                    rate=k2)\n",
    "            \n",
    "            r3 = gillespy2.Reaction(name=\"r3\",reactants={C:1}, products={A:1},\n",
    "                    rate=k3)\n",
    "\n",
    "            self.add_reaction([r1,r2,r3])\n",
    "            self.timespan(numpy.linspace(0,600,601))"
   ]
  },
  {
   "cell_type": "code",
   "execution_count": null,
   "metadata": {},
   "outputs": [],
   "source": [
    "model = AutomaticSwitchExample()\n",
    "results = {}"
   ]
  },
  {
   "cell_type": "code",
   "execution_count": null,
   "metadata": {},
   "outputs": [],
   "source": [
    "sim = RemoteSimulation.on(ComputeServer(\"127.0.0.1\", port=5000)).with_model(model)"
   ]
  },
  {
   "cell_type": "code",
   "execution_count": null,
   "metadata": {
    "scrolled": true
   },
   "outputs": [],
   "source": [
    "%time tau_hybrid_results = sim.run(solver=TauHybridSolver)"
   ]
  },
  {
   "cell_type": "code",
   "execution_count": null,
   "metadata": {},
   "outputs": [],
   "source": [
    "tau_hybrid_results.plot()"
   ]
  },
  {
   "cell_type": "markdown",
   "metadata": {},
   "source": [
    "The hybrid switching condition is based on a coefficient of variance for each species.  The error threshhold for this condition can be user modified by instantiating the solver, and calling the run function from it, rather than the solver.  \n",
    "  \n",
    "The default value is .03 and is a threshold to the coefficient of variance for each species at the selected forward step (t + tau).  "
   ]
  },
  {
   "cell_type": "markdown",
   "metadata": {},
   "source": [
    "Additionally, both the hybrid_tol and tau_tol can be modified to result in extremely fast simulations."
   ]
  },
  {
   "cell_type": "code",
   "execution_count": null,
   "metadata": {},
   "outputs": [],
   "source": [
    "# %time results2 = model.run(solver=TauHybridSolver, tau_tol=0.04)\n",
    "%time results2 = sim.run(solver=TauHybridSolver, tau_tol=0.04)"
   ]
  },
  {
   "cell_type": "code",
   "execution_count": null,
   "metadata": {
    "scrolled": true
   },
   "outputs": [],
   "source": [
    "results2.plot()"
   ]
  },
  {
   "cell_type": "code",
   "execution_count": null,
   "metadata": {},
   "outputs": [],
   "source": [
    "plt.figure(figsize=(15, 10))\n",
    "plt.title('Comparison of Hybrid Switching Results default vs higher tau + hybrid tolerance')\n",
    "for species in results2[0]:\n",
    "    if species == 'time': continue\n",
    "    plt.plot(results2[0]['time'], results2[0][species], label='High tol-{0}'.format(species))\n",
    "for species in tau_hybrid_results[0]:\n",
    "    if species == 'time': continue\n",
    "    plt.plot(tau_hybrid_results[0]['time'], tau_hybrid_results[0][species], label='Default tol-{0}'.format(species))\n",
    "    plt.legend(loc='best')"
   ]
  },
  {
   "cell_type": "code",
   "execution_count": null,
   "metadata": {},
   "outputs": [],
   "source": [
    "# %time results3 = model.run()\n",
    "%time results3 = sim.run()"
   ]
  },
  {
   "cell_type": "code",
   "execution_count": null,
   "metadata": {
    "scrolled": true
   },
   "outputs": [],
   "source": [
    "plt.figure(figsize=(15, 10))\n",
    "plt.title('Comparison of Hybrid Switching Results SSA vs higher tau + hybrid tolerance')\n",
    "for species in results2[0]:\n",
    "    if species == 'time': continue\n",
    "    plt.plot(results2[0]['time'], results2[0][species], label='High tol-{0}'.format(species))\n",
    "for species in results3[0]:\n",
    "    if species == 'time': continue\n",
    "    plt.plot(results3[0]['time'], results3[0][species], label='SSA-{0}'.format(species))\n",
    "    plt.legend(loc='best')"
   ]
  },
  {
   "cell_type": "code",
   "execution_count": null,
   "metadata": {},
   "outputs": [],
   "source": []
  }
 ],
 "metadata": {
  "kernelspec": {
   "display_name": "stochss-remote-kernel",
   "language": "python",
   "name": "stochss-remote-kernel"
  },
  "language_info": {
   "codemirror_mode": {
    "name": "ipython",
    "version": 3
   },
   "file_extension": ".py",
   "mimetype": "text/x-python",
   "name": "python",
   "nbconvert_exporter": "python",
   "pygments_lexer": "ipython3",
   "version": "3.9.2"
  }
 },
 "nbformat": 4,
 "nbformat_minor": 2
}