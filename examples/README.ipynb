{
 "cells": [
  {
   "attachments": {},
   "cell_type": "markdown",
   "metadata": {},
   "source": [
    "# Examples of using StochSS-Compute\n",
    "\n",
    "\n",
    "The files in this directory are runnable Python examples of using [GillesPy2](https://github.com/gillesPy2/GillesPy2) to perform stochastic simulation on a StochSS-Compute instance.  In terms of biology, they are overly simplistic and do not capture the real-life complexity of the process being modeled &ndash; the aim is not biological realism but rather to illustrate basic usage of GillesPy2.\n",
    "\n",
    "* [Tutorial 1](Tutorial_1-Local.ipynb) &ndash; a [Jupyter Notebook](https://jupyter-notebook.readthedocs.io/en/stable/) demonstrating the use of StochSS-Compute and GillesPy2 using the Dask Python API.\n",
    "\n",
    "* [Tutorial 2](Tutorial_2-AWS.ipynb) &ndash; Shows how to run simulations by launching an EC2 instance."
   ]
  }
 ],
 "metadata": {
  "kernelspec": {
   "display_name": "Python 3",
   "language": "python",
   "name": "python3"
  },
  "language_info": {
   "name": "python",
   "version": "3.9.13 (main, May 23 2022, 22:01:06) \n[GCC 9.4.0]"
  },
  "orig_nbformat": 4,
  "vscode": {
   "interpreter": {
    "hash": "f9f85f796d01129d0dd105a088854619f454435301f6ffec2fea96ecbd9be4ac"
   }
  }
 },
 "nbformat": 4,
 "nbformat_minor": 2
}
