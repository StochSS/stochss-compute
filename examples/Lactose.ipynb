{
 "cells": [
  {
   "cell_type": "code",
   "execution_count": 1,
   "metadata": {},
   "outputs": [],
   "source": [
    "import gillespy2 as gp2\n",
    "import stochss_compute as sssc"
   ]
  },
  {
   "cell_type": "code",
   "execution_count": 2,
   "metadata": {},
   "outputs": [],
   "source": [
    "import sys\n",
    "sys.path.insert(1, '../test/unit_tests/')\n",
    "import gillespy2_models as models"
   ]
  },
  {
   "cell_type": "code",
   "execution_count": 3,
   "metadata": {},
   "outputs": [],
   "source": [
    "import multiprocessing as mp"
   ]
  },
  {
   "cell_type": "code",
   "execution_count": 4,
   "metadata": {},
   "outputs": [],
   "source": [
    "from distributed import Client"
   ]
  },
  {
   "cell_type": "code",
   "execution_count": 5,
   "metadata": {},
   "outputs": [
    {
     "name": "stderr",
     "output_type": "stream",
     "text": [
      "2023-02-19 10:45:45,179 - distributed.http.proxy - INFO - To route to workers diagnostics web server please install jupyter-server-proxy: python -m pip install jupyter-server-proxy\n",
      "2023-02-19 10:45:45,201 - distributed.scheduler - INFO - State start\n",
      "2023-02-19 10:45:45,205 - distributed.scheduler - INFO -   Scheduler at:     tcp://127.0.0.1:36571\n",
      "2023-02-19 10:45:45,206 - distributed.scheduler - INFO -   dashboard at:            127.0.0.1:8787\n",
      "2023-02-19 10:45:45,221 - distributed.nanny - INFO -         Start Nanny at: 'tcp://127.0.0.1:41653'\n",
      "2023-02-19 10:45:45,224 - distributed.nanny - INFO -         Start Nanny at: 'tcp://127.0.0.1:39879'\n",
      "2023-02-19 10:45:45,227 - distributed.nanny - INFO -         Start Nanny at: 'tcp://127.0.0.1:38065'\n",
      "2023-02-19 10:45:45,230 - distributed.nanny - INFO -         Start Nanny at: 'tcp://127.0.0.1:38509'\n",
      "2023-02-19 10:45:45,598 - distributed.scheduler - INFO - Register worker <WorkerState 'tcp://127.0.0.1:46185', name: 1, status: init, memory: 0, processing: 0>\n",
      "2023-02-19 10:45:45,599 - distributed.scheduler - INFO - Starting worker compute stream, tcp://127.0.0.1:46185\n",
      "2023-02-19 10:45:45,600 - distributed.core - INFO - Starting established connection to tcp://127.0.0.1:37614\n",
      "2023-02-19 10:45:45,601 - distributed.scheduler - INFO - Register worker <WorkerState 'tcp://127.0.0.1:38811', name: 0, status: init, memory: 0, processing: 0>\n",
      "2023-02-19 10:45:45,603 - distributed.scheduler - INFO - Starting worker compute stream, tcp://127.0.0.1:38811\n",
      "2023-02-19 10:45:45,603 - distributed.core - INFO - Starting established connection to tcp://127.0.0.1:37618\n",
      "2023-02-19 10:45:45,604 - distributed.scheduler - INFO - Register worker <WorkerState 'tcp://127.0.0.1:41131', name: 3, status: init, memory: 0, processing: 0>\n",
      "2023-02-19 10:45:45,606 - distributed.scheduler - INFO - Starting worker compute stream, tcp://127.0.0.1:41131\n",
      "2023-02-19 10:45:45,606 - distributed.core - INFO - Starting established connection to tcp://127.0.0.1:37610\n",
      "2023-02-19 10:45:45,608 - distributed.scheduler - INFO - Register worker <WorkerState 'tcp://127.0.0.1:36085', name: 2, status: init, memory: 0, processing: 0>\n",
      "2023-02-19 10:45:45,609 - distributed.scheduler - INFO - Starting worker compute stream, tcp://127.0.0.1:36085\n",
      "2023-02-19 10:45:45,609 - distributed.core - INFO - Starting established connection to tcp://127.0.0.1:37620\n",
      "2023-02-19 10:45:45,660 - distributed.scheduler - INFO - Receive client connection: Client-78e74f46-b06c-11ed-babf-d7d19d105abb\n",
      "2023-02-19 10:45:45,663 - distributed.core - INFO - Starting established connection to tcp://127.0.0.1:37646\n"
     ]
    }
   ],
   "source": [
    "dask = Client()"
   ]
  },
  {
   "cell_type": "code",
   "execution_count": 6,
   "metadata": {},
   "outputs": [
    {
     "data": {
      "text/plain": [
       "'36571'"
      ]
     },
     "execution_count": 6,
     "metadata": {},
     "output_type": "execute_result"
    }
   ],
   "source": [
    "port = dask.scheduler.addr.split(':')[2]\n",
    "port"
   ]
  },
  {
   "cell_type": "code",
   "execution_count": 7,
   "metadata": {},
   "outputs": [],
   "source": [
    "import asyncio"
   ]
  },
  {
   "cell_type": "code",
   "execution_count": 8,
   "metadata": {},
   "outputs": [],
   "source": [
    "async def _sssc():\n",
    "    kwargs = {\n",
    "        'dask_scheduler_port': port\n",
    "    }\n",
    "    await sssc.start_api(**kwargs)"
   ]
  },
  {
   "cell_type": "code",
   "execution_count": 9,
   "metadata": {},
   "outputs": [],
   "source": [
    "process = mp.Process(target=asyncio.run, args=(_sssc(),))"
   ]
  },
  {
   "cell_type": "code",
   "execution_count": 10,
   "metadata": {},
   "outputs": [
    {
     "name": "stderr",
     "output_type": "stream",
     "text": [
      "/home/mdip/.python/cpython/Lib/multiprocessing/process.py:125: RuntimeWarning: coroutine '_sssc' was never awaited\n",
      "  del self._target, self._args, self._kwargs\n"
     ]
    }
   ],
   "source": [
    "process.start()"
   ]
  },
  {
   "cell_type": "code",
   "execution_count": 23,
   "metadata": {},
   "outputs": [
    {
     "name": "stderr",
     "output_type": "stream",
     "text": [
      "/home/mdip/projects/StochSS-Compute/env/lib/python3.11/site-packages/scipy/integrate/_ode.py:1348: UserWarning: lsoda: Excess work done on this call (perhaps wrong Dfun type).\n",
      "  warnings.warn('{:s}: {:s}'.format(self.__class__.__name__,\n",
      "/home/mdip/projects/StochSS-Compute/env/lib/python3.11/site-packages/scipy/integrate/_ode.py:1348: UserWarning: lsoda: Repeated convergence failures (perhaps bad Jacobian or tolerances).\n",
      "  warnings.warn('{:s}: {:s}'.format(self.__class__.__name__,\n",
      "/home/mdip/projects/StochSS-Compute/env/lib/python3.11/site-packages/scipy/integrate/_ode.py:1348: UserWarning: lsoda: Repeated error test failures (internal error).\n",
      "  warnings.warn('{:s}: {:s}'.format(self.__class__.__name__,\n"
     ]
    },
    {
     "name": "stdout",
     "output_type": "stream",
     "text": [
      " lsoda--  at t (=r1) and step size h (=r2), the    \u0000\u0000\n",
      "       corrector convergence failed repeatedly     \u0000\u0000\n",
      "       or with abs(h) = hmin   \u0000l\n",
      "      in above,  r1 =  0.1655726478526D+03   r2 =  0.7818047079655D-09\n",
      " lsoda--  warning..internal t (=r1) and h (=r2) are\u0000\u0000\n",
      "       such that in the machine, t + h = t on the next step  \n",
      "       (h = step size). solver will continue anyway\u0000\u0000\n",
      "      in above,  r1 =  0.1655726478526D+03   r2 =  0.6125752920979D-17\n",
      " lsoda--  warning..internal t (=r1) and h (=r2) are\u0000\u0000\n",
      "       such that in the machine, t + h = t on the next step  \n",
      "       (h = step size). solver will continue anyway\u0000\u0000\n",
      "      in above,  r1 =  0.1655726478526D+03   r2 =  0.6125752920979D-17\n",
      " lsoda--  warning..internal t (=r1) and h (=r2) are\u0000\u0000\n",
      "       such that in the machine, t + h = t on the next step  \n",
      "       (h = step size). solver will continue anyway\u0000\u0000\n",
      "      in above,  r1 =  0.1655726478526D+03   r2 =  0.6125752920979D-17\n",
      " lsoda--  warning..internal t (=r1) and h (=r2) are\u0000\u0000\n",
      "       such that in the machine, t + h = t on the next step  \n",
      "       (h = step size). solver will continue anyway\u0000\u0000\n",
      "      in above,  r1 =  0.1655726478526D+03   r2 =  0.6125752920979D-17\n",
      " lsoda--  warning..internal t (=r1) and h (=r2) are\u0000\u0000\n",
      "       such that in the machine, t + h = t on the next step  \n",
      "       (h = step size). solver will continue anyway\u0000\u0000\n",
      "      in above,  r1 =  0.1655726478526D+03   r2 =  0.1225150584196D-16\n",
      " lsoda--  warning..internal t (=r1) and h (=r2) are\u0000\u0000\n",
      "       such that in the machine, t + h = t on the next step  \n",
      "       (h = step size). solver will continue anyway\u0000\u0000\n",
      "      in above,  r1 =  0.1655726478526D+03   r2 =  0.1225150584196D-16\n",
      " lsoda--  warning..internal t (=r1) and h (=r2) are\u0000\u0000\n",
      "       such that in the machine, t + h = t on the next step  \n",
      "       (h = step size). solver will continue anyway\u0000\u0000\n",
      "      in above,  r1 =  0.1655726478526D+03   r2 =  0.1225150584196D-16\n",
      " lsoda--  warning..internal t (=r1) and h (=r2) are\u0000\u0000\n",
      "       such that in the machine, t + h = t on the next step  \n",
      "       (h = step size). solver will continue anyway\u0000\u0000\n",
      "      in above,  r1 =  0.1655726478526D+03   r2 =  0.1225150584196D-15\n",
      " lsoda--  warning..internal t (=r1) and h (=r2) are\u0000\u0000\n",
      "       such that in the machine, t + h = t on the next step  \n",
      "       (h = step size). solver will continue anyway\u0000\u0000\n",
      "      in above,  r1 =  0.1655726478526D+03   r2 =  0.1225150584196D-15\n",
      " lsoda--  warning..internal t (=r1) and h (=r2) are\u0000\u0000\n",
      "       such that in the machine, t + h = t on the next step  \n",
      "       (h = step size). solver will continue anyway\u0000\u0000\n",
      "      in above,  r1 =  0.1655726478526D+03   r2 =  0.1225150584196D-15\n",
      " lsoda--  above warning has been issued i1 times.  \u0000\u0000\n",
      "       it will not be issued again for this problem\u0000\u0000\n",
      "      in above message,  i1 =        10\n",
      " lsoda--  at t (=r1) and step size h (=r2), the    \u0000\u0000\n",
      "       corrector convergence failed repeatedly     \u0000\u0000\n",
      "       or with abs(h) = hmin   \u0000l\n",
      "      in above,  r1 =  0.1724521732777D+03   r2 =  0.2775203318173D-08\n",
      " lsoda--  at t (=r1) and step size h (=r2), the    \u0000\u0000\n",
      "       corrector convergence failed repeatedly     \u0000\u0000\n",
      "       or with abs(h) = hmin   \u0000l\n",
      "      in above,  r1 =  0.1724521732777D+03   r2 =  0.1058656050939D-13\n",
      " lsoda--  at t(=r1) and step size h(=r2), the error\u0000\u0000\n",
      "       test failed repeatedly or with abs(h) = hmin\u0000\u0000\n",
      "      in above,  r1 =  0.1724521732777D+03   r2 =  0.1323320063674D-22\n",
      " lsoda--  at t (=r1) and step size h (=r2), the    \u0000\u0000\n",
      "       corrector convergence failed repeatedly     \u0000\u0000\n",
      "       or with abs(h) = hmin   \u0000l\n",
      "      in above,  r1 =  0.1815255293428D+03   r2 =  0.1043646062784D-07\n",
      " lsoda--  at t (=r1) and step size h (=r2), the    \u0000\u0000\n",
      "       corrector convergence failed repeatedly     \u0000\u0000\n",
      "       or with abs(h) = hmin   \u0000l\n",
      "      in above,  r1 =  0.1815255293428D+03   r2 =  0.3981193781984D-13\n",
      " lsoda--  at t (=r1) and step size h (=r2), the    \u0000\u0000\n",
      "       corrector convergence failed repeatedly     \u0000\u0000\n",
      "       or with abs(h) = hmin   \u0000l\n",
      "      in above,  r1 =  0.1836308300285D+03   r2 =  0.1548185079240D-07\n",
      " lsoda--  at t (=r1) and step size h (=r2), the    \u0000\u0000\n",
      "       corrector convergence failed repeatedly     \u0000\u0000\n",
      "       or with abs(h) = hmin   \u0000l\n",
      "      in above,  r1 =  0.1836857301091D+03   r2 =  0.1155849335299D-09\n",
      " lsoda--  at t (=r1) and step size h (=r2), the    \u0000\u0000\n",
      "       corrector convergence failed repeatedly     \u0000\u0000\n",
      "       or with abs(h) = hmin   \u0000l\n",
      "      in above,  r1 =  0.1846520621608D+03   r2 =  0.1115222604312D-08\n",
      " lsoda--  at t (=r1) and step size h (=r2), the    \u0000\u0000\n",
      "       corrector convergence failed repeatedly     \u0000\u0000\n",
      "       or with abs(h) = hmin   \u0000l\n",
      "      in above,  r1 =  0.1869650796316D+03   r2 =  0.1056641678509D-07\n",
      " lsoda--  at t (=r1) and step size h (=r2), the    \u0000\u0000\n",
      "       corrector convergence failed repeatedly     \u0000\u0000\n",
      "       or with abs(h) = hmin   \u0000l\n",
      "      in above,  r1 =  0.1869650796316D+03   r2 =  0.4030768121754D-13\n",
      " lsoda--  at t (=r1) and step size h (=r2), the    \u0000\u0000\n",
      "       corrector convergence failed repeatedly     \u0000\u0000\n",
      "       or with abs(h) = hmin   \u0000l\n",
      "      in above,  r1 =  0.1879292565239D+03   r2 =  0.8930797374337D-09\n",
      " lsoda--  at t (=r1) and step size h (=r2), the    \u0000\u0000\n",
      "       corrector convergence failed repeatedly     \u0000\u0000\n",
      "       or with abs(h) = hmin   \u0000l\n",
      "      in above,  r1 =  0.1880256273682D+03   r2 =  0.8397394590860D-10\n",
      " lsoda--  at t (=r1) and step size h (=r2), the    \u0000\u0000\n",
      "       corrector convergence failed repeatedly     \u0000\u0000\n",
      "       or with abs(h) = hmin   \u0000l\n",
      "      in above,  r1 =  0.1890874002944D+03   r2 =  0.7188781936493D-09\n",
      " lsoda--  at t (=r1) and step size h (=r2), the    \u0000\u0000\n",
      "       corrector convergence failed repeatedly     \u0000\u0000\n",
      "       or with abs(h) = hmin   \u0000l\n",
      "      in above,  r1 =  0.1903809954471D+03   r2 =  0.8300104753991D-09\n",
      " lsoda--  at t (=r1) and step size h (=r2), the    \u0000\u0000\n",
      "       corrector convergence failed repeatedly     \u0000\u0000\n",
      "       or with abs(h) = hmin   \u0000l\n",
      "      in above,  r1 =  0.1924350225264D+03   r2 =  0.1353167471904D-08\n",
      " lsoda--  at t (=r1) and step size h (=r2), the    \u0000\u0000\n",
      "       corrector convergence failed repeatedly     \u0000\u0000\n",
      "       or with abs(h) = hmin   \u0000l\n",
      "      in above,  r1 =  0.1924350225264D+03   r2 =  0.5161924255005D-14\n",
      " lsoda--  at t (=r1) and step size h (=r2), the    \u0000\u0000\n",
      "       corrector convergence failed repeatedly     \u0000\u0000\n",
      "       or with abs(h) = hmin   \u0000l\n",
      "      in above,  r1 =  0.1932898737811D+03   r2 =  0.8367085305018D-09\n",
      " lsoda--  at t (=r1) and step size h (=r2), the    \u0000\u0000\n",
      "       corrector convergence failed repeatedly     \u0000\u0000\n",
      "       or with abs(h) = hmin   \u0000l\n",
      "      in above,  r1 =  0.1944600284259D+03   r2 =  0.8337596268994D-09\n",
      " lsoda--  at t (=r1) and step size h (=r2), the    \u0000\u0000\n",
      "       corrector convergence failed repeatedly     \u0000\u0000\n",
      "       or with abs(h) = hmin   \u0000l\n",
      "      in above,  r1 =  0.1944600284259D+03   r2 =  0.3180540568922D-14\n",
      " lsoda--  at t (=r1) and step size h (=r2), the    \u0000\u0000\n",
      "       corrector convergence failed repeatedly     \u0000\u0000\n",
      "       or with abs(h) = hmin   \u0000l\n",
      "      in above,  r1 =  0.1961746876790D+03   r2 =  0.7885019123895D-09\n",
      " lsoda--  at t (=r1) and step size h (=r2), the    \u0000\u0000\n",
      "       corrector convergence failed repeatedly     \u0000\u0000\n",
      "       or with abs(h) = hmin   \u0000l\n",
      "      in above,  r1 =  0.1961746876790D+03   r2 =  0.3007896089132D-14\n",
      " lsoda--  at t (=r1) and step size h (=r2), the    \u0000\u0000\n",
      "       corrector convergence failed repeatedly     \u0000\u0000\n",
      "       or with abs(h) = hmin   \u0000l\n",
      "      in above,  r1 =  0.1962212164258D+03   r2 =  0.2643401834234D-09\n",
      " lsoda--  at t (=r1) and step size h (=r2), the    \u0000\u0000\n",
      "       corrector convergence failed repeatedly     \u0000\u0000\n",
      "       or with abs(h) = hmin   \u0000l\n",
      "      in above,  r1 =  0.1980563312004D+03   r2 =  0.1902494825436D-11\n",
      " lsoda--  at t (=r1) and step size h (=r2), the    \u0000\u0000\n",
      "       corrector convergence failed repeatedly     \u0000\u0000\n",
      "       or with abs(h) = hmin   \u0000l\n",
      "      in above,  r1 =  0.1994511666871D+03   r2 =  0.8832167905034D-10\n",
      " lsoda--  at t (=r1) and step size h (=r2), the    \u0000\u0000\n",
      "       corrector convergence failed repeatedly     \u0000\u0000\n",
      "       or with abs(h) = hmin   \u0000l\n",
      "      in above,  r1 =  0.1996646166045D+03   r2 =  0.3135733750010D-08\n",
      " lsoda--  at t (=r1) and step size h (=r2), the    \u0000\u0000\n",
      "       corrector convergence failed repeatedly     \u0000\u0000\n",
      "       or with abs(h) = hmin   \u0000l\n",
      "      in above,  r1 =  0.1997546177528D+03   r2 =  0.3651074910998D-09\n",
      " lsoda--  at t (=r1) and step size h (=r2), the    \u0000\u0000\n",
      "       corrector convergence failed repeatedly     \u0000\u0000\n",
      "       or with abs(h) = hmin   \u0000l\n",
      "      in above,  r1 =  0.1998282494985D+03   r2 =  0.2087689387632D-09\n",
      " lsoda--  at t (=r1) and step size h (=r2), the    \u0000\u0000\n",
      "       corrector convergence failed repeatedly     \u0000\u0000\n",
      "       or with abs(h) = hmin   \u0000l\n",
      "      in above,  r1 =  0.2018861224680D+03   r2 =  0.1089231506890D-08\n",
      " lsoda--  at t (=r1) and step size h (=r2), the    \u0000\u0000\n",
      "       corrector convergence failed repeatedly     \u0000\u0000\n",
      "       or with abs(h) = hmin   \u0000l\n",
      "      in above,  r1 =  0.2018861224680D+03   r2 =  0.4155088450966D-14\n",
      " lsoda--  at t (=r1) and step size h (=r2), the    \u0000\u0000\n",
      "       corrector convergence failed repeatedly     \u0000\u0000\n",
      "       or with abs(h) = hmin   \u0000l\n",
      "      in above,  r1 =  0.2021596062146D+03   r2 =  0.1666034303855D-09\n",
      " lsoda--  at t (=r1) and step size h (=r2), the    \u0000\u0000\n",
      "       corrector convergence failed repeatedly     \u0000\u0000\n",
      "       or with abs(h) = hmin   \u0000l\n",
      "      in above,  r1 =  0.2022377248546D+03   r2 =  0.3361150803925D-09\n",
      " lsoda--  at t (=r1) and step size h (=r2), the    \u0000\u0000\n",
      "       corrector convergence failed repeatedly     \u0000\u0000\n",
      "       or with abs(h) = hmin   \u0000l\n",
      "      in above,  r1 =  0.2022377248546D+03   r2 =  0.1282177278108D-14\n",
      " lsoda--  at t (=r1) and step size h (=r2), the    \u0000\u0000\n",
      "       corrector convergence failed repeatedly     \u0000\u0000\n",
      "       or with abs(h) = hmin   \u0000l\n",
      "      in above,  r1 =  0.2053653301883D+03   r2 =  0.2692589470526D-06\n",
      " lsoda--  at t (=r1) and step size h (=r2), the    \u0000\u0000\n",
      "       corrector convergence failed repeatedly     \u0000\u0000\n",
      "       or with abs(h) = hmin   \u0000l\n",
      "      in above,  r1 =  0.2053653301883D+03   r2 =  0.2054282738134D-14\n",
      " lsoda--  at t (=r1) and step size h (=r2), the    \u0000\u0000\n",
      "       corrector convergence failed repeatedly     \u0000\u0000\n",
      "       or with abs(h) = hmin   \u0000l\n",
      "      in above,  r1 =  0.2056072102429D+03   r2 =  0.2889974826492D-09\n",
      " lsoda--  at t (=r1) and step size h (=r2), the    \u0000\u0000\n",
      "       corrector convergence failed repeatedly     \u0000\u0000\n",
      "       or with abs(h) = hmin   \u0000l\n",
      "      in above,  r1 =  0.2056072102429D+03   r2 =  0.1102437906835D-14\n",
      " lsoda--  at t (=r1) and step size h (=r2), the    \u0000\u0000\n",
      "       corrector convergence failed repeatedly     \u0000\u0000\n",
      "       or with abs(h) = hmin   \u0000l\n",
      "      in above,  r1 =  0.2056670164640D+03   r2 =  0.5914812684426D-10\n",
      " lsoda--  at t (=r1) and step size h (=r2), the    \u0000\u0000\n",
      "       corrector convergence failed repeatedly     \u0000\u0000\n",
      "       or with abs(h) = hmin   \u0000l\n",
      "      in above,  r1 =  0.2074918484086D+03   r2 =  0.2584044421789D-09\n",
      " lsoda--  at t (=r1) and step size h (=r2), the    \u0000\u0000\n",
      "       corrector convergence failed repeatedly     \u0000\u0000\n",
      "       or with abs(h) = hmin   \u0000l\n",
      "      in above,  r1 =  0.2074918484086D+03   r2 =  0.9857347190053D-15\n",
      " lsoda--  at t (=r1) and step size h (=r2), the    \u0000\u0000\n",
      "       corrector convergence failed repeatedly     \u0000\u0000\n",
      "       or with abs(h) = hmin   \u0000l\n",
      "      in above,  r1 =  0.2080025427950D+03   r2 =  0.8096179902566D-10\n",
      " lsoda--  at t (=r1) and step size h (=r2), the    \u0000\u0000\n",
      "       corrector convergence failed repeatedly     \u0000\u0000\n",
      "       or with abs(h) = hmin   \u0000l\n",
      "      in above,  r1 =  0.2090590656292D+03   r2 =  0.6543100309410D-10\n",
      " lsoda--  at t (=r1) and step size h (=r2), the    \u0000\u0000\n",
      "       corrector convergence failed repeatedly     \u0000\u0000\n",
      "       or with abs(h) = hmin   \u0000l\n",
      "      in above,  r1 =  0.2110010883376D+03   r2 =  0.9811386388871D-10\n",
      " lsoda--  at t (=r1) and step size h (=r2), the    \u0000\u0000\n",
      "       corrector convergence failed repeatedly     \u0000\u0000\n",
      "       or with abs(h) = hmin   \u0000l\n",
      "      in above,  r1 =  0.2110010883376D+03   r2 =  0.3742746882962D-15\n",
      " lsoda--  at t (=r1) and step size h (=r2), the    \u0000\u0000\n",
      "       corrector convergence failed repeatedly     \u0000\u0000\n",
      "       or with abs(h) = hmin   \u0000l\n",
      "      in above,  r1 =  0.2112738517036D+03   r2 =  0.9822170814964D-11\n",
      " lsoda--  at t (=r1) and step size h (=r2), the    \u0000\u0000\n",
      "       corrector convergence failed repeatedly     \u0000\u0000\n",
      "       or with abs(h) = hmin   \u0000l\n",
      "      in above,  r1 =  0.2115394152046D+03   r2 =  0.6808121665993D-09\n",
      " lsoda--  at t (=r1) and step size h (=r2), the    \u0000\u0000\n",
      "       corrector convergence failed repeatedly     \u0000\u0000\n",
      "       or with abs(h) = hmin   \u0000l\n",
      "      in above,  r1 =  0.2115394152046D+03   r2 =  0.2597092310331D-14\n",
      " lsoda--  at t(=r1) and step size h(=r2), the error\u0000\u0000\n",
      "       test failed repeatedly or with abs(h) = hmin\u0000\u0000\n",
      "      in above,  r1 =  0.2115528484098D+03   r2 =  0.1409839701602D-15\n",
      " lsoda--  at t (=r1) and step size h (=r2), the    \u0000\u0000\n",
      "       corrector convergence failed repeatedly     \u0000\u0000\n",
      "       or with abs(h) = hmin   \u0000l\n",
      "      in above,  r1 =  0.2119893833209D+03   r2 =  0.1822860064437D-09\n",
      " lsoda--  at t (=r1) and step size h (=r2), the    \u0000\u0000\n",
      "       corrector convergence failed repeatedly     \u0000\u0000\n",
      "       or with abs(h) = hmin   \u0000l\n",
      "      in above,  r1 =  0.2119893833209D+03   r2 =  0.6953659303426D-15\n",
      " lsoda--  at t (=r1) and step size h (=r2), the    \u0000\u0000\n",
      "       corrector convergence failed repeatedly     \u0000\u0000\n",
      "       or with abs(h) = hmin   \u0000l\n",
      "      in above,  r1 =  0.2129865989902D+03   r2 =  0.9001666427311D-09\n",
      " lsoda--  at t (=r1) and step size h (=r2), the    \u0000\u0000\n",
      "       corrector convergence failed repeatedly     \u0000\u0000\n",
      "       or with abs(h) = hmin   \u0000l\n",
      "      in above,  r1 =  0.2129865989902D+03   r2 =  0.3433863230633D-14\n",
      " lsoda--  at t (=r1) and step size h (=r2), the    \u0000\u0000\n",
      "       corrector convergence failed repeatedly     \u0000\u0000\n",
      "       or with abs(h) = hmin   \u0000l\n",
      "      in above,  r1 =  0.2130028678928D+03   r2 =  0.1601304020343D-14\n",
      " lsoda--  at t (=r1) and step size h (=r2), the    \u0000\u0000\n",
      "       corrector convergence failed repeatedly     \u0000\u0000\n",
      "       or with abs(h) = hmin   \u0000l\n",
      "      in above,  r1 =  0.2137186733722D+03   r2 =  0.1206538941177D-09\n",
      " lsoda--  at t (=r1) and step size h (=r2), the    \u0000\u0000\n",
      "       corrector convergence failed repeatedly     \u0000\u0000\n",
      "       or with abs(h) = hmin   \u0000l\n",
      "      in above,  r1 =  0.2137186733722D+03   r2 =  0.4602580799777D-15\n",
      " lsoda--  at t (=r1) and step size h (=r2), the    \u0000\u0000\n",
      "       corrector convergence failed repeatedly     \u0000\u0000\n",
      "       or with abs(h) = hmin   \u0000l\n",
      "      in above,  r1 =  0.2140929148709D+03   r2 =  0.7036003141922D-09\n",
      " lsoda--  at t (=r1) and step size h (=r2), the    \u0000\u0000\n",
      "       corrector convergence failed repeatedly     \u0000\u0000\n",
      "       or with abs(h) = hmin   \u0000l\n",
      "      in above,  r1 =  0.2140929148709D+03   r2 =  0.2684022194642D-14\n",
      " lsoda--  at t (=r1) and step size h (=r2), the    \u0000\u0000\n",
      "       corrector convergence failed repeatedly     \u0000\u0000\n",
      "       or with abs(h) = hmin   \u0000l\n",
      "      in above,  r1 =  0.2147077900620D+03   r2 =  0.7262300009111D-09\n",
      " lsoda--  at t (=r1) and step size h (=r2), the    \u0000\u0000\n",
      "       corrector convergence failed repeatedly     \u0000\u0000\n",
      "       or with abs(h) = hmin   \u0000l\n",
      "      in above,  r1 =  0.2147077900620D+03   r2 =  0.2770347598691D-14\n",
      " lsoda--  at t (=r1) and step size h (=r2), the    \u0000\u0000\n",
      "       corrector convergence failed repeatedly     \u0000\u0000\n",
      "       or with abs(h) = hmin   \u0000l\n",
      "      in above,  r1 =  0.2148520246295D+03   r2 =  0.7616089928085D-10\n",
      " lsoda--  at t (=r1) and step size h (=r2), the    \u0000\u0000\n",
      "       corrector convergence failed repeatedly     \u0000\u0000\n",
      "       or with abs(h) = hmin   \u0000l\n",
      "      in above,  r1 =  0.2148520246295D+03   r2 =  0.2905307742342D-15\n",
      " lsoda--  at t (=r1) and step size h (=r2), the    \u0000\u0000\n",
      "       corrector convergence failed repeatedly     \u0000\u0000\n",
      "       or with abs(h) = hmin   \u0000l\n",
      "      in above,  r1 =  0.2149559138309D+03   r2 =  0.1599809162085D-09\n",
      " lsoda--  at t (=r1) and step size h (=r2), the    \u0000\u0000\n",
      "       corrector convergence failed repeatedly     \u0000\u0000\n",
      "       or with abs(h) = hmin   \u0000l\n",
      "      in above,  r1 =  0.2149559138309D+03   r2 =  0.6102787636126D-15\n",
      " lsoda--  at t (=r1) and step size h (=r2), the    \u0000\u0000\n",
      "       corrector convergence failed repeatedly     \u0000\u0000\n",
      "       or with abs(h) = hmin   \u0000l\n",
      "      in above,  r1 =  0.2161365988459D+03   r2 =  0.6404006052482D-10\n",
      " lsoda--  at t (=r1) and step size h (=r2), the    \u0000\u0000\n",
      "       corrector convergence failed repeatedly     \u0000\u0000\n",
      "       or with abs(h) = hmin   \u0000l\n",
      "      in above,  r1 =  0.2161365988459D+03   r2 =  0.2442934437745D-15\n",
      " lsoda--  at t (=r1) and step size h (=r2), the    \u0000\u0000\n",
      "       corrector convergence failed repeatedly     \u0000\u0000\n",
      "       or with abs(h) = hmin   \u0000l\n",
      "      in above,  r1 =  0.2163387515651D+03   r2 =  0.7874219268331D-10\n",
      " lsoda--  at t (=r1) and step size h (=r2), the    \u0000\u0000\n",
      "       corrector convergence failed repeatedly     \u0000\u0000\n",
      "       or with abs(h) = hmin   \u0000l\n",
      "      in above,  r1 =  0.2163387515651D+03   r2 =  0.3003776271183D-15\n",
      " lsoda--  at t (=r1) and step size h (=r2), the    \u0000\u0000\n",
      "       corrector convergence failed repeatedly     \u0000\u0000\n",
      "       or with abs(h) = hmin   \u0000l\n",
      "      in above,  r1 =  0.2163597564419D+03   r2 =  0.4719176818112D-11\n",
      " lsoda--  at t (=r1) and step size h (=r2), the    \u0000\u0000\n",
      "       corrector convergence failed repeatedly     \u0000\u0000\n",
      "       or with abs(h) = hmin   \u0000l\n",
      "      in above,  r1 =  0.2165518236725D+03   r2 =  0.1541876463759D-17\n",
      " lsoda--  at t (=r1) and step size h (=r2), the    \u0000\u0000\n",
      "       corrector convergence failed repeatedly     \u0000\u0000\n",
      "       or with abs(h) = hmin   \u0000l\n",
      "      in above,  r1 =  0.2167744937114D+03   r2 =  0.2342510209147D-09\n",
      " lsoda--  at t (=r1) and step size h (=r2), the    \u0000\u0000\n",
      "       corrector convergence failed repeatedly     \u0000\u0000\n",
      "       or with abs(h) = hmin   \u0000l\n",
      "      in above,  r1 =  0.2167744937114D+03   r2 =  0.8935967289530D-15\n",
      " lsoda--  at t (=r1) and step size h (=r2), the    \u0000\u0000\n",
      "       corrector convergence failed repeatedly     \u0000\u0000\n",
      "       or with abs(h) = hmin   \u0000l\n",
      "      in above,  r1 =  0.2168756165150D+03   r2 =  0.2963500536521D-09\n",
      " lsoda--  at t (=r1) and step size h (=r2), the    \u0000\u0000\n",
      "       corrector convergence failed repeatedly     \u0000\u0000\n",
      "       or with abs(h) = hmin   \u0000l\n",
      "      in above,  r1 =  0.2168756165150D+03   r2 =  0.1130485739335D-14\n",
      " lsoda--  at t (=r1) and step size h (=r2), the    \u0000\u0000\n",
      "       corrector convergence failed repeatedly     \u0000\u0000\n",
      "       or with abs(h) = hmin   \u0000l\n",
      "      in above,  r1 =  0.2174607906627D+03   r2 =  0.4626090290256D-10\n",
      " lsoda--  at t (=r1) and step size h (=r2), the    \u0000\u0000\n",
      "       corrector convergence failed repeatedly     \u0000\u0000\n",
      "       or with abs(h) = hmin   \u0000l\n",
      "      in above,  r1 =  0.2174607906627D+03   r2 =  0.1764713398077D-15\n",
      " lsoda--  at t (=r1) and step size h (=r2), the    \u0000\u0000\n",
      "       corrector convergence failed repeatedly     \u0000\u0000\n",
      "       or with abs(h) = hmin   \u0000l\n",
      "      in above,  r1 =  0.2175859040682D+03   r2 =  0.3949189101238D-09\n"
     ]
    },
    {
     "data": {
      "image/png": "[encoded data removed]",
      "text/plain": [
       "<Figure size 1800x1000 with 1 Axes>"
      ]
     },
     "metadata": {},
     "output_type": "display_data"
    }
   ],
   "source": [
    "models.create_lac_operon().run(solver = gp2.ODESolver, t=1000).plot()"
   ]
  },
  {
   "cell_type": "code",
   "execution_count": 11,
   "metadata": {},
   "outputs": [
    {
     "name": "stdout",
     "output_type": "stream",
     "text": [
      "StochSS-Compute listening on: :29681\n",
      "Cache directory: /home/mdip/projects/StochSS-Compute/examples/cache\n",
      "Connecting to Dask scheduler at: localhost:36571\n",
      "\n",
      "2023-02-19 10:45:46.220559 | <127.0.0.1> | Simulation Run Request | <5346d8c8e78489743ecd41b87bfc36f6> | Results not cached. Running simulation.\n",
      "2023-02-19 10:45:46.404732 | <127.0.0.1> |               Status Request | <5346d8c8e78489743ecd41b87bfc36f6> | Trajectories: 1 |               Task ID: 5346d8c8e78489743ecd41b87bfc36f6:1:097c45b4cbe07edb\n",
      "2023-02-19 10:45:46.406364 | <5346d8c8e78489743ecd41b87bfc36f6> | <5346d8c8e78489743ecd41b87bfc36f6:1:097c45b4cbe07edb> |Status: RUNNING | Task: processing | error: None\n",
      "2023-02-19 10:47:06.289698 | <127.0.0.1> |               Status Request | <5346d8c8e78489743ecd41b87bfc36f6> | Trajectories: 1 |               Task ID: 5346d8c8e78489743ecd41b87bfc36f6:1:097c45b4cbe07edb\n",
      "2023-02-19 10:47:06.298664 | <5346d8c8e78489743ecd41b87bfc36f6> | <5346d8c8e78489743ecd41b87bfc36f6:1:097c45b4cbe07edb> |Status: RUNNING | Task: processing | error: None\n",
      "2023-02-19 10:47:25.852755 | <127.0.0.1> |               Status Request | <5346d8c8e78489743ecd41b87bfc36f6> | Trajectories: 1 |               Task ID: 5346d8c8e78489743ecd41b87bfc36f6:1:097c45b4cbe07edb\n",
      "2023-02-19 10:47:25.854266 | <5346d8c8e78489743ecd41b87bfc36f6> | <5346d8c8e78489743ecd41b87bfc36f6:1:097c45b4cbe07edb> |Status: RUNNING | Task: processing | error: None\n",
      "2023-02-19 10:47:37.651705 | <127.0.0.1> |               Status Request | <5346d8c8e78489743ecd41b87bfc36f6> | Trajectories: 1 |               Task ID: 5346d8c8e78489743ecd41b87bfc36f6:1:097c45b4cbe07edb\n",
      "2023-02-19 10:47:37.653520 | <5346d8c8e78489743ecd41b87bfc36f6> | <5346d8c8e78489743ecd41b87bfc36f6:1:097c45b4cbe07edb> |Status: RUNNING | Task: processing | error: None\n"
     ]
    }
   ],
   "source": [
    "sim = sssc.RemoteSimulation(models.create_lac_operon(), host='localhost', solver=gp2.TauHybridSolver)"
   ]
  },
  {
   "cell_type": "code",
   "execution_count": 12,
   "metadata": {},
   "outputs": [
    {
     "name": "stderr",
     "output_type": "stream",
     "text": [
      "2023-02-19 10:45:46,228 - distributed.scheduler - INFO - Receive client connection: Client-79a5fa3e-b06c-11ed-bb0d-d7d19d105abb\n",
      "2023-02-19 10:45:46,229 - distributed.core - INFO - Starting established connection to tcp://127.0.0.1:37666\n"
     ]
    },
    {
     "name": "stdout",
     "output_type": "stream",
     "text": [
      "[SimulationRunRequest] http://localhost:29681/api/v2/simulation/gillespy2/run\n"
     ]
    }
   ],
   "source": [
    "results = sim.run()"
   ]
  },
  {
   "cell_type": "code",
   "execution_count": 18,
   "metadata": {},
   "outputs": [
    {
     "name": "stderr",
     "output_type": "stream",
     "text": [
      "2023-02-19 10:47:37,659 - distributed.scheduler - INFO - Receive client connection: Client-bc10f198-b06c-11ed-bb0d-d7d19d105abb\n",
      "2023-02-19 10:47:37,660 - distributed.core - INFO - Starting established connection to tcp://127.0.0.1:50442\n",
      "2023-02-19 10:47:37,662 - distributed.worker - INFO - Run out-of-band function 'scheduler_task_state'\n",
      "2023-02-19 10:47:37,672 - distributed.scheduler - INFO - Remove client Client-bc10f198-b06c-11ed-bb0d-d7d19d105abb\n",
      "2023-02-19 10:47:37,673 - distributed.core - INFO - Received 'close-stream' from tcp://127.0.0.1:50442; closing.\n",
      "2023-02-19 10:47:37,674 - distributed.scheduler - INFO - Remove client Client-bc10f198-b06c-11ed-bb0d-d7d19d105abb\n",
      "2023-02-19 10:47:37,674 - distributed.scheduler - INFO - Close client connection: Client-bc10f198-b06c-11ed-bb0d-d7d19d105abb\n"
     ]
    },
    {
     "data": {
      "text/plain": [
       "'RUNNING'"
      ]
     },
     "execution_count": 18,
     "metadata": {},
     "output_type": "execute_result"
    },
    {
     "name": "stderr",
     "output_type": "stream",
     "text": [
      "2023-02-19 10:47:47,002 - distributed.core - INFO - Event loop was unresponsive in Worker for 20.96s.  This is often caused by long-running GIL-holding functions or moving large chunks of data. This can cause timeouts and instability.\n",
      "2023-02-19 10:48:13,657 - distributed.core - INFO - Event loop was unresponsive in Worker for 24.99s.  This is often caused by long-running GIL-holding functions or moving large chunks of data. This can cause timeouts and instability.\n",
      "2023-02-19 10:48:31,226 - distributed.core - INFO - Event loop was unresponsive in Worker for 17.57s.  This is often caused by long-running GIL-holding functions or moving large chunks of data. This can cause timeouts and instability.\n",
      "2023-02-19 10:48:45,364 - distributed.core - INFO - Event loop was unresponsive in Worker for 14.14s.  This is often caused by long-running GIL-holding functions or moving large chunks of data. This can cause timeouts and instability.\n",
      "2023-02-19 10:48:49,452 - distributed.core - INFO - Event loop was unresponsive in Worker for 4.09s.  This is often caused by long-running GIL-holding functions or moving large chunks of data. This can cause timeouts and instability.\n",
      "2023-02-19 10:49:21,106 - distributed.core - INFO - Event loop was unresponsive in Worker for 31.65s.  This is often caused by long-running GIL-holding functions or moving large chunks of data. This can cause timeouts and instability.\n",
      "2023-02-19 10:49:27,882 - distributed.core - INFO - Event loop was unresponsive in Worker for 6.29s.  This is often caused by long-running GIL-holding functions or moving large chunks of data. This can cause timeouts and instability.\n"
     ]
    }
   ],
   "source": [
    "results.sim_status"
   ]
  },
  {
   "cell_type": "code",
   "execution_count": 19,
   "metadata": {},
   "outputs": [
    {
     "name": "stderr",
     "output_type": "stream",
     "text": [
      "2023-02-19 10:49:33,828 - distributed.core - INFO - Connection to tcp://127.0.0.1:37666 has been closed.\n",
      "2023-02-19 10:49:33,829 - distributed.scheduler - INFO - Remove client Client-79a5fa3e-b06c-11ed-bb0d-d7d19d105abb\n",
      "2023-02-19 10:49:33,830 - distributed.scheduler - INFO - Close client connection: Client-79a5fa3e-b06c-11ed-bb0d-d7d19d105abb\n",
      "2023-02-19 10:49:34,059 - distributed.core - INFO - Event loop was unresponsive in Worker for 6.18s.  This is often caused by long-running GIL-holding functions or moving large chunks of data. This can cause timeouts and instability.\n"
     ]
    }
   ],
   "source": [
    "process.terminate()"
   ]
  },
  {
   "cell_type": "code",
   "execution_count": 20,
   "metadata": {},
   "outputs": [
    {
     "name": "stderr",
     "output_type": "stream",
     "text": [
      "2023-02-19 10:49:40,722 - distributed.nanny - INFO - Closing Nanny at 'tcp://127.0.0.1:41653'. Reason: nanny-close\n",
      "2023-02-19 10:49:40,723 - distributed.nanny - INFO - Nanny asking worker to close. Reason: nanny-close\n",
      "2023-02-19 10:49:40,725 - distributed.nanny - INFO - Closing Nanny at 'tcp://127.0.0.1:39879'. Reason: nanny-close\n",
      "2023-02-19 10:49:40,726 - distributed.nanny - INFO - Nanny asking worker to close. Reason: nanny-close\n",
      "2023-02-19 10:49:40,727 - distributed.nanny - INFO - Closing Nanny at 'tcp://127.0.0.1:38065'. Reason: nanny-close\n",
      "2023-02-19 10:49:40,728 - distributed.nanny - INFO - Nanny asking worker to close. Reason: nanny-close\n",
      "2023-02-19 10:49:40,728 - distributed.nanny - INFO - Closing Nanny at 'tcp://127.0.0.1:38509'. Reason: nanny-close\n",
      "2023-02-19 10:49:40,729 - distributed.nanny - INFO - Nanny asking worker to close. Reason: nanny-close\n",
      "2023-02-19 10:49:40,732 - distributed.core - INFO - Received 'close-stream' from tcp://127.0.0.1:37618; closing.\n",
      "2023-02-19 10:49:40,732 - distributed.core - INFO - Received 'close-stream' from tcp://127.0.0.1:37614; closing.\n",
      "2023-02-19 10:49:40,734 - distributed.scheduler - INFO - Remove worker <WorkerState 'tcp://127.0.0.1:38811', name: 0, status: closing, memory: 0, processing: 0>\n",
      "2023-02-19 10:49:40,735 - distributed.core - INFO - Removing comms to tcp://127.0.0.1:38811\n",
      "2023-02-19 10:49:40,736 - distributed.scheduler - INFO - Remove worker <WorkerState 'tcp://127.0.0.1:46185', name: 1, status: closing, memory: 0, processing: 0>\n",
      "2023-02-19 10:49:40,737 - distributed.core - INFO - Removing comms to tcp://127.0.0.1:46185\n",
      "2023-02-19 10:49:40,738 - distributed.core - INFO - Received 'close-stream' from tcp://127.0.0.1:37610; closing.\n",
      "2023-02-19 10:49:40,739 - distributed.scheduler - INFO - Remove worker <WorkerState 'tcp://127.0.0.1:41131', name: 3, status: closing, memory: 0, processing: 0>\n",
      "2023-02-19 10:49:40,740 - distributed.core - INFO - Removing comms to tcp://127.0.0.1:41131\n",
      "2023-02-19 10:49:43,931 - distributed.nanny - WARNING - Worker process still alive after 3.1999992370605472 seconds, killing\n",
      "2023-02-19 10:49:43,931 - distributed.nanny - WARNING - Worker process still alive after 3.1999992370605472 seconds, killing\n",
      "2023-02-19 10:49:43,938 - distributed.nanny - INFO - Worker process 572147 was killed by signal 9\n",
      "2023-02-19 10:49:43,940 - distributed.core - INFO - Connection to tcp://127.0.0.1:37620 has been closed.\n",
      "2023-02-19 10:49:43,941 - distributed.scheduler - INFO - Remove worker <WorkerState 'tcp://127.0.0.1:36085', name: 2, status: running, memory: 0, processing: 0>\n",
      "2023-02-19 10:49:43,941 - distributed.core - INFO - Removing comms to tcp://127.0.0.1:36085\n",
      "2023-02-19 10:49:43,942 - distributed.scheduler - INFO - Lost all workers\n",
      "2023-02-19 10:49:43,944 - distributed.scheduler - INFO - Scheduler closing...\n",
      "2023-02-19 10:49:43,945 - distributed.scheduler - INFO - Scheduler closing all comms\n"
     ]
    }
   ],
   "source": [
    "dask.close()"
   ]
  },
  {
   "cell_type": "code",
   "execution_count": null,
   "metadata": {},
   "outputs": [],
   "source": [
    "model = gp2.Model()\n",
    "gp2.import_SBML('PW000142.sbml', gillespy_model=model)"
   ]
  }
 ],
 "metadata": {
  "kernelspec": {
   "display_name": "Python 3 (ipykernel)",
   "language": "python",
   "name": "python3"
  },
  "language_info": {
   "codemirror_mode": {
    "name": "ipython",
    "version": 3
   },
   "file_extension": ".py",
   "mimetype": "text/x-python",
   "name": "python",
   "nbconvert_exporter": "python",
   "pygments_lexer": "ipython3",
   "version": "3.11.1+"
  },
  "vscode": {
   "interpreter": {
    "hash": "ef56f9d787682a6ac61c29852cd545f557bd05dd1aa39793e08a6cd6ebb9b699"
   }
  }
 },
 "nbformat": 4,
 "nbformat_minor": 2
}
