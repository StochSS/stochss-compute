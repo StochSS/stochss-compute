{
 "cells": [
  {
   "cell_type": "markdown",
   "metadata": {},
   "source": [
    "# Opiod Model Using Basic Tau Leaping"
   ]
  },
  {
   "cell_type": "markdown",
   "metadata": {},
   "source": [
    "### Imports"
   ]
  },
  {
   "cell_type": "code",
   "execution_count": 1,
   "metadata": {},
   "outputs": [
    {
     "output_type": "error",
     "ename": "ModuleNotFoundError",
     "evalue": "No module named 'numpy'",
     "traceback": [
      "\u001b[0;31m---------------------------------------------------------------------------\u001b[0m",
      "\u001b[0;31mModuleNotFoundError\u001b[0m                       Traceback (most recent call last)",
      "\u001b[0;32m<ipython-input-1-c328297c169a>\u001b[0m in \u001b[0;36m<module>\u001b[0;34m\u001b[0m\n\u001b[1;32m      1\u001b[0m \u001b[0;32mimport\u001b[0m \u001b[0msys\u001b[0m\u001b[0;34m\u001b[0m\u001b[0;34m\u001b[0m\u001b[0m\n\u001b[1;32m      2\u001b[0m \u001b[0;32mimport\u001b[0m \u001b[0mos\u001b[0m\u001b[0;34m\u001b[0m\u001b[0;34m\u001b[0m\u001b[0m\n\u001b[0;32m----> 3\u001b[0;31m \u001b[0;32mimport\u001b[0m \u001b[0mnumpy\u001b[0m\u001b[0;34m\u001b[0m\u001b[0;34m\u001b[0m\u001b[0m\n\u001b[0m\u001b[1;32m      4\u001b[0m \u001b[0msys\u001b[0m\u001b[0;34m.\u001b[0m\u001b[0mpath\u001b[0m\u001b[0;34m.\u001b[0m\u001b[0mappend\u001b[0m\u001b[0;34m(\u001b[0m\u001b[0mos\u001b[0m\u001b[0;34m.\u001b[0m\u001b[0mpath\u001b[0m\u001b[0;34m.\u001b[0m\u001b[0mabspath\u001b[0m\u001b[0;34m(\u001b[0m\u001b[0mos\u001b[0m\u001b[0;34m.\u001b[0m\u001b[0mpath\u001b[0m\u001b[0;34m.\u001b[0m\u001b[0mjoin\u001b[0m\u001b[0;34m(\u001b[0m\u001b[0mos\u001b[0m\u001b[0;34m.\u001b[0m\u001b[0mgetcwd\u001b[0m\u001b[0;34m(\u001b[0m\u001b[0;34m)\u001b[0m\u001b[0;34m,\u001b[0m \u001b[0;34m'../../'\u001b[0m\u001b[0;34m)\u001b[0m\u001b[0;34m)\u001b[0m\u001b[0;34m)\u001b[0m\u001b[0;34m\u001b[0m\u001b[0;34m\u001b[0m\u001b[0m\n\u001b[1;32m      5\u001b[0m \u001b[0;32mimport\u001b[0m \u001b[0mgillespy2\u001b[0m\u001b[0;34m\u001b[0m\u001b[0;34m\u001b[0m\u001b[0m\n",
      "\u001b[0;31mModuleNotFoundError\u001b[0m: No module named 'numpy'"
     ]
    }
   ],
   "source": [
    "import sys\n",
    "import os\n",
    "import numpy\n",
    "sys.path.append(os.path.abspath(os.path.join(os.getcwd(), '../../')))\n",
    "import gillespy2\n",
    "from gillespy2 import TauLeapingSolver\n",
    "from stochss_remote import RemoteSimulation, ComputeServer\n"
   ]
  },
  {
   "cell_type": "markdown",
   "metadata": {},
   "source": [
    "### Model Instantiation"
   ]
  },
  {
   "cell_type": "markdown",
   "metadata": {},
   "source": [
    "Model based off the prescription opiod crisis in the United States. Based off a paper from the University of Tennessee\n",
    "https://0afa17f2-bd49-4985-b62b-358fb4a6bf3f.filesusr.com/ugd/f70b03_22c7703e4a3b4da6b9555c738ed8566d.pdf"
   ]
  },
  {
   "cell_type": "code",
   "execution_count": null,
   "metadata": {},
   "outputs": [],
   "source": [
    "class Opiod(gillespy2.Model):\n",
    "     def __init__(self, parameter_values=None):\n",
    "            #initialize Model\n",
    "            gillespy2.Model.__init__(self, name=\"Opioid\")\n",
    "            \n",
    "            #parameters\n",
    "            alpha = gillespy2.Parameter(name='alpha', expression= 0.15) #0.15\n",
    "            epsilon = gillespy2.Parameter(name='epsilon', expression= 0.8) #0.8-8\n",
    "            beta_p = gillespy2.Parameter(name='beta_p', expression= 0.00266) #0.00266\n",
    "            beta_a = gillespy2.Parameter(name='beta_a', expression= 0.00094) #0.00094\n",
    "            gamma = gillespy2.Parameter(name='gamma', expression= 0.00744) #00744\n",
    "            zeta = gillespy2.Parameter(name='zeta', expression= 0.2) #0.2-2\n",
    "            delta = gillespy2.Parameter(name='delta', expression= 0.1) #0.1\n",
    "            sigma = gillespy2.Parameter(name='sigma', expression= 0.9) #0.9\n",
    "            mu = gillespy2.Parameter(name='mu', expression= 0.00729)  #0.00729\n",
    "            mu_prime = gillespy2.Parameter(name='mu_prime', expression= 0.01159) #0.01159\n",
    "            \n",
    "         \n",
    "            self.add_parameter([alpha,epsilon,beta_p,beta_a,gamma,zeta,delta,sigma,mu, mu_prime])\n",
    "            \n",
    "            #Species\n",
    "            S = gillespy2.Species(name='Susceptibles', initial_value=1000)\n",
    "            P = gillespy2.Species(name='Prescribed_Users', initial_value=0)\n",
    "            A = gillespy2.Species(name='Addicted', initial_value=0)\n",
    "            R = gillespy2.Species(name='Rehab', initial_value=0)\n",
    "            Natural_Deaths = gillespy2.Species(name='Natural_Deaths',initial_value=0)\n",
    "            Addiction_Deaths = gillespy2.Species(name='Addiction_Deaths',initial_value=0)\n",
    "            self.add_species([S,P,A,R,Natural_Deaths,Addiction_Deaths])\n",
    "            \n",
    "            #reactions\n",
    "            SP = gillespy2.Reaction(name=\"SP\",reactants={S:1}, products={P:1},\n",
    "                   rate=alpha)\n",
    "            \n",
    "            SA_a = gillespy2.Reaction(name=\"SA_a\",reactants={S:1}, products={A:1},\n",
    "                    rate=beta_a)\n",
    "            \n",
    "            SA_p = gillespy2.Reaction(name=\"SA_p\",reactants={S:1}, products={A:1},\n",
    "                    rate=beta_p)\n",
    "            \n",
    "            mu_S = gillespy2.Reaction(name=\"mu_S\",reactants={S:1},products={S:1,Natural_Deaths:1},\n",
    "                    rate = mu)\n",
    "            \n",
    "            PA = gillespy2.Reaction(name=\"PA\",reactants={P:1}, products={A:1},\n",
    "                    rate=gamma)\n",
    "            \n",
    "            PS = gillespy2.Reaction(name=\"PS\",reactants={P:1}, products={S:1},\n",
    "                    rate=epsilon)\n",
    "            \n",
    "            AR = gillespy2.Reaction(name=\"AR\",reactants={A:1}, products={R:1},\n",
    "                    rate=zeta)\n",
    "            \n",
    "            RA = gillespy2.Reaction(name=\"RA\",reactants={R:1}, products={A:1},\n",
    "                    rate=delta)\n",
    "            \n",
    "            RS = gillespy2.Reaction(name=\"RS\",reactants={R:1}, products={S:1},\n",
    "                    rate=sigma)\n",
    "            \n",
    "            mu_P = gillespy2.Reaction(name=\"mu_P\",reactants={P:1}, products={S:1,Natural_Deaths:1},\n",
    "                    rate=mu)\n",
    "            \n",
    "            mu_R = gillespy2.Reaction(name=\"m_R\",reactants={R:1}, products={S:1,Natural_Deaths:1},\n",
    "                    rate=mu)\n",
    "            \n",
    "            mu_prime_A = gillespy2.Reaction(name=\"mu_prime_A\",reactants={A:1}, products={S:1,Addiction_Deaths:1},\n",
    "                    rate=mu_prime)\n",
    "            \n",
    "            self.add_reaction([SP,PS,SA_a,SA_p,PA,AR,RA,RS,mu_P,mu_R,mu_prime_A,mu_S])\n",
    "            self.timespan(numpy.linspace(0,200,201))"
   ]
  },
  {
   "cell_type": "code",
   "execution_count": null,
   "metadata": {
    "scrolled": true
   },
   "outputs": [],
   "source": [
    "model = Opiod()\n"
   ]
  },
  {
   "cell_type": "markdown",
   "metadata": {},
   "source": [
    "### Run Model and plot\n",
    "Run the model by calling the run function on the model and select solver via 'solver' keyword argument.  If show_labels is True (default value, no need to specify), results are returned as a list of dictionaries, where the list index is the trajectory run index, and dictionary keys are comprised of species names and 'time'.  If show_labels is False, results are returned as a numpy array with indices [trajectory][timestep][species_no]"
   ]
  },
  {
   "cell_type": "code",
   "execution_count": null,
   "metadata": {},
   "outputs": [],
   "source": [
    "# %time results = model.run(solver=TauLeapingSolver())\n",
    "%time results = RemoteSimulation.on(ComputeServer(\"127.0.0.1\", port=5000)).with_model(model).run(solver=TauLeapingSolver())"
   ]
  },
  {
   "cell_type": "code",
   "execution_count": null,
   "metadata": {},
   "outputs": [],
   "source": [
    "results.plot(included_species_list=['Susceptibles','Prescribed_Users','Addicted','Rehab'])"
   ]
  },
  {
   "cell_type": "code",
   "execution_count": null,
   "metadata": {
    "pycharm": {
     "name": "#%%\n"
    }
   },
   "outputs": [],
   "source": [
    "results.plotplotly()\n",
    "\n",
    "\n"
   ]
  }
 ],
 "metadata": {
  "kernelspec": {
   "display_name": "Python 3",
   "language": "python",
   "name": "python3"
  },
  "language_info": {
   "codemirror_mode": {
    "name": "ipython",
    "version": 3
   },
   "file_extension": ".py",
   "mimetype": "text/x-python",
   "name": "python",
   "nbconvert_exporter": "python",
   "pygments_lexer": "ipython3",
   "version": "3.9.2"
  }
 },
 "nbformat": 4,
 "nbformat_minor": 2
}