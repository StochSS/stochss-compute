{
 "cells": [
  {
   "cell_type": "markdown",
   "metadata": {},
   "source": [
    "# Introduction to StochSS-Compute on AWS\n",
    "  \n",
    "If you have ever used Gillespy2 to run simulations locally, you should not have too much difficulty running remote simulations, as the syntax is nearly the same. Running a simulation remotely with GillesPy2 requires 3 components: a `Model()` (your data), a `Solver()` (SSA, TauHybrid, ODE, etc.), and a running instance of a `ComputeServer()`. If you do not wish to explicitly state the solver, one will be automatically chosen."
   ]
  },
  {
   "cell_type": "code",
   "execution_count": null,
   "metadata": {},
   "outputs": [],
   "source": [
    "# import sys, os\n",
    "# import numpy\n",
    "# sys.path.append(os.path.abspath(os.path.join(os.getcwd(), '../')))\n",
    "# import gillespy2\n",
    "# from stochss_compute import RemoteSimulation, ComputeServer"
   ]
  },
  {
   "cell_type": "code",
   "execution_count": null,
   "metadata": {},
   "outputs": [],
   "source": [
    "# import boto3"
   ]
  },
  {
   "cell_type": "code",
   "execution_count": 1,
   "metadata": {},
   "outputs": [],
   "source": [
    "import sys, os\n",
    "sys.path.insert(1, os.path.abspath(os.path.join(os.getcwd(), '../')))\n",
    "from sssc_ec2 import EC2Cluster, p"
   ]
  },
  {
   "cell_type": "code",
   "execution_count": 2,
   "metadata": {},
   "outputs": [],
   "source": [
    "cluster = EC2Cluster()\n"
   ]
  },
  {
   "cell_type": "code",
   "execution_count": 3,
   "metadata": {},
   "outputs": [
    {
     "name": "stdout",
     "output_type": "stream",
     "text": [
      "StochSS-Compute root key detected in working directory. Using \"./sssc-root.pem\".\n",
      "{'ResponseMetadata': {'HTTPHeaders': {'cache-control': 'no-cache, no-store',\n",
      "                                      'content-length': '1157',\n",
      "                                      'content-type': 'text/xml;charset=UTF-8',\n",
      "                                      'date': 'Fri, 17 Jun 2022 19:39:29 GMT',\n",
      "                                      'server': 'AmazonEC2',\n",
      "                                      'strict-transport-security': 'max-age=31536000; '\n",
      "                                                                   'includeSubDomains',\n",
      "                                      'x-amzn-requestid': 'b829b011-f955-4f89-a045-7937798c323a'},\n",
      "                      'HTTPStatusCode': 200,\n",
      "                      'RequestId': 'b829b011-f955-4f89-a045-7937798c323a',\n",
      "                      'RetryAttempts': 0},\n",
      " 'Vpcs': [{'CidrBlock': '172.31.0.0/16',\n",
      "           'CidrBlockAssociationSet': [{'AssociationId': 'vpc-cidr-assoc-0eff4f2f97092304c',\n",
      "                                        'CidrBlock': '172.31.0.0/16',\n",
      "                                        'CidrBlockState': {'State': 'associated'}}],\n",
      "           'DhcpOptionsId': 'dopt-056375a3e6e03e362',\n",
      "           'InstanceTenancy': 'default',\n",
      "           'IsDefault': False,\n",
      "           'OwnerId': '946980283210',\n",
      "           'State': 'available',\n",
      "           'Tags': [{'Key': 'Name', 'Value': 'sssc-vpc'}],\n",
      "           'VpcId': 'vpc-09e17c1346a710e88'}]}\n",
      "vpcId: vpc-09e17c1346a710e88\n",
      "{'ResponseMetadata': {'HTTPHeaders': {'cache-control': 'no-cache, no-store',\n",
      "                                      'content-length': '1677',\n",
      "                                      'content-type': 'text/xml;charset=UTF-8',\n",
      "                                      'date': 'Fri, 17 Jun 2022 19:39:29 GMT',\n",
      "                                      'server': 'AmazonEC2',\n",
      "                                      'strict-transport-security': 'max-age=31536000; '\n",
      "                                                                   'includeSubDomains',\n",
      "                                      'x-amzn-requestid': 'a3f97135-3c15-4324-add3-a0a318588b07'},\n",
      "                      'HTTPStatusCode': 200,\n",
      "                      'RequestId': 'a3f97135-3c15-4324-add3-a0a318588b07',\n",
      "                      'RetryAttempts': 0},\n",
      " 'Subnets': [{'AssignIpv6AddressOnCreation': False,\n",
      "              'AvailabilityZone': 'us-east-2c',\n",
      "              'AvailabilityZoneId': 'use2-az3',\n",
      "              'AvailableIpAddressCount': 4091,\n",
      "              'CidrBlock': '172.31.0.0/20',\n",
      "              'DefaultForAz': False,\n",
      "              'EnableDns64': False,\n",
      "              'Ipv6CidrBlockAssociationSet': [],\n",
      "              'Ipv6Native': False,\n",
      "              'MapCustomerOwnedIpOnLaunch': False,\n",
      "              'MapPublicIpOnLaunch': False,\n",
      "              'OwnerId': '946980283210',\n",
      "              'PrivateDnsNameOptionsOnLaunch': {'EnableResourceNameDnsAAAARecord': False,\n",
      "                                                'EnableResourceNameDnsARecord': False,\n",
      "                                                'HostnameType': 'ip-name'},\n",
      "              'State': 'available',\n",
      "              'SubnetArn': 'arn:aws:ec2:us-east-2:946980283210:subnet/subnet-0702951bd9191ad11',\n",
      "              'SubnetId': 'subnet-0702951bd9191ad11',\n",
      "              'Tags': [{'Key': 'Name', 'Value': 'sssc-subnet-0'}],\n",
      "              'VpcId': 'vpc-09e17c1346a710e88'}]}\n",
      "subnetId: subnet-0702951bd9191ad11\n"
     ]
    },
    {
     "ename": "NameError",
     "evalue": "name 'sgId' is not defined",
     "output_type": "error",
     "traceback": [
      "\u001b[0;31m---------------------------------------------------------------------------\u001b[0m",
      "\u001b[0;31mNameError\u001b[0m                                 Traceback (most recent call last)",
      "\u001b[1;32m/home/mdip/Projects/stochss-compute/examples/AWS.ipynb Cell 6'\u001b[0m in \u001b[0;36m<cell line: 1>\u001b[0;34m()\u001b[0m\n\u001b[0;32m----> <a href='vscode-notebook-cell:/home/mdip/Projects/stochss-compute/examples/AWS.ipynb#ch0000032?line=0'>1</a>\u001b[0m cluster\u001b[39m.\u001b[39;49mlaunch_single_node_cluster()\n",
      "File \u001b[0;32m~/Projects/stochss-compute/sssc_ec2.py:242\u001b[0m, in \u001b[0;36mEC2Cluster.launch_single_node_cluster\u001b[0;34m(self)\u001b[0m\n\u001b[1;32m    239\u001b[0m \u001b[39mprint\u001b[39m(\u001b[39mf\u001b[39m\u001b[39m'\u001b[39m\u001b[39msubnetId: \u001b[39m\u001b[39m{\u001b[39;00msubnetId\u001b[39m}\u001b[39;00m\u001b[39m'\u001b[39m)\n\u001b[1;32m    240\u001b[0m \u001b[39m# sgId = self.create_default_security_group(vpcId)\u001b[39;00m\n\u001b[1;32m    241\u001b[0m \u001b[39m# print(f'sgId: {sgId}')\u001b[39;00m\n\u001b[0;32m--> 242\u001b[0m head \u001b[39m=\u001b[39m \u001b[39mself\u001b[39m\u001b[39m.\u001b[39mlaunch_instances(subnetId\u001b[39m=\u001b[39msubnetId, securityGroupId\u001b[39m=\u001b[39msgId)\n\u001b[1;32m    243\u001b[0m \u001b[39mprint\u001b[39m(\u001b[39mf\u001b[39m\u001b[39m'\u001b[39m\u001b[39mhead: \u001b[39m\u001b[39m{\u001b[39;00mhead\u001b[39m}\u001b[39;00m\u001b[39m'\u001b[39m)\n\u001b[1;32m    244\u001b[0m head\u001b[39m.\u001b[39mauthorize_SSH()\n",
      "\u001b[0;31mNameError\u001b[0m: name 'sgId' is not defined"
     ]
    }
   ],
   "source": [
    "cluster.launch_single_node_cluster()"
   ]
  },
  {
   "cell_type": "markdown",
   "metadata": {},
   "source": [
    "First, create an ssh key pair to use when connecting to your instances. By default, it is saved to the current working directory."
   ]
  },
  {
   "cell_type": "code",
   "execution_count": 4,
   "metadata": {},
   "outputs": [
    {
     "name": "stdout",
     "output_type": "stream",
     "text": [
      "sudo yum install docker\n",
      "sudo amazon-linux-extras install docker\n",
      "sudo service docker start\n",
      "sudo usermod -a -G docker ec2-user\n",
      "docker run -it stochss/stochss-compute\n",
      "\n"
     ]
    }
   ],
   "source": [
    "cluster.launch_commands()"
   ]
  },
  {
   "cell_type": "code",
   "execution_count": 15,
   "metadata": {},
   "outputs": [
    {
     "name": "stdout",
     "output_type": "stream",
     "text": [
      "None\n"
     ]
    }
   ],
   "source": [
    "head = cluster.instances[0]\n",
    "print(head.public_ip_address)"
   ]
  },
  {
   "cell_type": "code",
   "execution_count": null,
   "metadata": {},
   "outputs": [],
   "source": [
    "ssh_args = {'pkey': cluster.rootKey.path, 'username': 'ec2-user', 'hostname': head.public_dns_name}\n",
    "ssh_args"
   ]
  },
  {
   "cell_type": "code",
   "execution_count": 9,
   "metadata": {},
   "outputs": [],
   "source": [
    "from paramiko import SSHClient\n",
    "ssh = SSHClient()"
   ]
  },
  {
   "cell_type": "code",
   "execution_count": 10,
   "metadata": {},
   "outputs": [],
   "source": [
    "# find out way to properly validate server key\n",
    "from paramiko import AutoAddPolicy\n",
    "ssh.set_missing_host_key_policy(AutoAddPolicy())"
   ]
  },
  {
   "cell_type": "code",
   "execution_count": 11,
   "metadata": {},
   "outputs": [
    {
     "ename": "gaierror",
     "evalue": "[Errno -2] Name or service not known",
     "output_type": "error",
     "traceback": [
      "\u001b[0;31m---------------------------------------------------------------------------\u001b[0m",
      "\u001b[0;31mgaierror\u001b[0m                                  Traceback (most recent call last)",
      "\u001b[1;32m/home/mdip/Projects/stochss-compute/examples/AWS.ipynb Cell 12'\u001b[0m in \u001b[0;36m<cell line: 1>\u001b[0;34m()\u001b[0m\n\u001b[0;32m----> <a href='vscode-notebook-cell:/home/mdip/Projects/stochss-compute/examples/AWS.ipynb#ch0000014?line=0'>1</a>\u001b[0m ssh\u001b[39m.\u001b[39;49mconnect(ssh_args[\u001b[39m'\u001b[39;49m\u001b[39mhostname\u001b[39;49m\u001b[39m'\u001b[39;49m], username\u001b[39m=\u001b[39;49mssh_args[\u001b[39m'\u001b[39;49m\u001b[39musername\u001b[39;49m\u001b[39m'\u001b[39;49m], key_filename\u001b[39m=\u001b[39;49mssh_args[\u001b[39m'\u001b[39;49m\u001b[39mpkey\u001b[39;49m\u001b[39m'\u001b[39;49m], look_for_keys\u001b[39m=\u001b[39;49m\u001b[39mFalse\u001b[39;49;00m)\n",
      "File \u001b[0;32m~/Projects/stochss-compute/env/lib/python3.8/site-packages/paramiko/client.py:340\u001b[0m, in \u001b[0;36mSSHClient.connect\u001b[0;34m(self, hostname, port, username, password, pkey, key_filename, timeout, allow_agent, look_for_keys, compress, sock, gss_auth, gss_kex, gss_deleg_creds, gss_host, banner_timeout, auth_timeout, gss_trust_dns, passphrase, disabled_algorithms)\u001b[0m\n\u001b[1;32m    338\u001b[0m errors \u001b[39m=\u001b[39m {}\n\u001b[1;32m    339\u001b[0m \u001b[39m# Try multiple possible address families (e.g. IPv4 vs IPv6)\u001b[39;00m\n\u001b[0;32m--> 340\u001b[0m to_try \u001b[39m=\u001b[39m \u001b[39mlist\u001b[39;49m(\u001b[39mself\u001b[39;49m\u001b[39m.\u001b[39;49m_families_and_addresses(hostname, port))\n\u001b[1;32m    341\u001b[0m \u001b[39mfor\u001b[39;00m af, addr \u001b[39min\u001b[39;00m to_try:\n\u001b[1;32m    342\u001b[0m     \u001b[39mtry\u001b[39;00m:\n",
      "File \u001b[0;32m~/Projects/stochss-compute/env/lib/python3.8/site-packages/paramiko/client.py:203\u001b[0m, in \u001b[0;36mSSHClient._families_and_addresses\u001b[0;34m(self, hostname, port)\u001b[0m\n\u001b[1;32m    195\u001b[0m \u001b[39m\"\"\"\u001b[39;00m\n\u001b[1;32m    196\u001b[0m \u001b[39mYield pairs of address families and addresses to try for connecting.\u001b[39;00m\n\u001b[1;32m    197\u001b[0m \n\u001b[0;32m   (...)\u001b[0m\n\u001b[1;32m    200\u001b[0m \u001b[39m:returns: Yields an iterable of ``(family, address)`` tuples\u001b[39;00m\n\u001b[1;32m    201\u001b[0m \u001b[39m\"\"\"\u001b[39;00m\n\u001b[1;32m    202\u001b[0m guess \u001b[39m=\u001b[39m \u001b[39mTrue\u001b[39;00m\n\u001b[0;32m--> 203\u001b[0m addrinfos \u001b[39m=\u001b[39m socket\u001b[39m.\u001b[39;49mgetaddrinfo(\n\u001b[1;32m    204\u001b[0m     hostname, port, socket\u001b[39m.\u001b[39;49mAF_UNSPEC, socket\u001b[39m.\u001b[39;49mSOCK_STREAM\n\u001b[1;32m    205\u001b[0m )\n\u001b[1;32m    206\u001b[0m \u001b[39mfor\u001b[39;00m (family, socktype, proto, canonname, sockaddr) \u001b[39min\u001b[39;00m addrinfos:\n\u001b[1;32m    207\u001b[0m     \u001b[39mif\u001b[39;00m socktype \u001b[39m==\u001b[39m socket\u001b[39m.\u001b[39mSOCK_STREAM:\n",
      "File \u001b[0;32m/usr/lib/python3.8/socket.py:918\u001b[0m, in \u001b[0;36mgetaddrinfo\u001b[0;34m(host, port, family, type, proto, flags)\u001b[0m\n\u001b[1;32m    915\u001b[0m \u001b[39m# We override this function since we want to translate the numeric family\u001b[39;00m\n\u001b[1;32m    916\u001b[0m \u001b[39m# and socket type values to enum constants.\u001b[39;00m\n\u001b[1;32m    917\u001b[0m addrlist \u001b[39m=\u001b[39m []\n\u001b[0;32m--> 918\u001b[0m \u001b[39mfor\u001b[39;00m res \u001b[39min\u001b[39;00m _socket\u001b[39m.\u001b[39;49mgetaddrinfo(host, port, family, \u001b[39mtype\u001b[39;49m, proto, flags):\n\u001b[1;32m    919\u001b[0m     af, socktype, proto, canonname, sa \u001b[39m=\u001b[39m res\n\u001b[1;32m    920\u001b[0m     addrlist\u001b[39m.\u001b[39mappend((_intenum_converter(af, AddressFamily),\n\u001b[1;32m    921\u001b[0m                      _intenum_converter(socktype, SocketKind),\n\u001b[1;32m    922\u001b[0m                      proto, canonname, sa))\n",
      "\u001b[0;31mgaierror\u001b[0m: [Errno -2] Name or service not known"
     ]
    }
   ],
   "source": [
    "ssh.connect(ssh_args['hostname'], username=ssh_args['username'], key_filename=ssh_args['pkey'], look_for_keys=False)"
   ]
  },
  {
   "cell_type": "code",
   "execution_count": 19,
   "metadata": {},
   "outputs": [
    {
     "data": {
      "text/plain": [
       "['3.4.3\\n',\n",
       " '  Installed: rpm-4.11.3-48.amzn2.0.2.x86_64 at 2022-04-28 19:54\\n',\n",
       " '  Built    : Amazon Linux at 2022-03-30 19:22\\n',\n",
       " '  Committed: Malcolm Inglis <miinglis@amazon.com> at 2022-03-23\\n',\n",
       " '\\n',\n",
       " '  Installed: yum-3.4.3-158.amzn2.0.5.noarch at 2022-04-28 19:54\\n',\n",
       " '  Built    : Amazon Linux at 2021-02-25 18:33\\n',\n",
       " '  Committed: Robert Nickel <halfdime@amazon.com> at 2021-02-22\\n']"
      ]
     },
     "execution_count": 19,
     "metadata": {},
     "output_type": "execute_result"
    }
   ],
   "source": [
    "stdin,stdout,stderr=ssh.exec_command(cluster.launch_commands())\n",
    "stdout.readlines()"
   ]
  },
  {
   "cell_type": "markdown",
   "metadata": {},
   "source": [
    "Cleanup"
   ]
  },
  {
   "cell_type": "code",
   "execution_count": 20,
   "metadata": {},
   "outputs": [],
   "source": [
    "ssh.close()"
   ]
  },
  {
   "cell_type": "code",
   "execution_count": 17,
   "metadata": {},
   "outputs": [
    {
     "name": "stdout",
     "output_type": "stream",
     "text": [
      "['i-08fd3b4de7e402ed9']\n"
     ]
    }
   ],
   "source": [
    "cluster.terminate_all_instances()"
   ]
  },
  {
   "cell_type": "code",
   "execution_count": 5,
   "metadata": {},
   "outputs": [],
   "source": [
    "aws.delete_root_key()"
   ]
  },
  {
   "cell_type": "code",
   "execution_count": null,
   "metadata": {},
   "outputs": [],
   "source": [
    "\n",
    "    "
   ]
  },
  {
   "cell_type": "code",
   "execution_count": null,
   "metadata": {},
   "outputs": [],
   "source": [
    "# head = aws.instances[0]\n",
    "# head.edit_ingress_rule()"
   ]
  },
  {
   "cell_type": "code",
   "execution_count": null,
   "metadata": {},
   "outputs": [],
   "source": [
    "# boto3.resource('ec2').SecurityGroup(aws.instances[0].security_group_id).ip_permissions"
   ]
  },
  {
   "cell_type": "code",
   "execution_count": null,
   "metadata": {},
   "outputs": [],
   "source": [
    "# boto3.client('ec2').describe_security_group_rules()['SecurityGroupRules'][0]['SecurityGroupRuleId']"
   ]
  },
  {
   "cell_type": "code",
   "execution_count": null,
   "metadata": {},
   "outputs": [],
   "source": [
    "# head = aws._get_running()[0]\n",
    "# head"
   ]
  },
  {
   "cell_type": "code",
   "execution_count": null,
   "metadata": {},
   "outputs": [],
   "source": [
    "# aws.get_public_DNS(ids[0])"
   ]
  },
  {
   "cell_type": "markdown",
   "metadata": {},
   "source": [
    "### Creating a GillesPy2 Model  \n",
    "  \n",
    "A GillesPy2 model must include species, rates, and reactions."
   ]
  },
  {
   "cell_type": "code",
   "execution_count": null,
   "metadata": {},
   "outputs": [],
   "source": [
    "class MichaelisMenten(gillespy2.Model):\n",
    "     def __init__(self, parameter_values=None):\n",
    "            #initialize Model\n",
    "            gillespy2.Model.__init__(self, name=\"Michaelis_Menten\")\n",
    "            \n",
    "            ''' \n",
    "            PARAMETERS:\n",
    "            These are constant values relevant to the system, such as reaction kinetic rates.\n",
    "            \n",
    "            name: user defined name for reference\n",
    "            expression: constant value\n",
    "            '''\n",
    "            rate1 = gillespy2.Parameter(name='rate1', expression= 0.0017)\n",
    "            rate2 = gillespy2.Parameter(name='rate2', expression= 0.51)\n",
    "            rate3 = gillespy2.Parameter(name='rate3', expression = 0.11)\n",
    "            \n",
    "            # Add parameters to the model\n",
    "            self.add_parameter([rate1,rate2,rate3])\n",
    "            \n",
    "            '''\n",
    "            SPECIES:\n",
    "            These can be anything that participates in or is produced by a reaction channel.\n",
    "            \n",
    "            name: A user defined name for the species\n",
    "            initial_value: value/population count of species at start of simulation\n",
    "            '''\n",
    "            A = gillespy2.Species(name='A', initial_value=301)\n",
    "            B = gillespy2.Species(name='B', initial_value=121)\n",
    "            C = gillespy2.Species(name='C', initial_value=0)\n",
    "            D = gillespy2.Species(name='D', initial_value=0)\n",
    "            \n",
    "            # Add species to the model\n",
    "            self.add_species([A, B, C, D])\n",
    "            \n",
    "            '''Reactions:\n",
    "            These are the reaction channels causing the system to change over time\n",
    "            \n",
    "            name: a user defined name for the reaction\n",
    "            reactants: dictionary with participant reactants as keys, and consumed per reaction as value.\n",
    "            products: dictionary with reaction products as keys, and number formed per reaction as value.\n",
    "            rate: parameter rate constant to be applied to the propensity of this reaction firing\n",
    "            propensity_function: can be used instead of rate in order to declare a custom propensity function in string format'''\n",
    "            r1 = gillespy2.Reaction(name=\"r1\",reactants={A:1,B:1}, products={C:1},\n",
    "                   rate=rate1)\n",
    "            \n",
    "            r2 = gillespy2.Reaction(name=\"r2\",reactants={C:1}, products={A:1,B:1},\n",
    "                    rate=rate2)\n",
    "            \n",
    "            r3 = gillespy2.Reaction(name=\"r3\",reactants={C:1}, products={B:1,D:1},\n",
    "                    rate=rate3)\n",
    "            \n",
    "            # Add reactions to the model\n",
    "            self.add_reaction([r1,r2,r3])\n",
    "            \n",
    "            # Set timespan of model\n",
    "            self.timespan(numpy.linspace(0,100,101))"
   ]
  },
  {
   "cell_type": "markdown",
   "metadata": {},
   "source": [
    "### Running Simulations and Plotting\n",
    "\n",
    "First, instantiate a `Model()` and a `ComputeServer()`. After you call `run()`, which returns your future `RemoteResults`, you will have to wait for the simulation to finish. Calling `wait()`, `status()`, `resolve()`, or `cancel()` allows you to interact with your results. Continue reading for more details on the various parameters that you may set."
   ]
  },
  {
   "cell_type": "code",
   "execution_count": null,
   "metadata": {
    "scrolled": true,
    "tags": []
   },
   "outputs": [],
   "source": [
    "myModel = MichaelisMenten()\n",
    "\n",
    "myServer = ComputeServer(\"localhost\", port=29681)\n",
    "\n",
    "results = RemoteSimulation.on(myServer).with_model(myModel).run()\n",
    "\n",
    "results = results.resolve()\n",
    "\n",
    "results.plot()"
   ]
  },
  {
   "cell_type": "markdown",
   "metadata": {},
   "source": [
    "While the model.run() function can be called without any given arguments, GillesPy2 provides several options for customizing your simulations. The following keyword arguments can be used in the model.run() function to customize your simulations:\n",
    "<br/><br/>\n",
    "### model.run() kwargs\n",
    "**solver=[solver]**  \n",
    "    manually choose a solver/algorithm one of the following GillesPy2 solvers:  \n",
    "    [ODESolver()](./StartingModels/Michaelis-Menten_Basic_ODE.ipynb)  \n",
    "    [SSASolver()](./StartingModels/Michaelis-Menten_NumPy_SSA.ipynb)    \n",
    "    [SSACSolver()](./StartingModels/Michaelis-Menten_SSA_C.ipynb)    \n",
    "    [TauLeapingSolver()](./StartingModels/Michaelis-Menten_Basic_Tau_Leaping.ipynb)    \n",
    "    [TauHybridSolver()](./StartingModels/Michaelis-Menten_Basic_Tau_Hybrid.ipynb)    \n",
    "    \n",
    "**number_of_trajectories=1**  \n",
    "    [int]: Number of times to run the current simulation  \n",
    "    \n",
    "**seed=None**  \n",
    "    [int]: Define a custom seed for random number generation\n",
    "\n",
    "**show_labels=True**  \n",
    "    [bool]: When set to true (default) returns results in a dictonary with time and species as dictionary keys, and relevant trajectory vectors as value pair.  When set to False, results will be returned as a numpy array with dimensions [timestep][species_index].  Either way, the the results of each trajectory are stored in a list.\n",
    "\n",
    "<br/><br/>\n",
    "### results.plot() kwargs\n",
    "***xaxis_label='Time (s)'***  \n",
    "    [string]: Label for the plot's x-axis  \n",
    "***yaxis_label='Species Population'***  \n",
    "    [string]: Label for the plot's y-axis  \n",
    "***style='default'***  \n",
    "    [string]: matplotlib stylesheets https://matplotlib.org/3.1.1/gallery/style_sheets/style_sheets_reference.html  \n",
    "***title=None***  \n",
    "    [string]: title of figure  \n",
    "***show_legend=True***  \n",
    "    [bool]: Show legend if true.  \n",
    "***multiple_graphs=False***  \n",
    "    [bool]: if each trajectory should have its own graph or if they should overlap  \n",
    "***included_species_list=[]***  \n",
    "    [list]: A list of strings describing which species to include by species name. By default displays all species.  \n",
    "    \n",
    "<br/><br/>\n",
    "GillesPy2 also offers built-in offline plotly plotting and statistical data plotting.  [See the documents for more details.](https://gillespy2.readthedocs.io)  \n",
    "<br/><br/>\n",
    "  \n",
    "### Solver specific kwargs\n",
    "**ODESolver, TauHybridSolver: integrator='lsoda'**  \n",
    "    [String]:  \n",
    "integrator to be used form scipy.integrate.ode. Options include 'vode', 'zvode', 'lsoda', 'dopri5', and 'dop835'.  For more details, see https://docs.scipy.org/doc/scipy/reference/generated/scipy.integrate.ode.html  \n",
    "  \n",
    "**ODESolver, TauHybridSolver: integrator_options={}**  \n",
    "    [dictionary]:  \n",
    "contains options to the scipy integrator. for a list of options, see https://docs.scipy.org/doc/scipy/reference/generated/scipy.integrate.ode.html  \n",
    "  \n",
    "**TauLeapingSolver, TauHybridSolver: tau_tol=0.03**  \n",
    "    [float]:  \n",
    "Relative error tolerance value for calculating tau_step. value should be between 0.0-1.0  \n",
    "  \n",
    "**TauHybridSolver: switch_tol=0.03**  \n",
    "    [float]:  \n",
    "Relative error tolerance value for switching between deterministic/stochastic.  value should be between 0.0-1.0 \n",
    "<br/><br/>"
   ]
  },
  {
   "cell_type": "markdown",
   "metadata": {},
   "source": [
    "## HYBRID - ADVANCED\n",
    "\n",
    "Some of the solvers in GillesPy2 provide further options for customizing simulations.  For examples on how to use these advanced features, please see the following links:  \n",
    "\n",
    "[Hybrid: Using Rate Rules to model continuous species](./AdvancedExamples/Hybrid/hybrid_continuous_species.ipynb)  \n",
    "[Hybrid: Dynamically switching between stochastic and deterministic representations](./AdvancedExamples/Hybrid/hybrid_switching_example.ipynb)  \n",
    "\n",
    "\n"
   ]
  }
 ],
 "metadata": {
  "kernelspec": {
   "display_name": "Python 3.8.10 ('env': venv)",
   "language": "python",
   "name": "python3"
  },
  "language_info": {
   "codemirror_mode": {
    "name": "ipython",
    "version": 3
   },
   "file_extension": ".py",
   "mimetype": "text/x-python",
   "name": "python",
   "nbconvert_exporter": "python",
   "pygments_lexer": "ipython3",
   "version": "3.8.10"
  },
  "vscode": {
   "interpreter": {
    "hash": "aef72cacc8a435b2ad5622cea92730a93ce97854f4a76157042673d76f872b67"
   }
  }
 },
 "nbformat": 4,
 "nbformat_minor": 2
}
