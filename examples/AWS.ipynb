{
 "cells": [
  {
   "cell_type": "markdown",
   "metadata": {},
   "source": [
    "# Introduction to StochSS-Compute on AWS\n",
    "  \n",
    "If you have ever used Gillespy2 to run simulations locally, you should not have too much difficulty running remote simulations, as the syntax is nearly the same. Running a simulation remotely with GillesPy2 requires 3 components: a `Model()` (your data), a `Solver()` (SSA, TauHybrid, ODE, etc.), and a running instance of a `ComputeServer()`. If you do not wish to explicitly state the solver, one will be automatically chosen."
   ]
  },
  {
   "cell_type": "code",
   "execution_count": 1,
   "metadata": {},
   "outputs": [],
   "source": [
    "import sys, os\n",
    "import numpy\n",
    "sys.path.append(os.path.abspath(os.path.join(os.getcwd(), '../')))\n",
    "import gillespy2\n",
    "from stochss_compute import RemoteSimulation, ComputeServer"
   ]
  },
  {
   "cell_type": "code",
   "execution_count": 2,
   "metadata": {},
   "outputs": [],
   "source": [
    "from ec2 import SSSCAWS, p"
   ]
  },
  {
   "cell_type": "code",
   "execution_count": 3,
   "metadata": {},
   "outputs": [],
   "source": [
    "import boto3"
   ]
  },
  {
   "cell_type": "code",
   "execution_count": 4,
   "metadata": {},
   "outputs": [],
   "source": [
    "aws = SSSCAWS()"
   ]
  },
  {
   "cell_type": "markdown",
   "metadata": {},
   "source": [
    "First, create an ssh key pair to use when connecting to your instances."
   ]
  },
  {
   "cell_type": "code",
   "execution_count": 5,
   "metadata": {},
   "outputs": [],
   "source": [
    "path = aws.create_key_pair()"
   ]
  },
  {
   "cell_type": "code",
   "execution_count": 6,
   "metadata": {},
   "outputs": [
    {
     "data": {
      "text/plain": [
       "'./stochss-compute-root.pem'"
      ]
     },
     "execution_count": 6,
     "metadata": {},
     "output_type": "execute_result"
    }
   ],
   "source": [
    "# Your key is located at:\n",
    "path"
   ]
  },
  {
   "cell_type": "code",
   "execution_count": null,
   "metadata": {},
   "outputs": [],
   "source": [
    "p.pprint(aws.returns)"
   ]
  },
  {
   "cell_type": "code",
   "execution_count": 7,
   "metadata": {},
   "outputs": [
    {
     "name": "stdout",
     "output_type": "stream",
     "text": [
      "{'Groups': [],\n",
      " 'Instances': [{'AmiLaunchIndex': 0,\n",
      "                'Architecture': 'x86_64',\n",
      "                'BlockDeviceMappings': [],\n",
      "                'CapacityReservationSpecification': {'CapacityReservationPreference': 'open'},\n",
      "                'ClientToken': 'cb55b849-8580-4304-81ab-6c77752e1e3c',\n",
      "                'CpuOptions': {'CoreCount': 1, 'ThreadsPerCore': 2},\n",
      "                'EbsOptimized': False,\n",
      "                'EnaSupport': True,\n",
      "                'EnclaveOptions': {'Enabled': False},\n",
      "                'Hypervisor': 'xen',\n",
      "                'ImageId': 'ami-0fa49cc9dc8d62c84',\n",
      "                'InstanceId': 'i-070d781a99685a9fc',\n",
      "                'InstanceType': 't3.micro',\n",
      "                'KeyName': 'stochss-compute-root',\n",
      "                'LaunchTime': datetime.datetime(2022, 5, 21, 14, 44, 10, tzinfo=tzutc()),\n",
      "                'MaintenanceOptions': {'AutoRecovery': 'default'},\n",
      "                'MetadataOptions': {'HttpEndpoint': 'enabled',\n",
      "                                    'HttpProtocolIpv6': 'disabled',\n",
      "                                    'HttpPutResponseHopLimit': 1,\n",
      "                                    'HttpTokens': 'optional',\n",
      "                                    'InstanceMetadataTags': 'disabled',\n",
      "                                    'State': 'pending'},\n",
      "                'Monitoring': {'State': 'disabled'},\n",
      "                'NetworkInterfaces': [{'Attachment': {'AttachTime': datetime.datetime(2022, 5, 21, 14, 44, 10, tzinfo=tzutc()),\n",
      "                                                      'AttachmentId': 'eni-attach-0b367584741123af4',\n",
      "                                                      'DeleteOnTermination': True,\n",
      "                                                      'DeviceIndex': 0,\n",
      "                                                      'NetworkCardIndex': 0,\n",
      "                                                      'Status': 'attaching'},\n",
      "                                       'Description': '',\n",
      "                                       'Groups': [{'GroupId': 'sg-0a5567d4effe3ca0d',\n",
      "                                                   'GroupName': 'default'}],\n",
      "                                       'InterfaceType': 'interface',\n",
      "                                       'Ipv6Addresses': [],\n",
      "                                       'MacAddress': '0a:7b:6d:eb:75:56',\n",
      "                                       'NetworkInterfaceId': 'eni-01068a0f7f086a831',\n",
      "                                       'OwnerId': '946980283210',\n",
      "                                       'PrivateDnsName': 'ip-172-31-42-11.us-east-2.compute.internal',\n",
      "                                       'PrivateIpAddress': '172.31.42.11',\n",
      "                                       'PrivateIpAddresses': [{'Primary': True,\n",
      "                                                               'PrivateDnsName': 'ip-172-31-42-11.us-east-2.compute.internal',\n",
      "                                                               'PrivateIpAddress': '172.31.42.11'}],\n",
      "                                       'SourceDestCheck': True,\n",
      "                                       'Status': 'in-use',\n",
      "                                       'SubnetId': 'subnet-0d84a1341c1e602e3',\n",
      "                                       'VpcId': 'vpc-013586ead6b0893cd'}],\n",
      "                'Placement': {'AvailabilityZone': 'us-east-2c',\n",
      "                              'GroupName': '',\n",
      "                              'Tenancy': 'default'},\n",
      "                'PrivateDnsName': 'ip-172-31-42-11.us-east-2.compute.internal',\n",
      "                'PrivateDnsNameOptions': {'EnableResourceNameDnsAAAARecord': False,\n",
      "                                          'EnableResourceNameDnsARecord': False,\n",
      "                                          'HostnameType': 'ip-name'},\n",
      "                'PrivateIpAddress': '172.31.42.11',\n",
      "                'ProductCodes': [],\n",
      "                'PublicDnsName': '',\n",
      "                'RootDeviceName': '/dev/xvda',\n",
      "                'RootDeviceType': 'ebs',\n",
      "                'SecurityGroups': [{'GroupId': 'sg-0a5567d4effe3ca0d',\n",
      "                                    'GroupName': 'default'}],\n",
      "                'SourceDestCheck': True,\n",
      "                'State': {'Code': 0, 'Name': 'pending'},\n",
      "                'StateReason': {'Code': 'pending', 'Message': 'pending'},\n",
      "                'StateTransitionReason': '',\n",
      "                'SubnetId': 'subnet-0d84a1341c1e602e3',\n",
      "                'VirtualizationType': 'hvm',\n",
      "                'VpcId': 'vpc-013586ead6b0893cd'}],\n",
      " 'OwnerId': '946980283210',\n",
      " 'ReservationId': 'r-0d9e2d7e09e69cfaa',\n",
      " 'ResponseMetadata': {'HTTPHeaders': {'cache-control': 'no-cache, no-store',\n",
      "                                      'content-length': '5557',\n",
      "                                      'content-type': 'text/xml;charset=UTF-8',\n",
      "                                      'date': 'Sat, 21 May 2022 14:44:09 GMT',\n",
      "                                      'server': 'AmazonEC2',\n",
      "                                      'strict-transport-security': 'max-age=31536000; '\n",
      "                                                                   'includeSubDomains',\n",
      "                                      'vary': 'accept-encoding',\n",
      "                                      'x-amzn-requestid': '8b48f6aa-0575-4794-8976-4eecb5a7b98b'},\n",
      "                      'HTTPStatusCode': 200,\n",
      "                      'RequestId': '8b48f6aa-0575-4794-8976-4eecb5a7b98b',\n",
      "                      'RetryAttempts': 0}}\n",
      "['i-070d781a99685a9fc']\n",
      "Instance i-070d781a99685a9fc is pending.\n",
      "Instance i-070d781a99685a9fc is running.\n"
     ]
    }
   ],
   "source": [
    "ids = aws.launch_instances()"
   ]
  },
  {
   "cell_type": "code",
   "execution_count": 8,
   "metadata": {},
   "outputs": [],
   "source": [
    "sgargs = {\n",
    "    'CidrIp': '0.0.0.0/0',\n",
    "    'FromPort': 22,\n",
    "    'ToPort': 22,\n",
    "    'GroupName': 'default',\n",
    "    'IpProtocol': 'tcp',\n",
    "}"
   ]
  },
  {
   "cell_type": "code",
   "execution_count": null,
   "metadata": {},
   "outputs": [],
   "source": [
    "aws.resources.SecurityGroup(aws.security_group).authorize_ingress(**sgargs)"
   ]
  },
  {
   "cell_type": "code",
   "execution_count": 10,
   "metadata": {},
   "outputs": [
    {
     "data": {
      "text/plain": [
       "'ec2-18-220-116-192.us-east-2.compute.amazonaws.com'"
      ]
     },
     "execution_count": 10,
     "metadata": {},
     "output_type": "execute_result"
    }
   ],
   "source": [
    "aws.get_public_DNS(ids[0])"
   ]
  },
  {
   "cell_type": "markdown",
   "metadata": {},
   "source": [
    "Cleanup"
   ]
  },
  {
   "cell_type": "code",
   "execution_count": 5,
   "metadata": {},
   "outputs": [
    {
     "name": "stdout",
     "output_type": "stream",
     "text": [
      "['i-00b24f36618313db8', 'i-02ae6c0136c97af34']\n"
     ]
    }
   ],
   "source": [
    "aws.terminate_instances()\n",
    "aws.delete_key_pair()"
   ]
  },
  {
   "cell_type": "markdown",
   "metadata": {},
   "source": [
    "### Creating a GillesPy2 Model  \n",
    "  \n",
    "A GillesPy2 model must include species, rates, and reactions."
   ]
  },
  {
   "cell_type": "code",
   "execution_count": null,
   "metadata": {},
   "outputs": [],
   "source": [
    "class MichaelisMenten(gillespy2.Model):\n",
    "     def __init__(self, parameter_values=None):\n",
    "            #initialize Model\n",
    "            gillespy2.Model.__init__(self, name=\"Michaelis_Menten\")\n",
    "            \n",
    "            ''' \n",
    "            PARAMETERS:\n",
    "            These are constant values relevant to the system, such as reaction kinetic rates.\n",
    "            \n",
    "            name: user defined name for reference\n",
    "            expression: constant value\n",
    "            '''\n",
    "            rate1 = gillespy2.Parameter(name='rate1', expression= 0.0017)\n",
    "            rate2 = gillespy2.Parameter(name='rate2', expression= 0.51)\n",
    "            rate3 = gillespy2.Parameter(name='rate3', expression = 0.11)\n",
    "            \n",
    "            # Add parameters to the model\n",
    "            self.add_parameter([rate1,rate2,rate3])\n",
    "            \n",
    "            '''\n",
    "            SPECIES:\n",
    "            These can be anything that participates in or is produced by a reaction channel.\n",
    "            \n",
    "            name: A user defined name for the species\n",
    "            initial_value: value/population count of species at start of simulation\n",
    "            '''\n",
    "            A = gillespy2.Species(name='A', initial_value=301)\n",
    "            B = gillespy2.Species(name='B', initial_value=121)\n",
    "            C = gillespy2.Species(name='C', initial_value=0)\n",
    "            D = gillespy2.Species(name='D', initial_value=0)\n",
    "            \n",
    "            # Add species to the model\n",
    "            self.add_species([A, B, C, D])\n",
    "            \n",
    "            '''Reactions:\n",
    "            These are the reaction channels causing the system to change over time\n",
    "            \n",
    "            name: a user defined name for the reaction\n",
    "            reactants: dictionary with participant reactants as keys, and consumed per reaction as value.\n",
    "            products: dictionary with reaction products as keys, and number formed per reaction as value.\n",
    "            rate: parameter rate constant to be applied to the propensity of this reaction firing\n",
    "            propensity_function: can be used instead of rate in order to declare a custom propensity function in string format'''\n",
    "            r1 = gillespy2.Reaction(name=\"r1\",reactants={A:1,B:1}, products={C:1},\n",
    "                   rate=rate1)\n",
    "            \n",
    "            r2 = gillespy2.Reaction(name=\"r2\",reactants={C:1}, products={A:1,B:1},\n",
    "                    rate=rate2)\n",
    "            \n",
    "            r3 = gillespy2.Reaction(name=\"r3\",reactants={C:1}, products={B:1,D:1},\n",
    "                    rate=rate3)\n",
    "            \n",
    "            # Add reactions to the model\n",
    "            self.add_reaction([r1,r2,r3])\n",
    "            \n",
    "            # Set timespan of model\n",
    "            self.timespan(numpy.linspace(0,100,101))"
   ]
  },
  {
   "cell_type": "markdown",
   "metadata": {},
   "source": [
    "### Running Simulations and Plotting\n",
    "\n",
    "First, instantiate a `Model()` and a `ComputeServer()`. After you call `run()`, which returns your future `RemoteResults`, you will have to wait for the simulation to finish. Calling `wait()`, `status()`, `resolve()`, or `cancel()` allows you to interact with your results. Continue reading for more details on the various parameters that you may set."
   ]
  },
  {
   "cell_type": "code",
   "execution_count": null,
   "metadata": {
    "scrolled": true,
    "tags": []
   },
   "outputs": [],
   "source": [
    "myModel = MichaelisMenten()\n",
    "\n",
    "myServer = ComputeServer(\"localhost\", port=29681)\n",
    "\n",
    "results = RemoteSimulation.on(myServer).with_model(myModel).run()\n",
    "\n",
    "results = results.resolve()\n",
    "\n",
    "results.plot()"
   ]
  },
  {
   "cell_type": "markdown",
   "metadata": {},
   "source": [
    "While the model.run() function can be called without any given arguments, GillesPy2 provides several options for customizing your simulations. The following keyword arguments can be used in the model.run() function to customize your simulations:\n",
    "<br/><br/>\n",
    "### model.run() kwargs\n",
    "**solver=[solver]**  \n",
    "    manually choose a solver/algorithm one of the following GillesPy2 solvers:  \n",
    "    [ODESolver()](./StartingModels/Michaelis-Menten_Basic_ODE.ipynb)  \n",
    "    [SSASolver()](./StartingModels/Michaelis-Menten_NumPy_SSA.ipynb)    \n",
    "    [SSACSolver()](./StartingModels/Michaelis-Menten_SSA_C.ipynb)    \n",
    "    [TauLeapingSolver()](./StartingModels/Michaelis-Menten_Basic_Tau_Leaping.ipynb)    \n",
    "    [TauHybridSolver()](./StartingModels/Michaelis-Menten_Basic_Tau_Hybrid.ipynb)    \n",
    "    \n",
    "**number_of_trajectories=1**  \n",
    "    [int]: Number of times to run the current simulation  \n",
    "    \n",
    "**seed=None**  \n",
    "    [int]: Define a custom seed for random number generation\n",
    "\n",
    "**show_labels=True**  \n",
    "    [bool]: When set to true (default) returns results in a dictonary with time and species as dictionary keys, and relevant trajectory vectors as value pair.  When set to False, results will be returned as a numpy array with dimensions [timestep][species_index].  Either way, the the results of each trajectory are stored in a list.\n",
    "\n",
    "<br/><br/>\n",
    "### results.plot() kwargs\n",
    "***xaxis_label='Time (s)'***  \n",
    "    [string]: Label for the plot's x-axis  \n",
    "***yaxis_label='Species Population'***  \n",
    "    [string]: Label for the plot's y-axis  \n",
    "***style='default'***  \n",
    "    [string]: matplotlib stylesheets https://matplotlib.org/3.1.1/gallery/style_sheets/style_sheets_reference.html  \n",
    "***title=None***  \n",
    "    [string]: title of figure  \n",
    "***show_legend=True***  \n",
    "    [bool]: Show legend if true.  \n",
    "***multiple_graphs=False***  \n",
    "    [bool]: if each trajectory should have its own graph or if they should overlap  \n",
    "***included_species_list=[]***  \n",
    "    [list]: A list of strings describing which species to include by species name. By default displays all species.  \n",
    "    \n",
    "<br/><br/>\n",
    "GillesPy2 also offers built-in offline plotly plotting and statistical data plotting.  [See the documents for more details.](https://gillespy2.readthedocs.io)  \n",
    "<br/><br/>\n",
    "  \n",
    "### Solver specific kwargs\n",
    "**ODESolver, TauHybridSolver: integrator='lsoda'**  \n",
    "    [String]:  \n",
    "integrator to be used form scipy.integrate.ode. Options include 'vode', 'zvode', 'lsoda', 'dopri5', and 'dop835'.  For more details, see https://docs.scipy.org/doc/scipy/reference/generated/scipy.integrate.ode.html  \n",
    "  \n",
    "**ODESolver, TauHybridSolver: integrator_options={}**  \n",
    "    [dictionary]:  \n",
    "contains options to the scipy integrator. for a list of options, see https://docs.scipy.org/doc/scipy/reference/generated/scipy.integrate.ode.html  \n",
    "  \n",
    "**TauLeapingSolver, TauHybridSolver: tau_tol=0.03**  \n",
    "    [float]:  \n",
    "Relative error tolerance value for calculating tau_step. value should be between 0.0-1.0  \n",
    "  \n",
    "**TauHybridSolver: switch_tol=0.03**  \n",
    "    [float]:  \n",
    "Relative error tolerance value for switching between deterministic/stochastic.  value should be between 0.0-1.0 \n",
    "<br/><br/>"
   ]
  },
  {
   "cell_type": "markdown",
   "metadata": {},
   "source": [
    "## HYBRID - ADVANCED\n",
    "\n",
    "Some of the solvers in GillesPy2 provide further options for customizing simulations.  For examples on how to use these advanced features, please see the following links:  \n",
    "\n",
    "[Hybrid: Using Rate Rules to model continuous species](./AdvancedExamples/Hybrid/hybrid_continuous_species.ipynb)  \n",
    "[Hybrid: Dynamically switching between stochastic and deterministic representations](./AdvancedExamples/Hybrid/hybrid_switching_example.ipynb)  \n",
    "\n",
    "\n"
   ]
  }
 ],
 "metadata": {
  "interpreter": {
   "hash": "0d8cb07411f73f986fdb4302174b7f31a0ca638c7e42c94b789c4579c5c5e5d2"
  },
  "kernelspec": {
   "display_name": "Python 3 (ipykernel)",
   "language": "python",
   "name": "python3"
  },
  "language_info": {
   "codemirror_mode": {
    "name": "ipython",
    "version": 3
   },
   "file_extension": ".py",
   "mimetype": "text/x-python",
   "name": "python",
   "nbconvert_exporter": "python",
   "pygments_lexer": "ipython3",
   "version": "3.8.10"
  }
 },
 "nbformat": 4,
 "nbformat_minor": 2
}
