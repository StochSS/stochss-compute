{
 "cells": [
  {
   "cell_type": "markdown",
   "metadata": {},
   "source": [
    "# Introduction to StochSS-Compute\n",
    "  \n",
    "If you have ever used Gillespy2 to run simulations locally, you should not have too much difficulty running remote simulations, as the syntax is nearly the same. Running a simulation remotely with GillesPy2 requires 3 components: a `Model()` (your data), a `Solver()` (SSA, TauHybrid, ODE, etc.), and a running instance of a `ComputeServer()`. If you do not wish to explicitly state the solver, one will be automatically chosen."
   ]
  },
  {
   "cell_type": "markdown",
   "metadata": {},
   "source": [
    "First, import the necessary dependencies."
   ]
  },
  {
   "cell_type": "code",
   "execution_count": 1,
   "metadata": {},
   "outputs": [
    {
     "name": "stdout",
     "output_type": "stream",
     "text": [
      "V1 API has been initialized.\n"
     ]
    }
   ],
   "source": [
    "import sys, os, subprocess\n",
    "import numpy \n",
    "sys.path.append(os.path.abspath(os.path.join(os.getcwd(), '../')))\n",
    "import gillespy2\n",
    "from stochss_compute import RemoteSimulation, ComputeServer\n",
    "from distributed import Client, LocalCluster  # Dask"
   ]
  },
  {
   "cell_type": "markdown",
   "metadata": {},
   "source": [
    "This starts up a local dask cluster."
   ]
  },
  {
   "cell_type": "code",
   "execution_count": 2,
   "metadata": {
    "scrolled": true
   },
   "outputs": [
    {
     "data": {
      "application/vnd.jupyter.widget-view+json": {
       "model_id": "a3ae3fb91f6944609d0f4b559ea3c6d8",
       "version_major": 2,
       "version_minor": 0
      },
      "text/plain": [
       "Tab(children=(HTML(value='<div class=\"jp-RenderedHTMLCommon jp-RenderedHTML jp-mod-trusted jp-OutputArea-outpu…"
      ]
     },
     "metadata": {},
     "output_type": "display_data"
    }
   ],
   "source": [
    "# cluster = LocalCluster(scheduler_port=8786)\n",
    "client = Client()\n",
    "client.cluster"
   ]
  },
  {
   "cell_type": "code",
   "execution_count": 3,
   "metadata": {},
   "outputs": [
    {
     "data": {
      "text/plain": [
       "42413"
      ]
     },
     "execution_count": 3,
     "metadata": {},
     "output_type": "execute_result"
    }
   ],
   "source": [
    "dask_port = int(client.scheduler.addr.split(\":\")[2])\n",
    "dask_port"
   ]
  },
  {
   "cell_type": "markdown",
   "metadata": {},
   "source": [
    "This cell will start the API server in the background. Output will appear in the terminal that you used to start the Jupyter notebook."
   ]
  },
  {
   "cell_type": "code",
   "execution_count": 4,
   "metadata": {},
   "outputs": [
    {
     "data": {
      "text/plain": [
       "<subprocess.Popen at 0x7f14e57d9130>"
      ]
     },
     "execution_count": 4,
     "metadata": {},
     "output_type": "execute_result"
    },
    {
     "name": "stdout",
     "output_type": "stream",
     "text": [
      "V1 API has been initialized.\n",
      "42413\n",
      " * Serving Flask app 'stochss-compute REST API' (lazy loading)\n",
      " * Environment: production\n",
      "   WARNING: This is a development server. Do not use it in a production deployment.\n",
      "   Use a production WSGI server instead.\n",
      " * Debug mode: on\n"
     ]
    },
    {
     "name": "stderr",
     "output_type": "stream",
     "text": [
      "2021-12-17 11:13:55,639 - werkzeug - INFO -  * Running on http://localhost:1234/ (Press CTRL+C to quit)\n",
      "2021-12-17 11:13:55,639 - werkzeug - INFO -  * Running on http://localhost:1234/ (Press CTRL+C to quit)\n"
     ]
    }
   ],
   "source": [
    "cmd = [\"python3\", \"../app.py\", \"--daskport\", str(dask_port)]\n",
    "subprocess.Popen(cmd)"
   ]
  },
  {
   "cell_type": "markdown",
   "metadata": {},
   "source": [
    "### Creating a GillesPy2 Model  \n",
    "  \n",
    "A GillesPy2 model must include species, rates, and reactions."
   ]
  },
  {
   "cell_type": "code",
   "execution_count": 5,
   "metadata": {},
   "outputs": [],
   "source": [
    "class MichaelisMenten(gillespy2.Model):\n",
    "     def __init__(self, parameter_values=None):\n",
    "            #initialize Model\n",
    "            gillespy2.Model.__init__(self, name=\"Michaelis_Menten\")\n",
    "            \n",
    "            ''' \n",
    "            PARAMETERS:\n",
    "            These are constant values relevant to the system, such as reaction kinetic rates.\n",
    "            \n",
    "            name: user defined name for reference\n",
    "            expression: constant value\n",
    "            '''\n",
    "            rate1 = gillespy2.Parameter(name='rate1', expression= 0.0017)\n",
    "            rate2 = gillespy2.Parameter(name='rate2', expression= 0.51)\n",
    "            rate3 = gillespy2.Parameter(name='rate3', expression = 0.11)\n",
    "            \n",
    "            # Add parameters to the model\n",
    "            self.add_parameter([rate1,rate2,rate3])\n",
    "            \n",
    "            '''\n",
    "            SPECIES:\n",
    "            These can be anything that participates in or is produced by a reaction channel.\n",
    "            \n",
    "            name: A user defined name for the species\n",
    "            initial_value: value/population count of species at start of simulation\n",
    "            '''\n",
    "            A = gillespy2.Species(name='A', initial_value=301)\n",
    "            B = gillespy2.Species(name='B', initial_value=121)\n",
    "            C = gillespy2.Species(name='C', initial_value=0)\n",
    "            D = gillespy2.Species(name='D', initial_value=0)\n",
    "            \n",
    "            # Add species to the model\n",
    "            self.add_species([A, B, C, D])\n",
    "            \n",
    "            '''Reactions:\n",
    "            These are the reaction channels causing the system to change over time\n",
    "            \n",
    "            name: a user defined name for the reaction\n",
    "            reactants: dictionary with participant reactants as keys, and consumed per reaction as value.\n",
    "            products: dictionary with reaction products as keys, and number formed per reaction as value.\n",
    "            rate: parameter rate constant to be applied to the propensity of this reaction firing\n",
    "            propensity_function: can be used instead of rate in order to declare a custom propensity function in string format'''\n",
    "            r1 = gillespy2.Reaction(name=\"r1\",reactants={A:1,B:1}, products={C:1},\n",
    "                   rate=rate1)\n",
    "            \n",
    "            r2 = gillespy2.Reaction(name=\"r2\",reactants={C:1}, products={A:1,B:1},\n",
    "                    rate=rate2)\n",
    "            \n",
    "            r3 = gillespy2.Reaction(name=\"r3\",reactants={C:1}, products={B:1,D:1},\n",
    "                    rate=rate3)\n",
    "            \n",
    "            # Add reactions to the model\n",
    "            self.add_reaction([r1,r2,r3])\n",
    "            \n",
    "            # Set timespan of model\n",
    "            self.timespan(numpy.linspace(0,1000,101))"
   ]
  },
  {
   "cell_type": "markdown",
   "metadata": {},
   "source": [
    "### Running Simulations and Plotting\n",
    "\n",
    "First, instantiate a `Model()` and a `ComputeServer()`. After you call `run()`, which returns your future `RemoteResults`, you will have to wait for the simulation to finish. Calling `wait()`, `status()`, `resolve()`, or `cancel()` allows you to interact with your results. Continue reading for more details on the various parameters that you may set."
   ]
  },
  {
   "cell_type": "code",
   "execution_count": 6,
   "metadata": {
    "scrolled": true,
    "tags": []
   },
   "outputs": [
    {
     "name": "stdout",
     "output_type": "stream",
     "text": [
      "http://localhost:1234/api/v1/gillespy2/model/run\n"
     ]
    },
    {
     "name": "stderr",
     "output_type": "stream",
     "text": [
      "2021-12-17 11:14:13,286 - werkzeug - INFO - 127.0.0.1 - - [17/Dec/2021 11:14:13] \"\u001b[35m\u001b[1mPOST /api/v1/gillespy2/model/run HTTP/1.1\u001b[0m\" 201 -\n",
      "2021-12-17 11:14:13,286 - werkzeug - INFO - 127.0.0.1 - - [17/Dec/2021 11:14:13] \"\u001b[35m\u001b[1mPOST /api/v1/gillespy2/model/run HTTP/1.1\u001b[0m\" 201 -\n",
      "2021-12-17 11:14:13,292 - werkzeug - INFO - 127.0.0.1 - - [17/Dec/2021 11:14:13] \"GET /api/v1/job/8ebd59b0a6d1361bc993f65ccd516300-run_1/status HTTP/1.1\" 200 -\n",
      "2021-12-17 11:14:13,292 - werkzeug - INFO - 127.0.0.1 - - [17/Dec/2021 11:14:13] \"GET /api/v1/job/8ebd59b0a6d1361bc993f65ccd516300-run_1/status HTTP/1.1\" 200 -\n",
      "2021-12-17 11:14:13,304 - werkzeug - INFO - 127.0.0.1 - - [17/Dec/2021 11:14:13] \"\u001b[35m\u001b[1mGET /api/v1/memory/8ebd59b0a6d1361bc993f65ccd516300-run_1/get HTTP/1.1\u001b[0m\" 500 -\n",
      "2021-12-17 11:14:13,304 - werkzeug - INFO - 127.0.0.1 - - [17/Dec/2021 11:14:13] \"\u001b[35m\u001b[1mGET /api/v1/memory/8ebd59b0a6d1361bc993f65ccd516300-run_1/get HTTP/1.1\u001b[0m\" 500 -\n"
     ]
    },
    {
     "name": "stdout",
     "output_type": "stream",
     "text": [
      "http://localhost:1234/api/v1/job/8ebd59b0a6d1361bc993f65ccd516300-run_1/status\n",
      "The job is complete.\n",
      "4\n",
      "http://localhost:1234/api/v1/memory/8ebd59b0a6d1361bc993f65ccd516300-run_1/get\n"
     ]
    },
    {
     "ename": "ValidationError",
     "evalue": "1 validation error for ErrorResponse\n__root__\n  Expecting value: line 1 column 1 (char 0) (type=value_error.jsondecode; msg=Expecting value; doc=<!DOCTYPE HTML PUBLIC \"-//W3C//DTD HTML 4.01 Transitional//EN\"\n  \"http://www.w3.org/TR/html4/loose.dtd\">\n<html>\n  <head>\n    <title>KeyError: &quot;Dataset &#x27;8ebd59b0a6d1361bc993f65ccd516300-run_1&#x27; not found&quot; // Werkzeug Debugger</title>\n    <link rel=\"stylesheet\" href=\"?__debugger__=yes&amp;cmd=resource&amp;f=style.css\"\n        type=\"text/css\">\n    <!-- We need to make sure this has a favicon so that the debugger does\n         not accidentally trigger a request to /favicon.ico which might\n         change the application's state. -->\n    <link rel=\"shortcut icon\"\n        href=\"?__debugger__=yes&amp;cmd=resource&amp;f=console.png\">\n    <script src=\"?__debugger__=yes&amp;cmd=resource&amp;f=debugger.js\"></script>\n    <script type=\"text/javascript\">\n      var TRACEBACK = 140383573430624,\n          CONSOLE_MODE = false,\n          EVALEX = true,\n          EVALEX_TRUSTED = false,\n          SECRET = \"ItzJ6GjF7ELbEF29XUUP\";\n    </script>\n  </head>\n  <body style=\"background-color: #fff\">\n    <div class=\"debugger\">\n<h1>KeyError</h1>\n<div class=\"detail\">\n  <p class=\"errormsg\">KeyError: &quot;Dataset &#x27;8ebd59b0a6d1361bc993f65ccd516300-run_1&#x27; not found&quot;</p>\n</div>\n<h2 class=\"traceback\">Traceback <em>(most recent call last)</em></h2>\n<div class=\"traceback\">\n  <h3></h3>\n  <ul><li><div class=\"frame\" id=\"frame-140383573430816\">\n  <h4>File <cite class=\"filename\">\"/home/mdip/Projects/stochss-compute/env/lib/python3.8/site-packages/flask/app.py\"</cite>,\n      line <em class=\"line\">2091</em>,\n      in <code class=\"function\">__call__</code></h4>\n  <div class=\"source library\"><pre class=\"line before\"><span class=\"ws\">    </span>def __call__(self, environ: dict, start_response: t.Callable) -&gt; t.Any:</pre>\n<pre class=\"line before\"><span class=\"ws\">        </span>&quot;&quot;&quot;The WSGI server calls the Flask application object as the</pre>\n<pre class=\"line before\"><span class=\"ws\">        </span>WSGI application. This calls :meth:`wsgi_app`, which can be</pre>\n<pre class=\"line before\"><span class=\"ws\">        </span>wrapped to apply middleware.</pre>\n<pre class=\"line before\"><span class=\"ws\">        </span>&quot;&quot;&quot;</pre>\n<pre class=\"line current\"><span class=\"ws\">        </span>return self.wsgi_app(environ, start_response)</pre></div>\n</div>\n\n<li><div class=\"frame\" id=\"frame-140383573784032\">\n  <h4>File <cite class=\"filename\">\"/home/mdip/Projects/stochss-compute/env/lib/python3.8/site-packages/flask/app.py\"</cite>,\n      line <em class=\"line\">2076</em>,\n      in <code class=\"function\">wsgi_app</code></h4>\n  <div class=\"source library\"><pre class=\"line before\"><span class=\"ws\">            </span>try:</pre>\n<pre class=\"line before\"><span class=\"ws\">                </span>ctx.push()</pre>\n<pre class=\"line before\"><span class=\"ws\">                </span>response = self.full_dispatch_request()</pre>\n<pre class=\"line before\"><span class=\"ws\">            </span>except Exception as e:</pre>\n<pre class=\"line before\"><span class=\"ws\">                </span>error = e</pre>\n<pre class=\"line current\"><span class=\"ws\">                </span>response = self.handle_exception(e)</pre>\n<pre class=\"line after\"><span class=\"ws\">            </span>except:  # noqa: B001</pre>\n<pre class=\"line after\"><span class=\"ws\">                </span>error = sys.exc_info()[1]</pre>\n<pre class=\"line after\"><span class=\"ws\">                </span>raise</pre>\n<pre class=\"line after\"><span class=\"ws\">            </span>return response(environ, start_response)</pre>\n<pre class=\"line after\"><span class=\"ws\">        </span>finally:</pre></div>\n</div>\n\n<li><div class=\"frame\" id=\"frame-140383573785808\">\n  <h4>File <cite class=\"filename\">\"/home/mdip/Projects/stochss-compute/env/lib/python3.8/site-packages/flask/app.py\"</cite>,\n      line <em class=\"line\">2073</em>,\n      in <code class=\"function\">wsgi_app</code></h4>\n  <div class=\"source library\"><pre class=\"line before\"><span class=\"ws\">        </span>ctx = self.request_context(environ)</pre>\n<pre class=\"line before\"><span class=\"ws\">        </span>error: t.Optional[BaseException] = None</pre>\n<pre class=\"line before\"><span class=\"ws\">        </span>try:</pre>\n<pre class=\"line before\"><span class=\"ws\">            </span>try:</pre>\n<pre class=\"line before\"><span class=\"ws\">                </span>ctx.push()</pre>\n<pre class=\"line current\"><span class=\"ws\">                </span>response = self.full_dispatch_request()</pre>\n<pre class=\"line after\"><span class=\"ws\">            </span>except Exception as e:</pre>\n<pre class=\"line after\"><span class=\"ws\">                </span>error = e</pre>\n<pre class=\"line after\"><span class=\"ws\">                </span>response = self.handle_exception(e)</pre>\n<pre class=\"line after\"><span class=\"ws\">            </span>except:  # noqa: B001</pre>\n<pre class=\"line after\"><span class=\"ws\">                </span>error = sys.exc_info()[1]</pre></div>\n</div>\n\n<li><div class=\"frame\" id=\"frame-140383573785520\">\n  <h4>File <cite class=\"filename\">\"/home/mdip/Projects/stochss-compute/env/lib/python3.8/site-packages/flask/app.py\"</cite>,\n      line <em class=\"line\">1518</em>,\n      in <code class=\"function\">full_dispatch_request</code></h4>\n  <div class=\"source library\"><pre class=\"line before\"><span class=\"ws\">            </span>request_started.send(self)</pre>\n<pre class=\"line before\"><span class=\"ws\">            </span>rv = self.preprocess_request()</pre>\n<pre class=\"line before\"><span class=\"ws\">            </span>if rv is None:</pre>\n<pre class=\"line before\"><span class=\"ws\">                </span>rv = self.dispatch_request()</pre>\n<pre class=\"line before\"><span class=\"ws\">        </span>except Exception as e:</pre>\n<pre class=\"line current\"><span class=\"ws\">            </span>rv = self.handle_user_exception(e)</pre>\n<pre class=\"line after\"><span class=\"ws\">        </span>return self.finalize_request(rv)</pre>\n<pre class=\"line after\"><span class=\"ws\"></span> </pre>\n<pre class=\"line after\"><span class=\"ws\">    </span>def finalize_request(</pre>\n<pre class=\"line after\"><span class=\"ws\">        </span>self,</pre>\n<pre class=\"line after\"><span class=\"ws\">        </span>rv: t.Union[ResponseReturnValue, HTTPException],</pre></div>\n</div>\n\n<li><div class=\"frame\" id=\"frame-140383573785568\">\n  <h4>File <cite class=\"filename\">\"/home/mdip/Projects/stochss-compute/env/lib/python3.8/site-packages/flask/app.py\"</cite>,\n      line <em class=\"line\">1516</em>,\n      in <code class=\"function\">full_dispatch_request</code></h4>\n  <div class=\"source library\"><pre class=\"line before\"><span class=\"ws\">        </span>self.try_trigger_before_first_request_functions()</pre>\n<pre class=\"line before\"><span class=\"ws\">        </span>try:</pre>\n<pre class=\"line before\"><span class=\"ws\">            </span>request_started.send(self)</pre>\n<pre class=\"line before\"><span class=\"ws\">            </span>rv = self.preprocess_request()</pre>\n<pre class=\"line before\"><span class=\"ws\">            </span>if rv is None:</pre>\n<pre class=\"line current\"><span class=\"ws\">                </span>rv = self.dispatch_request()</pre>\n<pre class=\"line after\"><span class=\"ws\">        </span>except Exception as e:</pre>\n<pre class=\"line after\"><span class=\"ws\">            </span>rv = self.handle_user_exception(e)</pre>\n<pre class=\"line after\"><span class=\"ws\">        </span>return self.finalize_request(rv)</pre>\n<pre class=\"line after\"><span class=\"ws\"></span> </pre>\n<pre class=\"line after\"><span class=\"ws\">    </span>def finalize_request(</pre></div>\n</div>\n\n<li><div class=\"frame\" id=\"frame-140383573786096\">\n  <h4>File <cite class=\"filename\">\"/home/mdip/Projects/stochss-compute/env/lib/python3.8/site-packages/flask/app.py\"</cite>,\n      line <em class=\"line\">1502</em>,\n      in <code class=\"function\">dispatch_request</code></h4>\n  <div class=\"source library\"><pre class=\"line before\"><span class=\"ws\">            </span>getattr(rule, &quot;provide_automatic_options&quot;, False)</pre>\n<pre class=\"line before\"><span class=\"ws\">            </span>and req.method == &quot;OPTIONS&quot;</pre>\n<pre class=\"line before\"><span class=\"ws\">        </span>):</pre>\n<pre class=\"line before\"><span class=\"ws\">            </span>return self.make_default_options_response()</pre>\n<pre class=\"line before\"><span class=\"ws\">        </span># otherwise dispatch to the handler for that endpoint</pre>\n<pre class=\"line current\"><span class=\"ws\">        </span>return self.ensure_sync(self.view_functions[rule.endpoint])(**req.view_args)</pre>\n<pre class=\"line after\"><span class=\"ws\"></span> </pre>\n<pre class=\"line after\"><span class=\"ws\">    </span>def full_dispatch_request(self) -&gt; Response:</pre>\n<pre class=\"line after\"><span class=\"ws\">        </span>&quot;&quot;&quot;Dispatches the request and on top of that performs request</pre>\n<pre class=\"line after\"><span class=\"ws\">        </span>pre and postprocessing as well as HTTP exception catching and</pre>\n<pre class=\"line after\"><span class=\"ws\">        </span>error handling.</pre></div>\n</div>\n\n<li><div class=\"frame\" id=\"frame-140383573785472\">\n  <h4>File <cite class=\"filename\">\"/home/mdip/Projects/stochss-compute/stochss_compute/api/v1/memory.py\"</cite>,\n      line <em class=\"line\">26</em>,\n      in <code class=\"function\">get_memory</code></h4>\n  <div class=\"source \"><pre class=\"line before\"><span class=\"ws\"></span>@v1_memory.route(&quot;/&lt;string:memory_id&gt;/get&quot;, methods=[&quot;GET&quot;])</pre>\n<pre class=\"line before\"><span class=\"ws\"></span>def get_memory(memory_id: str):</pre>\n<pre class=\"line before\"><span class=\"ws\">    </span>if not delegate.job_complete(memory_id):</pre>\n<pre class=\"line before\"><span class=\"ws\">        </span>return ErrorResponse(msg=&quot;A memory with this ID does not yet exist.&quot;).json(), 404</pre>\n<pre class=\"line before\"><span class=\"ws\"></span> </pre>\n<pre class=\"line current\"><span class=\"ws\">    </span>memory_json = delegate.job_results(memory_id)</pre>\n<pre class=\"line after\"><span class=\"ws\">    </span>compressed_memory = bz2.compress(memory_json.encode())</pre>\n<pre class=\"line after\"><span class=\"ws\"></span> </pre>\n<pre class=\"line after\"><span class=\"ws\">    </span>response = make_response(compressed_memory)</pre>\n<pre class=\"line after\"><span class=\"ws\">    </span>response.headers[&quot;Content-Encoding&quot;] = &quot;bzip2&quot;</pre>\n<pre class=\"line after\"><span class=\"ws\"></span> </pre></div>\n</div>\n\n<li><div class=\"frame\" id=\"frame-140383573340064\">\n  <h4>File <cite class=\"filename\">\"/home/mdip/Projects/stochss-compute/stochss_compute/api/delegate/dask_delegate.py\"</cite>,\n      line <em class=\"line\">171</em>,\n      in <code class=\"function\">job_results</code></h4>\n  <div class=\"source \"><pre class=\"line before\"><span class=\"ws\"></span> </pre>\n<pre class=\"line before\"><span class=\"ws\">        </span>return status</pre>\n<pre class=\"line before\"><span class=\"ws\"></span> </pre>\n<pre class=\"line before\"><span class=\"ws\">    </span>def job_results(self, job_id: str):</pre>\n<pre class=\"line before\"><span class=\"ws\">        </span># The results of this job may exist on the client dataset.</pre>\n<pre class=\"line current\"><span class=\"ws\">        </span>result_dataset = self.client.get_dataset(name=job_id).result()</pre>\n<pre class=\"line after\"><span class=\"ws\"></span> </pre>\n<pre class=\"line after\"><span class=\"ws\">        </span>if result_dataset is not None:</pre>\n<pre class=\"line after\"><span class=\"ws\">            </span>print(&quot;[DEBUG] Getting results from dataset.&quot;)</pre>\n<pre class=\"line after\"><span class=\"ws\">            </span>return result_dataset</pre>\n<pre class=\"line after\"><span class=\"ws\"></span> </pre></div>\n</div>\n\n<li><div class=\"frame\" id=\"frame-140383573339392\">\n  <h4>File <cite class=\"filename\">\"/home/mdip/Projects/stochss-compute/env/lib/python3.8/site-packages/distributed/client.py\"</cite>,\n      line <em class=\"line\">2377</em>,\n      in <code class=\"function\">get_dataset</code></h4>\n  <div class=\"source library\"><pre class=\"line before\"><span class=\"ws\">        </span>See Also</pre>\n<pre class=\"line before\"><span class=\"ws\">        </span>--------</pre>\n<pre class=\"line before\"><span class=\"ws\">        </span>Client.publish_dataset</pre>\n<pre class=\"line before\"><span class=\"ws\">        </span>Client.list_datasets</pre>\n<pre class=\"line before\"><span class=\"ws\">        </span>&quot;&quot;&quot;</pre>\n<pre class=\"line current\"><span class=\"ws\">        </span>return self.sync(self._get_dataset, name, default=default, **kwargs)</pre>\n<pre class=\"line after\"><span class=\"ws\"></span> </pre>\n<pre class=\"line after\"><span class=\"ws\">    </span>async def _run_on_scheduler(self, function, *args, wait=True, **kwargs):</pre>\n<pre class=\"line after\"><span class=\"ws\">        </span>response = await self.scheduler.run_function(</pre>\n<pre class=\"line after\"><span class=\"ws\">            </span>function=dumps(function, protocol=4),</pre>\n<pre class=\"line after\"><span class=\"ws\">            </span>args=dumps(args, protocol=4),</pre></div>\n</div>\n\n<li><div class=\"frame\" id=\"frame-140383573339104\">\n  <h4>File <cite class=\"filename\">\"/home/mdip/Projects/stochss-compute/env/lib/python3.8/site-packages/distributed/client.py\"</cite>,\n      line <em class=\"line\">868</em>,\n      in <code class=\"function\">sync</code></h4>\n  <div class=\"source library\"><pre class=\"line before\"><span class=\"ws\">            </span>future = func(*args, **kwargs)</pre>\n<pre class=\"line before\"><span class=\"ws\">            </span>if callback_timeout is not None:</pre>\n<pre class=\"line before\"><span class=\"ws\">                </span>future = asyncio.wait_for(future, callback_timeout)</pre>\n<pre class=\"line before\"><span class=\"ws\">            </span>return future</pre>\n<pre class=\"line before\"><span class=\"ws\">        </span>else:</pre>\n<pre class=\"line current\"><span class=\"ws\">            </span>return sync(</pre>\n<pre class=\"line after\"><span class=\"ws\">                </span>self.loop, func, *args, callback_timeout=callback_timeout, **kwargs</pre>\n<pre class=\"line after\"><span class=\"ws\">            </span>)</pre>\n<pre class=\"line after\"><span class=\"ws\"></span> </pre>\n<pre class=\"line after\"><span class=\"ws\">    </span>def _get_scheduler_info(self):</pre>\n<pre class=\"line after\"><span class=\"ws\">        </span>from .scheduler import Scheduler</pre></div>\n</div>\n\n<li><div class=\"frame\" id=\"frame-140383573339872\">\n  <h4>File <cite class=\"filename\">\"/home/mdip/Projects/stochss-compute/env/lib/python3.8/site-packages/distributed/utils.py\"</cite>,\n      line <em class=\"line\">331</em>,\n      in <code class=\"function\">sync</code></h4>\n  <div class=\"source library\"><pre class=\"line before\"><span class=\"ws\">    </span>else:</pre>\n<pre class=\"line before\"><span class=\"ws\">        </span>while not e.is_set():</pre>\n<pre class=\"line before\"><span class=\"ws\">            </span>e.wait(10)</pre>\n<pre class=\"line before\"><span class=\"ws\">    </span>if error[0]:</pre>\n<pre class=\"line before\"><span class=\"ws\">        </span>typ, exc, tb = error[0]</pre>\n<pre class=\"line current\"><span class=\"ws\">        </span>raise exc.with_traceback(tb)</pre>\n<pre class=\"line after\"><span class=\"ws\">    </span>else:</pre>\n<pre class=\"line after\"><span class=\"ws\">        </span>return result[0]</pre>\n<pre class=\"line after\"><span class=\"ws\"></span> </pre>\n<pre class=\"line after\"><span class=\"ws\"></span> </pre>\n<pre class=\"line after\"><span class=\"ws\"></span>class LoopRunner:</pre></div>\n</div>\n\n<li><div class=\"frame\" id=\"frame-140383573339152\">\n  <h4>File <cite class=\"filename\">\"/home/mdip/Projects/stochss-compute/env/lib/python3.8/site-packages/distributed/utils.py\"</cite>,\n      line <em class=\"line\">314</em>,\n      in <code class=\"function\">f</code></h4>\n  <div class=\"source library\"><pre class=\"line before\"><span class=\"ws\">                </span>raise RuntimeError(&quot;sync() called from thread of running loop&quot;)</pre>\n<pre class=\"line before\"><span class=\"ws\">            </span>yield gen.moment</pre>\n<pre class=\"line before\"><span class=\"ws\">            </span>future = func(*args, **kwargs)</pre>\n<pre class=\"line before\"><span class=\"ws\">            </span>if callback_timeout is not None:</pre>\n<pre class=\"line before\"><span class=\"ws\">                </span>future = asyncio.wait_for(future, callback_timeout)</pre>\n<pre class=\"line current\"><span class=\"ws\">            </span>result[0] = yield future</pre>\n<pre class=\"line after\"><span class=\"ws\">        </span>except Exception:</pre>\n<pre class=\"line after\"><span class=\"ws\">            </span>error[0] = sys.exc_info()</pre>\n<pre class=\"line after\"><span class=\"ws\">        </span>finally:</pre>\n<pre class=\"line after\"><span class=\"ws\">            </span>assert thread_state.asynchronous &gt; 0</pre>\n<pre class=\"line after\"><span class=\"ws\">            </span>thread_state.asynchronous -= 1</pre></div>\n</div>\n\n<li><div class=\"frame\" id=\"frame-140383573436304\">\n  <h4>File <cite class=\"filename\">\"/home/mdip/Projects/stochss-compute/env/lib/python3.8/site-packages/tornado/gen.py\"</cite>,\n      line <em class=\"line\">762</em>,\n      in <code class=\"function\">run</code></h4>\n  <div class=\"source library\"><pre class=\"line before\"><span class=\"ws\">                </span>self.future = None</pre>\n<pre class=\"line before\"><span class=\"ws\">                </span>try:</pre>\n<pre class=\"line before\"><span class=\"ws\">                    </span>exc_info = None</pre>\n<pre class=\"line before\"><span class=\"ws\"></span> </pre>\n<pre class=\"line before\"><span class=\"ws\">                    </span>try:</pre>\n<pre class=\"line current\"><span class=\"ws\">                        </span>value = future.result()</pre>\n<pre class=\"line after\"><span class=\"ws\">                    </span>except Exception:</pre>\n<pre class=\"line after\"><span class=\"ws\">                        </span>exc_info = sys.exc_info()</pre>\n<pre class=\"line after\"><span class=\"ws\">                    </span>future = None</pre>\n<pre class=\"line after\"><span class=\"ws\"></span> </pre>\n<pre class=\"line after\"><span class=\"ws\">                    </span>if exc_info is not None:</pre></div>\n</div>\n\n<li><div class=\"frame\" id=\"frame-140383573436496\">\n  <h4>File <cite class=\"filename\">\"/home/mdip/Projects/stochss-compute/env/lib/python3.8/site-packages/distributed/client.py\"</cite>,\n      line <em class=\"line\">2354</em>,\n      in <code class=\"function\">_get_dataset</code></h4>\n  <div class=\"source library\"><pre class=\"line before\"><span class=\"ws\">        </span>with self.as_current():</pre>\n<pre class=\"line before\"><span class=\"ws\">            </span>out = await self.scheduler.publish_get(name=name, client=self.id)</pre>\n<pre class=\"line before\"><span class=\"ws\"></span> </pre>\n<pre class=\"line before\"><span class=\"ws\">        </span>if out is None:</pre>\n<pre class=\"line before\"><span class=\"ws\">            </span>if default is NO_DEFAULT_PLACEHOLDER:</pre>\n<pre class=\"line current\"><span class=\"ws\">                </span>raise KeyError(f&quot;Dataset &#x27;{name}&#x27; not found&quot;)</pre>\n<pre class=\"line after\"><span class=\"ws\">            </span>else:</pre>\n<pre class=\"line after\"><span class=\"ws\">                </span>return default</pre>\n<pre class=\"line after\"><span class=\"ws\">        </span>return out[&quot;data&quot;]</pre>\n<pre class=\"line after\"><span class=\"ws\"></span> </pre>\n<pre class=\"line after\"><span class=\"ws\">    </span>def get_dataset(self, name, default=NO_DEFAULT_PLACEHOLDER, **kwargs):</pre></div>\n</div>\n</ul>\n  <blockquote>KeyError: &quot;Dataset &#x27;8ebd59b0a6d1361bc993f65ccd516300-run_1&#x27; not found&quot;</blockquote>\n</div>\n\n<div class=\"plain\">\n    <p>\n      This is the Copy/Paste friendly version of the traceback.\n    </p>\n    <textarea cols=\"50\" rows=\"10\" name=\"code\" readonly>Traceback (most recent call last):\n  File &quot;/home/mdip/Projects/stochss-compute/env/lib/python3.8/site-packages/flask/app.py&quot;, line 2091, in __call__\n    return self.wsgi_app(environ, start_response)\n  File &quot;/home/mdip/Projects/stochss-compute/env/lib/python3.8/site-packages/flask/app.py&quot;, line 2076, in wsgi_app\n    response = self.handle_exception(e)\n  File &quot;/home/mdip/Projects/stochss-compute/env/lib/python3.8/site-packages/flask/app.py&quot;, line 2073, in wsgi_app\n    response = self.full_dispatch_request()\n  File &quot;/home/mdip/Projects/stochss-compute/env/lib/python3.8/site-packages/flask/app.py&quot;, line 1518, in full_dispatch_request\n    rv = self.handle_user_exception(e)\n  File &quot;/home/mdip/Projects/stochss-compute/env/lib/python3.8/site-packages/flask/app.py&quot;, line 1516, in full_dispatch_request\n    rv = self.dispatch_request()\n  File &quot;/home/mdip/Projects/stochss-compute/env/lib/python3.8/site-packages/flask/app.py&quot;, line 1502, in dispatch_request\n    return self.ensure_sync(self.view_functions[rule.endpoint])(**req.view_args)\n  File &quot;/home/mdip/Projects/stochss-compute/stochss_compute/api/v1/memory.py&quot;, line 26, in get_memory\n    memory_json = delegate.job_results(memory_id)\n  File &quot;/home/mdip/Projects/stochss-compute/stochss_compute/api/delegate/dask_delegate.py&quot;, line 171, in job_results\n    result_dataset = self.client.get_dataset(name=job_id).result()\n  File &quot;/home/mdip/Projects/stochss-compute/env/lib/python3.8/site-packages/distributed/client.py&quot;, line 2377, in get_dataset\n    return self.sync(self._get_dataset, name, default=default, **kwargs)\n  File &quot;/home/mdip/Projects/stochss-compute/env/lib/python3.8/site-packages/distributed/client.py&quot;, line 868, in sync\n    return sync(\n  File &quot;/home/mdip/Projects/stochss-compute/env/lib/python3.8/site-packages/distributed/utils.py&quot;, line 331, in sync\n    raise exc.with_traceback(tb)\n  File &quot;/home/mdip/Projects/stochss-compute/env/lib/python3.8/site-packages/distributed/utils.py&quot;, line 314, in f\n    result[0] = yield future\n  File &quot;/home/mdip/Projects/stochss-compute/env/lib/python3.8/site-packages/tornado/gen.py&quot;, line 762, in run\n    value = future.result()\n  File &quot;/home/mdip/Projects/stochss-compute/env/lib/python3.8/site-packages/distributed/client.py&quot;, line 2354, in _get_dataset\n    raise KeyError(f&quot;Dataset &#x27;{name}&#x27; not found&quot;)\nKeyError: &quot;Dataset &#x27;8ebd59b0a6d1361bc993f65ccd516300-run_1&#x27; not found&quot;</textarea>\n</div>\n<div class=\"explanation\">\n  The debugger caught an exception in your WSGI application.  You can now\n  look at the traceback which led to the error.  <span class=\"nojavascript\">\n  If you enable JavaScript you can also use additional features such as code\n  execution (if the evalex feature is enabled), automatic pasting of the\n  exceptions and much more.</span>\n</div>\n      <div class=\"footer\">\n        Brought to you by <strong class=\"arthur\">DON'T PANIC</strong>, your\n        friendly Werkzeug powered traceback interpreter.\n      </div>\n    </div>\n\n    <div class=\"pin-prompt\">\n      <div class=\"inner\">\n        <h3>Console Locked</h3>\n        <p>\n          The console is locked and needs to be unlocked by entering the PIN.\n          You can find the PIN printed out on the standard output of your\n          shell that runs the server.\n        <form>\n          <p>PIN:\n            <input type=text name=pin size=14>\n            <input type=submit name=btn value=\"Confirm Pin\">\n        </form>\n      </div>\n    </div>\n  </body>\n</html>\n\n<!--\n\nTraceback (most recent call last):\n  File \"/home/mdip/Projects/stochss-compute/env/lib/python3.8/site-packages/flask/app.py\", line 2091, in __call__\n    return self.wsgi_app(environ, start_response)\n  File \"/home/mdip/Projects/stochss-compute/env/lib/python3.8/site-packages/flask/app.py\", line 2076, in wsgi_app\n    response = self.handle_exception(e)\n  File \"/home/mdip/Projects/stochss-compute/env/lib/python3.8/site-packages/flask/app.py\", line 2073, in wsgi_app\n    response = self.full_dispatch_request()\n  File \"/home/mdip/Projects/stochss-compute/env/lib/python3.8/site-packages/flask/app.py\", line 1518, in full_dispatch_request\n    rv = self.handle_user_exception(e)\n  File \"/home/mdip/Projects/stochss-compute/env/lib/python3.8/site-packages/flask/app.py\", line 1516, in full_dispatch_request\n    rv = self.dispatch_request()\n  File \"/home/mdip/Projects/stochss-compute/env/lib/python3.8/site-packages/flask/app.py\", line 1502, in dispatch_request\n    return self.ensure_sync(self.view_functions[rule.endpoint])(**req.view_args)\n  File \"/home/mdip/Projects/stochss-compute/stochss_compute/api/v1/memory.py\", line 26, in get_memory\n    memory_json = delegate.job_results(memory_id)\n  File \"/home/mdip/Projects/stochss-compute/stochss_compute/api/delegate/dask_delegate.py\", line 171, in job_results\n    result_dataset = self.client.get_dataset(name=job_id).result()\n  File \"/home/mdip/Projects/stochss-compute/env/lib/python3.8/site-packages/distributed/client.py\", line 2377, in get_dataset\n    return self.sync(self._get_dataset, name, default=default, **kwargs)\n  File \"/home/mdip/Projects/stochss-compute/env/lib/python3.8/site-packages/distributed/client.py\", line 868, in sync\n    return sync(\n  File \"/home/mdip/Projects/stochss-compute/env/lib/python3.8/site-packages/distributed/utils.py\", line 331, in sync\n    raise exc.with_traceback(tb)\n  File \"/home/mdip/Projects/stochss-compute/env/lib/python3.8/site-packages/distributed/utils.py\", line 314, in f\n    result[0] = yield future\n  File \"/home/mdip/Projects/stochss-compute/env/lib/python3.8/site-packages/tornado/gen.py\", line 762, in run\n    value = future.result()\n  File \"/home/mdip/Projects/stochss-compute/env/lib/python3.8/site-packages/distributed/client.py\", line 2354, in _get_dataset\n    raise KeyError(f\"Dataset '{name}' not found\")\nKeyError: \"Dataset '8ebd59b0a6d1361bc993f65ccd516300-run_1' not found\"\n\n-->\n; pos=0; lineno=1; colno=1)",
     "output_type": "error",
     "traceback": [
      "\u001b[0;31m---------------------------------------------------------------------------\u001b[0m",
      "\u001b[0;31mJSONDecodeError\u001b[0m                           Traceback (most recent call last)",
      "\u001b[0;32m~/Projects/stochss-compute/env/lib/python3.8/site-packages/pydantic/main.cpython-38-x86_64-linux-gnu.so\u001b[0m in \u001b[0;36mpydantic.main.BaseModel.parse_raw\u001b[0;34m()\u001b[0m\n",
      "\u001b[0;32m~/Projects/stochss-compute/env/lib/python3.8/site-packages/pydantic/parse.cpython-38-x86_64-linux-gnu.so\u001b[0m in \u001b[0;36mpydantic.parse.load_str_bytes\u001b[0;34m()\u001b[0m\n",
      "\u001b[0;32m/usr/lib/python3.8/json/__init__.py\u001b[0m in \u001b[0;36mloads\u001b[0;34m(s, cls, object_hook, parse_float, parse_int, parse_constant, object_pairs_hook, **kw)\u001b[0m\n\u001b[1;32m    356\u001b[0m             parse_constant is None and object_pairs_hook is None and not kw):\n\u001b[0;32m--> 357\u001b[0;31m         \u001b[0;32mreturn\u001b[0m \u001b[0m_default_decoder\u001b[0m\u001b[0;34m.\u001b[0m\u001b[0mdecode\u001b[0m\u001b[0;34m(\u001b[0m\u001b[0ms\u001b[0m\u001b[0;34m)\u001b[0m\u001b[0;34m\u001b[0m\u001b[0;34m\u001b[0m\u001b[0m\n\u001b[0m\u001b[1;32m    358\u001b[0m     \u001b[0;32mif\u001b[0m \u001b[0mcls\u001b[0m \u001b[0;32mis\u001b[0m \u001b[0;32mNone\u001b[0m\u001b[0;34m:\u001b[0m\u001b[0;34m\u001b[0m\u001b[0;34m\u001b[0m\u001b[0m\n",
      "\u001b[0;32m/usr/lib/python3.8/json/decoder.py\u001b[0m in \u001b[0;36mdecode\u001b[0;34m(self, s, _w)\u001b[0m\n\u001b[1;32m    336\u001b[0m         \"\"\"\n\u001b[0;32m--> 337\u001b[0;31m         \u001b[0mobj\u001b[0m\u001b[0;34m,\u001b[0m \u001b[0mend\u001b[0m \u001b[0;34m=\u001b[0m \u001b[0mself\u001b[0m\u001b[0;34m.\u001b[0m\u001b[0mraw_decode\u001b[0m\u001b[0;34m(\u001b[0m\u001b[0ms\u001b[0m\u001b[0;34m,\u001b[0m \u001b[0midx\u001b[0m\u001b[0;34m=\u001b[0m\u001b[0m_w\u001b[0m\u001b[0;34m(\u001b[0m\u001b[0ms\u001b[0m\u001b[0;34m,\u001b[0m \u001b[0;36m0\u001b[0m\u001b[0;34m)\u001b[0m\u001b[0;34m.\u001b[0m\u001b[0mend\u001b[0m\u001b[0;34m(\u001b[0m\u001b[0;34m)\u001b[0m\u001b[0;34m)\u001b[0m\u001b[0;34m\u001b[0m\u001b[0;34m\u001b[0m\u001b[0m\n\u001b[0m\u001b[1;32m    338\u001b[0m         \u001b[0mend\u001b[0m \u001b[0;34m=\u001b[0m \u001b[0m_w\u001b[0m\u001b[0;34m(\u001b[0m\u001b[0ms\u001b[0m\u001b[0;34m,\u001b[0m \u001b[0mend\u001b[0m\u001b[0;34m)\u001b[0m\u001b[0;34m.\u001b[0m\u001b[0mend\u001b[0m\u001b[0;34m(\u001b[0m\u001b[0;34m)\u001b[0m\u001b[0;34m\u001b[0m\u001b[0;34m\u001b[0m\u001b[0m\n",
      "\u001b[0;32m/usr/lib/python3.8/json/decoder.py\u001b[0m in \u001b[0;36mraw_decode\u001b[0;34m(self, s, idx)\u001b[0m\n\u001b[1;32m    354\u001b[0m         \u001b[0;32mexcept\u001b[0m \u001b[0mStopIteration\u001b[0m \u001b[0;32mas\u001b[0m \u001b[0merr\u001b[0m\u001b[0;34m:\u001b[0m\u001b[0;34m\u001b[0m\u001b[0;34m\u001b[0m\u001b[0m\n\u001b[0;32m--> 355\u001b[0;31m             \u001b[0;32mraise\u001b[0m \u001b[0mJSONDecodeError\u001b[0m\u001b[0;34m(\u001b[0m\u001b[0;34m\"Expecting value\"\u001b[0m\u001b[0;34m,\u001b[0m \u001b[0ms\u001b[0m\u001b[0;34m,\u001b[0m \u001b[0merr\u001b[0m\u001b[0;34m.\u001b[0m\u001b[0mvalue\u001b[0m\u001b[0;34m)\u001b[0m \u001b[0;32mfrom\u001b[0m \u001b[0;32mNone\u001b[0m\u001b[0;34m\u001b[0m\u001b[0;34m\u001b[0m\u001b[0m\n\u001b[0m\u001b[1;32m    356\u001b[0m         \u001b[0;32mreturn\u001b[0m \u001b[0mobj\u001b[0m\u001b[0;34m,\u001b[0m \u001b[0mend\u001b[0m\u001b[0;34m\u001b[0m\u001b[0;34m\u001b[0m\u001b[0m\n",
      "\u001b[0;31mJSONDecodeError\u001b[0m: Expecting value: line 1 column 1 (char 0)",
      "\nDuring handling of the above exception, another exception occurred:\n",
      "\u001b[0;31mValidationError\u001b[0m                           Traceback (most recent call last)",
      "\u001b[0;32m/tmp/ipykernel_7662/2043053169.py\u001b[0m in \u001b[0;36m<module>\u001b[0;34m\u001b[0m\n\u001b[1;32m      5\u001b[0m \u001b[0mresults\u001b[0m \u001b[0;34m=\u001b[0m \u001b[0mRemoteSimulation\u001b[0m\u001b[0;34m.\u001b[0m\u001b[0mon\u001b[0m\u001b[0;34m(\u001b[0m\u001b[0mmyServer\u001b[0m\u001b[0;34m)\u001b[0m\u001b[0;34m.\u001b[0m\u001b[0mwith_model\u001b[0m\u001b[0;34m(\u001b[0m\u001b[0mmyModel\u001b[0m\u001b[0;34m)\u001b[0m\u001b[0;34m.\u001b[0m\u001b[0mrun\u001b[0m\u001b[0;34m(\u001b[0m\u001b[0;34m)\u001b[0m\u001b[0;34m\u001b[0m\u001b[0;34m\u001b[0m\u001b[0m\n\u001b[1;32m      6\u001b[0m \u001b[0;34m\u001b[0m\u001b[0m\n\u001b[0;32m----> 7\u001b[0;31m \u001b[0mresults\u001b[0m \u001b[0;34m=\u001b[0m \u001b[0mresults\u001b[0m\u001b[0;34m.\u001b[0m\u001b[0mresolve\u001b[0m\u001b[0;34m(\u001b[0m\u001b[0;34m)\u001b[0m\u001b[0;34m\u001b[0m\u001b[0;34m\u001b[0m\u001b[0m\n\u001b[0m\u001b[1;32m      8\u001b[0m \u001b[0;34m\u001b[0m\u001b[0m\n\u001b[1;32m      9\u001b[0m \u001b[0mresults\u001b[0m\u001b[0;34m.\u001b[0m\u001b[0mplot\u001b[0m\u001b[0;34m(\u001b[0m\u001b[0;34m)\u001b[0m\u001b[0;34m\u001b[0m\u001b[0;34m\u001b[0m\u001b[0m\n",
      "\u001b[0;32m~/Projects/stochss-compute/stochss_compute/remote_results.py\u001b[0m in \u001b[0;36mresolve\u001b[0;34m(self)\u001b[0m\n\u001b[1;32m    145\u001b[0m \u001b[0;34m\u001b[0m\u001b[0m\n\u001b[1;32m    146\u001b[0m         \u001b[0;32mif\u001b[0m \u001b[0;32mnot\u001b[0m \u001b[0mresults_response\u001b[0m\u001b[0;34m.\u001b[0m\u001b[0mok\u001b[0m\u001b[0;34m:\u001b[0m\u001b[0;34m\u001b[0m\u001b[0;34m\u001b[0m\u001b[0m\n\u001b[0;32m--> 147\u001b[0;31m             \u001b[0;32mraise\u001b[0m \u001b[0mException\u001b[0m\u001b[0;34m(\u001b[0m\u001b[0mErrorResponse\u001b[0m\u001b[0;34m.\u001b[0m\u001b[0mparse_raw\u001b[0m\u001b[0;34m(\u001b[0m\u001b[0mresults_response\u001b[0m\u001b[0;34m.\u001b[0m\u001b[0mtext\u001b[0m\u001b[0;34m)\u001b[0m\u001b[0;34m.\u001b[0m\u001b[0mmsg\u001b[0m\u001b[0;34m)\u001b[0m\u001b[0;34m\u001b[0m\u001b[0;34m\u001b[0m\u001b[0m\n\u001b[0m\u001b[1;32m    148\u001b[0m \u001b[0;34m\u001b[0m\u001b[0m\n\u001b[1;32m    149\u001b[0m         \u001b[0mprint\u001b[0m\u001b[0;34m(\u001b[0m\u001b[0;34mf\"Results size: {sys.getsizeof(results_response.content)}\"\u001b[0m\u001b[0;34m)\u001b[0m\u001b[0;34m\u001b[0m\u001b[0;34m\u001b[0m\u001b[0m\n",
      "\u001b[0;32m~/Projects/stochss-compute/env/lib/python3.8/site-packages/pydantic/main.cpython-38-x86_64-linux-gnu.so\u001b[0m in \u001b[0;36mpydantic.main.BaseModel.parse_raw\u001b[0;34m()\u001b[0m\n",
      "\u001b[0;31mValidationError\u001b[0m: 1 validation error for ErrorResponse\n__root__\n  Expecting value: line 1 column 1 (char 0) (type=value_error.jsondecode; msg=Expecting value; doc=<!DOCTYPE HTML PUBLIC \"-//W3C//DTD HTML 4.01 Transitional//EN\"\n  \"http://www.w3.org/TR/html4/loose.dtd\">\n<html>\n  <head>\n    <title>KeyError: &quot;Dataset &#x27;8ebd59b0a6d1361bc993f65ccd516300-run_1&#x27; not found&quot; // Werkzeug Debugger</title>\n    <link rel=\"stylesheet\" href=\"?__debugger__=yes&amp;cmd=resource&amp;f=style.css\"\n        type=\"text/css\">\n    <!-- We need to make sure this has a favicon so that the debugger does\n         not accidentally trigger a request to /favicon.ico which might\n         change the application's state. -->\n    <link rel=\"shortcut icon\"\n        href=\"?__debugger__=yes&amp;cmd=resource&amp;f=console.png\">\n    <script src=\"?__debugger__=yes&amp;cmd=resource&amp;f=debugger.js\"></script>\n    <script type=\"text/javascript\">\n      var TRACEBACK = 140383573430624,\n          CONSOLE_MODE = false,\n          EVALEX = true,\n          EVALEX_TRUSTED = false,\n          SECRET = \"ItzJ6GjF7ELbEF29XUUP\";\n    </script>\n  </head>\n  <body style=\"background-color: #fff\">\n    <div class=\"debugger\">\n<h1>KeyError</h1>\n<div class=\"detail\">\n  <p class=\"errormsg\">KeyError: &quot;Dataset &#x27;8ebd59b0a6d1361bc993f65ccd516300-run_1&#x27; not found&quot;</p>\n</div>\n<h2 class=\"traceback\">Traceback <em>(most recent call last)</em></h2>\n<div class=\"traceback\">\n  <h3></h3>\n  <ul><li><div class=\"frame\" id=\"frame-140383573430816\">\n  <h4>File <cite class=\"filename\">\"/home/mdip/Projects/stochss-compute/env/lib/python3.8/site-packages/flask/app.py\"</cite>,\n      line <em class=\"line\">2091</em>,\n      in <code class=\"function\">__call__</code></h4>\n  <div class=\"source library\"><pre class=\"line before\"><span class=\"ws\">    </span>def __call__(self, environ: dict, start_response: t.Callable) -&gt; t.Any:</pre>\n<pre class=\"line before\"><span class=\"ws\">        </span>&quot;&quot;&quot;The WSGI server calls the Flask application object as the</pre>\n<pre class=\"line before\"><span class=\"ws\">        </span>WSGI application. This calls :meth:`wsgi_app`, which can be</pre>\n<pre class=\"line before\"><span class=\"ws\">        </span>wrapped to apply middleware.</pre>\n<pre class=\"line before\"><span class=\"ws\">        </span>&quot;&quot;&quot;</pre>\n<pre class=\"line current\"><span class=\"ws\">        </span>return self.wsgi_app(environ, start_response)</pre></div>\n</div>\n\n<li><div class=\"frame\" id=\"frame-140383573784032\">\n  <h4>File <cite class=\"filename\">\"/home/mdip/Projects/stochss-compute/env/lib/python3.8/site-packages/flask/app.py\"</cite>,\n      line <em class=\"line\">2076</em>,\n      in <code class=\"function\">wsgi_app</code></h4>\n  <div class=\"source library\"><pre class=\"line before\"><span class=\"ws\">            </span>try:</pre>\n<pre class=\"line before\"><span class=\"ws\">                </span>ctx.push()</pre>\n<pre class=\"line before\"><span class=\"ws\">                </span>response = self.full_dispatch_request()</pre>\n<pre class=\"line before\"><span class=\"ws\">            </span>except Exception as e:</pre>\n<pre class=\"line before\"><span class=\"ws\">                </span>error = e</pre>\n<pre class=\"line current\"><span class=\"ws\">                </span>response = self.handle_exception(e)</pre>\n<pre class=\"line after\"><span class=\"ws\">            </span>except:  # noqa: B001</pre>\n<pre class=\"line after\"><span class=\"ws\">                </span>error = sys.exc_info()[1]</pre>\n<pre class=\"line after\"><span class=\"ws\">                </span>raise</pre>\n<pre class=\"line after\"><span class=\"ws\">            </span>return response(environ, start_response)</pre>\n<pre class=\"line after\"><span class=\"ws\">        </span>finally:</pre></div>\n</div>\n\n<li><div class=\"frame\" id=\"frame-140383573785808\">\n  <h4>File <cite class=\"filename\">\"/home/mdip/Projects/stochss-compute/env/lib/python3.8/site-packages/flask/app.py\"</cite>,\n      line <em class=\"line\">2073</em>,\n      in <code class=\"function\">wsgi_app</code></h4>\n  <div class=\"source library\"><pre class=\"line before\"><span class=\"ws\">        </span>ctx = self.request_context(environ)</pre>\n<pre class=\"line before\"><span class=\"ws\">        </span>error: t.Optional[BaseException] = None</pre>\n<pre class=\"line before\"><span class=\"ws\">        </span>try:</pre>\n<pre class=\"line before\"><span class=\"ws\">            </span>try:</pre>\n<pre class=\"line before\"><span class=\"ws\">                </span>ctx.push()</pre>\n<pre class=\"line current\"><span class=\"ws\">                </span>response = self.full_dispatch_request()</pre>\n<pre class=\"line after\"><span class=\"ws\">            </span>except Exception as e:</pre>\n<pre class=\"line after\"><span class=\"ws\">                </span>error = e</pre>\n<pre class=\"line after\"><span class=\"ws\">                </span>response = self.handle_exception(e)</pre>\n<pre class=\"line after\"><span class=\"ws\">            </span>except:  # noqa: B001</pre>\n<pre class=\"line after\"><span class=\"ws\">                </span>error = sys.exc_info()[1]</pre></div>\n</div>\n\n<li><div class=\"frame\" id=\"frame-140383573785520\">\n  <h4>File <cite class=\"filename\">\"/home/mdip/Projects/stochss-compute/env/lib/python3.8/site-packages/flask/app.py\"</cite>,\n      line <em class=\"line\">1518</em>,\n      in <code class=\"function\">full_dispatch_request</code></h4>\n  <div class=\"source library\"><pre class=\"line before\"><span class=\"ws\">            </span>request_started.send(self)</pre>\n<pre class=\"line before\"><span class=\"ws\">            </span>rv = self.preprocess_request()</pre>\n<pre class=\"line before\"><span class=\"ws\">            </span>if rv is None:</pre>\n<pre class=\"line before\"><span class=\"ws\">                </span>rv = self.dispatch_request()</pre>\n<pre class=\"line before\"><span class=\"ws\">        </span>except Exception as e:</pre>\n<pre class=\"line current\"><span class=\"ws\">            </span>rv = self.handle_user_exception(e)</pre>\n<pre class=\"line after\"><span class=\"ws\">        </span>return self.finalize_request(rv)</pre>\n<pre class=\"line after\"><span class=\"ws\"></span> </pre>\n<pre class=\"line after\"><span class=\"ws\">    </span>def finalize_request(</pre>\n<pre class=\"line after\"><span class=\"ws\">        </span>self,</pre>\n<pre class=\"line after\"><span class=\"ws\">        </span>rv: t.Union[ResponseReturnValue, HTTPException],</pre></div>\n</div>\n\n<li><div class=\"frame\" id=\"frame-140383573785568\">\n  <h4>File <cite class=\"filename\">\"/home/mdip/Projects/stochss-compute/env/lib/python3.8/site-packages/flask/app.py\"</cite>,\n      line <em class=\"line\">1516</em>,\n      in <code class=\"function\">full_dispatch_request</code></h4>\n  <div class=\"source library\"><pre class=\"line before\"><span class=\"ws\">        </span>self.try_trigger_before_first_request_functions()</pre>\n<pre class=\"line before\"><span class=\"ws\">        </span>try:</pre>\n<pre class=\"line before\"><span class=\"ws\">            </span>request_started.send(self)</pre>\n<pre class=\"line before\"><span class=\"ws\">            </span>rv = self.preprocess_request()</pre>\n<pre class=\"line before\"><span class=\"ws\">            </span>if rv is None:</pre>\n<pre class=\"line current\"><span class=\"ws\">                </span>rv = self.dispatch_request()</pre>\n<pre class=\"line after\"><span class=\"ws\">        </span>except Exception as e:</pre>\n<pre class=\"line after\"><span class=\"ws\">            </span>rv = self.handle_user_exception(e)</pre>\n<pre class=\"line after\"><span class=\"ws\">        </span>return self.finalize_request(rv)</pre>\n<pre class=\"line after\"><span class=\"ws\"></span> </pre>\n<pre class=\"line after\"><span class=\"ws\">    </span>def finalize_request(</pre></div>\n</div>\n\n<li><div class=\"frame\" id=\"frame-140383573786096\">\n  <h4>File <cite class=\"filename\">\"/home/mdip/Projects/stochss-compute/env/lib/python3.8/site-packages/flask/app.py\"</cite>,\n      line <em class=\"line\">1502</em>,\n      in <code class=\"function\">dispatch_request</code></h4>\n  <div class=\"source library\"><pre class=\"line before\"><span class=\"ws\">            </span>getattr(rule, &quot;provide_automatic_options&quot;, False)</pre>\n<pre class=\"line before\"><span class=\"ws\">            </span>and req.method == &quot;OPTIONS&quot;</pre>\n<pre class=\"line before\"><span class=\"ws\">        </span>):</pre>\n<pre class=\"line before\"><span class=\"ws\">            </span>return self.make_default_options_response()</pre>\n<pre class=\"line before\"><span class=\"ws\">        </span># otherwise dispatch to the handler for that endpoint</pre>\n<pre class=\"line current\"><span class=\"ws\">        </span>return self.ensure_sync(self.view_functions[rule.endpoint])(**req.view_args)</pre>\n<pre class=\"line after\"><span class=\"ws\"></span> </pre>\n<pre class=\"line after\"><span class=\"ws\">    </span>def full_dispatch_request(self) -&gt; Response:</pre>\n<pre class=\"line after\"><span class=\"ws\">        </span>&quot;&quot;&quot;Dispatches the request and on top of that performs request</pre>\n<pre class=\"line after\"><span class=\"ws\">        </span>pre and postprocessing as well as HTTP exception catching and</pre>\n<pre class=\"line after\"><span class=\"ws\">        </span>error handling.</pre></div>\n</div>\n\n<li><div class=\"frame\" id=\"frame-140383573785472\">\n  <h4>File <cite class=\"filename\">\"/home/mdip/Projects/stochss-compute/stochss_compute/api/v1/memory.py\"</cite>,\n      line <em class=\"line\">26</em>,\n      in <code class=\"function\">get_memory</code></h4>\n  <div class=\"source \"><pre class=\"line before\"><span class=\"ws\"></span>@v1_memory.route(&quot;/&lt;string:memory_id&gt;/get&quot;, methods=[&quot;GET&quot;])</pre>\n<pre class=\"line before\"><span class=\"ws\"></span>def get_memory(memory_id: str):</pre>\n<pre class=\"line before\"><span class=\"ws\">    </span>if not delegate.job_complete(memory_id):</pre>\n<pre class=\"line before\"><span class=\"ws\">        </span>return ErrorResponse(msg=&quot;A memory with this ID does not yet exist.&quot;).json(), 404</pre>\n<pre class=\"line before\"><span class=\"ws\"></span> </pre>\n<pre class=\"line current\"><span class=\"ws\">    </span>memory_json = delegate.job_results(memory_id)</pre>\n<pre class=\"line after\"><span class=\"ws\">    </span>compressed_memory = bz2.compress(memory_json.encode())</pre>\n<pre class=\"line after\"><span class=\"ws\"></span> </pre>\n<pre class=\"line after\"><span class=\"ws\">    </span>response = make_response(compressed_memory)</pre>\n<pre class=\"line after\"><span class=\"ws\">    </span>response.headers[&quot;Content-Encoding&quot;] = &quot;bzip2&quot;</pre>\n<pre class=\"line after\"><span class=\"ws\"></span> </pre></div>\n</div>\n\n<li><div class=\"frame\" id=\"frame-140383573340064\">\n  <h4>File <cite class=\"filename\">\"/home/mdip/Projects/stochss-compute/stochss_compute/api/delegate/dask_delegate.py\"</cite>,\n      line <em class=\"line\">171</em>,\n      in <code class=\"function\">job_results</code></h4>\n  <div class=\"source \"><pre class=\"line before\"><span class=\"ws\"></span> </pre>\n<pre class=\"line before\"><span class=\"ws\">        </span>return status</pre>\n<pre class=\"line before\"><span class=\"ws\"></span> </pre>\n<pre class=\"line before\"><span class=\"ws\">    </span>def job_results(self, job_id: str):</pre>\n<pre class=\"line before\"><span class=\"ws\">        </span># The results of this job may exist on the client dataset.</pre>\n<pre class=\"line current\"><span class=\"ws\">        </span>result_dataset = self.client.get_dataset(name=job_id).result()</pre>\n<pre class=\"line after\"><span class=\"ws\"></span> </pre>\n<pre class=\"line after\"><span class=\"ws\">        </span>if result_dataset is not None:</pre>\n<pre class=\"line after\"><span class=\"ws\">            </span>print(&quot;[DEBUG] Getting results from dataset.&quot;)</pre>\n<pre class=\"line after\"><span class=\"ws\">            </span>return result_dataset</pre>\n<pre class=\"line after\"><span class=\"ws\"></span> </pre></div>\n</div>\n\n<li><div class=\"frame\" id=\"frame-140383573339392\">\n  <h4>File <cite class=\"filename\">\"/home/mdip/Projects/stochss-compute/env/lib/python3.8/site-packages/distributed/client.py\"</cite>,\n      line <em class=\"line\">2377</em>,\n      in <code class=\"function\">get_dataset</code></h4>\n  <div class=\"source library\"><pre class=\"line before\"><span class=\"ws\">        </span>See Also</pre>\n<pre class=\"line before\"><span class=\"ws\">        </span>--------</pre>\n<pre class=\"line before\"><span class=\"ws\">        </span>Client.publish_dataset</pre>\n<pre class=\"line before\"><span class=\"ws\">        </span>Client.list_datasets</pre>\n<pre class=\"line before\"><span class=\"ws\">        </span>&quot;&quot;&quot;</pre>\n<pre class=\"line current\"><span class=\"ws\">        </span>return self.sync(self._get_dataset, name, default=default, **kwargs)</pre>\n<pre class=\"line after\"><span class=\"ws\"></span> </pre>\n<pre class=\"line after\"><span class=\"ws\">    </span>async def _run_on_scheduler(self, function, *args, wait=True, **kwargs):</pre>\n<pre class=\"line after\"><span class=\"ws\">        </span>response = await self.scheduler.run_function(</pre>\n<pre class=\"line after\"><span class=\"ws\">            </span>function=dumps(function, protocol=4),</pre>\n<pre class=\"line after\"><span class=\"ws\">            </span>args=dumps(args, protocol=4),</pre></div>\n</div>\n\n<li><div class=\"frame\" id=\"frame-140383573339104\">\n  <h4>File <cite class=\"filename\">\"/home/mdip/Projects/stochss-compute/env/lib/python3.8/site-packages/distributed/client.py\"</cite>,\n      line <em class=\"line\">868</em>,\n      in <code class=\"function\">sync</code></h4>\n  <div class=\"source library\"><pre class=\"line before\"><span class=\"ws\">            </span>future = func(*args, **kwargs)</pre>\n<pre class=\"line before\"><span class=\"ws\">            </span>if callback_timeout is not None:</pre>\n<pre class=\"line before\"><span class=\"ws\">                </span>future = asyncio.wait_for(future, callback_timeout)</pre>\n<pre class=\"line before\"><span class=\"ws\">            </span>return future</pre>\n<pre class=\"line before\"><span class=\"ws\">        </span>else:</pre>\n<pre class=\"line current\"><span class=\"ws\">            </span>return sync(</pre>\n<pre class=\"line after\"><span class=\"ws\">                </span>self.loop, func, *args, callback_timeout=callback_timeout, **kwargs</pre>\n<pre class=\"line after\"><span class=\"ws\">            </span>)</pre>\n<pre class=\"line after\"><span class=\"ws\"></span> </pre>\n<pre class=\"line after\"><span class=\"ws\">    </span>def _get_scheduler_info(self):</pre>\n<pre class=\"line after\"><span class=\"ws\">        </span>from .scheduler import Scheduler</pre></div>\n</div>\n\n<li><div class=\"frame\" id=\"frame-140383573339872\">\n  <h4>File <cite class=\"filename\">\"/home/mdip/Projects/stochss-compute/env/lib/python3.8/site-packages/distributed/utils.py\"</cite>,\n      line <em class=\"line\">331</em>,\n      in <code class=\"function\">sync</code></h4>\n  <div class=\"source library\"><pre class=\"line before\"><span class=\"ws\">    </span>else:</pre>\n<pre class=\"line before\"><span class=\"ws\">        </span>while not e.is_set():</pre>\n<pre class=\"line before\"><span class=\"ws\">            </span>e.wait(10)</pre>\n<pre class=\"line before\"><span class=\"ws\">    </span>if error[0]:</pre>\n<pre class=\"line before\"><span class=\"ws\">        </span>typ, exc, tb = error[0]</pre>\n<pre class=\"line current\"><span class=\"ws\">        </span>raise exc.with_traceback(tb)</pre>\n<pre class=\"line after\"><span class=\"ws\">    </span>else:</pre>\n<pre class=\"line after\"><span class=\"ws\">        </span>return result[0]</pre>\n<pre class=\"line after\"><span class=\"ws\"></span> </pre>\n<pre class=\"line after\"><span class=\"ws\"></span> </pre>\n<pre class=\"line after\"><span class=\"ws\"></span>class LoopRunner:</pre></div>\n</div>\n\n<li><div class=\"frame\" id=\"frame-140383573339152\">\n  <h4>File <cite class=\"filename\">\"/home/mdip/Projects/stochss-compute/env/lib/python3.8/site-packages/distributed/utils.py\"</cite>,\n      line <em class=\"line\">314</em>,\n      in <code class=\"function\">f</code></h4>\n  <div class=\"source library\"><pre class=\"line before\"><span class=\"ws\">                </span>raise RuntimeError(&quot;sync() called from thread of running loop&quot;)</pre>\n<pre class=\"line before\"><span class=\"ws\">            </span>yield gen.moment</pre>\n<pre class=\"line before\"><span class=\"ws\">            </span>future = func(*args, **kwargs)</pre>\n<pre class=\"line before\"><span class=\"ws\">            </span>if callback_timeout is not None:</pre>\n<pre class=\"line before\"><span class=\"ws\">                </span>future = asyncio.wait_for(future, callback_timeout)</pre>\n<pre class=\"line current\"><span class=\"ws\">            </span>result[0] = yield future</pre>\n<pre class=\"line after\"><span class=\"ws\">        </span>except Exception:</pre>\n<pre class=\"line after\"><span class=\"ws\">            </span>error[0] = sys.exc_info()</pre>\n<pre class=\"line after\"><span class=\"ws\">        </span>finally:</pre>\n<pre class=\"line after\"><span class=\"ws\">            </span>assert thread_state.asynchronous &gt; 0</pre>\n<pre class=\"line after\"><span class=\"ws\">            </span>thread_state.asynchronous -= 1</pre></div>\n</div>\n\n<li><div class=\"frame\" id=\"frame-140383573436304\">\n  <h4>File <cite class=\"filename\">\"/home/mdip/Projects/stochss-compute/env/lib/python3.8/site-packages/tornado/gen.py\"</cite>,\n      line <em class=\"line\">762</em>,\n      in <code class=\"function\">run</code></h4>\n  <div class=\"source library\"><pre class=\"line before\"><span class=\"ws\">                </span>self.future = None</pre>\n<pre class=\"line before\"><span class=\"ws\">                </span>try:</pre>\n<pre class=\"line before\"><span class=\"ws\">                    </span>exc_info = None</pre>\n<pre class=\"line before\"><span class=\"ws\"></span> </pre>\n<pre class=\"line before\"><span class=\"ws\">                    </span>try:</pre>\n<pre class=\"line current\"><span class=\"ws\">                        </span>value = future.result()</pre>\n<pre class=\"line after\"><span class=\"ws\">                    </span>except Exception:</pre>\n<pre class=\"line after\"><span class=\"ws\">                        </span>exc_info = sys.exc_info()</pre>\n<pre class=\"line after\"><span class=\"ws\">                    </span>future = None</pre>\n<pre class=\"line after\"><span class=\"ws\"></span> </pre>\n<pre class=\"line after\"><span class=\"ws\">                    </span>if exc_info is not None:</pre></div>\n</div>\n\n<li><div class=\"frame\" id=\"frame-140383573436496\">\n  <h4>File <cite class=\"filename\">\"/home/mdip/Projects/stochss-compute/env/lib/python3.8/site-packages/distributed/client.py\"</cite>,\n      line <em class=\"line\">2354</em>,\n      in <code class=\"function\">_get_dataset</code></h4>\n  <div class=\"source library\"><pre class=\"line before\"><span class=\"ws\">        </span>with self.as_current():</pre>\n<pre class=\"line before\"><span class=\"ws\">            </span>out = await self.scheduler.publish_get(name=name, client=self.id)</pre>\n<pre class=\"line before\"><span class=\"ws\"></span> </pre>\n<pre class=\"line before\"><span class=\"ws\">        </span>if out is None:</pre>\n<pre class=\"line before\"><span class=\"ws\">            </span>if default is NO_DEFAULT_PLACEHOLDER:</pre>\n<pre class=\"line current\"><span class=\"ws\">                </span>raise KeyError(f&quot;Dataset &#x27;{name}&#x27; not found&quot;)</pre>\n<pre class=\"line after\"><span class=\"ws\">            </span>else:</pre>\n<pre class=\"line after\"><span class=\"ws\">                </span>return default</pre>\n<pre class=\"line after\"><span class=\"ws\">        </span>return out[&quot;data&quot;]</pre>\n<pre class=\"line after\"><span class=\"ws\"></span> </pre>\n<pre class=\"line after\"><span class=\"ws\">    </span>def get_dataset(self, name, default=NO_DEFAULT_PLACEHOLDER, **kwargs):</pre></div>\n</div>\n</ul>\n  <blockquote>KeyError: &quot;Dataset &#x27;8ebd59b0a6d1361bc993f65ccd516300-run_1&#x27; not found&quot;</blockquote>\n</div>\n\n<div class=\"plain\">\n    <p>\n      This is the Copy/Paste friendly version of the traceback.\n    </p>\n    <textarea cols=\"50\" rows=\"10\" name=\"code\" readonly>Traceback (most recent call last):\n  File &quot;/home/mdip/Projects/stochss-compute/env/lib/python3.8/site-packages/flask/app.py&quot;, line 2091, in __call__\n    return self.wsgi_app(environ, start_response)\n  File &quot;/home/mdip/Projects/stochss-compute/env/lib/python3.8/site-packages/flask/app.py&quot;, line 2076, in wsgi_app\n    response = self.handle_exception(e)\n  File &quot;/home/mdip/Projects/stochss-compute/env/lib/python3.8/site-packages/flask/app.py&quot;, line 2073, in wsgi_app\n    response = self.full_dispatch_request()\n  File &quot;/home/mdip/Projects/stochss-compute/env/lib/python3.8/site-packages/flask/app.py&quot;, line 1518, in full_dispatch_request\n    rv = self.handle_user_exception(e)\n  File &quot;/home/mdip/Projects/stochss-compute/env/lib/python3.8/site-packages/flask/app.py&quot;, line 1516, in full_dispatch_request\n    rv = self.dispatch_request()\n  File &quot;/home/mdip/Projects/stochss-compute/env/lib/python3.8/site-packages/flask/app.py&quot;, line 1502, in dispatch_request\n    return self.ensure_sync(self.view_functions[rule.endpoint])(**req.view_args)\n  File &quot;/home/mdip/Projects/stochss-compute/stochss_compute/api/v1/memory.py&quot;, line 26, in get_memory\n    memory_json = delegate.job_results(memory_id)\n  File &quot;/home/mdip/Projects/stochss-compute/stochss_compute/api/delegate/dask_delegate.py&quot;, line 171, in job_results\n    result_dataset = self.client.get_dataset(name=job_id).result()\n  File &quot;/home/mdip/Projects/stochss-compute/env/lib/python3.8/site-packages/distributed/client.py&quot;, line 2377, in get_dataset\n    return self.sync(self._get_dataset, name, default=default, **kwargs)\n  File &quot;/home/mdip/Projects/stochss-compute/env/lib/python3.8/site-packages/distributed/client.py&quot;, line 868, in sync\n    return sync(\n  File &quot;/home/mdip/Projects/stochss-compute/env/lib/python3.8/site-packages/distributed/utils.py&quot;, line 331, in sync\n    raise exc.with_traceback(tb)\n  File &quot;/home/mdip/Projects/stochss-compute/env/lib/python3.8/site-packages/distributed/utils.py&quot;, line 314, in f\n    result[0] = yield future\n  File &quot;/home/mdip/Projects/stochss-compute/env/lib/python3.8/site-packages/tornado/gen.py&quot;, line 762, in run\n    value = future.result()\n  File &quot;/home/mdip/Projects/stochss-compute/env/lib/python3.8/site-packages/distributed/client.py&quot;, line 2354, in _get_dataset\n    raise KeyError(f&quot;Dataset &#x27;{name}&#x27; not found&quot;)\nKeyError: &quot;Dataset &#x27;8ebd59b0a6d1361bc993f65ccd516300-run_1&#x27; not found&quot;</textarea>\n</div>\n<div class=\"explanation\">\n  The debugger caught an exception in your WSGI application.  You can now\n  look at the traceback which led to the error.  <span class=\"nojavascript\">\n  If you enable JavaScript you can also use additional features such as code\n  execution (if the evalex feature is enabled), automatic pasting of the\n  exceptions and much more.</span>\n</div>\n      <div class=\"footer\">\n        Brought to you by <strong class=\"arthur\">DON'T PANIC</strong>, your\n        friendly Werkzeug powered traceback interpreter.\n      </div>\n    </div>\n\n    <div class=\"pin-prompt\">\n      <div class=\"inner\">\n        <h3>Console Locked</h3>\n        <p>\n          The console is locked and needs to be unlocked by entering the PIN.\n          You can find the PIN printed out on the standard output of your\n          shell that runs the server.\n        <form>\n          <p>PIN:\n            <input type=text name=pin size=14>\n            <input type=submit name=btn value=\"Confirm Pin\">\n        </form>\n      </div>\n    </div>\n  </body>\n</html>\n\n<!--\n\nTraceback (most recent call last):\n  File \"/home/mdip/Projects/stochss-compute/env/lib/python3.8/site-packages/flask/app.py\", line 2091, in __call__\n    return self.wsgi_app(environ, start_response)\n  File \"/home/mdip/Projects/stochss-compute/env/lib/python3.8/site-packages/flask/app.py\", line 2076, in wsgi_app\n    response = self.handle_exception(e)\n  File \"/home/mdip/Projects/stochss-compute/env/lib/python3.8/site-packages/flask/app.py\", line 2073, in wsgi_app\n    response = self.full_dispatch_request()\n  File \"/home/mdip/Projects/stochss-compute/env/lib/python3.8/site-packages/flask/app.py\", line 1518, in full_dispatch_request\n    rv = self.handle_user_exception(e)\n  File \"/home/mdip/Projects/stochss-compute/env/lib/python3.8/site-packages/flask/app.py\", line 1516, in full_dispatch_request\n    rv = self.dispatch_request()\n  File \"/home/mdip/Projects/stochss-compute/env/lib/python3.8/site-packages/flask/app.py\", line 1502, in dispatch_request\n    return self.ensure_sync(self.view_functions[rule.endpoint])(**req.view_args)\n  File \"/home/mdip/Projects/stochss-compute/stochss_compute/api/v1/memory.py\", line 26, in get_memory\n    memory_json = delegate.job_results(memory_id)\n  File \"/home/mdip/Projects/stochss-compute/stochss_compute/api/delegate/dask_delegate.py\", line 171, in job_results\n    result_dataset = self.client.get_dataset(name=job_id).result()\n  File \"/home/mdip/Projects/stochss-compute/env/lib/python3.8/site-packages/distributed/client.py\", line 2377, in get_dataset\n    return self.sync(self._get_dataset, name, default=default, **kwargs)\n  File \"/home/mdip/Projects/stochss-compute/env/lib/python3.8/site-packages/distributed/client.py\", line 868, in sync\n    return sync(\n  File \"/home/mdip/Projects/stochss-compute/env/lib/python3.8/site-packages/distributed/utils.py\", line 331, in sync\n    raise exc.with_traceback(tb)\n  File \"/home/mdip/Projects/stochss-compute/env/lib/python3.8/site-packages/distributed/utils.py\", line 314, in f\n    result[0] = yield future\n  File \"/home/mdip/Projects/stochss-compute/env/lib/python3.8/site-packages/tornado/gen.py\", line 762, in run\n    value = future.result()\n  File \"/home/mdip/Projects/stochss-compute/env/lib/python3.8/site-packages/distributed/client.py\", line 2354, in _get_dataset\n    raise KeyError(f\"Dataset '{name}' not found\")\nKeyError: \"Dataset '8ebd59b0a6d1361bc993f65ccd516300-run_1' not found\"\n\n-->\n; pos=0; lineno=1; colno=1)"
     ]
    }
   ],
   "source": [
    "myModel = MichaelisMenten()\n",
    "\n",
    "myServer = ComputeServer(\"localhost\", port=1234)\n",
    "\n",
    "results = RemoteSimulation.on(myServer).with_model(myModel).run()\n",
    "\n",
    "results = results.resolve()\n",
    "\n",
    "results.plot()"
   ]
  },
  {
   "cell_type": "markdown",
   "metadata": {},
   "source": [
    "While the model.run() function can be called without any given arguments, GillesPy2 provides several options for customizing your simulations. The following keyword arguments can be used in the model.run() function to customize your simulations:\n",
    "<br/><br/>\n",
    "### model.run() kwargs\n",
    "**solver=[solver]**  \n",
    "    manually choose a solver/algorithm one of the following GillesPy2 solvers:  \n",
    "    [ODESolver()](./StartingModels/Michaelis-Menten_Basic_ODE.ipynb)  \n",
    "    [SSASolver()](./StartingModels/Michaelis-Menten_NumPy_SSA.ipynb)    \n",
    "    [SSACSolver()](./StartingModels/Michaelis-Menten_SSA_C.ipynb)    \n",
    "    [TauLeapingSolver()](./StartingModels/Michaelis-Menten_Basic_Tau_Leaping.ipynb)    \n",
    "    [TauHybridSolver()](./StartingModels/Michaelis-Menten_Basic_Tau_Hybrid.ipynb)    \n",
    "    \n",
    "**number_of_trajectories=1**  \n",
    "    [int]: Number of times to run the current simulation  \n",
    "    \n",
    "**seed=None**  \n",
    "    [int]: Define a custom seed for random number generation\n",
    "\n",
    "**show_labels=True**  \n",
    "    [bool]: When set to true (default) returns results in a dictonary with time and species as dictionary keys, and relevant trajectory vectors as value pair.  When set to False, results will be returned as a numpy array with dimensions [timestep][species_index].  Either way, the the results of each trajectory are stored in a list.\n",
    "\n",
    "<br/><br/>\n",
    "### results.plot() kwargs\n",
    "***xaxis_label='Time (s)'***  \n",
    "    [string]: Label for the plot's x-axis  \n",
    "***yaxis_label='Species Population'***  \n",
    "    [string]: Label for the plot's y-axis  \n",
    "***style='default'***  \n",
    "    [string]: matplotlib stylesheets https://matplotlib.org/3.1.1/gallery/style_sheets/style_sheets_reference.html  \n",
    "***title=None***  \n",
    "    [string]: title of figure  \n",
    "***show_legend=True***  \n",
    "    [bool]: Show legend if true.  \n",
    "***multiple_graphs=False***  \n",
    "    [bool]: if each trajectory should have its own graph or if they should overlap  \n",
    "***included_species_list=[]***  \n",
    "    [list]: A list of strings describing which species to include by species name. By default displays all species.  \n",
    "    \n",
    "<br/><br/>\n",
    "GillesPy2 also offers built-in offline plotly plotting and statistical data plotting.  [See the documents for more details.](https://gillespy2.readthedocs.io)  \n",
    "<br/><br/>\n",
    "  \n",
    "### Solver specific kwargs\n",
    "**ODESolver, TauHybridSolver: integrator='lsoda'**  \n",
    "    [String]:  \n",
    "integrator to be used form scipy.integrate.ode. Options include 'vode', 'zvode', 'lsoda', 'dopri5', and 'dop835'.  For more details, see https://docs.scipy.org/doc/scipy/reference/generated/scipy.integrate.ode.html  \n",
    "  \n",
    "**ODESolver, TauHybridSolver: integrator_options={}**  \n",
    "    [dictionary]:  \n",
    "contains options to the scipy integrator. for a list of options, see https://docs.scipy.org/doc/scipy/reference/generated/scipy.integrate.ode.html  \n",
    "  \n",
    "**TauLeapingSolver, TauHybridSolver: tau_tol=0.03**  \n",
    "    [float]:  \n",
    "Relative error tolerance value for calculating tau_step. value should be between 0.0-1.0  \n",
    "  \n",
    "**TauHybridSolver: switch_tol=0.03**  \n",
    "    [float]:  \n",
    "Relative error tolerance value for switching between deterministic/stochastic.  value should be between 0.0-1.0 \n",
    "<br/><br/>"
   ]
  },
  {
   "cell_type": "markdown",
   "metadata": {},
   "source": [
    "## HYBRID - ADVANCED\n",
    "\n",
    "Some of the solvers in GillesPy2 provide further options for customizing simulations.  For examples on how to use these advanced features, please see the following links:  \n",
    "\n",
    "[Hybrid: Using Rate Rules to model continuous species](./AdvancedExamples/Hybrid/hybrid_continuous_species.ipynb)  \n",
    "[Hybrid: Dynamically switching between stochastic and deterministic representations](./AdvancedExamples/Hybrid/hybrid_switching_example.ipynb)  \n",
    "\n",
    "\n"
   ]
  }
 ],
 "metadata": {
  "interpreter": {
   "hash": "0d8cb07411f73f986fdb4302174b7f31a0ca638c7e42c94b789c4579c5c5e5d2"
  },
  "kernelspec": {
   "display_name": "Python 3",
   "language": "python",
   "name": "python3"
  },
  "language_info": {
   "codemirror_mode": {
    "name": "ipython",
    "version": 3
   },
   "file_extension": ".py",
   "mimetype": "text/x-python",
   "name": "python",
   "nbconvert_exporter": "python",
   "pygments_lexer": "ipython3",
   "version": "3.8.10"
  }
 },
 "nbformat": 4,
 "nbformat_minor": 2
}
