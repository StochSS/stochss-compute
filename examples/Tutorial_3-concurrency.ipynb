{
 "cells": [
  {
   "cell_type": "code",
   "execution_count": 1,
   "metadata": {},
   "outputs": [],
   "source": [
    "import gillespy2 as gp2\n",
    "import stochss_compute as sssc"
   ]
  },
  {
   "cell_type": "code",
   "execution_count": 2,
   "metadata": {},
   "outputs": [],
   "source": [
    "import sys\n",
    "sys.path.insert(1, '../test/unit_tests/')\n",
    "import gillespy2_models as models"
   ]
  },
  {
   "cell_type": "code",
   "execution_count": 3,
   "metadata": {},
   "outputs": [],
   "source": [
    "decay = models.create_decay()\n",
    "dimer = models.create_dimerization()"
   ]
  },
  {
   "cell_type": "code",
   "execution_count": 4,
   "metadata": {},
   "outputs": [],
   "source": [
    "import multiprocessing as mp"
   ]
  },
  {
   "cell_type": "code",
   "execution_count": 5,
   "metadata": {},
   "outputs": [],
   "source": [
    "from distributed import Client"
   ]
  },
  {
   "cell_type": "code",
   "execution_count": 6,
   "metadata": {},
   "outputs": [
    {
     "name": "stderr",
     "output_type": "stream",
     "text": [
      "2023-02-09 18:26:38,957 - distributed.http.proxy - INFO - To route to workers diagnostics web server please install jupyter-server-proxy: python -m pip install jupyter-server-proxy\n",
      "2023-02-09 18:26:38,980 - distributed.scheduler - INFO - State start\n",
      "2023-02-09 18:26:38,984 - distributed.scheduler - INFO -   Scheduler at:     tcp://127.0.0.1:38435\n",
      "2023-02-09 18:26:38,984 - distributed.scheduler - INFO -   dashboard at:            127.0.0.1:8787\n",
      "2023-02-09 18:26:38,999 - distributed.nanny - INFO -         Start Nanny at: 'tcp://127.0.0.1:44383'\n",
      "2023-02-09 18:26:39,002 - distributed.nanny - INFO -         Start Nanny at: 'tcp://127.0.0.1:35687'\n",
      "2023-02-09 18:26:39,005 - distributed.nanny - INFO -         Start Nanny at: 'tcp://127.0.0.1:37415'\n",
      "2023-02-09 18:26:39,009 - distributed.nanny - INFO -         Start Nanny at: 'tcp://127.0.0.1:38563'\n",
      "2023-02-09 18:26:39,324 - distributed.scheduler - INFO - Register worker <WorkerState 'tcp://127.0.0.1:36375', name: 1, status: init, memory: 0, processing: 0>\n",
      "2023-02-09 18:26:39,326 - distributed.scheduler - INFO - Starting worker compute stream, tcp://127.0.0.1:36375\n",
      "2023-02-09 18:26:39,326 - distributed.core - INFO - Starting established connection to tcp://127.0.0.1:57606\n",
      "2023-02-09 18:26:39,335 - distributed.scheduler - INFO - Register worker <WorkerState 'tcp://127.0.0.1:43991', name: 0, status: init, memory: 0, processing: 0>\n",
      "2023-02-09 18:26:39,336 - distributed.scheduler - INFO - Starting worker compute stream, tcp://127.0.0.1:43991\n",
      "2023-02-09 18:26:39,336 - distributed.core - INFO - Starting established connection to tcp://127.0.0.1:57618\n",
      "2023-02-09 18:26:39,338 - distributed.scheduler - INFO - Register worker <WorkerState 'tcp://127.0.0.1:36795', name: 2, status: init, memory: 0, processing: 0>\n",
      "2023-02-09 18:26:39,339 - distributed.scheduler - INFO - Starting worker compute stream, tcp://127.0.0.1:36795\n",
      "2023-02-09 18:26:39,339 - distributed.core - INFO - Starting established connection to tcp://127.0.0.1:57622\n",
      "2023-02-09 18:26:39,343 - distributed.scheduler - INFO - Register worker <WorkerState 'tcp://127.0.0.1:42185', name: 3, status: init, memory: 0, processing: 0>\n",
      "2023-02-09 18:26:39,344 - distributed.scheduler - INFO - Starting worker compute stream, tcp://127.0.0.1:42185\n",
      "2023-02-09 18:26:39,345 - distributed.core - INFO - Starting established connection to tcp://127.0.0.1:57626\n",
      "2023-02-09 18:26:39,373 - distributed.scheduler - INFO - Receive client connection: Client-33bcc5a3-a8d1-11ed-9069-bffce49803b2\n",
      "2023-02-09 18:26:39,374 - distributed.core - INFO - Starting established connection to tcp://127.0.0.1:57640\n"
     ]
    }
   ],
   "source": [
    "dask = Client()"
   ]
  },
  {
   "cell_type": "code",
   "execution_count": 7,
   "metadata": {},
   "outputs": [
    {
     "data": {
      "text/plain": [
       "'38435'"
      ]
     },
     "execution_count": 7,
     "metadata": {},
     "output_type": "execute_result"
    }
   ],
   "source": [
    "port = dask.scheduler.addr.split(':')[2]\n",
    "port"
   ]
  },
  {
   "cell_type": "code",
   "execution_count": 8,
   "metadata": {},
   "outputs": [],
   "source": [
    "import asyncio"
   ]
  },
  {
   "cell_type": "code",
   "execution_count": 9,
   "metadata": {},
   "outputs": [],
   "source": [
    "async def _sssc():\n",
    "    kwargs = {\n",
    "        'dask_scheduler_port': port\n",
    "    }\n",
    "    await sssc.start_api(**kwargs)"
   ]
  },
  {
   "cell_type": "code",
   "execution_count": 10,
   "metadata": {},
   "outputs": [],
   "source": [
    "process = mp.Process(target=asyncio.run, args=(_sssc(),))"
   ]
  },
  {
   "cell_type": "code",
   "execution_count": 11,
   "metadata": {},
   "outputs": [
    {
     "name": "stderr",
     "output_type": "stream",
     "text": [
      "/home/mdip/.python/cpython/Lib/multiprocessing/process.py:125: RuntimeWarning: coroutine '_sssc' was never awaited\n",
      "  del self._target, self._args, self._kwargs\n"
     ]
    }
   ],
   "source": [
    "process.start()"
   ]
  },
  {
   "cell_type": "code",
   "execution_count": 12,
   "metadata": {},
   "outputs": [
    {
     "name": "stdout",
     "output_type": "stream",
     "text": [
      "StochSS-Compute listening on: :29681\n",
      "Cache directory: /home/mdip/projects/StochSS-Compute/examples/cache\n",
      "Connecting to Dask scheduler at: localhost:38435\n",
      "\n",
      "2023-02-09 18:26:39.991917 | <127.0.0.1> | Simulation Run Request | <613f39621a1f713f11869e914ead2c20> | Results not cached. Running simulation.\n",
      "2023-02-09 18:26:40.125963 | <127.0.0.1> | Simulation Run Request | <613f39621a1f713f11869e914ead2c20> | Results not cached. Running simulation.\n",
      "2023-02-09 18:26:40.167080 | <127.0.0.1> | Simulation Run Request | <613f39621a1f713f11869e914ead2c20> | Results not cached. Running simulation.\n",
      "2023-02-09 18:26:40.188021 | <127.0.0.1> | Simulation Run Request | <613f39621a1f713f11869e914ead2c20> | Results not cached. Running simulation.\n",
      "2023-02-09 18:26:40.207924 | <127.0.0.1> | Simulation Run Request | <613f39621a1f713f11869e914ead2c20> | Results not cached. Running simulation.\n",
      "2023-02-09 18:26:40.229195 | <127.0.0.1> | Simulation Run Request | <613f39621a1f713f11869e914ead2c20> | Results not cached. Running simulation.\n",
      "2023-02-09 18:26:40.246559 | Cache | <cache/613f39621a1f713f11869e914ead2c20.results> | Add\n",
      "2023-02-09 18:26:40.335435 | Cache | <cache/613f39621a1f713f11869e914ead2c20.results> | Add\n",
      "2023-02-09 18:26:40.366334 | Cache | <cache/613f39621a1f713f11869e914ead2c20.results> | Add\n",
      "2023-02-09 18:26:40.270252 | <127.0.0.1> | Simulation Run Request | <613f39621a1f713f11869e914ead2c20> | Results not cached. Running simulation.\n",
      "2023-02-09 18:26:40.320597 | Cache | <cache/613f39621a1f713f11869e914ead2c20.results> | Add\n",
      "2023-02-09 18:26:41.024662 | <127.0.0.1> | Simulation Run Request | <613f39621a1f713f11869e914ead2c20> | Results not cached. Running simulation.\n",
      "2023-02-09 18:26:40.456327 | Cache | <cache/613f39621a1f713f11869e914ead2c20.results> | Add\n",
      "2023-02-09 18:26:40.384354 | Cache | <cache/613f39621a1f713f11869e914ead2c20.results> | Add\n",
      "2023-02-09 18:26:41.095559 | Cache | <cache/613f39621a1f713f11869e914ead2c20.results> | Add\n",
      "2023-02-09 18:26:41.260967 | Cache | <cache/613f39621a1f713f11869e914ead2c20.results> | Add\n",
      "2023-02-09 18:26:41.225131 | <127.0.0.1> | Simulation Run Request | <613f39621a1f713f11869e914ead2c20> | Results not cached. Running simulation.\n",
      "2023-02-09 18:26:41.937622 | <127.0.0.1> | Simulation Run Request | <613f39621a1f713f11869e914ead2c20> | Results not cached. Running simulation.\n",
      "2023-02-09 18:26:41.952180 | Cache | <cache/613f39621a1f713f11869e914ead2c20.results> | Add\n",
      "2023-02-09 18:26:41.988998 | <127.0.0.1> | Simulation Run Request | <613f39621a1f713f11869e914ead2c20> | Results not cached. Running simulation.\n",
      "2023-02-09 18:26:42.056562 | Cache | <cache/613f39621a1f713f11869e914ead2c20.results> | Add\n",
      "2023-02-09 18:26:42.404503 | Cache | <cache/613f39621a1f713f11869e914ead2c20.results> | Add\n",
      "2023-02-09 18:26:42.357385 | <127.0.0.1> | Simulation Run Request | <613f39621a1f713f11869e914ead2c20> | Results not cached. Running simulation.\n",
      "2023-02-09 18:26:42.609616 | <127.0.0.1> | Simulation Run Request | <613f39621a1f713f11869e914ead2c20> | Results not cached. Running simulation.\n",
      "2023-02-09 18:26:42.624144 | Cache | <cache/613f39621a1f713f11869e914ead2c20.results> | Add\n",
      "2023-02-09 18:26:42.735208 | Cache | <cache/613f39621a1f713f11869e914ead2c20.results> | Add\n",
      "2023-02-09 18:26:42.659848 | <127.0.0.1> | Simulation Run Request | <613f39621a1f713f11869e914ead2c20> | Results not cached. Running simulation.\n",
      "2023-02-09 18:26:43.038484 | <127.0.0.1> | Simulation Run Request | <613f39621a1f713f11869e914ead2c20> | Results not cached. Running simulation.\n",
      "2023-02-09 18:26:43.052579 | Cache | <cache/613f39621a1f713f11869e914ead2c20.results> | Add\n",
      "2023-02-09 18:26:43.176038 | <127.0.0.1> | Simulation Run Request | <613f39621a1f713f11869e914ead2c20> | Results not cached. Running simulation.\n",
      "2023-02-09 18:26:43.310140 | <127.0.0.1> | Simulation Run Request | <613f39621a1f713f11869e914ead2c20> | Results not cached. Running simulation.\n",
      "2023-02-09 18:26:43.195156 | Cache | <cache/613f39621a1f713f11869e914ead2c20.results> | Add\n"
     ]
    }
   ],
   "source": [
    "sim = sssc.RemoteSimulation(decay, host='localhost')"
   ]
  },
  {
   "cell_type": "code",
   "execution_count": 13,
   "metadata": {},
   "outputs": [],
   "source": [
    "import time"
   ]
  },
  {
   "cell_type": "code",
   "execution_count": 14,
   "metadata": {},
   "outputs": [],
   "source": [
    "def run_parallel(n_trajectories):\n",
    "    _results = []\n",
    "    for i in range(1,n_trajectories+1):\n",
    "        time.sleep(.005)\n",
    "        _results.append(sim.run(solver=gp2.NumPySSASolver, force_new=True))\n",
    "    return _results"
   ]
  },
  {
   "cell_type": "code",
   "execution_count": 15,
   "metadata": {},
   "outputs": [
    {
     "name": "stderr",
     "output_type": "stream",
     "text": [
      "2023-02-09 18:26:39,999 - distributed.scheduler - INFO - Receive client connection: Client-34731213-a8d1-11ed-90b5-bffce49803b2\n",
      "2023-02-09 18:26:40,000 - distributed.core - INFO - Starting established connection to tcp://127.0.0.1:57662\n",
      "2023-02-09 18:26:40,154 - distributed.scheduler - INFO - Receive client connection: Client-34876e2e-a8d1-11ed-90b5-bffce49803b2\n",
      "2023-02-09 18:26:40,155 - distributed.core - INFO - Starting established connection to tcp://127.0.0.1:57670\n",
      "2023-02-09 18:26:40,173 - distributed.scheduler - INFO - Receive client connection: Client-348dc9cc-a8d1-11ed-90b5-bffce49803b2\n",
      "2023-02-09 18:26:40,174 - distributed.core - INFO - Starting established connection to tcp://127.0.0.1:57676\n"
     ]
    },
    {
     "name": "stdout",
     "output_type": "stream",
     "text": [
      "[SimulationRunRequest] http://localhost:29681/api/v2/simulation/gillespy2/run\n",
      "[SimulationRunRequest] http://localhost:29681/api/v2/simulation/gillespy2/run\n",
      "[SimulationRunRequest] http://localhost:29681/api/v2/simulation/gillespy2/run\n"
     ]
    },
    {
     "name": "stderr",
     "output_type": "stream",
     "text": [
      "2023-02-09 18:26:40,194 - distributed.scheduler - INFO - Receive client connection: Client-3490edcb-a8d1-11ed-90b5-bffce49803b2\n",
      "2023-02-09 18:26:40,195 - distributed.core - INFO - Starting established connection to tcp://127.0.0.1:57686\n",
      "2023-02-09 18:26:40,214 - distributed.scheduler - INFO - Receive client connection: Client-34940a56-a8d1-11ed-90b5-bffce49803b2\n",
      "2023-02-09 18:26:40,216 - distributed.core - INFO - Starting established connection to tcp://127.0.0.1:57702\n",
      "2023-02-09 18:26:40,237 - distributed.scheduler - INFO - Receive client connection: Client-34974375-a8d1-11ed-90b5-bffce49803b2\n",
      "2023-02-09 18:26:40,238 - distributed.core - INFO - Starting established connection to tcp://127.0.0.1:57714\n",
      "2023-02-09 18:26:40,244 - distributed.scheduler - INFO - Remove client Client-34731213-a8d1-11ed-90b5-bffce49803b2\n",
      "2023-02-09 18:26:40,245 - distributed.core - INFO - Received 'close-stream' from tcp://127.0.0.1:57662; closing.\n",
      "2023-02-09 18:26:40,245 - distributed.scheduler - INFO - Remove client Client-34731213-a8d1-11ed-90b5-bffce49803b2\n",
      "2023-02-09 18:26:40,250 - distributed.scheduler - INFO - Close client connection: Client-34731213-a8d1-11ed-90b5-bffce49803b2\n",
      "2023-02-09 18:26:40,257 - distributed.scheduler - INFO - Remove client Client-34940a56-a8d1-11ed-90b5-bffce49803b2\n",
      "2023-02-09 18:26:40,258 - distributed.core - INFO - Received 'close-stream' from tcp://127.0.0.1:57702; closing.\n",
      "2023-02-09 18:26:40,259 - distributed.scheduler - INFO - Remove client Client-34940a56-a8d1-11ed-90b5-bffce49803b2\n",
      "2023-02-09 18:26:40,259 - distributed.scheduler - INFO - Close client connection: Client-34940a56-a8d1-11ed-90b5-bffce49803b2\n",
      "2023-02-09 18:26:40,293 - distributed.scheduler - INFO - Remove client Client-34974375-a8d1-11ed-90b5-bffce49803b2\n",
      "2023-02-09 18:26:40,294 - distributed.core - INFO - Received 'close-stream' from tcp://127.0.0.1:57714; closing.\n",
      "2023-02-09 18:26:40,294 - distributed.scheduler - INFO - Remove client Client-34974375-a8d1-11ed-90b5-bffce49803b2\n",
      "2023-02-09 18:26:40,295 - distributed.scheduler - INFO - Close client connection: Client-34974375-a8d1-11ed-90b5-bffce49803b2\n",
      "2023-02-09 18:26:40,331 - distributed.scheduler - INFO - Remove client Client-34876e2e-a8d1-11ed-90b5-bffce49803b2\n",
      "2023-02-09 18:26:40,332 - distributed.core - INFO - Received 'close-stream' from tcp://127.0.0.1:57670; closing.\n",
      "2023-02-09 18:26:40,332 - distributed.scheduler - INFO - Remove client Client-34876e2e-a8d1-11ed-90b5-bffce49803b2\n",
      "2023-02-09 18:26:40,333 - distributed.scheduler - INFO - Close client connection: Client-34876e2e-a8d1-11ed-90b5-bffce49803b2\n",
      "2023-02-09 18:26:40,340 - distributed.scheduler - INFO - Remove client Client-348dc9cc-a8d1-11ed-90b5-bffce49803b2\n",
      "2023-02-09 18:26:40,340 - distributed.core - INFO - Received 'close-stream' from tcp://127.0.0.1:57676; closing.\n",
      "2023-02-09 18:26:40,341 - distributed.scheduler - INFO - Remove client Client-348dc9cc-a8d1-11ed-90b5-bffce49803b2\n",
      "2023-02-09 18:26:40,342 - distributed.scheduler - INFO - Close client connection: Client-348dc9cc-a8d1-11ed-90b5-bffce49803b2\n",
      "2023-02-09 18:26:40,365 - distributed.scheduler - INFO - Remove client Client-3490edcb-a8d1-11ed-90b5-bffce49803b2\n",
      "2023-02-09 18:26:40,365 - distributed.core - INFO - Received 'close-stream' from tcp://127.0.0.1:57686; closing.\n",
      "2023-02-09 18:26:40,366 - distributed.scheduler - INFO - Remove client Client-3490edcb-a8d1-11ed-90b5-bffce49803b2\n",
      "2023-02-09 18:26:40,367 - distributed.scheduler - INFO - Close client connection: Client-3490edcb-a8d1-11ed-90b5-bffce49803b2\n"
     ]
    },
    {
     "name": "stdout",
     "output_type": "stream",
     "text": [
      "[SimulationRunRequest] http://localhost:29681/api/v2/simulation/gillespy2/run\n",
      "[SimulationRunRequest] http://localhost:29681/api/v2/simulation/gillespy2/run\n",
      "[SimulationRunRequest] http://localhost:29681/api/v2/simulation/gillespy2/run\n",
      "[SimulationRunRequest] http://localhost:29681/api/v2/simulation/gillespy2/run\n"
     ]
    },
    {
     "name": "stderr",
     "output_type": "stream",
     "text": [
      "2023-02-09 18:26:40,955 - distributed.scheduler - INFO - Receive client connection: Client-35054f07-a8d1-11ed-90b5-bffce49803b2\n",
      "2023-02-09 18:26:40,957 - distributed.core - INFO - Starting established connection to tcp://127.0.0.1:57760\n",
      "2023-02-09 18:26:41,058 - distributed.scheduler - INFO - Remove client Client-35054f07-a8d1-11ed-90b5-bffce49803b2\n",
      "2023-02-09 18:26:41,058 - distributed.core - INFO - Received 'close-stream' from tcp://127.0.0.1:57760; closing.\n",
      "2023-02-09 18:26:41,059 - distributed.scheduler - INFO - Remove client Client-35054f07-a8d1-11ed-90b5-bffce49803b2\n",
      "2023-02-09 18:26:41,060 - distributed.scheduler - INFO - Close client connection: Client-35054f07-a8d1-11ed-90b5-bffce49803b2\n",
      "2023-02-09 18:26:41,174 - distributed.scheduler - INFO - Receive client connection: Client-35241ec3-a8d1-11ed-90b5-bffce49803b2\n",
      "2023-02-09 18:26:41,175 - distributed.core - INFO - Starting established connection to tcp://127.0.0.1:57780\n"
     ]
    },
    {
     "name": "stdout",
     "output_type": "stream",
     "text": [
      "[SimulationRunRequest] http://localhost:29681/api/v2/simulation/gillespy2/run\n"
     ]
    },
    {
     "name": "stderr",
     "output_type": "stream",
     "text": [
      "2023-02-09 18:26:41,225 - distributed.scheduler - INFO - Remove client Client-35241ec3-a8d1-11ed-90b5-bffce49803b2\n",
      "2023-02-09 18:26:41,226 - distributed.core - INFO - Received 'close-stream' from tcp://127.0.0.1:57780; closing.\n",
      "2023-02-09 18:26:41,226 - distributed.scheduler - INFO - Remove client Client-35241ec3-a8d1-11ed-90b5-bffce49803b2\n",
      "2023-02-09 18:26:41,227 - distributed.scheduler - INFO - Close client connection: Client-35241ec3-a8d1-11ed-90b5-bffce49803b2\n"
     ]
    },
    {
     "name": "stdout",
     "output_type": "stream",
     "text": [
      "[SimulationRunRequest] http://localhost:29681/api/v2/simulation/gillespy2/run\n"
     ]
    },
    {
     "name": "stderr",
     "output_type": "stream",
     "text": [
      "2023-02-09 18:26:41,925 - distributed.scheduler - INFO - Receive client connection: Client-35994bc5-a8d1-11ed-90b5-bffce49803b2\n",
      "2023-02-09 18:26:41,926 - distributed.core - INFO - Starting established connection to tcp://127.0.0.1:57808\n",
      "2023-02-09 18:26:41,943 - distributed.scheduler - INFO - Receive client connection: Client-359bdd64-a8d1-11ed-90b5-bffce49803b2\n",
      "2023-02-09 18:26:41,944 - distributed.core - INFO - Starting established connection to tcp://127.0.0.1:57838\n",
      "2023-02-09 18:26:41,950 - distributed.scheduler - INFO - Remove client Client-35994bc5-a8d1-11ed-90b5-bffce49803b2\n",
      "2023-02-09 18:26:41,950 - distributed.core - INFO - Received 'close-stream' from tcp://127.0.0.1:57808; closing.\n",
      "2023-02-09 18:26:41,951 - distributed.scheduler - INFO - Remove client Client-35994bc5-a8d1-11ed-90b5-bffce49803b2\n",
      "2023-02-09 18:26:41,952 - distributed.scheduler - INFO - Close client connection: Client-35994bc5-a8d1-11ed-90b5-bffce49803b2\n",
      "2023-02-09 18:26:41,995 - distributed.scheduler - INFO - Remove client Client-359bdd64-a8d1-11ed-90b5-bffce49803b2\n",
      "2023-02-09 18:26:41,995 - distributed.core - INFO - Received 'close-stream' from tcp://127.0.0.1:57838; closing.\n",
      "2023-02-09 18:26:41,996 - distributed.scheduler - INFO - Remove client Client-359bdd64-a8d1-11ed-90b5-bffce49803b2\n",
      "2023-02-09 18:26:41,997 - distributed.scheduler - INFO - Close client connection: Client-359bdd64-a8d1-11ed-90b5-bffce49803b2\n"
     ]
    },
    {
     "name": "stdout",
     "output_type": "stream",
     "text": [
      "[SimulationRunRequest] http://localhost:29681/api/v2/simulation/gillespy2/run\n",
      "[SimulationRunRequest] http://localhost:29681/api/v2/simulation/gillespy2/run\n"
     ]
    },
    {
     "name": "stderr",
     "output_type": "stream",
     "text": [
      "2023-02-09 18:26:42,309 - distributed.scheduler - INFO - Receive client connection: Client-35c0406f-a8d1-11ed-90b5-bffce49803b2\n",
      "2023-02-09 18:26:42,310 - distributed.core - INFO - Starting established connection to tcp://127.0.0.1:57856\n",
      "2023-02-09 18:26:42,402 - distributed.scheduler - INFO - Remove client Client-35c0406f-a8d1-11ed-90b5-bffce49803b2\n",
      "2023-02-09 18:26:42,403 - distributed.core - INFO - Received 'close-stream' from tcp://127.0.0.1:57856; closing.\n",
      "2023-02-09 18:26:42,403 - distributed.scheduler - INFO - Remove client Client-35c0406f-a8d1-11ed-90b5-bffce49803b2\n",
      "2023-02-09 18:26:42,405 - distributed.scheduler - INFO - Close client connection: Client-35c0406f-a8d1-11ed-90b5-bffce49803b2\n"
     ]
    },
    {
     "name": "stdout",
     "output_type": "stream",
     "text": [
      "[SimulationRunRequest] http://localhost:29681/api/v2/simulation/gillespy2/run\n"
     ]
    },
    {
     "name": "stderr",
     "output_type": "stream",
     "text": [
      "2023-02-09 18:26:42,597 - distributed.scheduler - INFO - Receive client connection: Client-35ffd3f2-a8d1-11ed-90b5-bffce49803b2\n",
      "2023-02-09 18:26:42,598 - distributed.core - INFO - Starting established connection to tcp://127.0.0.1:57872\n",
      "2023-02-09 18:26:42,615 - distributed.scheduler - INFO - Receive client connection: Client-36026945-a8d1-11ed-90b5-bffce49803b2\n",
      "2023-02-09 18:26:42,616 - distributed.core - INFO - Starting established connection to tcp://127.0.0.1:57890\n",
      "2023-02-09 18:26:42,622 - distributed.scheduler - INFO - Remove client Client-35ffd3f2-a8d1-11ed-90b5-bffce49803b2\n",
      "2023-02-09 18:26:42,622 - distributed.core - INFO - Received 'close-stream' from tcp://127.0.0.1:57872; closing.\n",
      "2023-02-09 18:26:42,623 - distributed.scheduler - INFO - Remove client Client-35ffd3f2-a8d1-11ed-90b5-bffce49803b2\n",
      "2023-02-09 18:26:42,624 - distributed.scheduler - INFO - Close client connection: Client-35ffd3f2-a8d1-11ed-90b5-bffce49803b2\n",
      "2023-02-09 18:26:42,670 - distributed.scheduler - INFO - Remove client Client-36026945-a8d1-11ed-90b5-bffce49803b2\n",
      "2023-02-09 18:26:42,671 - distributed.core - INFO - Received 'close-stream' from tcp://127.0.0.1:57890; closing.\n",
      "2023-02-09 18:26:42,672 - distributed.scheduler - INFO - Remove client Client-36026945-a8d1-11ed-90b5-bffce49803b2\n",
      "2023-02-09 18:26:42,672 - distributed.scheduler - INFO - Close client connection: Client-36026945-a8d1-11ed-90b5-bffce49803b2\n"
     ]
    },
    {
     "name": "stdout",
     "output_type": "stream",
     "text": [
      "[SimulationRunRequest] http://localhost:29681/api/v2/simulation/gillespy2/run\n",
      "[SimulationRunRequest] http://localhost:29681/api/v2/simulation/gillespy2/run\n"
     ]
    },
    {
     "name": "stderr",
     "output_type": "stream",
     "text": [
      "2023-02-09 18:26:43,019 - distributed.scheduler - INFO - Receive client connection: Client-3640192b-a8d1-11ed-90b5-bffce49803b2\n",
      "2023-02-09 18:26:43,020 - distributed.core - INFO - Starting established connection to tcp://127.0.0.1:57908\n",
      "2023-02-09 18:26:43,048 - distributed.scheduler - INFO - Remove client Client-3640192b-a8d1-11ed-90b5-bffce49803b2\n",
      "2023-02-09 18:26:43,049 - distributed.core - INFO - Received 'close-stream' from tcp://127.0.0.1:57908; closing.\n",
      "2023-02-09 18:26:43,051 - distributed.scheduler - INFO - Remove client Client-3640192b-a8d1-11ed-90b5-bffce49803b2\n",
      "2023-02-09 18:26:43,054 - distributed.scheduler - INFO - Close client connection: Client-3640192b-a8d1-11ed-90b5-bffce49803b2\n",
      "2023-02-09 18:26:43,077 - distributed.scheduler - INFO - Receive client connection: Client-36444351-a8d1-11ed-90b5-bffce49803b2\n",
      "2023-02-09 18:26:43,079 - distributed.core - INFO - Starting established connection to tcp://127.0.0.1:57920\n",
      "2023-02-09 18:26:43,176 - distributed.scheduler - INFO - Remove client Client-36444351-a8d1-11ed-90b5-bffce49803b2\n",
      "2023-02-09 18:26:43,177 - distributed.core - INFO - Received 'close-stream' from tcp://127.0.0.1:57920; closing.\n",
      "2023-02-09 18:26:43,177 - distributed.scheduler - INFO - Remove client Client-36444351-a8d1-11ed-90b5-bffce49803b2\n",
      "2023-02-09 18:26:43,178 - distributed.scheduler - INFO - Close client connection: Client-36444351-a8d1-11ed-90b5-bffce49803b2\n"
     ]
    },
    {
     "name": "stdout",
     "output_type": "stream",
     "text": [
      "[SimulationRunRequest] http://localhost:29681/api/v2/simulation/gillespy2/run\n",
      "[SimulationRunRequest] http://localhost:29681/api/v2/simulation/gillespy2/run\n"
     ]
    },
    {
     "name": "stderr",
     "output_type": "stream",
     "text": [
      "2023-02-09 18:26:43,297 - distributed.scheduler - INFO - Receive client connection: Client-366a82aa-a8d1-11ed-90b5-bffce49803b2\n",
      "2023-02-09 18:26:43,298 - distributed.core - INFO - Starting established connection to tcp://127.0.0.1:57940\n",
      "2023-02-09 18:26:43,359 - distributed.scheduler - INFO - Remove client Client-366a82aa-a8d1-11ed-90b5-bffce49803b2\n",
      "2023-02-09 18:26:43,360 - distributed.core - INFO - Received 'close-stream' from tcp://127.0.0.1:57940; closing.\n",
      "2023-02-09 18:26:43,361 - distributed.scheduler - INFO - Remove client Client-366a82aa-a8d1-11ed-90b5-bffce49803b2\n",
      "2023-02-09 18:26:43,361 - distributed.scheduler - INFO - Close client connection: Client-366a82aa-a8d1-11ed-90b5-bffce49803b2\n"
     ]
    },
    {
     "name": "stderr",
     "output_type": "stream",
     "text": [
      "2023-02-09 18:26:43,492 - asyncio - ERROR - Future exception was never retrieved\n",
      "future: <Future finished exception=TimeoutError('Timeout')>\n",
      "TimeoutError: Timeout\n"
     ]
    },
    {
     "name": "stdout",
     "output_type": "stream",
     "text": [
      "[SimulationRunRequest] http://localhost:29681/api/v2/simulation/gillespy2/run\n"
     ]
    },
    {
     "name": "stderr",
     "output_type": "stream",
     "text": [
      "2023-02-09 18:26:43,558 - distributed.scheduler - INFO - Receive client connection: Client-366d4a77-a8d1-11ed-90b5-bffce49803b2\n",
      "2023-02-09 18:26:43,559 - distributed.core - INFO - Starting established connection to tcp://127.0.0.1:57958\n",
      "2023-02-09 18:26:43,578 - distributed.scheduler - INFO - Receive client connection: Client-36952ac6-a8d1-11ed-90b5-bffce49803b2\n",
      "2023-02-09 18:26:43,579 - distributed.core - INFO - Starting established connection to tcp://127.0.0.1:57974\n",
      "2023-02-09 18:26:43,581 - distributed.scheduler - INFO - Remove client Client-366d4a77-a8d1-11ed-90b5-bffce49803b2\n",
      "2023-02-09 18:26:43,582 - distributed.core - INFO - Received 'close-stream' from tcp://127.0.0.1:57958; closing.\n",
      "2023-02-09 18:26:43,583 - distributed.scheduler - INFO - Remove client Client-366d4a77-a8d1-11ed-90b5-bffce49803b2\n",
      "2023-02-09 18:26:43,584 - distributed.scheduler - INFO - Close client connection: Client-366d4a77-a8d1-11ed-90b5-bffce49803b2\n",
      "2023-02-09 18:26:43,614 - distributed.scheduler - INFO - Remove client Client-36952ac6-a8d1-11ed-90b5-bffce49803b2\n",
      "2023-02-09 18:26:43,614 - distributed.core - INFO - Received 'close-stream' from tcp://127.0.0.1:57974; closing.\n",
      "2023-02-09 18:26:43,615 - distributed.scheduler - INFO - Remove client Client-36952ac6-a8d1-11ed-90b5-bffce49803b2\n",
      "2023-02-09 18:26:43,616 - distributed.scheduler - INFO - Close client connection: Client-36952ac6-a8d1-11ed-90b5-bffce49803b2\n"
     ]
    },
    {
     "name": "stdout",
     "output_type": "stream",
     "text": [
      "2023-02-09 18:26:43.570895 | <127.0.0.1> | Simulation Run Request | <613f39621a1f713f11869e914ead2c20> | Results not cached. Running simulation.\n",
      "2023-02-09 18:26:43.584053 | Cache | <cache/613f39621a1f713f11869e914ead2c20.results> | Add\n",
      "2023-02-09 18:26:43.497548 | Cache | <cache/613f39621a1f713f11869e914ead2c20.results> | Add\n",
      "2023-02-09 18:26:43.698557 | Cache | <cache/613f39621a1f713f11869e914ead2c20.results> | Add\n",
      "2023-02-09 18:26:43.613752 | <127.0.0.1> | Simulation Run Request | <613f39621a1f713f11869e914ead2c20> | Results not cached. Running simulation.\n",
      "2023-02-09 18:26:44.285811 | <127.0.0.1> | Simulation Run Request | <613f39621a1f713f11869e914ead2c20> | Results not cached. Running simulation.\n",
      "2023-02-09 18:26:44.299892 | Cache | <cache/613f39621a1f713f11869e914ead2c20.results> | Add\n",
      "2023-02-09 18:26:44.350739 | <127.0.0.1> | Simulation Run Request | <613f39621a1f713f11869e914ead2c20> | Results not cached. Running simulation.\n",
      "2023-02-09 18:26:44.390593 | Cache | <cache/613f39621a1f713f11869e914ead2c20.results> | Add\n",
      "2023-02-09 18:26:44.564742 | <127.0.0.1> | Simulation Run Request | <613f39621a1f713f11869e914ead2c20> | Results not cached. Running simulation.\n",
      "2023-02-09 18:26:44.661982 | Cache | <cache/613f39621a1f713f11869e914ead2c20.results> | Add\n",
      "2023-02-09 18:26:44.887476 | Cache | <cache/613f39621a1f713f11869e914ead2c20.results> | Add\n",
      "2023-02-09 18:26:44.789447 | <127.0.0.1> | Simulation Run Request | <613f39621a1f713f11869e914ead2c20> | Results not cached. Running simulation.\n",
      "2023-02-09 18:26:45.265339 | <127.0.0.1> | Simulation Run Request | <613f39621a1f713f11869e914ead2c20> | Results not cached. Running simulation.\n",
      "2023-02-09 18:26:45.279209 | Cache | <cache/613f39621a1f713f11869e914ead2c20.results> | Add\n",
      "2023-02-09 18:26:45.452433 | Cache | <cache/613f39621a1f713f11869e914ead2c20.results> | Add\n",
      "2023-02-09 18:26:45.401273 | <127.0.0.1> | Simulation Run Request | <613f39621a1f713f11869e914ead2c20> | Results not cached. Running simulation.\n",
      "2023-02-09 18:26:45.732540 | <127.0.0.1> | Simulation Run Request | <613f39621a1f713f11869e914ead2c20> | Results not cached. Running simulation.\n",
      "2023-02-09 18:26:45.746856 | Cache | <cache/613f39621a1f713f11869e914ead2c20.results> | Add\n",
      "2023-02-09 18:26:45.762829 | <127.0.0.1> | Simulation Run Request | <613f39621a1f713f11869e914ead2c20> | Results not cached. Running simulation.\n",
      "2023-02-09 18:26:45.858700 | Cache | <cache/613f39621a1f713f11869e914ead2c20.results> | Add\n",
      "2023-02-09 18:26:46.095527 | Cache | <cache/613f39621a1f713f11869e914ead2c20.results> | Add\n",
      "2023-02-09 18:26:46.016555 | <127.0.0.1> | Simulation Run Request | <613f39621a1f713f11869e914ead2c20> | Results not cached. Running simulation.\n",
      "2023-02-09 18:26:46.409325 | <127.0.0.1> | Simulation Run Request | <613f39621a1f713f11869e914ead2c20> | Results not cached. Running simulation.\n"
     ]
    },
    {
     "name": "stdout",
     "output_type": "stream",
     "text": [
      "[SimulationRunRequest] http://localhost:29681/api/v2/simulation/gillespy2/run\n",
      "[SimulationRunRequest] http://localhost:29681/api/v2/simulation/gillespy2/run\n"
     ]
    },
    {
     "name": "stderr",
     "output_type": "stream",
     "text": [
      "2023-02-09 18:26:44,273 - distributed.scheduler - INFO - Receive client connection: Client-36ff763f-a8d1-11ed-90b5-bffce49803b2\n",
      "2023-02-09 18:26:44,274 - distributed.core - INFO - Starting established connection to tcp://127.0.0.1:58004\n",
      "2023-02-09 18:26:44,293 - distributed.scheduler - INFO - Receive client connection: Client-37024cd8-a8d1-11ed-90b5-bffce49803b2\n",
      "2023-02-09 18:26:44,294 - distributed.core - INFO - Starting established connection to tcp://127.0.0.1:58026\n",
      "2023-02-09 18:26:44,297 - distributed.scheduler - INFO - Remove client Client-36ff763f-a8d1-11ed-90b5-bffce49803b2\n",
      "2023-02-09 18:26:44,298 - distributed.core - INFO - Received 'close-stream' from tcp://127.0.0.1:58004; closing.\n",
      "2023-02-09 18:26:44,299 - distributed.scheduler - INFO - Remove client Client-36ff763f-a8d1-11ed-90b5-bffce49803b2\n",
      "2023-02-09 18:26:44,300 - distributed.scheduler - INFO - Close client connection: Client-36ff763f-a8d1-11ed-90b5-bffce49803b2\n",
      "2023-02-09 18:26:44,344 - distributed.scheduler - INFO - Remove client Client-37024cd8-a8d1-11ed-90b5-bffce49803b2\n",
      "2023-02-09 18:26:44,344 - distributed.core - INFO - Received 'close-stream' from tcp://127.0.0.1:58026; closing.\n",
      "2023-02-09 18:26:44,346 - distributed.scheduler - INFO - Remove client Client-37024cd8-a8d1-11ed-90b5-bffce49803b2\n",
      "2023-02-09 18:26:44,346 - distributed.scheduler - INFO - Close client connection: Client-37024cd8-a8d1-11ed-90b5-bffce49803b2\n"
     ]
    },
    {
     "name": "stdout",
     "output_type": "stream",
     "text": [
      "[SimulationRunRequest] http://localhost:29681/api/v2/simulation/gillespy2/run\n",
      "[SimulationRunRequest] http://localhost:29681/api/v2/simulation/gillespy2/run\n"
     ]
    },
    {
     "name": "stderr",
     "output_type": "stream",
     "text": [
      "2023-02-09 18:26:44,542 - distributed.scheduler - INFO - Receive client connection: Client-3728977d-a8d1-11ed-90b5-bffce49803b2\n",
      "2023-02-09 18:26:44,543 - distributed.core - INFO - Starting established connection to tcp://127.0.0.1:58036\n",
      "2023-02-09 18:26:44,614 - distributed.scheduler - INFO - Remove client Client-3728977d-a8d1-11ed-90b5-bffce49803b2\n",
      "2023-02-09 18:26:44,615 - distributed.core - INFO - Received 'close-stream' from tcp://127.0.0.1:58036; closing.\n",
      "2023-02-09 18:26:44,615 - distributed.scheduler - INFO - Remove client Client-3728977d-a8d1-11ed-90b5-bffce49803b2\n",
      "2023-02-09 18:26:44,616 - distributed.scheduler - INFO - Close client connection: Client-3728977d-a8d1-11ed-90b5-bffce49803b2\n"
     ]
    },
    {
     "name": "stdout",
     "output_type": "stream",
     "text": [
      "[SimulationRunRequest] http://localhost:29681/api/v2/simulation/gillespy2/run\n"
     ]
    },
    {
     "name": "stderr",
     "output_type": "stream",
     "text": [
      "2023-02-09 18:26:44,777 - distributed.scheduler - INFO - Receive client connection: Client-374c60e7-a8d1-11ed-90b5-bffce49803b2\n",
      "2023-02-09 18:26:44,778 - distributed.core - INFO - Starting established connection to tcp://127.0.0.1:58058\n",
      "2023-02-09 18:26:44,846 - distributed.scheduler - INFO - Remove client Client-374c60e7-a8d1-11ed-90b5-bffce49803b2\n",
      "2023-02-09 18:26:44,847 - distributed.core - INFO - Received 'close-stream' from tcp://127.0.0.1:58058; closing.\n",
      "2023-02-09 18:26:44,848 - distributed.scheduler - INFO - Remove client Client-374c60e7-a8d1-11ed-90b5-bffce49803b2\n",
      "2023-02-09 18:26:44,850 - distributed.scheduler - INFO - Close client connection: Client-374c60e7-a8d1-11ed-90b5-bffce49803b2\n"
     ]
    },
    {
     "name": "stdout",
     "output_type": "stream",
     "text": [
      "[SimulationRunRequest] http://localhost:29681/api/v2/simulation/gillespy2/run\n"
     ]
    },
    {
     "name": "stderr",
     "output_type": "stream",
     "text": [
      "2023-02-09 18:26:45,248 - distributed.scheduler - INFO - Receive client connection: Client-3793f94d-a8d1-11ed-90b5-bffce49803b2\n",
      "2023-02-09 18:26:45,249 - distributed.core - INFO - Starting established connection to tcp://127.0.0.1:46632\n",
      "2023-02-09 18:26:45,275 - distributed.scheduler - INFO - Remove client Client-3793f94d-a8d1-11ed-90b5-bffce49803b2\n",
      "2023-02-09 18:26:45,277 - distributed.core - INFO - Received 'close-stream' from tcp://127.0.0.1:46632; closing.\n",
      "2023-02-09 18:26:45,278 - distributed.scheduler - INFO - Remove client Client-3793f94d-a8d1-11ed-90b5-bffce49803b2\n",
      "2023-02-09 18:26:45,280 - distributed.scheduler - INFO - Receive client connection: Client-3797e52d-a8d1-11ed-90b5-bffce49803b2\n",
      "2023-02-09 18:26:45,282 - distributed.core - INFO - Starting established connection to tcp://127.0.0.1:46664\n",
      "2023-02-09 18:26:45,284 - distributed.scheduler - INFO - Close client connection: Client-3793f94d-a8d1-11ed-90b5-bffce49803b2\n",
      "2023-02-09 18:26:45,408 - distributed.scheduler - INFO - Remove client Client-3797e52d-a8d1-11ed-90b5-bffce49803b2\n",
      "2023-02-09 18:26:45,408 - distributed.core - INFO - Received 'close-stream' from tcp://127.0.0.1:46664; closing.\n",
      "2023-02-09 18:26:45,409 - distributed.scheduler - INFO - Remove client Client-3797e52d-a8d1-11ed-90b5-bffce49803b2\n",
      "2023-02-09 18:26:45,410 - distributed.scheduler - INFO - Close client connection: Client-3797e52d-a8d1-11ed-90b5-bffce49803b2\n"
     ]
    },
    {
     "name": "stdout",
     "output_type": "stream",
     "text": [
      "[SimulationRunRequest] http://localhost:29681/api/v2/simulation/gillespy2/run\n",
      "[SimulationRunRequest] http://localhost:29681/api/v2/simulation/gillespy2/run\n"
     ]
    },
    {
     "name": "stderr",
     "output_type": "stream",
     "text": [
      "2023-02-09 18:26:45,720 - distributed.scheduler - INFO - Receive client connection: Client-37dc4e5b-a8d1-11ed-90b5-bffce49803b2\n",
      "2023-02-09 18:26:45,721 - distributed.core - INFO - Starting established connection to tcp://127.0.0.1:46678\n",
      "2023-02-09 18:26:45,738 - distributed.scheduler - INFO - Receive client connection: Client-37df050b-a8d1-11ed-90b5-bffce49803b2\n",
      "2023-02-09 18:26:45,739 - distributed.core - INFO - Starting established connection to tcp://127.0.0.1:46696\n",
      "2023-02-09 18:26:45,745 - distributed.scheduler - INFO - Remove client Client-37dc4e5b-a8d1-11ed-90b5-bffce49803b2\n",
      "2023-02-09 18:26:45,745 - distributed.core - INFO - Received 'close-stream' from tcp://127.0.0.1:46678; closing.\n",
      "2023-02-09 18:26:45,746 - distributed.scheduler - INFO - Remove client Client-37dc4e5b-a8d1-11ed-90b5-bffce49803b2\n",
      "2023-02-09 18:26:45,747 - distributed.scheduler - INFO - Close client connection: Client-37dc4e5b-a8d1-11ed-90b5-bffce49803b2\n",
      "2023-02-09 18:26:45,804 - distributed.scheduler - INFO - Remove client Client-37df050b-a8d1-11ed-90b5-bffce49803b2\n",
      "2023-02-09 18:26:45,805 - distributed.core - INFO - Received 'close-stream' from tcp://127.0.0.1:46696; closing.\n",
      "2023-02-09 18:26:45,805 - distributed.scheduler - INFO - Remove client Client-37df050b-a8d1-11ed-90b5-bffce49803b2\n",
      "2023-02-09 18:26:45,806 - distributed.scheduler - INFO - Close client connection: Client-37df050b-a8d1-11ed-90b5-bffce49803b2\n"
     ]
    },
    {
     "name": "stdout",
     "output_type": "stream",
     "text": [
      "[SimulationRunRequest] http://localhost:29681/api/v2/simulation/gillespy2/run\n",
      "[SimulationRunRequest] http://localhost:29681/api/v2/simulation/gillespy2/run\n"
     ]
    },
    {
     "name": "stderr",
     "output_type": "stream",
     "text": [
      "2023-02-09 18:26:45,973 - distributed.scheduler - INFO - Receive client connection: Client-3802ec5e-a8d1-11ed-90b5-bffce49803b2\n",
      "2023-02-09 18:26:45,973 - distributed.core - INFO - Starting established connection to tcp://127.0.0.1:46704\n",
      "2023-02-09 18:26:46,038 - distributed.scheduler - INFO - Remove client Client-3802ec5e-a8d1-11ed-90b5-bffce49803b2\n",
      "2023-02-09 18:26:46,039 - distributed.core - INFO - Received 'close-stream' from tcp://127.0.0.1:46704; closing.\n",
      "2023-02-09 18:26:46,039 - distributed.scheduler - INFO - Remove client Client-3802ec5e-a8d1-11ed-90b5-bffce49803b2\n",
      "2023-02-09 18:26:46,040 - distributed.scheduler - INFO - Close client connection: Client-3802ec5e-a8d1-11ed-90b5-bffce49803b2\n"
     ]
    },
    {
     "name": "stdout",
     "output_type": "stream",
     "text": [
      "[SimulationRunRequest] http://localhost:29681/api/v2/simulation/gillespy2/run\n"
     ]
    },
    {
     "name": "stderr",
     "output_type": "stream",
     "text": [
      "2023-02-09 18:26:46,396 - distributed.scheduler - INFO - Receive client connection: Client-384361a7-a8d1-11ed-90b5-bffce49803b2\n",
      "2023-02-09 18:26:46,397 - distributed.core - INFO - Starting established connection to tcp://127.0.0.1:46726\n",
      "2023-02-09 18:26:46,415 - distributed.scheduler - INFO - Receive client connection: Client-384640c2-a8d1-11ed-90b5-bffce49803b2\n",
      "2023-02-09 18:26:46,416 - distributed.core - INFO - Starting established connection to tcp://127.0.0.1:46732\n",
      "2023-02-09 18:26:46,421 - distributed.scheduler - INFO - Remove client Client-384361a7-a8d1-11ed-90b5-bffce49803b2\n",
      "2023-02-09 18:26:46,422 - distributed.core - INFO - Received 'close-stream' from tcp://127.0.0.1:46726; closing.\n",
      "2023-02-09 18:26:46,423 - distributed.scheduler - INFO - Remove client Client-384361a7-a8d1-11ed-90b5-bffce49803b2\n",
      "2023-02-09 18:26:46,424 - distributed.scheduler - INFO - Close client connection: Client-384361a7-a8d1-11ed-90b5-bffce49803b2\n",
      "2023-02-09 18:26:46,504 - distributed.scheduler - INFO - Remove client Client-384640c2-a8d1-11ed-90b5-bffce49803b2\n",
      "2023-02-09 18:26:46,505 - distributed.core - INFO - Received 'close-stream' from tcp://127.0.0.1:46732; closing.\n",
      "2023-02-09 18:26:46,506 - distributed.scheduler - INFO - Remove client Client-384640c2-a8d1-11ed-90b5-bffce49803b2\n",
      "2023-02-09 18:26:46,507 - distributed.scheduler - INFO - Close client connection: Client-384640c2-a8d1-11ed-90b5-bffce49803b2\n"
     ]
    },
    {
     "name": "stderr",
     "output_type": "stream",
     "text": [
      "2023-02-09 18:26:46,504 - asyncio - ERROR - Future exception was never retrieved\n",
      "future: <Future finished exception=TimeoutError('Timeout')>\n",
      "TimeoutError: Timeout\n",
      "2023-02-09 18:26:46,506 - asyncio - ERROR - Future exception was never retrieved\n",
      "future: <Future finished exception=TimeoutError('Timeout')>\n",
      "TimeoutError: Timeout\n"
     ]
    },
    {
     "name": "stdout",
     "output_type": "stream",
     "text": [
      "[SimulationRunRequest] http://localhost:29681/api/v2/simulation/gillespy2/run\n",
      "[SimulationRunRequest] http://localhost:29681/api/v2/simulation/gillespy2/run\n"
     ]
    },
    {
     "name": "stdout",
     "output_type": "stream",
     "text": [
      "2023-02-09 18:26:46.423667 | Cache | <cache/613f39621a1f713f11869e914ead2c20.results> | Add\n",
      "2023-02-09 18:26:46.453567 | <127.0.0.1> | Simulation Run Request | <613f39621a1f713f11869e914ead2c20> | Results not cached. Running simulation.\n",
      "2023-02-09 18:26:46.736495 | <127.0.0.1> | Simulation Run Request | <613f39621a1f713f11869e914ead2c20> | Results not cached. Running simulation.\n",
      "2023-02-09 18:26:46.750454 | Cache | <cache/613f39621a1f713f11869e914ead2c20.results> | Add\n",
      "2023-02-09 18:26:46.861687 | <127.0.0.1> | Simulation Run Request | <613f39621a1f713f11869e914ead2c20> | Results not cached. Running simulation.\n",
      "2023-02-09 18:26:46.608290 | Cache | <cache/613f39621a1f713f11869e914ead2c20.results> | Add\n",
      "2023-02-09 18:26:46.895755 | Cache | <cache/613f39621a1f713f11869e914ead2c20.results> | Add\n",
      "2023-02-09 18:26:47.127616 | Cache | <cache/613f39621a1f713f11869e914ead2c20.results> | Add\n",
      "2023-02-09 18:26:47.000709 | <127.0.0.1> | Simulation Run Request | <613f39621a1f713f11869e914ead2c20> | Results not cached. Running simulation.\n",
      "2023-02-09 18:26:47.655244 | <127.0.0.1> | Simulation Run Request | <613f39621a1f713f11869e914ead2c20> | Results not cached. Running simulation.\n",
      "2023-02-09 18:26:47.669493 | Cache | <cache/613f39621a1f713f11869e914ead2c20.results> | Add\n",
      "2023-02-09 18:26:47.700068 | <127.0.0.1> | Simulation Run Request | <613f39621a1f713f11869e914ead2c20> | Results not cached. Running simulation.\n",
      "2023-02-09 18:26:47.934862 | <127.0.0.1> | Simulation Run Request | <613f39621a1f713f11869e914ead2c20> | Results not cached. Running simulation.\n",
      "2023-02-09 18:26:47.820489 | Cache | <cache/613f39621a1f713f11869e914ead2c20.results> | Add\n",
      "2023-02-09 18:26:48.148444 | Cache | <cache/613f39621a1f713f11869e914ead2c20.results> | Add\n",
      "2023-02-09 18:26:48.054607 | Cache | <cache/613f39621a1f713f11869e914ead2c20.results> | Add\n",
      "2023-02-09 18:26:48.106717 | <127.0.0.1> | Simulation Run Request | <613f39621a1f713f11869e914ead2c20> | Results not cached. Running simulation.\n",
      "2023-02-09 18:26:48.640408 | <127.0.0.1> | Simulation Run Request | <613f39621a1f713f11869e914ead2c20> | Results not cached. Running simulation.\n",
      "2023-02-09 18:26:48.659326 | Cache | <cache/613f39621a1f713f11869e914ead2c20.results> | Add\n",
      "2023-02-09 18:26:48.797030 | <127.0.0.1> | Simulation Run Request | <613f39621a1f713f11869e914ead2c20> | Results not cached. Running simulation.\n",
      "2023-02-09 18:26:48.866894 | Cache | <cache/613f39621a1f713f11869e914ead2c20.results> | Add\n",
      "2023-02-09 18:26:48.945774 | <127.0.0.1> | Simulation Run Request | <613f39621a1f713f11869e914ead2c20> | Results not cached. Running simulation.\n"
     ]
    },
    {
     "name": "stderr",
     "output_type": "stream",
     "text": [
      "2023-02-09 18:26:46,723 - distributed.scheduler - INFO - Receive client connection: Client-38757055-a8d1-11ed-90b5-bffce49803b2\n",
      "2023-02-09 18:26:46,724 - distributed.core - INFO - Starting established connection to tcp://127.0.0.1:46744\n",
      "2023-02-09 18:26:46,742 - distributed.scheduler - INFO - Receive client connection: Client-38782544-a8d1-11ed-90b5-bffce49803b2\n",
      "2023-02-09 18:26:46,743 - distributed.core - INFO - Starting established connection to tcp://127.0.0.1:46776\n",
      "2023-02-09 18:26:46,748 - distributed.scheduler - INFO - Remove client Client-38757055-a8d1-11ed-90b5-bffce49803b2\n",
      "2023-02-09 18:26:46,749 - distributed.core - INFO - Received 'close-stream' from tcp://127.0.0.1:46744; closing.\n",
      "2023-02-09 18:26:46,749 - distributed.scheduler - INFO - Remove client Client-38757055-a8d1-11ed-90b5-bffce49803b2\n",
      "2023-02-09 18:26:46,750 - distributed.scheduler - INFO - Close client connection: Client-38757055-a8d1-11ed-90b5-bffce49803b2\n",
      "2023-02-09 18:26:46,862 - distributed.scheduler - INFO - Remove client Client-38782544-a8d1-11ed-90b5-bffce49803b2\n",
      "2023-02-09 18:26:46,863 - distributed.core - INFO - Received 'close-stream' from tcp://127.0.0.1:46776; closing.\n",
      "2023-02-09 18:26:46,863 - distributed.scheduler - INFO - Remove client Client-38782544-a8d1-11ed-90b5-bffce49803b2\n",
      "2023-02-09 18:26:46,865 - distributed.scheduler - INFO - Close client connection: Client-38782544-a8d1-11ed-90b5-bffce49803b2\n"
     ]
    },
    {
     "name": "stdout",
     "output_type": "stream",
     "text": [
      "[SimulationRunRequest] http://localhost:29681/api/v2/simulation/gillespy2/run\n",
      "[SimulationRunRequest] http://localhost:29681/api/v2/simulation/gillespy2/run\n"
     ]
    },
    {
     "name": "stderr",
     "output_type": "stream",
     "text": [
      "2023-02-09 18:26:46,977 - distributed.scheduler - INFO - Receive client connection: Client-389c2d39-a8d1-11ed-90b5-bffce49803b2\n",
      "2023-02-09 18:26:46,978 - distributed.core - INFO - Starting established connection to tcp://127.0.0.1:46796\n",
      "2023-02-09 18:26:47,103 - distributed.scheduler - INFO - Remove client Client-389c2d39-a8d1-11ed-90b5-bffce49803b2\n",
      "2023-02-09 18:26:47,104 - distributed.core - INFO - Received 'close-stream' from tcp://127.0.0.1:46796; closing.\n",
      "2023-02-09 18:26:47,104 - distributed.scheduler - INFO - Remove client Client-389c2d39-a8d1-11ed-90b5-bffce49803b2\n",
      "2023-02-09 18:26:47,105 - distributed.scheduler - INFO - Close client connection: Client-389c2d39-a8d1-11ed-90b5-bffce49803b2\n"
     ]
    },
    {
     "name": "stdout",
     "output_type": "stream",
     "text": [
      "[SimulationRunRequest] http://localhost:29681/api/v2/simulation/gillespy2/run\n"
     ]
    },
    {
     "name": "stderr",
     "output_type": "stream",
     "text": [
      "2023-02-09 18:26:47,642 - distributed.scheduler - INFO - Receive client connection: Client-3901a0ad-a8d1-11ed-90b5-bffce49803b2\n",
      "2023-02-09 18:26:47,643 - distributed.core - INFO - Starting established connection to tcp://127.0.0.1:46806\n",
      "2023-02-09 18:26:47,661 - distributed.scheduler - INFO - Receive client connection: Client-39045576-a8d1-11ed-90b5-bffce49803b2\n",
      "2023-02-09 18:26:47,662 - distributed.core - INFO - Starting established connection to tcp://127.0.0.1:46828\n",
      "2023-02-09 18:26:47,667 - distributed.scheduler - INFO - Remove client Client-3901a0ad-a8d1-11ed-90b5-bffce49803b2\n",
      "2023-02-09 18:26:47,668 - distributed.core - INFO - Received 'close-stream' from tcp://127.0.0.1:46806; closing.\n",
      "2023-02-09 18:26:47,668 - distributed.scheduler - INFO - Remove client Client-3901a0ad-a8d1-11ed-90b5-bffce49803b2\n",
      "2023-02-09 18:26:47,672 - distributed.scheduler - INFO - Close client connection: Client-3901a0ad-a8d1-11ed-90b5-bffce49803b2\n",
      "2023-02-09 18:26:47,802 - distributed.scheduler - INFO - Remove client Client-39045576-a8d1-11ed-90b5-bffce49803b2\n",
      "2023-02-09 18:26:47,803 - distributed.core - INFO - Received 'close-stream' from tcp://127.0.0.1:46828; closing.\n",
      "2023-02-09 18:26:47,803 - distributed.scheduler - INFO - Remove client Client-39045576-a8d1-11ed-90b5-bffce49803b2\n",
      "2023-02-09 18:26:47,805 - distributed.scheduler - INFO - Close client connection: Client-39045576-a8d1-11ed-90b5-bffce49803b2\n"
     ]
    },
    {
     "name": "stdout",
     "output_type": "stream",
     "text": [
      "[SimulationRunRequest] http://localhost:29681/api/v2/simulation/gillespy2/run\n",
      "[SimulationRunRequest] http://localhost:29681/api/v2/simulation/gillespy2/run\n"
     ]
    },
    {
     "name": "stderr",
     "output_type": "stream",
     "text": [
      "2023-02-09 18:26:47,923 - distributed.scheduler - INFO - Receive client connection: Client-392c8b48-a8d1-11ed-90b5-bffce49803b2\n",
      "2023-02-09 18:26:47,924 - distributed.core - INFO - Starting established connection to tcp://127.0.0.1:46842\n",
      "2023-02-09 18:26:47,970 - distributed.scheduler - INFO - Remove client Client-392c8b48-a8d1-11ed-90b5-bffce49803b2\n",
      "2023-02-09 18:26:47,971 - distributed.core - INFO - Received 'close-stream' from tcp://127.0.0.1:46842; closing.\n",
      "2023-02-09 18:26:47,971 - distributed.scheduler - INFO - Remove client Client-392c8b48-a8d1-11ed-90b5-bffce49803b2\n",
      "2023-02-09 18:26:47,972 - distributed.scheduler - INFO - Close client connection: Client-392c8b48-a8d1-11ed-90b5-bffce49803b2\n",
      "2023-02-09 18:26:48,067 - distributed.scheduler - INFO - Receive client connection: Client-392efdde-a8d1-11ed-90b5-bffce49803b2\n",
      "2023-02-09 18:26:48,068 - distributed.core - INFO - Starting established connection to tcp://127.0.0.1:46860\n"
     ]
    },
    {
     "name": "stdout",
     "output_type": "stream",
     "text": [
      "[SimulationRunRequest] http://localhost:29681/api/v2/simulation/gillespy2/run\n",
      "[SimulationRunRequest] http://localhost:29681/api/v2/simulation/gillespy2/run\n"
     ]
    },
    {
     "name": "stderr",
     "output_type": "stream",
     "text": [
      "2023-02-09 18:26:48,139 - distributed.scheduler - INFO - Remove client Client-392efdde-a8d1-11ed-90b5-bffce49803b2\n",
      "2023-02-09 18:26:48,139 - distributed.core - INFO - Received 'close-stream' from tcp://127.0.0.1:46860; closing.\n",
      "2023-02-09 18:26:48,140 - distributed.scheduler - INFO - Remove client Client-392efdde-a8d1-11ed-90b5-bffce49803b2\n",
      "2023-02-09 18:26:48,141 - distributed.scheduler - INFO - Close client connection: Client-392efdde-a8d1-11ed-90b5-bffce49803b2\n",
      "2023-02-09 18:26:48,614 - distributed.scheduler - INFO - Receive client connection: Client-3995ca7e-a8d1-11ed-90b5-bffce49803b2\n",
      "2023-02-09 18:26:48,615 - distributed.core - INFO - Starting established connection to tcp://127.0.0.1:46872\n",
      "2023-02-09 18:26:48,654 - distributed.scheduler - INFO - Remove client Client-3995ca7e-a8d1-11ed-90b5-bffce49803b2\n",
      "2023-02-09 18:26:48,655 - distributed.core - INFO - Received 'close-stream' from tcp://127.0.0.1:46872; closing.\n",
      "2023-02-09 18:26:48,658 - distributed.scheduler - INFO - Remove client Client-3995ca7e-a8d1-11ed-90b5-bffce49803b2\n",
      "2023-02-09 18:26:48,661 - distributed.scheduler - INFO - Close client connection: Client-3995ca7e-a8d1-11ed-90b5-bffce49803b2\n",
      "2023-02-09 18:26:48,670 - distributed.scheduler - INFO - Receive client connection: Client-399b968a-a8d1-11ed-90b5-bffce49803b2\n",
      "2023-02-09 18:26:48,671 - distributed.core - INFO - Starting established connection to tcp://127.0.0.1:46884\n",
      "2023-02-09 18:26:48,797 - distributed.scheduler - INFO - Remove client Client-399b968a-a8d1-11ed-90b5-bffce49803b2\n",
      "2023-02-09 18:26:48,798 - distributed.core - INFO - Received 'close-stream' from tcp://127.0.0.1:46884; closing.\n",
      "2023-02-09 18:26:48,798 - distributed.scheduler - INFO - Remove client Client-399b968a-a8d1-11ed-90b5-bffce49803b2\n",
      "2023-02-09 18:26:48,799 - distributed.scheduler - INFO - Close client connection: Client-399b968a-a8d1-11ed-90b5-bffce49803b2\n"
     ]
    },
    {
     "name": "stdout",
     "output_type": "stream",
     "text": [
      "[SimulationRunRequest] http://localhost:29681/api/v2/simulation/gillespy2/run\n",
      "[SimulationRunRequest] http://localhost:29681/api/v2/simulation/gillespy2/run\n"
     ]
    },
    {
     "name": "stderr",
     "output_type": "stream",
     "text": [
      "2023-02-09 18:26:48,927 - distributed.scheduler - INFO - Receive client connection: Client-39c5aeee-a8d1-11ed-90b5-bffce49803b2\n",
      "2023-02-09 18:26:48,928 - distributed.core - INFO - Starting established connection to tcp://127.0.0.1:46910\n",
      "2023-02-09 18:26:49,055 - distributed.scheduler - INFO - Remove client Client-39c5aeee-a8d1-11ed-90b5-bffce49803b2\n",
      "2023-02-09 18:26:49,056 - distributed.core - INFO - Received 'close-stream' from tcp://127.0.0.1:46910; closing.\n",
      "2023-02-09 18:26:49,057 - distributed.scheduler - INFO - Remove client Client-39c5aeee-a8d1-11ed-90b5-bffce49803b2\n",
      "2023-02-09 18:26:49,058 - distributed.scheduler - INFO - Close client connection: Client-39c5aeee-a8d1-11ed-90b5-bffce49803b2\n"
     ]
    },
    {
     "name": "stdout",
     "output_type": "stream",
     "text": [
      "[SimulationRunRequest] http://localhost:29681/api/v2/simulation/gillespy2/run\n"
     ]
    },
    {
     "name": "stderr",
     "output_type": "stream",
     "text": [
      "2023-02-09 18:26:49,177 - distributed.scheduler - INFO - Receive client connection: Client-39ebbdf8-a8d1-11ed-90b5-bffce49803b2\n",
      "2023-02-09 18:26:49,178 - distributed.core - INFO - Starting established connection to tcp://127.0.0.1:46926\n",
      "2023-02-09 18:26:49,217 - distributed.scheduler - INFO - Remove client Client-39ebbdf8-a8d1-11ed-90b5-bffce49803b2\n",
      "2023-02-09 18:26:49,218 - distributed.core - INFO - Received 'close-stream' from tcp://127.0.0.1:46926; closing.\n",
      "2023-02-09 18:26:49,218 - distributed.scheduler - INFO - Remove client Client-39ebbdf8-a8d1-11ed-90b5-bffce49803b2\n",
      "2023-02-09 18:26:49,219 - distributed.scheduler - INFO - Close client connection: Client-39ebbdf8-a8d1-11ed-90b5-bffce49803b2\n"
     ]
    },
    {
     "name": "stderr",
     "output_type": "stream",
     "text": [
      "2023-02-09 18:26:49,315 - asyncio - ERROR - Future exception was never retrieved\n",
      "future: <Future finished exception=TimeoutError('Timeout')>\n",
      "TimeoutError: Timeout\n",
      "2023-02-09 18:26:49,332 - asyncio - ERROR - Future exception was never retrieved\n",
      "future: <Future finished exception=TimeoutError('Timeout')>\n",
      "TimeoutError: Timeout\n"
     ]
    },
    {
     "name": "stdout",
     "output_type": "stream",
     "text": [
      "2023-02-09 18:26:49.116384 | Cache | <cache/613f39621a1f713f11869e914ead2c20.results> | Add\n",
      "2023-02-09 18:26:49.360460 | Cache | <cache/613f39621a1f713f11869e914ead2c20.results> | Add\n",
      "2023-02-09 18:26:49.371462 | <127.0.0.1> | Simulation Run Request | <613f39621a1f713f11869e914ead2c20> | Results not cached. Running simulation.\n",
      "2023-02-09 18:26:49.735729 | <127.0.0.1> | Simulation Run Request | <613f39621a1f713f11869e914ead2c20> | Results not cached. Running simulation.\n",
      "2023-02-09 18:26:49.747947 | Cache | <cache/613f39621a1f713f11869e914ead2c20.results> | Add\n",
      "2023-02-09 18:26:49.899019 | <127.0.0.1> | Simulation Run Request | <613f39621a1f713f11869e914ead2c20> | Results not cached. Running simulation.\n",
      "2023-02-09 18:26:50.033081 | <127.0.0.1> | Simulation Run Request | <613f39621a1f713f11869e914ead2c20> | Results not cached. Running simulation.\n",
      "2023-02-09 18:26:49.924569 | Cache | <cache/613f39621a1f713f11869e914ead2c20.results> | Add\n",
      "2023-02-09 18:26:50.093043 | <127.0.0.1> | Simulation Run Request | <613f39621a1f713f11869e914ead2c20> | Results not cached. Running simulation.\n",
      "2023-02-09 18:26:50.308897 | <127.0.0.1> | Simulation Run Request | <613f39621a1f713f11869e914ead2c20> | Results not cached. Running simulation.\n",
      "2023-02-09 18:26:50.323286 | Cache | <cache/613f39621a1f713f11869e914ead2c20.results> | Add\n",
      "2023-02-09 18:26:50.348436 | <127.0.0.1> | Simulation Run Request | <613f39621a1f713f11869e914ead2c20> | Results not cached. Running simulation.\n",
      "2023-02-09 18:26:50.176442 | Cache | <cache/613f39621a1f713f11869e914ead2c20.results> | Add\n",
      "2023-02-09 18:26:50.450451 | Cache | <cache/613f39621a1f713f11869e914ead2c20.results> | Add\n",
      "2023-02-09 18:26:50.136357 | Cache | <cache/613f39621a1f713f11869e914ead2c20.results> | Add\n",
      "2023-02-09 18:26:50.827367 | Cache | <cache/613f39621a1f713f11869e914ead2c20.results> | Add\n",
      "2023-02-09 18:26:50.635272 | <127.0.0.1> | Simulation Run Request | <613f39621a1f713f11869e914ead2c20> | Results not cached. Running simulation.\n",
      "2023-02-09 18:26:51.586672 | <127.0.0.1> | Simulation Run Request | <613f39621a1f713f11869e914ead2c20> | Results not cached. Running simulation.\n"
     ]
    },
    {
     "name": "stdout",
     "output_type": "stream",
     "text": [
      "[SimulationRunRequest] http://localhost:29681/api/v2/simulation/gillespy2/run\n"
     ]
    },
    {
     "name": "stderr",
     "output_type": "stream",
     "text": [
      "2023-02-09 18:26:49,719 - distributed.scheduler - INFO - Receive client connection: Client-3a3e681a-a8d1-11ed-90b5-bffce49803b2\n",
      "2023-02-09 18:26:49,720 - distributed.core - INFO - Starting established connection to tcp://127.0.0.1:46944\n",
      "2023-02-09 18:26:49,744 - distributed.scheduler - INFO - Remove client Client-3a3e681a-a8d1-11ed-90b5-bffce49803b2\n",
      "2023-02-09 18:26:49,745 - distributed.core - INFO - Received 'close-stream' from tcp://127.0.0.1:46944; closing.\n",
      "2023-02-09 18:26:49,746 - distributed.scheduler - INFO - Remove client Client-3a3e681a-a8d1-11ed-90b5-bffce49803b2\n",
      "2023-02-09 18:26:49,749 - distributed.scheduler - INFO - Close client connection: Client-3a3e681a-a8d1-11ed-90b5-bffce49803b2\n",
      "2023-02-09 18:26:49,754 - distributed.scheduler - INFO - Receive client connection: Client-3a41f5b6-a8d1-11ed-90b5-bffce49803b2\n",
      "2023-02-09 18:26:49,756 - distributed.core - INFO - Starting established connection to tcp://127.0.0.1:46958\n",
      "2023-02-09 18:26:49,899 - distributed.scheduler - INFO - Remove client Client-3a41f5b6-a8d1-11ed-90b5-bffce49803b2\n",
      "2023-02-09 18:26:49,900 - distributed.core - INFO - Received 'close-stream' from tcp://127.0.0.1:46958; closing.\n",
      "2023-02-09 18:26:49,900 - distributed.scheduler - INFO - Remove client Client-3a41f5b6-a8d1-11ed-90b5-bffce49803b2\n",
      "2023-02-09 18:26:49,901 - distributed.scheduler - INFO - Close client connection: Client-3a41f5b6-a8d1-11ed-90b5-bffce49803b2\n"
     ]
    },
    {
     "name": "stdout",
     "output_type": "stream",
     "text": [
      "[SimulationRunRequest] http://localhost:29681/api/v2/simulation/gillespy2/run\n",
      "[SimulationRunRequest] http://localhost:29681/api/v2/simulation/gillespy2/run\n"
     ]
    },
    {
     "name": "stderr",
     "output_type": "stream",
     "text": [
      "2023-02-09 18:26:50,021 - distributed.scheduler - INFO - Receive client connection: Client-3a6c84b3-a8d1-11ed-90b5-bffce49803b2\n",
      "2023-02-09 18:26:50,022 - distributed.core - INFO - Starting established connection to tcp://127.0.0.1:46976\n",
      "2023-02-09 18:26:50,038 - distributed.scheduler - INFO - Receive client connection: Client-3a6f2b0f-a8d1-11ed-90b5-bffce49803b2\n",
      "2023-02-09 18:26:50,038 - distributed.core - INFO - Starting established connection to tcp://127.0.0.1:46986\n",
      "2023-02-09 18:26:50,074 - distributed.scheduler - INFO - Remove client Client-3a6c84b3-a8d1-11ed-90b5-bffce49803b2\n",
      "2023-02-09 18:26:50,075 - distributed.core - INFO - Received 'close-stream' from tcp://127.0.0.1:46976; closing.\n",
      "2023-02-09 18:26:50,076 - distributed.scheduler - INFO - Remove client Client-3a6c84b3-a8d1-11ed-90b5-bffce49803b2\n",
      "2023-02-09 18:26:50,077 - distributed.scheduler - INFO - Close client connection: Client-3a6c84b3-a8d1-11ed-90b5-bffce49803b2\n",
      "2023-02-09 18:26:50,092 - distributed.scheduler - INFO - Remove client Client-3a6f2b0f-a8d1-11ed-90b5-bffce49803b2\n",
      "2023-02-09 18:26:50,093 - distributed.core - INFO - Received 'close-stream' from tcp://127.0.0.1:46986; closing.\n",
      "2023-02-09 18:26:50,093 - distributed.scheduler - INFO - Remove client Client-3a6f2b0f-a8d1-11ed-90b5-bffce49803b2\n",
      "2023-02-09 18:26:50,094 - distributed.scheduler - INFO - Close client connection: Client-3a6f2b0f-a8d1-11ed-90b5-bffce49803b2\n"
     ]
    },
    {
     "name": "stdout",
     "output_type": "stream",
     "text": [
      "[SimulationRunRequest] http://localhost:29681/api/v2/simulation/gillespy2/run\n",
      "[SimulationRunRequest] http://localhost:29681/api/v2/simulation/gillespy2/run\n"
     ]
    },
    {
     "name": "stderr",
     "output_type": "stream",
     "text": [
      "2023-02-09 18:26:50,296 - distributed.scheduler - INFO - Receive client connection: Client-3a9688ae-a8d1-11ed-90b5-bffce49803b2\n",
      "2023-02-09 18:26:50,297 - distributed.core - INFO - Starting established connection to tcp://127.0.0.1:47008\n",
      "2023-02-09 18:26:50,314 - distributed.scheduler - INFO - Receive client connection: Client-3a9946f0-a8d1-11ed-90b5-bffce49803b2\n",
      "2023-02-09 18:26:50,315 - distributed.core - INFO - Starting established connection to tcp://127.0.0.1:47026\n",
      "2023-02-09 18:26:50,321 - distributed.scheduler - INFO - Remove client Client-3a9688ae-a8d1-11ed-90b5-bffce49803b2\n",
      "2023-02-09 18:26:50,322 - distributed.core - INFO - Received 'close-stream' from tcp://127.0.0.1:47008; closing.\n",
      "2023-02-09 18:26:50,324 - distributed.scheduler - INFO - Remove client Client-3a9688ae-a8d1-11ed-90b5-bffce49803b2\n",
      "2023-02-09 18:26:50,325 - distributed.scheduler - INFO - Close client connection: Client-3a9688ae-a8d1-11ed-90b5-bffce49803b2\n",
      "2023-02-09 18:26:50,391 - distributed.scheduler - INFO - Remove client Client-3a9946f0-a8d1-11ed-90b5-bffce49803b2\n",
      "2023-02-09 18:26:50,391 - distributed.core - INFO - Received 'close-stream' from tcp://127.0.0.1:47026; closing.\n",
      "2023-02-09 18:26:50,392 - distributed.scheduler - INFO - Remove client Client-3a9946f0-a8d1-11ed-90b5-bffce49803b2\n",
      "2023-02-09 18:26:50,392 - distributed.scheduler - INFO - Close client connection: Client-3a9946f0-a8d1-11ed-90b5-bffce49803b2\n"
     ]
    },
    {
     "name": "stdout",
     "output_type": "stream",
     "text": [
      "[SimulationRunRequest] http://localhost:29681/api/v2/simulation/gillespy2/run\n",
      "[SimulationRunRequest] http://localhost:29681/api/v2/simulation/gillespy2/run\n"
     ]
    },
    {
     "name": "stderr",
     "output_type": "stream",
     "text": [
      "2023-02-09 18:26:50,589 - distributed.scheduler - INFO - Receive client connection: Client-3ac33a49-a8d1-11ed-90b5-bffce49803b2\n",
      "2023-02-09 18:26:50,590 - distributed.core - INFO - Starting established connection to tcp://127.0.0.1:47040\n",
      "2023-02-09 18:26:50,747 - distributed.scheduler - INFO - Remove client Client-3ac33a49-a8d1-11ed-90b5-bffce49803b2\n",
      "2023-02-09 18:26:50,748 - distributed.core - INFO - Received 'close-stream' from tcp://127.0.0.1:47040; closing.\n",
      "2023-02-09 18:26:50,748 - distributed.scheduler - INFO - Remove client Client-3ac33a49-a8d1-11ed-90b5-bffce49803b2\n",
      "2023-02-09 18:26:50,749 - distributed.scheduler - INFO - Close client connection: Client-3ac33a49-a8d1-11ed-90b5-bffce49803b2\n"
     ]
    },
    {
     "name": "stdout",
     "output_type": "stream",
     "text": [
      "[SimulationRunRequest] http://localhost:29681/api/v2/simulation/gillespy2/run\n"
     ]
    },
    {
     "name": "stderr",
     "output_type": "stream",
     "text": [
      "2023-02-09 18:26:51,573 - distributed.scheduler - INFO - Receive client connection: Client-3b597629-a8d1-11ed-90b5-bffce49803b2\n",
      "2023-02-09 18:26:51,574 - distributed.core - INFO - Starting established connection to tcp://127.0.0.1:47066\n",
      "2023-02-09 18:26:51,594 - distributed.scheduler - INFO - Receive client connection: Client-3b5c4e91-a8d1-11ed-90b5-bffce49803b2\n",
      "2023-02-09 18:26:51,595 - distributed.core - INFO - Starting established connection to tcp://127.0.0.1:47084\n",
      "2023-02-09 18:26:51,600 - distributed.scheduler - INFO - Remove client Client-3b597629-a8d1-11ed-90b5-bffce49803b2\n",
      "2023-02-09 18:26:51,601 - distributed.core - INFO - Received 'close-stream' from tcp://127.0.0.1:47066; closing.\n",
      "2023-02-09 18:26:51,602 - distributed.scheduler - INFO - Remove client Client-3b597629-a8d1-11ed-90b5-bffce49803b2\n",
      "2023-02-09 18:26:51,603 - distributed.scheduler - INFO - Close client connection: Client-3b597629-a8d1-11ed-90b5-bffce49803b2\n",
      "2023-02-09 18:26:51,687 - distributed.scheduler - INFO - Remove client Client-3b5c4e91-a8d1-11ed-90b5-bffce49803b2\n",
      "2023-02-09 18:26:51,688 - distributed.core - INFO - Received 'close-stream' from tcp://127.0.0.1:47084; closing.\n",
      "2023-02-09 18:26:51,688 - distributed.scheduler - INFO - Remove client Client-3b5c4e91-a8d1-11ed-90b5-bffce49803b2\n",
      "2023-02-09 18:26:51,689 - distributed.scheduler - INFO - Close client connection: Client-3b5c4e91-a8d1-11ed-90b5-bffce49803b2\n"
     ]
    },
    {
     "name": "stderr",
     "output_type": "stream",
     "text": [
      "2023-02-09 18:26:51,685 - asyncio - ERROR - Future exception was never retrieved\n",
      "future: <Future finished exception=TimeoutError('Timeout')>\n",
      "TimeoutError: Timeout\n",
      "2023-02-09 18:26:51,686 - asyncio - ERROR - Future exception was never retrieved\n",
      "future: <Future finished exception=TimeoutError('Timeout')>\n",
      "TimeoutError: Timeout\n"
     ]
    },
    {
     "name": "stdout",
     "output_type": "stream",
     "text": [
      "[SimulationRunRequest] http://localhost:29681/api/v2/simulation/gillespy2/run\n",
      "[SimulationRunRequest] http://localhost:29681/api/v2/simulation/gillespy2/run\n"
     ]
    },
    {
     "name": "stdout",
     "output_type": "stream",
     "text": [
      "2023-02-09 18:26:51.602919 | Cache | <cache/613f39621a1f713f11869e914ead2c20.results> | Add\n",
      "2023-02-09 18:26:51.685403 | <127.0.0.1> | Simulation Run Request | <613f39621a1f713f11869e914ead2c20> | Results not cached. Running simulation.\n",
      "2023-02-09 18:26:51.758701 | Cache | <cache/613f39621a1f713f11869e914ead2c20.results> | Add\n",
      "2023-02-09 18:26:51.941249 | <127.0.0.1> | Simulation Run Request | <613f39621a1f713f11869e914ead2c20> | Results not cached. Running simulation.\n",
      "2023-02-09 18:26:52.064730 | Cache | <cache/613f39621a1f713f11869e914ead2c20.results> | Add\n",
      "2023-02-09 18:26:52.330565 | <127.0.0.1> | Simulation Run Request | <613f39621a1f713f11869e914ead2c20> | Results not cached. Running simulation.\n",
      "2023-02-09 18:26:52.486743 | <127.0.0.1> | Simulation Run Request | <613f39621a1f713f11869e914ead2c20> | Results not cached. Running simulation.\n",
      "2023-02-09 18:26:52.365547 | Cache | <cache/613f39621a1f713f11869e914ead2c20.results> | Add\n",
      "2023-02-09 18:26:52.768459 | Cache | <cache/613f39621a1f713f11869e914ead2c20.results> | Add\n",
      "2023-02-09 18:26:52.707907 | <127.0.0.1> | Simulation Run Request | <613f39621a1f713f11869e914ead2c20> | Results not cached. Running simulation.\n",
      "2023-02-09 18:26:52.654972 | Cache | <cache/613f39621a1f713f11869e914ead2c20.results> | Add\n",
      "2023-02-09 18:26:53.025406 | <127.0.0.1> | Simulation Run Request | <613f39621a1f713f11869e914ead2c20> | Results not cached. Running simulation.\n",
      "2023-02-09 18:26:53.150338 | Cache | <cache/613f39621a1f713f11869e914ead2c20.results> | Add\n",
      "2023-02-09 18:26:53.403348 | Cache | <cache/613f39621a1f713f11869e914ead2c20.results> | Add\n",
      "2023-02-09 18:26:53.354146 | <127.0.0.1> | Simulation Run Request | <613f39621a1f713f11869e914ead2c20> | Results not cached. Running simulation.\n",
      "2023-02-09 18:26:53.780602 | <127.0.0.1> | Simulation Run Request | <613f39621a1f713f11869e914ead2c20> | Results not cached. Running simulation.\n",
      "2023-02-09 18:26:53.795346 | Cache | <cache/613f39621a1f713f11869e914ead2c20.results> | Add\n",
      "2023-02-09 18:26:53.955319 | Cache | <cache/613f39621a1f713f11869e914ead2c20.results> | Add\n",
      "2023-02-09 18:26:53.842639 | <127.0.0.1> | Simulation Run Request | <613f39621a1f713f11869e914ead2c20> | Results not cached. Running simulation.\n",
      "2023-02-09 18:26:54.380571 | <127.0.0.1> | Simulation Run Request | <613f39621a1f713f11869e914ead2c20> | Results not cached. Running simulation.\n",
      "2023-02-09 18:26:54.395073 | Cache | <cache/613f39621a1f713f11869e914ead2c20.results> | Add\n",
      "2023-02-09 18:26:54.441187 | <127.0.0.1> | Simulation Run Request | <613f39621a1f713f11869e914ead2c20> | Results not cached. Running simulation.\n",
      "2023-02-09 18:26:54.674569 | <127.0.0.1> | Simulation Run Request | <613f39621a1f713f11869e914ead2c20> | Results not cached. Running simulation.\n",
      "2023-02-09 18:26:54.690105 | Cache | <cache/613f39621a1f713f11869e914ead2c20.results> | Add\n",
      "2023-02-09 18:26:54.838969 | Cache | <cache/613f39621a1f713f11869e914ead2c20.results> | Add\n",
      "2023-02-09 18:26:54.710955 | <127.0.0.1> | Simulation Run Request | <613f39621a1f713f11869e914ead2c20> | Results not cached. Running simulation.\n",
      "2023-02-09 18:26:54.540519 | Cache | <cache/613f39621a1f713f11869e914ead2c20.results> | Add\n",
      "2023-02-09 18:26:55.406601 | Cache | <cache/613f39621a1f713f11869e914ead2c20.results> | Add\n",
      "2023-02-09 18:26:55.357444 | <127.0.0.1> | Simulation Run Request | <613f39621a1f713f11869e914ead2c20> | Results not cached. Running simulation.\n",
      "2023-02-09 18:26:55.874779 | <127.0.0.1> | Simulation Run Request | <613f39621a1f713f11869e914ead2c20> | Results not cached. Running simulation.\n",
      "2023-02-09 18:26:55.894682 | Cache | <cache/613f39621a1f713f11869e914ead2c20.results> | Add\n",
      "2023-02-09 18:26:55.921833 | <127.0.0.1> | Simulation Run Request | <613f39621a1f713f11869e914ead2c20> | Results not cached. Running simulation.\n",
      "2023-02-09 18:26:56.040176 | Cache | <cache/613f39621a1f713f11869e914ead2c20.results> | Add\n",
      "2023-02-09 18:26:56.318251 | Cache | <cache/613f39621a1f713f11869e914ead2c20.results> | Add\n"
     ]
    },
    {
     "name": "stderr",
     "output_type": "stream",
     "text": [
      "2023-02-09 18:26:51,924 - distributed.scheduler - INFO - Receive client connection: Client-3b8ee4c0-a8d1-11ed-90b5-bffce49803b2\n",
      "2023-02-09 18:26:51,925 - distributed.core - INFO - Starting established connection to tcp://127.0.0.1:47112\n",
      "2023-02-09 18:26:51,978 - distributed.scheduler - INFO - Remove client Client-3b8ee4c0-a8d1-11ed-90b5-bffce49803b2\n",
      "2023-02-09 18:26:51,979 - distributed.core - INFO - Received 'close-stream' from tcp://127.0.0.1:47112; closing.\n",
      "2023-02-09 18:26:51,980 - distributed.scheduler - INFO - Remove client Client-3b8ee4c0-a8d1-11ed-90b5-bffce49803b2\n",
      "2023-02-09 18:26:51,981 - distributed.scheduler - INFO - Close client connection: Client-3b8ee4c0-a8d1-11ed-90b5-bffce49803b2\n"
     ]
    },
    {
     "name": "stdout",
     "output_type": "stream",
     "text": [
      "[SimulationRunRequest] http://localhost:29681/api/v2/simulation/gillespy2/run\n"
     ]
    },
    {
     "name": "stderr",
     "output_type": "stream",
     "text": [
      "2023-02-09 18:26:52,180 - distributed.scheduler - INFO - Receive client connection: Client-3bb5e8ab-a8d1-11ed-90b5-bffce49803b2\n",
      "2023-02-09 18:26:52,181 - distributed.core - INFO - Starting established connection to tcp://127.0.0.1:47136\n",
      "2023-02-09 18:26:52,327 - distributed.scheduler - INFO - Remove client Client-3bb5e8ab-a8d1-11ed-90b5-bffce49803b2\n",
      "2023-02-09 18:26:52,328 - distributed.core - INFO - Received 'close-stream' from tcp://127.0.0.1:47136; closing.\n",
      "2023-02-09 18:26:52,329 - distributed.scheduler - INFO - Remove client Client-3bb5e8ab-a8d1-11ed-90b5-bffce49803b2\n",
      "2023-02-09 18:26:52,331 - distributed.scheduler - INFO - Close client connection: Client-3bb5e8ab-a8d1-11ed-90b5-bffce49803b2\n"
     ]
    },
    {
     "name": "stdout",
     "output_type": "stream",
     "text": [
      "[SimulationRunRequest] http://localhost:29681/api/v2/simulation/gillespy2/run\n"
     ]
    },
    {
     "name": "stderr",
     "output_type": "stream",
     "text": [
      "2023-02-09 18:26:52,459 - distributed.scheduler - INFO - Receive client connection: Client-3be0975f-a8d1-11ed-90b5-bffce49803b2\n",
      "2023-02-09 18:26:52,460 - distributed.core - INFO - Starting established connection to tcp://127.0.0.1:47144\n",
      "2023-02-09 18:26:52,533 - distributed.scheduler - INFO - Remove client Client-3be0975f-a8d1-11ed-90b5-bffce49803b2\n",
      "2023-02-09 18:26:52,533 - distributed.core - INFO - Received 'close-stream' from tcp://127.0.0.1:47144; closing.\n",
      "2023-02-09 18:26:52,534 - distributed.scheduler - INFO - Remove client Client-3be0975f-a8d1-11ed-90b5-bffce49803b2\n",
      "2023-02-09 18:26:52,535 - distributed.scheduler - INFO - Close client connection: Client-3be0975f-a8d1-11ed-90b5-bffce49803b2\n",
      "2023-02-09 18:26:52,674 - distributed.scheduler - INFO - Receive client connection: Client-3bed1fec-a8d1-11ed-90b5-bffce49803b2\n",
      "2023-02-09 18:26:52,675 - distributed.core - INFO - Starting established connection to tcp://127.0.0.1:47156\n"
     ]
    },
    {
     "name": "stdout",
     "output_type": "stream",
     "text": [
      "[SimulationRunRequest] http://localhost:29681/api/v2/simulation/gillespy2/run\n"
     ]
    },
    {
     "name": "stderr",
     "output_type": "stream",
     "text": [
      "2023-02-09 18:26:52,745 - distributed.scheduler - INFO - Remove client Client-3bed1fec-a8d1-11ed-90b5-bffce49803b2\n",
      "2023-02-09 18:26:52,745 - distributed.core - INFO - Received 'close-stream' from tcp://127.0.0.1:47156; closing.\n",
      "2023-02-09 18:26:52,746 - distributed.scheduler - INFO - Remove client Client-3bed1fec-a8d1-11ed-90b5-bffce49803b2\n",
      "2023-02-09 18:26:52,747 - distributed.scheduler - INFO - Close client connection: Client-3bed1fec-a8d1-11ed-90b5-bffce49803b2\n"
     ]
    },
    {
     "name": "stdout",
     "output_type": "stream",
     "text": [
      "[SimulationRunRequest] http://localhost:29681/api/v2/simulation/gillespy2/run\n"
     ]
    },
    {
     "name": "stderr",
     "output_type": "stream",
     "text": [
      "2023-02-09 18:26:53,001 - distributed.scheduler - INFO - Receive client connection: Client-3c3355dd-a8d1-11ed-90b5-bffce49803b2\n",
      "2023-02-09 18:26:53,002 - distributed.core - INFO - Starting established connection to tcp://127.0.0.1:47182\n",
      "2023-02-09 18:26:53,068 - distributed.scheduler - INFO - Remove client Client-3c3355dd-a8d1-11ed-90b5-bffce49803b2\n",
      "2023-02-09 18:26:53,069 - distributed.core - INFO - Received 'close-stream' from tcp://127.0.0.1:47182; closing.\n",
      "2023-02-09 18:26:53,070 - distributed.scheduler - INFO - Remove client Client-3c3355dd-a8d1-11ed-90b5-bffce49803b2\n",
      "2023-02-09 18:26:53,070 - distributed.scheduler - INFO - Close client connection: Client-3c3355dd-a8d1-11ed-90b5-bffce49803b2\n"
     ]
    },
    {
     "name": "stdout",
     "output_type": "stream",
     "text": [
      "[SimulationRunRequest] http://localhost:29681/api/v2/simulation/gillespy2/run\n"
     ]
    },
    {
     "name": "stderr",
     "output_type": "stream",
     "text": [
      "2023-02-09 18:26:53,260 - distributed.scheduler - INFO - Receive client connection: Client-3c5adf6e-a8d1-11ed-90b5-bffce49803b2\n",
      "2023-02-09 18:26:53,261 - distributed.core - INFO - Starting established connection to tcp://127.0.0.1:47192\n",
      "2023-02-09 18:26:53,360 - distributed.scheduler - INFO - Remove client Client-3c5adf6e-a8d1-11ed-90b5-bffce49803b2\n",
      "2023-02-09 18:26:53,360 - distributed.core - INFO - Received 'close-stream' from tcp://127.0.0.1:47192; closing.\n",
      "2023-02-09 18:26:53,361 - distributed.scheduler - INFO - Remove client Client-3c5adf6e-a8d1-11ed-90b5-bffce49803b2\n",
      "2023-02-09 18:26:53,361 - distributed.scheduler - INFO - Close client connection: Client-3c5adf6e-a8d1-11ed-90b5-bffce49803b2\n"
     ]
    },
    {
     "name": "stdout",
     "output_type": "stream",
     "text": [
      "[SimulationRunRequest] http://localhost:29681/api/v2/simulation/gillespy2/run\n"
     ]
    },
    {
     "name": "stderr",
     "output_type": "stream",
     "text": [
      "2023-02-09 18:26:53,768 - distributed.scheduler - INFO - Receive client connection: Client-3ca843f5-a8d1-11ed-90b5-bffce49803b2\n",
      "2023-02-09 18:26:53,768 - distributed.core - INFO - Starting established connection to tcp://127.0.0.1:47216\n",
      "2023-02-09 18:26:53,785 - distributed.scheduler - INFO - Receive client connection: Client-3cab052d-a8d1-11ed-90b5-bffce49803b2\n",
      "2023-02-09 18:26:53,786 - distributed.core - INFO - Starting established connection to tcp://127.0.0.1:47244\n",
      "2023-02-09 18:26:53,793 - distributed.scheduler - INFO - Remove client Client-3ca843f5-a8d1-11ed-90b5-bffce49803b2\n",
      "2023-02-09 18:26:53,793 - distributed.core - INFO - Received 'close-stream' from tcp://127.0.0.1:47216; closing.\n",
      "2023-02-09 18:26:53,794 - distributed.scheduler - INFO - Remove client Client-3ca843f5-a8d1-11ed-90b5-bffce49803b2\n",
      "2023-02-09 18:26:53,803 - distributed.scheduler - INFO - Close client connection: Client-3ca843f5-a8d1-11ed-90b5-bffce49803b2\n",
      "2023-02-09 18:26:53,853 - distributed.scheduler - INFO - Remove client Client-3cab052d-a8d1-11ed-90b5-bffce49803b2\n",
      "2023-02-09 18:26:53,854 - distributed.core - INFO - Received 'close-stream' from tcp://127.0.0.1:47244; closing.\n",
      "2023-02-09 18:26:53,854 - distributed.scheduler - INFO - Remove client Client-3cab052d-a8d1-11ed-90b5-bffce49803b2\n",
      "2023-02-09 18:26:53,855 - distributed.scheduler - INFO - Close client connection: Client-3cab052d-a8d1-11ed-90b5-bffce49803b2\n"
     ]
    },
    {
     "name": "stdout",
     "output_type": "stream",
     "text": [
      "[SimulationRunRequest] http://localhost:29681/api/v2/simulation/gillespy2/run\n",
      "[SimulationRunRequest] http://localhost:29681/api/v2/simulation/gillespy2/run\n"
     ]
    },
    {
     "name": "stderr",
     "output_type": "stream",
     "text": [
      "2023-02-09 18:26:54,368 - distributed.scheduler - INFO - Receive client connection: Client-3d03d86c-a8d1-11ed-90b5-bffce49803b2\n",
      "2023-02-09 18:26:54,369 - distributed.core - INFO - Starting established connection to tcp://127.0.0.1:47256\n",
      "2023-02-09 18:26:54,386 - distributed.scheduler - INFO - Receive client connection: Client-3d068dd7-a8d1-11ed-90b5-bffce49803b2\n",
      "2023-02-09 18:26:54,387 - distributed.core - INFO - Starting established connection to tcp://127.0.0.1:47270\n",
      "2023-02-09 18:26:54,393 - distributed.scheduler - INFO - Remove client Client-3d03d86c-a8d1-11ed-90b5-bffce49803b2\n",
      "2023-02-09 18:26:54,393 - distributed.core - INFO - Received 'close-stream' from tcp://127.0.0.1:47256; closing.\n",
      "2023-02-09 18:26:54,394 - distributed.scheduler - INFO - Remove client Client-3d03d86c-a8d1-11ed-90b5-bffce49803b2\n",
      "2023-02-09 18:26:54,395 - distributed.scheduler - INFO - Close client connection: Client-3d03d86c-a8d1-11ed-90b5-bffce49803b2\n",
      "2023-02-09 18:26:54,463 - distributed.scheduler - INFO - Remove client Client-3d068dd7-a8d1-11ed-90b5-bffce49803b2\n",
      "2023-02-09 18:26:54,463 - distributed.core - INFO - Received 'close-stream' from tcp://127.0.0.1:47270; closing.\n",
      "2023-02-09 18:26:54,464 - distributed.scheduler - INFO - Remove client Client-3d068dd7-a8d1-11ed-90b5-bffce49803b2\n",
      "2023-02-09 18:26:54,464 - distributed.scheduler - INFO - Close client connection: Client-3d068dd7-a8d1-11ed-90b5-bffce49803b2\n"
     ]
    },
    {
     "name": "stdout",
     "output_type": "stream",
     "text": [
      "[SimulationRunRequest] http://localhost:29681/api/v2/simulation/gillespy2/run\n",
      "[SimulationRunRequest] http://localhost:29681/api/v2/simulation/gillespy2/run\n"
     ]
    },
    {
     "name": "stderr",
     "output_type": "stream",
     "text": [
      "2023-02-09 18:26:54,662 - distributed.scheduler - INFO - Receive client connection: Client-3d309a45-a8d1-11ed-90b5-bffce49803b2\n",
      "2023-02-09 18:26:54,663 - distributed.core - INFO - Starting established connection to tcp://127.0.0.1:47296\n",
      "2023-02-09 18:26:54,681 - distributed.scheduler - INFO - Receive client connection: Client-3d3370b8-a8d1-11ed-90b5-bffce49803b2\n",
      "2023-02-09 18:26:54,683 - distributed.core - INFO - Starting established connection to tcp://127.0.0.1:47320\n",
      "2023-02-09 18:26:54,687 - distributed.scheduler - INFO - Remove client Client-3d309a45-a8d1-11ed-90b5-bffce49803b2\n",
      "2023-02-09 18:26:54,688 - distributed.core - INFO - Received 'close-stream' from tcp://127.0.0.1:47296; closing.\n",
      "2023-02-09 18:26:54,689 - distributed.scheduler - INFO - Remove client Client-3d309a45-a8d1-11ed-90b5-bffce49803b2\n",
      "2023-02-09 18:26:54,690 - distributed.scheduler - INFO - Close client connection: Client-3d309a45-a8d1-11ed-90b5-bffce49803b2\n",
      "2023-02-09 18:26:54,759 - distributed.scheduler - INFO - Remove client Client-3d3370b8-a8d1-11ed-90b5-bffce49803b2\n",
      "2023-02-09 18:26:54,760 - distributed.core - INFO - Received 'close-stream' from tcp://127.0.0.1:47320; closing.\n",
      "2023-02-09 18:26:54,761 - distributed.scheduler - INFO - Remove client Client-3d3370b8-a8d1-11ed-90b5-bffce49803b2\n",
      "2023-02-09 18:26:54,761 - distributed.scheduler - INFO - Close client connection: Client-3d3370b8-a8d1-11ed-90b5-bffce49803b2\n"
     ]
    },
    {
     "name": "stdout",
     "output_type": "stream",
     "text": [
      "[SimulationRunRequest] http://localhost:29681/api/v2/simulation/gillespy2/run\n",
      "[SimulationRunRequest] http://localhost:29681/api/v2/simulation/gillespy2/run\n"
     ]
    },
    {
     "name": "stderr",
     "output_type": "stream",
     "text": [
      "2023-02-09 18:26:55,220 - distributed.scheduler - INFO - Receive client connection: Client-3d85d19b-a8d1-11ed-90b5-bffce49803b2\n",
      "2023-02-09 18:26:55,221 - distributed.core - INFO - Starting established connection to tcp://127.0.0.1:40294\n",
      "2023-02-09 18:26:55,373 - distributed.scheduler - INFO - Remove client Client-3d85d19b-a8d1-11ed-90b5-bffce49803b2\n",
      "2023-02-09 18:26:55,374 - distributed.core - INFO - Received 'close-stream' from tcp://127.0.0.1:40294; closing.\n",
      "2023-02-09 18:26:55,375 - distributed.scheduler - INFO - Remove client Client-3d85d19b-a8d1-11ed-90b5-bffce49803b2\n",
      "2023-02-09 18:26:55,375 - distributed.scheduler - INFO - Close client connection: Client-3d85d19b-a8d1-11ed-90b5-bffce49803b2\n"
     ]
    },
    {
     "name": "stdout",
     "output_type": "stream",
     "text": [
      "[SimulationRunRequest] http://localhost:29681/api/v2/simulation/gillespy2/run\n"
     ]
    },
    {
     "name": "stderr",
     "output_type": "stream",
     "text": [
      "2023-02-09 18:26:55,849 - distributed.scheduler - INFO - Receive client connection: Client-3de4146b-a8d1-11ed-90b5-bffce49803b2\n",
      "2023-02-09 18:26:55,853 - distributed.core - INFO - Starting established connection to tcp://127.0.0.1:40308\n",
      "2023-02-09 18:26:55,885 - distributed.scheduler - INFO - Receive client connection: Client-3deaaeb7-a8d1-11ed-90b5-bffce49803b2\n",
      "2023-02-09 18:26:55,887 - distributed.core - INFO - Starting established connection to tcp://127.0.0.1:40322\n",
      "2023-02-09 18:26:55,892 - distributed.scheduler - INFO - Remove client Client-3de4146b-a8d1-11ed-90b5-bffce49803b2\n",
      "2023-02-09 18:26:55,893 - distributed.core - INFO - Received 'close-stream' from tcp://127.0.0.1:40308; closing.\n",
      "2023-02-09 18:26:55,894 - distributed.scheduler - INFO - Remove client Client-3de4146b-a8d1-11ed-90b5-bffce49803b2\n",
      "2023-02-09 18:26:55,895 - distributed.scheduler - INFO - Close client connection: Client-3de4146b-a8d1-11ed-90b5-bffce49803b2\n",
      "2023-02-09 18:26:55,942 - distributed.scheduler - INFO - Remove client Client-3deaaeb7-a8d1-11ed-90b5-bffce49803b2\n",
      "2023-02-09 18:26:55,943 - distributed.core - INFO - Received 'close-stream' from tcp://127.0.0.1:40322; closing.\n",
      "2023-02-09 18:26:55,943 - distributed.scheduler - INFO - Remove client Client-3deaaeb7-a8d1-11ed-90b5-bffce49803b2\n",
      "2023-02-09 18:26:55,944 - distributed.scheduler - INFO - Close client connection: Client-3deaaeb7-a8d1-11ed-90b5-bffce49803b2\n"
     ]
    },
    {
     "name": "stdout",
     "output_type": "stream",
     "text": [
      "[SimulationRunRequest] http://localhost:29681/api/v2/simulation/gillespy2/run\n",
      "[SimulationRunRequest] http://localhost:29681/api/v2/simulation/gillespy2/run\n"
     ]
    },
    {
     "name": "stderr",
     "output_type": "stream",
     "text": [
      "2023-02-09 18:26:56,151 - distributed.scheduler - INFO - Receive client connection: Client-3e13db06-a8d1-11ed-90b5-bffce49803b2\n",
      "2023-02-09 18:26:56,152 - distributed.core - INFO - Starting established connection to tcp://127.0.0.1:40342\n",
      "2023-02-09 18:26:56,296 - distributed.scheduler - INFO - Remove client Client-3e13db06-a8d1-11ed-90b5-bffce49803b2\n",
      "2023-02-09 18:26:56,297 - distributed.core - INFO - Received 'close-stream' from tcp://127.0.0.1:40342; closing.\n",
      "2023-02-09 18:26:56,297 - distributed.scheduler - INFO - Remove client Client-3e13db06-a8d1-11ed-90b5-bffce49803b2\n",
      "2023-02-09 18:26:56,298 - distributed.scheduler - INFO - Close client connection: Client-3e13db06-a8d1-11ed-90b5-bffce49803b2\n"
     ]
    },
    {
     "name": "stdout",
     "output_type": "stream",
     "text": [
      "[SimulationRunRequest] http://localhost:29681/api/v2/simulation/gillespy2/run\n"
     ]
    },
    {
     "name": "stderr",
     "output_type": "stream",
     "text": [
      "2023-02-09 18:26:56,638 - asyncio - ERROR - Future exception was never retrieved\n",
      "future: <Future finished exception=TimeoutError('Timeout')>\n",
      "TimeoutError: Timeout\n"
     ]
    },
    {
     "name": "stdout",
     "output_type": "stream",
     "text": [
      "2023-02-09 18:26:56.296714 | <127.0.0.1> | Simulation Run Request | <613f39621a1f713f11869e914ead2c20> | Results not cached. Running simulation.\n",
      "2023-02-09 18:26:56.769964 | <127.0.0.1> | Simulation Run Request | <613f39621a1f713f11869e914ead2c20> | Results not cached. Running simulation.\n",
      "2023-02-09 18:26:56.784615 | Cache | <cache/613f39621a1f713f11869e914ead2c20.results> | Add\n",
      "2023-02-09 18:26:56.953243 | Cache | <cache/613f39621a1f713f11869e914ead2c20.results> | Add\n",
      "2023-02-09 18:26:56.851191 | <127.0.0.1> | Simulation Run Request | <613f39621a1f713f11869e914ead2c20> | Results not cached. Running simulation.\n",
      "2023-02-09 18:26:57.360947 | <127.0.0.1> | Simulation Run Request | <613f39621a1f713f11869e914ead2c20> | Results not cached. Running simulation.\n",
      "2023-02-09 18:26:57.386709 | Cache | <cache/613f39621a1f713f11869e914ead2c20.results> | Add\n",
      "2023-02-09 18:26:57.552416 | Cache | <cache/613f39621a1f713f11869e914ead2c20.results> | Add\n",
      "2023-02-09 18:26:57.413252 | <127.0.0.1> | Simulation Run Request | <613f39621a1f713f11869e914ead2c20> | Results not cached. Running simulation.\n",
      "2023-02-09 18:26:58.012101 | <127.0.0.1> | Simulation Run Request | <613f39621a1f713f11869e914ead2c20> | Results not cached. Running simulation.\n",
      "2023-02-09 18:26:58.025896 | Cache | <cache/613f39621a1f713f11869e914ead2c20.results> | Add\n",
      "2023-02-09 18:26:58.070550 | <127.0.0.1> | Simulation Run Request | <613f39621a1f713f11869e914ead2c20> | Results not cached. Running simulation.\n",
      "2023-02-09 18:26:58.185396 | Cache | <cache/613f39621a1f713f11869e914ead2c20.results> | Add\n",
      "2023-02-09 18:26:58.409062 | <127.0.0.1> | Simulation Run Request | <613f39621a1f713f11869e914ead2c20> | Results not cached. Running simulation.\n",
      "2023-02-09 18:26:58.662680 | <127.0.0.1> | Simulation Run Request | <613f39621a1f713f11869e914ead2c20> | Results not cached. Running simulation.\n",
      "2023-02-09 18:26:58.675436 | Cache | <cache/613f39621a1f713f11869e914ead2c20.results> | Add\n",
      "2023-02-09 18:26:58.721182 | <127.0.0.1> | Simulation Run Request | <613f39621a1f713f11869e914ead2c20> | Results not cached. Running simulation.\n",
      "2023-02-09 18:26:58.497912 | Cache | <cache/613f39621a1f713f11869e914ead2c20.results> | Add\n"
     ]
    },
    {
     "name": "stderr",
     "output_type": "stream",
     "text": [
      "2023-02-09 18:26:56,755 - distributed.scheduler - INFO - Receive client connection: Client-3e6f83fc-a8d1-11ed-90b5-bffce49803b2\n",
      "2023-02-09 18:26:56,756 - distributed.core - INFO - Starting established connection to tcp://127.0.0.1:40360\n",
      "2023-02-09 18:26:56,781 - distributed.scheduler - INFO - Remove client Client-3e6f83fc-a8d1-11ed-90b5-bffce49803b2\n",
      "2023-02-09 18:26:56,782 - distributed.core - INFO - Received 'close-stream' from tcp://127.0.0.1:40360; closing.\n",
      "2023-02-09 18:26:56,784 - distributed.scheduler - INFO - Remove client Client-3e6f83fc-a8d1-11ed-90b5-bffce49803b2\n",
      "2023-02-09 18:26:56,785 - distributed.scheduler - INFO - Receive client connection: Client-3e734f4c-a8d1-11ed-90b5-bffce49803b2\n",
      "2023-02-09 18:26:56,787 - distributed.core - INFO - Starting established connection to tcp://127.0.0.1:40382\n",
      "2023-02-09 18:26:56,788 - distributed.scheduler - INFO - Close client connection: Client-3e6f83fc-a8d1-11ed-90b5-bffce49803b2\n",
      "2023-02-09 18:26:56,891 - distributed.scheduler - INFO - Remove client Client-3e734f4c-a8d1-11ed-90b5-bffce49803b2\n",
      "2023-02-09 18:26:56,892 - distributed.core - INFO - Received 'close-stream' from tcp://127.0.0.1:40382; closing.\n",
      "2023-02-09 18:26:56,892 - distributed.scheduler - INFO - Remove client Client-3e734f4c-a8d1-11ed-90b5-bffce49803b2\n",
      "2023-02-09 18:26:56,893 - distributed.scheduler - INFO - Close client connection: Client-3e734f4c-a8d1-11ed-90b5-bffce49803b2\n"
     ]
    },
    {
     "name": "stdout",
     "output_type": "stream",
     "text": [
      "[SimulationRunRequest] http://localhost:29681/api/v2/simulation/gillespy2/run\n",
      "[SimulationRunRequest] http://localhost:29681/api/v2/simulation/gillespy2/run\n"
     ]
    },
    {
     "name": "stderr",
     "output_type": "stream",
     "text": [
      "2023-02-09 18:26:57,348 - distributed.scheduler - INFO - Receive client connection: Client-3eca9688-a8d1-11ed-90b5-bffce49803b2\n",
      "2023-02-09 18:26:57,349 - distributed.core - INFO - Starting established connection to tcp://127.0.0.1:40406\n",
      "2023-02-09 18:26:57,379 - distributed.scheduler - INFO - Receive client connection: Client-3ecdc214-a8d1-11ed-90b5-bffce49803b2\n",
      "2023-02-09 18:26:57,381 - distributed.core - INFO - Starting established connection to tcp://127.0.0.1:40426\n",
      "2023-02-09 18:26:57,383 - distributed.scheduler - INFO - Remove client Client-3eca9688-a8d1-11ed-90b5-bffce49803b2\n",
      "2023-02-09 18:26:57,384 - distributed.core - INFO - Received 'close-stream' from tcp://127.0.0.1:40406; closing.\n",
      "2023-02-09 18:26:57,385 - distributed.scheduler - INFO - Remove client Client-3eca9688-a8d1-11ed-90b5-bffce49803b2\n",
      "2023-02-09 18:26:57,388 - distributed.scheduler - INFO - Close client connection: Client-3eca9688-a8d1-11ed-90b5-bffce49803b2\n",
      "2023-02-09 18:26:57,430 - distributed.scheduler - INFO - Remove client Client-3ecdc214-a8d1-11ed-90b5-bffce49803b2\n",
      "2023-02-09 18:26:57,430 - distributed.core - INFO - Received 'close-stream' from tcp://127.0.0.1:40426; closing.\n",
      "2023-02-09 18:26:57,431 - distributed.scheduler - INFO - Remove client Client-3ecdc214-a8d1-11ed-90b5-bffce49803b2\n",
      "2023-02-09 18:26:57,432 - distributed.scheduler - INFO - Close client connection: Client-3ecdc214-a8d1-11ed-90b5-bffce49803b2\n"
     ]
    },
    {
     "name": "stdout",
     "output_type": "stream",
     "text": [
      "[SimulationRunRequest] http://localhost:29681/api/v2/simulation/gillespy2/run\n",
      "[SimulationRunRequest] http://localhost:29681/api/v2/simulation/gillespy2/run\n"
     ]
    },
    {
     "name": "stderr",
     "output_type": "stream",
     "text": [
      "2023-02-09 18:26:57,999 - distributed.scheduler - INFO - Receive client connection: Client-3f2ddb7c-a8d1-11ed-90b5-bffce49803b2\n",
      "2023-02-09 18:26:58,000 - distributed.core - INFO - Starting established connection to tcp://127.0.0.1:40448\n",
      "2023-02-09 18:26:58,018 - distributed.scheduler - INFO - Receive client connection: Client-3f30be2e-a8d1-11ed-90b5-bffce49803b2\n",
      "2023-02-09 18:26:58,019 - distributed.core - INFO - Starting established connection to tcp://127.0.0.1:40468\n",
      "2023-02-09 18:26:58,024 - distributed.scheduler - INFO - Remove client Client-3f2ddb7c-a8d1-11ed-90b5-bffce49803b2\n",
      "2023-02-09 18:26:58,024 - distributed.core - INFO - Received 'close-stream' from tcp://127.0.0.1:40448; closing.\n",
      "2023-02-09 18:26:58,025 - distributed.scheduler - INFO - Remove client Client-3f2ddb7c-a8d1-11ed-90b5-bffce49803b2\n",
      "2023-02-09 18:26:58,026 - distributed.scheduler - INFO - Close client connection: Client-3f2ddb7c-a8d1-11ed-90b5-bffce49803b2\n",
      "2023-02-09 18:26:58,062 - distributed.scheduler - INFO - Remove client Client-3f30be2e-a8d1-11ed-90b5-bffce49803b2\n",
      "2023-02-09 18:26:58,063 - distributed.core - INFO - Received 'close-stream' from tcp://127.0.0.1:40468; closing.\n",
      "2023-02-09 18:26:58,064 - distributed.scheduler - INFO - Remove client Client-3f30be2e-a8d1-11ed-90b5-bffce49803b2\n",
      "2023-02-09 18:26:58,064 - distributed.scheduler - INFO - Close client connection: Client-3f30be2e-a8d1-11ed-90b5-bffce49803b2\n"
     ]
    },
    {
     "name": "stdout",
     "output_type": "stream",
     "text": [
      "[SimulationRunRequest] http://localhost:29681/api/v2/simulation/gillespy2/run\n",
      "[SimulationRunRequest] http://localhost:29681/api/v2/simulation/gillespy2/run\n"
     ]
    },
    {
     "name": "stderr",
     "output_type": "stream",
     "text": [
      "2023-02-09 18:26:58,351 - distributed.scheduler - INFO - Receive client connection: Client-3f639928-a8d1-11ed-90b5-bffce49803b2\n",
      "2023-02-09 18:26:58,352 - distributed.core - INFO - Starting established connection to tcp://127.0.0.1:40496\n",
      "2023-02-09 18:26:58,385 - distributed.scheduler - INFO - Remove client Client-3f639928-a8d1-11ed-90b5-bffce49803b2\n",
      "2023-02-09 18:26:58,386 - distributed.core - INFO - Received 'close-stream' from tcp://127.0.0.1:40496; closing.\n",
      "2023-02-09 18:26:58,387 - distributed.scheduler - INFO - Remove client Client-3f639928-a8d1-11ed-90b5-bffce49803b2\n",
      "2023-02-09 18:26:58,387 - distributed.scheduler - INFO - Close client connection: Client-3f639928-a8d1-11ed-90b5-bffce49803b2\n"
     ]
    },
    {
     "name": "stdout",
     "output_type": "stream",
     "text": [
      "[SimulationRunRequest] http://localhost:29681/api/v2/simulation/gillespy2/run\n"
     ]
    },
    {
     "name": "stderr",
     "output_type": "stream",
     "text": [
      "2023-02-09 18:26:58,649 - distributed.scheduler - INFO - Receive client connection: Client-3f9120bc-a8d1-11ed-90b5-bffce49803b2\n",
      "2023-02-09 18:26:58,650 - distributed.core - INFO - Starting established connection to tcp://127.0.0.1:40518\n",
      "2023-02-09 18:26:58,668 - distributed.scheduler - INFO - Receive client connection: Client-3f93efde-a8d1-11ed-90b5-bffce49803b2\n",
      "2023-02-09 18:26:58,669 - distributed.core - INFO - Starting established connection to tcp://127.0.0.1:40538\n",
      "2023-02-09 18:26:58,674 - distributed.scheduler - INFO - Remove client Client-3f9120bc-a8d1-11ed-90b5-bffce49803b2\n",
      "2023-02-09 18:26:58,674 - distributed.core - INFO - Received 'close-stream' from tcp://127.0.0.1:40518; closing.\n",
      "2023-02-09 18:26:58,674 - distributed.scheduler - INFO - Remove client Client-3f9120bc-a8d1-11ed-90b5-bffce49803b2\n",
      "2023-02-09 18:26:58,675 - distributed.scheduler - INFO - Close client connection: Client-3f9120bc-a8d1-11ed-90b5-bffce49803b2\n",
      "2023-02-09 18:26:58,737 - distributed.scheduler - INFO - Remove client Client-3f93efde-a8d1-11ed-90b5-bffce49803b2\n",
      "2023-02-09 18:26:58,738 - distributed.core - INFO - Received 'close-stream' from tcp://127.0.0.1:40538; closing.\n",
      "2023-02-09 18:26:58,738 - distributed.scheduler - INFO - Remove client Client-3f93efde-a8d1-11ed-90b5-bffce49803b2\n",
      "2023-02-09 18:26:58,739 - distributed.scheduler - INFO - Close client connection: Client-3f93efde-a8d1-11ed-90b5-bffce49803b2\n"
     ]
    },
    {
     "name": "stdout",
     "output_type": "stream",
     "text": [
      "[SimulationRunRequest] http://localhost:29681/api/v2/simulation/gillespy2/run\n",
      "[SimulationRunRequest] http://localhost:29681/api/v2/simulation/gillespy2/run\n"
     ]
    },
    {
     "name": "stderr",
     "output_type": "stream",
     "text": [
      "2023-02-09 18:26:58,998 - distributed.scheduler - INFO - Receive client connection: Client-3fc6658d-a8d1-11ed-90b5-bffce49803b2\n",
      "2023-02-09 18:26:58,999 - distributed.core - INFO - Starting established connection to tcp://127.0.0.1:40568\n",
      "2023-02-09 18:26:59,050 - distributed.scheduler - INFO - Remove client Client-3fc6658d-a8d1-11ed-90b5-bffce49803b2\n",
      "2023-02-09 18:26:59,051 - distributed.core - INFO - Received 'close-stream' from tcp://127.0.0.1:40568; closing.\n",
      "2023-02-09 18:26:59,052 - distributed.scheduler - INFO - Remove client Client-3fc6658d-a8d1-11ed-90b5-bffce49803b2\n",
      "2023-02-09 18:26:59,053 - distributed.scheduler - INFO - Close client connection: Client-3fc6658d-a8d1-11ed-90b5-bffce49803b2\n"
     ]
    },
    {
     "name": "stdout",
     "output_type": "stream",
     "text": [
      "[SimulationRunRequest] http://localhost:29681/api/v2/simulation/gillespy2/run\n"
     ]
    },
    {
     "name": "stderr",
     "output_type": "stream",
     "text": [
      "2023-02-09 18:26:59,332 - asyncio - ERROR - Future exception was never retrieved\n",
      "future: <Future finished exception=TimeoutError('Timeout')>\n",
      "TimeoutError: Timeout\n"
     ]
    },
    {
     "name": "stdout",
     "output_type": "stream",
     "text": [
      "2023-02-09 18:26:59.108669 | Cache | <cache/613f39621a1f713f11869e914ead2c20.results> | Add\n",
      "2023-02-09 18:26:59.032998 | <127.0.0.1> | Simulation Run Request | <613f39621a1f713f11869e914ead2c20> | Results not cached. Running simulation.\n",
      "2023-02-09 18:26:59.630197 | <127.0.0.1> | Simulation Run Request | <613f39621a1f713f11869e914ead2c20> | Results not cached. Running simulation.\n",
      "2023-02-09 18:26:58.817911 | Cache | <cache/613f39621a1f713f11869e914ead2c20.results> | Add\n",
      "2023-02-09 18:26:59.766485 | Cache | <cache/613f39621a1f713f11869e914ead2c20.results> | Add\n",
      "2023-02-09 18:26:59.759358 | Cache | <cache/613f39621a1f713f11869e914ead2c20.results> | Add\n",
      "2023-02-09 18:26:59.696572 | <127.0.0.1> | Simulation Run Request | <613f39621a1f713f11869e914ead2c20> | Results not cached. Running simulation.\n",
      "2023-02-09 18:27:00.607131 | <127.0.0.1> | Simulation Run Request | <613f39621a1f713f11869e914ead2c20> | Results not cached. Running simulation.\n",
      "2023-02-09 18:27:00.620724 | Cache | <cache/613f39621a1f713f11869e914ead2c20.results> | Add\n",
      "2023-02-09 18:27:00.811604 | Cache | <cache/613f39621a1f713f11869e914ead2c20.results> | Add\n",
      "2023-02-09 18:27:00.770976 | <127.0.0.1> | Simulation Run Request | <613f39621a1f713f11869e914ead2c20> | Results not cached. Running simulation.\n",
      "2023-02-09 18:27:01.270262 | <127.0.0.1> | Simulation Run Request | <613f39621a1f713f11869e914ead2c20> | Results not cached. Running simulation.\n",
      "2023-02-09 18:27:01.283921 | Cache | <cache/613f39621a1f713f11869e914ead2c20.results> | Add\n"
     ]
    },
    {
     "name": "stderr",
     "output_type": "stream",
     "text": [
      "2023-02-09 18:26:59,617 - distributed.scheduler - INFO - Receive client connection: Client-4024ca2d-a8d1-11ed-90b5-bffce49803b2\n",
      "2023-02-09 18:26:59,618 - distributed.core - INFO - Starting established connection to tcp://127.0.0.1:40596\n",
      "2023-02-09 18:26:59,636 - distributed.scheduler - INFO - Receive client connection: Client-40279f21-a8d1-11ed-90b5-bffce49803b2\n",
      "2023-02-09 18:26:59,637 - distributed.core - INFO - Starting established connection to tcp://127.0.0.1:40606\n",
      "2023-02-09 18:26:59,695 - distributed.scheduler - INFO - Remove client Client-4024ca2d-a8d1-11ed-90b5-bffce49803b2\n",
      "2023-02-09 18:26:59,695 - distributed.core - INFO - Received 'close-stream' from tcp://127.0.0.1:40596; closing.\n",
      "2023-02-09 18:26:59,696 - distributed.scheduler - INFO - Remove client Client-4024ca2d-a8d1-11ed-90b5-bffce49803b2\n",
      "2023-02-09 18:26:59,696 - distributed.scheduler - INFO - Close client connection: Client-4024ca2d-a8d1-11ed-90b5-bffce49803b2\n",
      "2023-02-09 18:26:59,749 - distributed.scheduler - INFO - Remove client Client-40279f21-a8d1-11ed-90b5-bffce49803b2\n",
      "2023-02-09 18:26:59,750 - distributed.core - INFO - Received 'close-stream' from tcp://127.0.0.1:40606; closing.\n",
      "2023-02-09 18:26:59,750 - distributed.scheduler - INFO - Remove client Client-40279f21-a8d1-11ed-90b5-bffce49803b2\n",
      "2023-02-09 18:26:59,751 - distributed.scheduler - INFO - Close client connection: Client-40279f21-a8d1-11ed-90b5-bffce49803b2\n"
     ]
    },
    {
     "name": "stdout",
     "output_type": "stream",
     "text": [
      "[SimulationRunRequest] http://localhost:29681/api/v2/simulation/gillespy2/run\n",
      "[SimulationRunRequest] http://localhost:29681/api/v2/simulation/gillespy2/run\n"
     ]
    },
    {
     "name": "stderr",
     "output_type": "stream",
     "text": [
      "2023-02-09 18:27:00,571 - distributed.scheduler - INFO - Receive client connection: Client-40b4835d-a8d1-11ed-90b5-bffce49803b2\n",
      "2023-02-09 18:27:00,574 - distributed.core - INFO - Starting established connection to tcp://127.0.0.1:40626\n",
      "2023-02-09 18:27:00,617 - distributed.scheduler - INFO - Remove client Client-40b4835d-a8d1-11ed-90b5-bffce49803b2\n",
      "2023-02-09 18:27:00,618 - distributed.core - INFO - Received 'close-stream' from tcp://127.0.0.1:40626; closing.\n",
      "2023-02-09 18:27:00,619 - distributed.scheduler - INFO - Remove client Client-40b4835d-a8d1-11ed-90b5-bffce49803b2\n",
      "2023-02-09 18:27:00,622 - distributed.scheduler - INFO - Close client connection: Client-40b4835d-a8d1-11ed-90b5-bffce49803b2\n",
      "2023-02-09 18:27:00,634 - distributed.scheduler - INFO - Receive client connection: Client-40bd264d-a8d1-11ed-90b5-bffce49803b2\n",
      "2023-02-09 18:27:00,635 - distributed.core - INFO - Starting established connection to tcp://127.0.0.1:40638\n",
      "2023-02-09 18:27:00,790 - distributed.scheduler - INFO - Remove client Client-40bd264d-a8d1-11ed-90b5-bffce49803b2\n",
      "2023-02-09 18:27:00,791 - distributed.core - INFO - Received 'close-stream' from tcp://127.0.0.1:40638; closing.\n",
      "2023-02-09 18:27:00,792 - distributed.scheduler - INFO - Remove client Client-40bd264d-a8d1-11ed-90b5-bffce49803b2\n",
      "2023-02-09 18:27:00,793 - distributed.scheduler - INFO - Close client connection: Client-40bd264d-a8d1-11ed-90b5-bffce49803b2\n"
     ]
    },
    {
     "name": "stdout",
     "output_type": "stream",
     "text": [
      "[SimulationRunRequest] http://localhost:29681/api/v2/simulation/gillespy2/run\n",
      "[SimulationRunRequest] http://localhost:29681/api/v2/simulation/gillespy2/run\n"
     ]
    },
    {
     "name": "stderr",
     "output_type": "stream",
     "text": [
      "2023-02-09 18:27:01,257 - distributed.scheduler - INFO - Receive client connection: Client-411f0c44-a8d1-11ed-90b5-bffce49803b2\n",
      "2023-02-09 18:27:01,258 - distributed.core - INFO - Starting established connection to tcp://127.0.0.1:40650\n",
      "2023-02-09 18:27:01,277 - distributed.scheduler - INFO - Receive client connection: Client-4121d76e-a8d1-11ed-90b5-bffce49803b2\n",
      "2023-02-09 18:27:01,278 - distributed.core - INFO - Starting established connection to tcp://127.0.0.1:40670\n",
      "2023-02-09 18:27:01,282 - distributed.scheduler - INFO - Remove client Client-411f0c44-a8d1-11ed-90b5-bffce49803b2\n",
      "2023-02-09 18:27:01,282 - distributed.core - INFO - Received 'close-stream' from tcp://127.0.0.1:40650; closing.\n",
      "2023-02-09 18:27:01,283 - distributed.scheduler - INFO - Remove client Client-411f0c44-a8d1-11ed-90b5-bffce49803b2\n",
      "2023-02-09 18:27:01,284 - distributed.scheduler - INFO - Close client connection: Client-411f0c44-a8d1-11ed-90b5-bffce49803b2\n",
      "2023-02-09 18:27:01,312 - distributed.scheduler - INFO - Remove client Client-4121d76e-a8d1-11ed-90b5-bffce49803b2\n",
      "2023-02-09 18:27:01,313 - distributed.core - INFO - Received 'close-stream' from tcp://127.0.0.1:40670; closing.\n",
      "2023-02-09 18:27:01,315 - distributed.scheduler - INFO - Remove client Client-4121d76e-a8d1-11ed-90b5-bffce49803b2\n",
      "2023-02-09 18:27:01,317 - distributed.scheduler - INFO - Close client connection: Client-4121d76e-a8d1-11ed-90b5-bffce49803b2\n"
     ]
    },
    {
     "name": "stdout",
     "output_type": "stream",
     "text": [
      "[SimulationRunRequest] http://localhost:29681/api/v2/simulation/gillespy2/run\n",
      "[SimulationRunRequest] http://localhost:29681/api/v2/simulation/gillespy2/run\n"
     ]
    },
    {
     "name": "stderr",
     "output_type": "stream",
     "text": [
      "2023-02-09 18:27:01,653 - asyncio - ERROR - Future exception was never retrieved\n",
      "future: <Future finished exception=TimeoutError('Timeout')>\n",
      "TimeoutError: Timeout\n",
      "2023-02-09 18:27:01,654 - asyncio - ERROR - Future exception was never retrieved\n",
      "future: <Future finished exception=TimeoutError('Timeout')>\n",
      "TimeoutError: Timeout\n"
     ]
    },
    {
     "name": "stdout",
     "output_type": "stream",
     "text": [
      "2023-02-09 18:27:01.360159 | Cache | <cache/613f39621a1f713f11869e914ead2c20.results> | Add\n",
      "2023-02-09 18:27:01.329242 | <127.0.0.1> | Simulation Run Request | <613f39621a1f713f11869e914ead2c20> | Results not cached. Running simulation.\n",
      "2023-02-09 18:27:02.004384 | <127.0.0.1> | Simulation Run Request | <613f39621a1f713f11869e914ead2c20> | Results not cached. Running simulation.\n",
      "2023-02-09 18:27:02.021147 | Cache | <cache/613f39621a1f713f11869e914ead2c20.results> | Add\n",
      "2023-02-09 18:27:02.057401 | <127.0.0.1> | Simulation Run Request | <613f39621a1f713f11869e914ead2c20> | Results not cached. Running simulation.\n",
      "2023-02-09 18:27:02.196284 | Cache | <cache/613f39621a1f713f11869e914ead2c20.results> | Add\n",
      "2023-02-09 18:27:02.605424 | Cache | <cache/613f39621a1f713f11869e914ead2c20.results> | Add\n",
      "2023-02-09 18:27:02.462901 | <127.0.0.1> | Simulation Run Request | <613f39621a1f713f11869e914ead2c20> | Results not cached. Running simulation.\n",
      "2023-02-09 18:27:03.086608 | <127.0.0.1> | Simulation Run Request | <613f39621a1f713f11869e914ead2c20> | Results not cached. Running simulation.\n",
      "2023-02-09 18:27:03.102244 | Cache | <cache/613f39621a1f713f11869e914ead2c20.results> | Add\n",
      "2023-02-09 18:27:03.270583 | Cache | <cache/613f39621a1f713f11869e914ead2c20.results> | Add\n",
      "2023-02-09 18:27:03.177255 | <127.0.0.1> | Simulation Run Request | <613f39621a1f713f11869e914ead2c20> | Results not cached. Running simulation.\n",
      "2023-02-09 18:27:03.775657 | <127.0.0.1> | Simulation Run Request | <613f39621a1f713f11869e914ead2c20> | Results not cached. Running simulation.\n",
      "2023-02-09 18:27:03.788140 | Cache | <cache/613f39621a1f713f11869e914ead2c20.results> | Add\n",
      "2023-02-09 18:27:03.972384 | Cache | <cache/613f39621a1f713f11869e914ead2c20.results> | Add\n",
      "2023-02-09 18:27:03.876918 | <127.0.0.1> | Simulation Run Request | <613f39621a1f713f11869e914ead2c20> | Results not cached. Running simulation.\n",
      "2023-02-09 18:27:04.479269 | <127.0.0.1> | Simulation Run Request | <613f39621a1f713f11869e914ead2c20> | Results not cached. Running simulation.\n",
      "2023-02-09 18:27:04.493577 | Cache | <cache/613f39621a1f713f11869e914ead2c20.results> | Add\n",
      "2023-02-09 18:27:04.529961 | <127.0.0.1> | Simulation Run Request | <613f39621a1f713f11869e914ead2c20> | Results not cached. Running simulation.\n",
      "2023-02-09 18:27:04.803461 | <127.0.0.1> | Simulation Run Request | <613f39621a1f713f11869e914ead2c20> | Results not cached. Running simulation.\n",
      "2023-02-09 18:27:04.817565 | Cache | <cache/613f39621a1f713f11869e914ead2c20.results> | Add\n",
      "2023-02-09 18:27:04.660921 | Cache | <cache/613f39621a1f713f11869e914ead2c20.results> | Add\n",
      "2023-02-09 18:27:04.857873 | <127.0.0.1> | Simulation Run Request | <613f39621a1f713f11869e914ead2c20> | Results not cached. Running simulation.\n",
      "2023-02-09 18:27:04.999022 | Cache | <cache/613f39621a1f713f11869e914ead2c20.results> | Add\n",
      "2023-02-09 18:27:05.576247 | <127.0.0.1> | Simulation Run Request | <613f39621a1f713f11869e914ead2c20> | Results not cached. Running simulation.\n",
      "2023-02-09 18:27:05.860422 | <127.0.0.1> | Simulation Run Request | <613f39621a1f713f11869e914ead2c20> | Results not cached. Running simulation.\n",
      "2023-02-09 18:27:05.679642 | Cache | <cache/613f39621a1f713f11869e914ead2c20.results> | Add\n",
      "2023-02-09 18:27:06.216048 | Cache | <cache/613f39621a1f713f11869e914ead2c20.results> | Add\n",
      "2023-02-09 18:27:06.110656 | Cache | <cache/613f39621a1f713f11869e914ead2c20.results> | Add\n",
      "2023-02-09 18:27:06.173048 | <127.0.0.1> | Simulation Run Request | <613f39621a1f713f11869e914ead2c20> | Results not cached. Running simulation.\n",
      "2023-02-09 18:27:06.877248 | <127.0.0.1> | Simulation Run Request | <613f39621a1f713f11869e914ead2c20> | Results not cached. Running simulation.\n",
      "2023-02-09 18:27:06.891663 | Cache | <cache/613f39621a1f713f11869e914ead2c20.results> | Add\n",
      "2023-02-09 18:27:07.050488 | Cache | <cache/613f39621a1f713f11869e914ead2c20.results> | Add\n",
      "2023-02-09 18:27:06.919811 | <127.0.0.1> | Simulation Run Request | <613f39621a1f713f11869e914ead2c20> | Results not cached. Running simulation.\n",
      "2023-02-09 18:27:07.577461 | <127.0.0.1> | Simulation Run Request | <613f39621a1f713f11869e914ead2c20> | Results not cached. Running simulation.\n",
      "2023-02-09 18:27:07.586811 | Cache | <cache/613f39621a1f713f11869e914ead2c20.results> | Add\n",
      "2023-02-09 18:27:07.706274 | <127.0.0.1> | Simulation Run Request | <613f39621a1f713f11869e914ead2c20> | Results not cached. Running simulation.\n",
      "2023-02-09 18:27:08.082848 | <127.0.0.1> |               Status Request | <613f39621a1f713f11869e914ead2c20> | Trajectories: 1 |               Task ID: 613f39621a1f713f11869e914ead2c20:1:f216ee07562d4b69\n",
      "2023-02-09 18:27:07.965262 | Cache | <cache/613f39621a1f713f11869e914ead2c20.results> | Add\n",
      "2023-02-09 18:27:07.789841 | Cache | <cache/613f39621a1f713f11869e914ead2c20.results> | Add\n",
      "2023-02-09 18:27:08.153542 | <613f39621a1f713f11869e914ead2c20> | <613f39621a1f713f11869e914ead2c20:1:f216ee07562d4b69> |Status: READY\n",
      "2023-02-09 18:27:08.766026 | <127.0.0.1> | Results Request | <613f39621a1f713f11869e914ead2c20>\n",
      "2023-02-09 18:27:09.039898 | <127.0.0.1> |               Status Request | <613f39621a1f713f11869e914ead2c20> | Trajectories: 1 |               Task ID: 613f39621a1f713f11869e914ead2c20:1:12119603c22f93ae\n",
      "2023-02-09 18:27:09.041592 | <613f39621a1f713f11869e914ead2c20> | <613f39621a1f713f11869e914ead2c20:1:12119603c22f93ae> |Status: READY\n",
      "2023-02-09 18:27:09.132843 | <127.0.0.1> | Results Request | <613f39621a1f713f11869e914ead2c20>\n",
      "2023-02-09 18:27:09.326577 | <127.0.0.1> |               Status Request | <613f39621a1f713f11869e914ead2c20> | Trajectories: 1 |               Task ID: 613f39621a1f713f11869e914ead2c20:1:7d60d8d772c7b14d\n",
      "2023-02-09 18:27:09.328117 | <613f39621a1f713f11869e914ead2c20> | <613f39621a1f713f11869e914ead2c20:1:7d60d8d772c7b14d> |Status: READY\n",
      "2023-02-09 18:27:09.430444 | <127.0.0.1> | Results Request | <613f39621a1f713f11869e914ead2c20>\n",
      "2023-02-09 18:27:09.629890 | <127.0.0.1> |               Status Request | <613f39621a1f713f11869e914ead2c20> | Trajectories: 1 |               Task ID: 613f39621a1f713f11869e914ead2c20:1:aa3019bb17508997\n",
      "2023-02-09 18:27:09.631511 | <613f39621a1f713f11869e914ead2c20> | <613f39621a1f713f11869e914ead2c20:1:aa3019bb17508997> |Status: READY\n",
      "2023-02-09 18:27:09.718111 | <127.0.0.1> | Results Request | <613f39621a1f713f11869e914ead2c20>\n",
      "2023-02-09 18:27:09.923402 | <127.0.0.1> |               Status Request | <613f39621a1f713f11869e914ead2c20> | Trajectories: 1 |               Task ID: 613f39621a1f713f11869e914ead2c20:1:6de934c348c25ef7\n",
      "2023-02-09 18:27:09.925170 | <613f39621a1f713f11869e914ead2c20> | <613f39621a1f713f11869e914ead2c20:1:6de934c348c25ef7> |Status: READY\n",
      "2023-02-09 18:27:10.017556 | <127.0.0.1> | Results Request | <613f39621a1f713f11869e914ead2c20>\n",
      "2023-02-09 18:27:10.210161 | <127.0.0.1> |               Status Request | <613f39621a1f713f11869e914ead2c20> | Trajectories: 1 |               Task ID: 613f39621a1f713f11869e914ead2c20:1:a8b938ba90367b48\n",
      "2023-02-09 18:27:10.211914 | <613f39621a1f713f11869e914ead2c20> | <613f39621a1f713f11869e914ead2c20:1:a8b938ba90367b48> |Status: READY\n",
      "2023-02-09 18:27:10.298217 | <127.0.0.1> | Results Request | <613f39621a1f713f11869e914ead2c20>\n",
      "2023-02-09 18:27:10.498727 | <127.0.0.1> |               Status Request | <613f39621a1f713f11869e914ead2c20> | Trajectories: 1 |               Task ID: 613f39621a1f713f11869e914ead2c20:1:66513b6d3b542332\n",
      "2023-02-09 18:27:10.500294 | <613f39621a1f713f11869e914ead2c20> | <613f39621a1f713f11869e914ead2c20:1:66513b6d3b542332> |Status: READY\n",
      "2023-02-09 18:27:10.592201 | <127.0.0.1> | Results Request | <613f39621a1f713f11869e914ead2c20>\n",
      "2023-02-09 18:27:10.786621 | <127.0.0.1> |               Status Request | <613f39621a1f713f11869e914ead2c20> | Trajectories: 1 |               Task ID: 613f39621a1f713f11869e914ead2c20:1:26bbc87b43175bb6\n",
      "2023-02-09 18:27:10.788218 | <613f39621a1f713f11869e914ead2c20> | <613f39621a1f713f11869e914ead2c20:1:26bbc87b43175bb6> |Status: READY\n",
      "2023-02-09 18:27:10.933569 | <127.0.0.1> | Results Request | <613f39621a1f713f11869e914ead2c20>\n",
      "2023-02-09 18:27:11.142065 | <127.0.0.1> |               Status Request | <613f39621a1f713f11869e914ead2c20> | Trajectories: 1 |               Task ID: 613f39621a1f713f11869e914ead2c20:1:f1ae4f1605edf21b\n",
      "2023-02-09 18:27:11.143456 | <613f39621a1f713f11869e914ead2c20> | <613f39621a1f713f11869e914ead2c20:1:f1ae4f1605edf21b> |Status: READY\n",
      "2023-02-09 18:27:11.242423 | <127.0.0.1> | Results Request | <613f39621a1f713f11869e914ead2c20>\n",
      "2023-02-09 18:27:11.454853 | <127.0.0.1> |               Status Request | <613f39621a1f713f11869e914ead2c20> | Trajectories: 1 |               Task ID: 613f39621a1f713f11869e914ead2c20:1:b348078a94922908\n",
      "2023-02-09 18:27:11.456428 | <613f39621a1f713f11869e914ead2c20> | <613f39621a1f713f11869e914ead2c20:1:b348078a94922908> |Status: READY\n",
      "2023-02-09 18:27:11.540334 | <127.0.0.1> | Results Request | <613f39621a1f713f11869e914ead2c20>\n",
      "2023-02-09 18:27:11.732781 | <127.0.0.1> |               Status Request | <613f39621a1f713f11869e914ead2c20> | Trajectories: 1 |               Task ID: 613f39621a1f713f11869e914ead2c20:1:0fcccf807470ac56\n",
      "2023-02-09 18:27:11.734299 | <613f39621a1f713f11869e914ead2c20> | <613f39621a1f713f11869e914ead2c20:1:0fcccf807470ac56> |Status: READY\n",
      "2023-02-09 18:27:11.820720 | <127.0.0.1> | Results Request | <613f39621a1f713f11869e914ead2c20>\n",
      "2023-02-09 18:27:12.032326 | <127.0.0.1> |               Status Request | <613f39621a1f713f11869e914ead2c20> | Trajectories: 1 |               Task ID: 613f39621a1f713f11869e914ead2c20:1:cbcc4611681e4781\n",
      "2023-02-09 18:27:12.033708 | <613f39621a1f713f11869e914ead2c20> | <613f39621a1f713f11869e914ead2c20:1:cbcc4611681e4781> |Status: READY\n",
      "2023-02-09 18:27:12.119780 | <127.0.0.1> | Results Request | <613f39621a1f713f11869e914ead2c20>\n",
      "2023-02-09 18:27:12.393670 | <127.0.0.1> |               Status Request | <613f39621a1f713f11869e914ead2c20> | Trajectories: 1 |               Task ID: 613f39621a1f713f11869e914ead2c20:1:4abd1cfe38a8e660\n",
      "2023-02-09 18:27:12.395532 | <613f39621a1f713f11869e914ead2c20> | <613f39621a1f713f11869e914ead2c20:1:4abd1cfe38a8e660> |Status: READY\n",
      "2023-02-09 18:27:12.484302 | <127.0.0.1> | Results Request | <613f39621a1f713f11869e914ead2c20>\n",
      "2023-02-09 18:27:12.695658 | <127.0.0.1> |               Status Request | <613f39621a1f713f11869e914ead2c20> | Trajectories: 1 |               Task ID: 613f39621a1f713f11869e914ead2c20:1:e31fde937aaa466c\n",
      "2023-02-09 18:27:12.697238 | <613f39621a1f713f11869e914ead2c20> | <613f39621a1f713f11869e914ead2c20:1:e31fde937aaa466c> |Status: READY\n",
      "2023-02-09 18:27:12.782367 | <127.0.0.1> | Results Request | <613f39621a1f713f11869e914ead2c20>\n",
      "2023-02-09 18:27:13.040491 | <127.0.0.1> |               Status Request | <613f39621a1f713f11869e914ead2c20> | Trajectories: 1 |               Task ID: 613f39621a1f713f11869e914ead2c20:1:fa1388e875425be9\n",
      "2023-02-09 18:27:13.041988 | <613f39621a1f713f11869e914ead2c20> | <613f39621a1f713f11869e914ead2c20:1:fa1388e875425be9> |Status: READY\n",
      "2023-02-09 18:27:13.127769 | <127.0.0.1> | Results Request | <613f39621a1f713f11869e914ead2c20>\n",
      "2023-02-09 18:27:13.320350 | <127.0.0.1> |               Status Request | <613f39621a1f713f11869e914ead2c20> | Trajectories: 1 |               Task ID: 613f39621a1f713f11869e914ead2c20:1:3a061d2ec6640579\n",
      "2023-02-09 18:27:13.322017 | <613f39621a1f713f11869e914ead2c20> | <613f39621a1f713f11869e914ead2c20:1:3a061d2ec6640579> |Status: READY\n",
      "2023-02-09 18:27:13.408795 | <127.0.0.1> | Results Request | <613f39621a1f713f11869e914ead2c20>\n",
      "2023-02-09 18:27:13.604629 | <127.0.0.1> |               Status Request | <613f39621a1f713f11869e914ead2c20> | Trajectories: 1 |               Task ID: 613f39621a1f713f11869e914ead2c20:1:f4dbc5ebbda004c6\n",
      "2023-02-09 18:27:13.606120 | <613f39621a1f713f11869e914ead2c20> | <613f39621a1f713f11869e914ead2c20:1:f4dbc5ebbda004c6> |Status: READY\n",
      "2023-02-09 18:27:13.698352 | <127.0.0.1> | Results Request | <613f39621a1f713f11869e914ead2c20>\n",
      "2023-02-09 18:27:13.898880 | <127.0.0.1> |               Status Request | <613f39621a1f713f11869e914ead2c20> | Trajectories: 1 |               Task ID: 613f39621a1f713f11869e914ead2c20:1:86cd1006180e2316\n",
      "2023-02-09 18:27:13.900314 | <613f39621a1f713f11869e914ead2c20> | <613f39621a1f713f11869e914ead2c20:1:86cd1006180e2316> |Status: READY\n",
      "2023-02-09 18:27:13.986161 | <127.0.0.1> | Results Request | <613f39621a1f713f11869e914ead2c20>\n",
      "2023-02-09 18:27:14.182904 | <127.0.0.1> |               Status Request | <613f39621a1f713f11869e914ead2c20> | Trajectories: 1 |               Task ID: 613f39621a1f713f11869e914ead2c20:1:e5cac9949256713c\n",
      "2023-02-09 18:27:14.184567 | <613f39621a1f713f11869e914ead2c20> | <613f39621a1f713f11869e914ead2c20:1:e5cac9949256713c> |Status: READY\n",
      "2023-02-09 18:27:14.271298 | <127.0.0.1> | Results Request | <613f39621a1f713f11869e914ead2c20>\n",
      "2023-02-09 18:27:14.479763 | <127.0.0.1> |               Status Request | <613f39621a1f713f11869e914ead2c20> | Trajectories: 1 |               Task ID: 613f39621a1f713f11869e914ead2c20:1:0ab54be9c8f9bd01\n",
      "2023-02-09 18:27:14.481363 | <613f39621a1f713f11869e914ead2c20> | <613f39621a1f713f11869e914ead2c20:1:0ab54be9c8f9bd01> |Status: READY\n",
      "2023-02-09 18:27:14.571578 | <127.0.0.1> | Results Request | <613f39621a1f713f11869e914ead2c20>\n",
      "2023-02-09 18:27:14.761002 | <127.0.0.1> |               Status Request | <613f39621a1f713f11869e914ead2c20> | Trajectories: 1 |               Task ID: 613f39621a1f713f11869e914ead2c20:1:6258f2b9d5707be0\n",
      "2023-02-09 18:27:14.763029 | <613f39621a1f713f11869e914ead2c20> | <613f39621a1f713f11869e914ead2c20:1:6258f2b9d5707be0> |Status: READY\n",
      "2023-02-09 18:27:14.909912 | <127.0.0.1> | Results Request | <613f39621a1f713f11869e914ead2c20>\n",
      "2023-02-09 18:27:15.108527 | <127.0.0.1> |               Status Request | <613f39621a1f713f11869e914ead2c20> | Trajectories: 1 |               Task ID: 613f39621a1f713f11869e914ead2c20:1:1644f7340af9092f\n",
      "2023-02-09 18:27:15.110141 | <613f39621a1f713f11869e914ead2c20> | <613f39621a1f713f11869e914ead2c20:1:1644f7340af9092f> |Status: READY\n",
      "2023-02-09 18:27:15.196087 | <127.0.0.1> | Results Request | <613f39621a1f713f11869e914ead2c20>\n",
      "2023-02-09 18:27:15.399320 | <127.0.0.1> |               Status Request | <613f39621a1f713f11869e914ead2c20> | Trajectories: 1 |               Task ID: 613f39621a1f713f11869e914ead2c20:1:ebf5387db9c12b74\n",
      "2023-02-09 18:27:15.401041 | <613f39621a1f713f11869e914ead2c20> | <613f39621a1f713f11869e914ead2c20:1:ebf5387db9c12b74> |Status: READY\n",
      "2023-02-09 18:27:15.490098 | <127.0.0.1> | Results Request | <613f39621a1f713f11869e914ead2c20>\n",
      "2023-02-09 18:27:15.681731 | <127.0.0.1> |               Status Request | <613f39621a1f713f11869e914ead2c20> | Trajectories: 1 |               Task ID: 613f39621a1f713f11869e914ead2c20:1:7d7b815dad2850d3\n",
      "2023-02-09 18:27:15.683399 | <613f39621a1f713f11869e914ead2c20> | <613f39621a1f713f11869e914ead2c20:1:7d7b815dad2850d3> |Status: READY\n",
      "2023-02-09 18:27:15.770680 | <127.0.0.1> | Results Request | <613f39621a1f713f11869e914ead2c20>\n",
      "2023-02-09 18:27:15.984899 | <127.0.0.1> |               Status Request | <613f39621a1f713f11869e914ead2c20> | Trajectories: 1 |               Task ID: 613f39621a1f713f11869e914ead2c20:1:68b45d4f2ec931af\n",
      "2023-02-09 18:27:15.986492 | <613f39621a1f713f11869e914ead2c20> | <613f39621a1f713f11869e914ead2c20:1:68b45d4f2ec931af> |Status: READY\n",
      "2023-02-09 18:27:16.075684 | <127.0.0.1> | Results Request | <613f39621a1f713f11869e914ead2c20>\n",
      "2023-02-09 18:27:16.277544 | <127.0.0.1> |               Status Request | <613f39621a1f713f11869e914ead2c20> | Trajectories: 1 |               Task ID: 613f39621a1f713f11869e914ead2c20:1:a4163c80daa8599c\n",
      "2023-02-09 18:27:16.279369 | <613f39621a1f713f11869e914ead2c20> | <613f39621a1f713f11869e914ead2c20:1:a4163c80daa8599c> |Status: READY\n",
      "2023-02-09 18:27:16.368438 | <127.0.0.1> | Results Request | <613f39621a1f713f11869e914ead2c20>\n",
      "2023-02-09 18:27:16.647433 | <127.0.0.1> |               Status Request | <613f39621a1f713f11869e914ead2c20> | Trajectories: 1 |               Task ID: 613f39621a1f713f11869e914ead2c20:1:87cfe68c851b6863\n",
      "2023-02-09 18:27:16.649000 | <613f39621a1f713f11869e914ead2c20> | <613f39621a1f713f11869e914ead2c20:1:87cfe68c851b6863> |Status: READY\n",
      "2023-02-09 18:27:16.735026 | <127.0.0.1> | Results Request | <613f39621a1f713f11869e914ead2c20>\n",
      "2023-02-09 18:27:16.982221 | <127.0.0.1> |               Status Request | <613f39621a1f713f11869e914ead2c20> | Trajectories: 1 |               Task ID: 613f39621a1f713f11869e914ead2c20:1:98babfdead1c5059\n",
      "2023-02-09 18:27:16.983714 | <613f39621a1f713f11869e914ead2c20> | <613f39621a1f713f11869e914ead2c20:1:98babfdead1c5059> |Status: READY\n",
      "2023-02-09 18:27:17.071006 | <127.0.0.1> | Results Request | <613f39621a1f713f11869e914ead2c20>\n",
      "2023-02-09 18:27:17.272018 | <127.0.0.1> |               Status Request | <613f39621a1f713f11869e914ead2c20> | Trajectories: 1 |               Task ID: 613f39621a1f713f11869e914ead2c20:1:162853bd701390ef\n",
      "2023-02-09 18:27:17.273575 | <613f39621a1f713f11869e914ead2c20> | <613f39621a1f713f11869e914ead2c20:1:162853bd701390ef> |Status: READY\n",
      "2023-02-09 18:27:17.362875 | <127.0.0.1> | Results Request | <613f39621a1f713f11869e914ead2c20>\n",
      "2023-02-09 18:27:17.557251 | <127.0.0.1> |               Status Request | <613f39621a1f713f11869e914ead2c20> | Trajectories: 1 |               Task ID: 613f39621a1f713f11869e914ead2c20:1:3b0e914e3b8f3297\n",
      "2023-02-09 18:27:17.559040 | <613f39621a1f713f11869e914ead2c20> | <613f39621a1f713f11869e914ead2c20:1:3b0e914e3b8f3297> |Status: READY\n",
      "2023-02-09 18:27:17.647449 | <127.0.0.1> | Results Request | <613f39621a1f713f11869e914ead2c20>\n",
      "2023-02-09 18:27:17.855451 | <127.0.0.1> |               Status Request | <613f39621a1f713f11869e914ead2c20> | Trajectories: 1 |               Task ID: 613f39621a1f713f11869e914ead2c20:1:66868c36f895b5e2\n",
      "2023-02-09 18:27:17.856739 | <613f39621a1f713f11869e914ead2c20> | <613f39621a1f713f11869e914ead2c20:1:66868c36f895b5e2> |Status: READY\n",
      "2023-02-09 18:27:17.945699 | <127.0.0.1> | Results Request | <613f39621a1f713f11869e914ead2c20>\n",
      "2023-02-09 18:27:18.150306 | <127.0.0.1> |               Status Request | <613f39621a1f713f11869e914ead2c20> | Trajectories: 1 |               Task ID: 613f39621a1f713f11869e914ead2c20:1:f4944e693e1ae3ca\n",
      "2023-02-09 18:27:18.151832 | <613f39621a1f713f11869e914ead2c20> | <613f39621a1f713f11869e914ead2c20:1:f4944e693e1ae3ca> |Status: READY\n",
      "2023-02-09 18:27:18.251995 | <127.0.0.1> | Results Request | <613f39621a1f713f11869e914ead2c20>\n",
      "2023-02-09 18:27:18.459048 | <127.0.0.1> |               Status Request | <613f39621a1f713f11869e914ead2c20> | Trajectories: 1 |               Task ID: 613f39621a1f713f11869e914ead2c20:1:d8aff4f8e3976e83\n",
      "2023-02-09 18:27:18.460940 | <613f39621a1f713f11869e914ead2c20> | <613f39621a1f713f11869e914ead2c20:1:d8aff4f8e3976e83> |Status: READY\n",
      "2023-02-09 18:27:18.553915 | <127.0.0.1> | Results Request | <613f39621a1f713f11869e914ead2c20>\n",
      "2023-02-09 18:27:18.815451 | <127.0.0.1> |               Status Request | <613f39621a1f713f11869e914ead2c20> | Trajectories: 1 |               Task ID: 613f39621a1f713f11869e914ead2c20:1:c852d0e0bd0d057e\n",
      "2023-02-09 18:27:18.817846 | <613f39621a1f713f11869e914ead2c20> | <613f39621a1f713f11869e914ead2c20:1:c852d0e0bd0d057e> |Status: READY\n",
      "2023-02-09 18:27:18.921836 | <127.0.0.1> | Results Request | <613f39621a1f713f11869e914ead2c20>\n",
      "2023-02-09 18:27:19.124560 | <127.0.0.1> |               Status Request | <613f39621a1f713f11869e914ead2c20> | Trajectories: 1 |               Task ID: 613f39621a1f713f11869e914ead2c20:1:379756c1f0e0ee3c\n",
      "2023-02-09 18:27:19.126243 | <613f39621a1f713f11869e914ead2c20> | <613f39621a1f713f11869e914ead2c20:1:379756c1f0e0ee3c> |Status: READY\n",
      "2023-02-09 18:27:19.211230 | <127.0.0.1> | Results Request | <613f39621a1f713f11869e914ead2c20>\n",
      "2023-02-09 18:27:19.425425 | <127.0.0.1> |               Status Request | <613f39621a1f713f11869e914ead2c20> | Trajectories: 1 |               Task ID: 613f39621a1f713f11869e914ead2c20:1:7df39d14f1d2d37f\n",
      "2023-02-09 18:27:19.427244 | <613f39621a1f713f11869e914ead2c20> | <613f39621a1f713f11869e914ead2c20:1:7df39d14f1d2d37f> |Status: READY\n",
      "2023-02-09 18:27:19.520419 | <127.0.0.1> | Results Request | <613f39621a1f713f11869e914ead2c20>\n",
      "2023-02-09 18:27:19.724369 | <127.0.0.1> |               Status Request | <613f39621a1f713f11869e914ead2c20> | Trajectories: 1 |               Task ID: 613f39621a1f713f11869e914ead2c20:1:166c1944f27b16bd\n",
      "2023-02-09 18:27:19.725868 | <613f39621a1f713f11869e914ead2c20> | <613f39621a1f713f11869e914ead2c20:1:166c1944f27b16bd> |Status: READY\n",
      "2023-02-09 18:27:19.815120 | <127.0.0.1> | Results Request | <613f39621a1f713f11869e914ead2c20>\n",
      "2023-02-09 18:27:20.011174 | <127.0.0.1> |               Status Request | <613f39621a1f713f11869e914ead2c20> | Trajectories: 1 |               Task ID: 613f39621a1f713f11869e914ead2c20:1:1abf8022145261f7\n",
      "2023-02-09 18:27:20.013082 | <613f39621a1f713f11869e914ead2c20> | <613f39621a1f713f11869e914ead2c20:1:1abf8022145261f7> |Status: READY\n",
      "2023-02-09 18:27:20.102020 | <127.0.0.1> | Results Request | <613f39621a1f713f11869e914ead2c20>\n",
      "2023-02-09 18:27:20.307548 | <127.0.0.1> |               Status Request | <613f39621a1f713f11869e914ead2c20> | Trajectories: 1 |               Task ID: 613f39621a1f713f11869e914ead2c20:1:4f9b12321a192725\n",
      "2023-02-09 18:27:20.309253 | <613f39621a1f713f11869e914ead2c20> | <613f39621a1f713f11869e914ead2c20:1:4f9b12321a192725> |Status: READY\n",
      "2023-02-09 18:27:20.404957 | <127.0.0.1> | Results Request | <613f39621a1f713f11869e914ead2c20>\n",
      "2023-02-09 18:27:20.621494 | <127.0.0.1> |               Status Request | <613f39621a1f713f11869e914ead2c20> | Trajectories: 1 |               Task ID: 613f39621a1f713f11869e914ead2c20:1:10b0d2eb6680f488\n",
      "2023-02-09 18:27:20.623017 | <613f39621a1f713f11869e914ead2c20> | <613f39621a1f713f11869e914ead2c20:1:10b0d2eb6680f488> |Status: READY\n",
      "2023-02-09 18:27:20.778662 | <127.0.0.1> | Results Request | <613f39621a1f713f11869e914ead2c20>\n",
      "2023-02-09 18:27:20.987201 | <127.0.0.1> |               Status Request | <613f39621a1f713f11869e914ead2c20> | Trajectories: 1 |               Task ID: 613f39621a1f713f11869e914ead2c20:1:84ad3ad5865891e9\n",
      "2023-02-09 18:27:20.988610 | <613f39621a1f713f11869e914ead2c20> | <613f39621a1f713f11869e914ead2c20:1:84ad3ad5865891e9> |Status: READY\n",
      "2023-02-09 18:27:21.076209 | <127.0.0.1> | Results Request | <613f39621a1f713f11869e914ead2c20>\n",
      "2023-02-09 18:27:21.274603 | <127.0.0.1> |               Status Request | <613f39621a1f713f11869e914ead2c20> | Trajectories: 1 |               Task ID: 613f39621a1f713f11869e914ead2c20:1:3ef14a237fab2b31\n",
      "2023-02-09 18:27:21.276188 | <613f39621a1f713f11869e914ead2c20> | <613f39621a1f713f11869e914ead2c20:1:3ef14a237fab2b31> |Status: READY\n",
      "2023-02-09 18:27:21.368552 | <127.0.0.1> | Results Request | <613f39621a1f713f11869e914ead2c20>\n",
      "2023-02-09 18:27:21.671085 | <127.0.0.1> |               Status Request | <613f39621a1f713f11869e914ead2c20> | Trajectories: 1 |               Task ID: 613f39621a1f713f11869e914ead2c20:1:a4d207d1d89e9512\n",
      "2023-02-09 18:27:21.672650 | <613f39621a1f713f11869e914ead2c20> | <613f39621a1f713f11869e914ead2c20:1:a4d207d1d89e9512> |Status: READY\n",
      "2023-02-09 18:27:21.764029 | <127.0.0.1> | Results Request | <613f39621a1f713f11869e914ead2c20>\n",
      "2023-02-09 18:27:22.037331 | <127.0.0.1> |               Status Request | <613f39621a1f713f11869e914ead2c20> | Trajectories: 1 |               Task ID: 613f39621a1f713f11869e914ead2c20:1:5e74df4f6dc4b26c\n",
      "2023-02-09 18:27:22.038689 | <613f39621a1f713f11869e914ead2c20> | <613f39621a1f713f11869e914ead2c20:1:5e74df4f6dc4b26c> |Status: READY\n",
      "2023-02-09 18:27:22.125576 | <127.0.0.1> | Results Request | <613f39621a1f713f11869e914ead2c20>\n",
      "2023-02-09 18:27:22.322235 | <127.0.0.1> |               Status Request | <613f39621a1f713f11869e914ead2c20> | Trajectories: 1 |               Task ID: 613f39621a1f713f11869e914ead2c20:1:8c8e8fb5bcd23d4a\n",
      "2023-02-09 18:27:22.323803 | <613f39621a1f713f11869e914ead2c20> | <613f39621a1f713f11869e914ead2c20:1:8c8e8fb5bcd23d4a> |Status: READY\n",
      "2023-02-09 18:27:22.415458 | <127.0.0.1> | Results Request | <613f39621a1f713f11869e914ead2c20>\n",
      "2023-02-09 18:27:22.618850 | <127.0.0.1> |               Status Request | <613f39621a1f713f11869e914ead2c20> | Trajectories: 1 |               Task ID: 613f39621a1f713f11869e914ead2c20:1:d7895aa72dbfce14\n",
      "2023-02-09 18:27:22.620568 | <613f39621a1f713f11869e914ead2c20> | <613f39621a1f713f11869e914ead2c20:1:d7895aa72dbfce14> |Status: READY\n",
      "2023-02-09 18:27:22.705046 | <127.0.0.1> | Results Request | <613f39621a1f713f11869e914ead2c20>\n",
      "2023-02-09 18:27:22.943620 | <127.0.0.1> |               Status Request | <613f39621a1f713f11869e914ead2c20> | Trajectories: 1 |               Task ID: 613f39621a1f713f11869e914ead2c20:1:f87512f4f16012ed\n",
      "2023-02-09 18:27:22.945237 | <613f39621a1f713f11869e914ead2c20> | <613f39621a1f713f11869e914ead2c20:1:f87512f4f16012ed> |Status: READY\n",
      "2023-02-09 18:27:23.033463 | <127.0.0.1> | Results Request | <613f39621a1f713f11869e914ead2c20>\n",
      "2023-02-09 18:27:23.244023 | <127.0.0.1> |               Status Request | <613f39621a1f713f11869e914ead2c20> | Trajectories: 1 |               Task ID: 613f39621a1f713f11869e914ead2c20:1:db4661f223747105\n",
      "2023-02-09 18:27:23.245979 | <613f39621a1f713f11869e914ead2c20> | <613f39621a1f713f11869e914ead2c20:1:db4661f223747105> |Status: READY\n",
      "2023-02-09 18:27:23.334452 | <127.0.0.1> | Results Request | <613f39621a1f713f11869e914ead2c20>\n",
      "2023-02-09 18:27:23.533829 | <127.0.0.1> |               Status Request | <613f39621a1f713f11869e914ead2c20> | Trajectories: 1 |               Task ID: 613f39621a1f713f11869e914ead2c20:1:7b9d01545a5edb09\n",
      "2023-02-09 18:27:23.535434 | <613f39621a1f713f11869e914ead2c20> | <613f39621a1f713f11869e914ead2c20:1:7b9d01545a5edb09> |Status: READY\n",
      "2023-02-09 18:27:23.620151 | <127.0.0.1> | Results Request | <613f39621a1f713f11869e914ead2c20>\n",
      "2023-02-09 18:27:23.809591 | <127.0.0.1> |               Status Request | <613f39621a1f713f11869e914ead2c20> | Trajectories: 1 |               Task ID: 613f39621a1f713f11869e914ead2c20:1:81af3e2813f48ce9\n",
      "2023-02-09 18:27:23.811256 | <613f39621a1f713f11869e914ead2c20> | <613f39621a1f713f11869e914ead2c20:1:81af3e2813f48ce9> |Status: READY\n",
      "2023-02-09 18:27:23.899888 | <127.0.0.1> | Results Request | <613f39621a1f713f11869e914ead2c20>\n",
      "2023-02-09 18:27:24.093478 | <127.0.0.1> |               Status Request | <613f39621a1f713f11869e914ead2c20> | Trajectories: 1 |               Task ID: 613f39621a1f713f11869e914ead2c20:1:c4bf22977f03597b\n",
      "2023-02-09 18:27:24.095357 | <613f39621a1f713f11869e914ead2c20> | <613f39621a1f713f11869e914ead2c20:1:c4bf22977f03597b> |Status: READY\n",
      "2023-02-09 18:27:24.182602 | <127.0.0.1> | Results Request | <613f39621a1f713f11869e914ead2c20>\n",
      "2023-02-09 18:27:24.382293 | <127.0.0.1> |               Status Request | <613f39621a1f713f11869e914ead2c20> | Trajectories: 1 |               Task ID: 613f39621a1f713f11869e914ead2c20:1:7105e14127fe65b9\n",
      "2023-02-09 18:27:24.383927 | <613f39621a1f713f11869e914ead2c20> | <613f39621a1f713f11869e914ead2c20:1:7105e14127fe65b9> |Status: READY\n",
      "2023-02-09 18:27:24.470997 | <127.0.0.1> | Results Request | <613f39621a1f713f11869e914ead2c20>\n",
      "2023-02-09 18:27:24.670794 | <127.0.0.1> |               Status Request | <613f39621a1f713f11869e914ead2c20> | Trajectories: 1 |               Task ID: 613f39621a1f713f11869e914ead2c20:1:ac546395f9cba34f\n",
      "2023-02-09 18:27:24.672310 | <613f39621a1f713f11869e914ead2c20> | <613f39621a1f713f11869e914ead2c20:1:ac546395f9cba34f> |Status: READY\n",
      "2023-02-09 18:27:24.814180 | <127.0.0.1> | Results Request | <613f39621a1f713f11869e914ead2c20>\n",
      "2023-02-09 18:27:25.017957 | <127.0.0.1> |               Status Request | <613f39621a1f713f11869e914ead2c20> | Trajectories: 1 |               Task ID: 613f39621a1f713f11869e914ead2c20:1:63f9b2a802c552f0\n",
      "2023-02-09 18:27:25.019587 | <613f39621a1f713f11869e914ead2c20> | <613f39621a1f713f11869e914ead2c20:1:63f9b2a802c552f0> |Status: READY\n",
      "2023-02-09 18:27:25.121188 | <127.0.0.1> | Results Request | <613f39621a1f713f11869e914ead2c20>\n",
      "2023-02-09 18:27:25.327434 | <127.0.0.1> |               Status Request | <613f39621a1f713f11869e914ead2c20> | Trajectories: 1 |               Task ID: 613f39621a1f713f11869e914ead2c20:1:457988cbb6890ea1\n",
      "2023-02-09 18:27:25.329100 | <613f39621a1f713f11869e914ead2c20> | <613f39621a1f713f11869e914ead2c20:1:457988cbb6890ea1> |Status: READY\n",
      "2023-02-09 18:27:25.424781 | <127.0.0.1> | Results Request | <613f39621a1f713f11869e914ead2c20>\n",
      "2023-02-09 18:27:25.631393 | <127.0.0.1> |               Status Request | <613f39621a1f713f11869e914ead2c20> | Trajectories: 1 |               Task ID: 613f39621a1f713f11869e914ead2c20:1:02453955e7c71c3f\n",
      "2023-02-09 18:27:25.632772 | <613f39621a1f713f11869e914ead2c20> | <613f39621a1f713f11869e914ead2c20:1:02453955e7c71c3f> |Status: READY\n",
      "2023-02-09 18:27:25.723402 | <127.0.0.1> | Results Request | <613f39621a1f713f11869e914ead2c20>\n",
      "2023-02-09 18:27:25.925621 | <127.0.0.1> |               Status Request | <613f39621a1f713f11869e914ead2c20> | Trajectories: 1 |               Task ID: 613f39621a1f713f11869e914ead2c20:1:a06c8c1497e45264\n",
      "2023-02-09 18:27:25.926937 | <613f39621a1f713f11869e914ead2c20> | <613f39621a1f713f11869e914ead2c20:1:a06c8c1497e45264> |Status: READY\n",
      "2023-02-09 18:27:26.015141 | <127.0.0.1> | Results Request | <613f39621a1f713f11869e914ead2c20>\n",
      "2023-02-09 18:27:26.216967 | <127.0.0.1> |               Status Request | <613f39621a1f713f11869e914ead2c20> | Trajectories: 1 |               Task ID: 613f39621a1f713f11869e914ead2c20:1:711916992f772218\n",
      "2023-02-09 18:27:26.218521 | <613f39621a1f713f11869e914ead2c20> | <613f39621a1f713f11869e914ead2c20:1:711916992f772218> |Status: READY\n",
      "2023-02-09 18:27:26.306818 | <127.0.0.1> | Results Request | <613f39621a1f713f11869e914ead2c20>\n",
      "2023-02-09 18:27:26.510527 | <127.0.0.1> |               Status Request | <613f39621a1f713f11869e914ead2c20> | Trajectories: 1 |               Task ID: 613f39621a1f713f11869e914ead2c20:1:e525fdbe4fb2f1b4\n",
      "2023-02-09 18:27:26.511912 | <613f39621a1f713f11869e914ead2c20> | <613f39621a1f713f11869e914ead2c20:1:e525fdbe4fb2f1b4> |Status: READY\n",
      "2023-02-09 18:27:26.613686 | <127.0.0.1> | Results Request | <613f39621a1f713f11869e914ead2c20>\n",
      "2023-02-09 18:27:26.868389 | <127.0.0.1> |               Status Request | <613f39621a1f713f11869e914ead2c20> | Trajectories: 1 |               Task ID: 613f39621a1f713f11869e914ead2c20:1:e44cc4e5c2e7ca2c\n",
      "2023-02-09 18:27:26.870181 | <613f39621a1f713f11869e914ead2c20> | <613f39621a1f713f11869e914ead2c20:1:e44cc4e5c2e7ca2c> |Status: READY\n",
      "2023-02-09 18:27:26.962888 | <127.0.0.1> | Results Request | <613f39621a1f713f11869e914ead2c20>\n",
      "2023-02-09 18:27:27.174748 | <127.0.0.1> |               Status Request | <613f39621a1f713f11869e914ead2c20> | Trajectories: 1 |               Task ID: 613f39621a1f713f11869e914ead2c20:1:bdaf4646917c17bc\n",
      "2023-02-09 18:27:27.176295 | <613f39621a1f713f11869e914ead2c20> | <613f39621a1f713f11869e914ead2c20:1:bdaf4646917c17bc> |Status: READY\n",
      "2023-02-09 18:27:27.268652 | <127.0.0.1> | Results Request | <613f39621a1f713f11869e914ead2c20>\n",
      "2023-02-09 18:27:27.477409 | <127.0.0.1> |               Status Request | <613f39621a1f713f11869e914ead2c20> | Trajectories: 1 |               Task ID: 613f39621a1f713f11869e914ead2c20:1:9bed38ea26a33b86\n",
      "2023-02-09 18:27:27.478869 | <613f39621a1f713f11869e914ead2c20> | <613f39621a1f713f11869e914ead2c20:1:9bed38ea26a33b86> |Status: READY\n",
      "2023-02-09 18:27:27.569429 | <127.0.0.1> | Results Request | <613f39621a1f713f11869e914ead2c20>\n",
      "2023-02-09 18:27:27.800708 | <127.0.0.1> |               Status Request | <613f39621a1f713f11869e914ead2c20> | Trajectories: 1 |               Task ID: 613f39621a1f713f11869e914ead2c20:1:bb160614449fe647\n",
      "2023-02-09 18:27:27.802642 | <613f39621a1f713f11869e914ead2c20> | <613f39621a1f713f11869e914ead2c20:1:bb160614449fe647> |Status: READY\n",
      "2023-02-09 18:27:27.894121 | <127.0.0.1> | Results Request | <613f39621a1f713f11869e914ead2c20>\n",
      "2023-02-09 18:27:28.245356 | <127.0.0.1> |               Status Request | <613f39621a1f713f11869e914ead2c20> | Trajectories: 1 |               Task ID: 613f39621a1f713f11869e914ead2c20:1:9dc263324186ef79\n",
      "2023-02-09 18:27:28.246962 | <613f39621a1f713f11869e914ead2c20> | <613f39621a1f713f11869e914ead2c20:1:9dc263324186ef79> |Status: READY\n",
      "2023-02-09 18:27:28.336156 | <127.0.0.1> | Results Request | <613f39621a1f713f11869e914ead2c20>\n",
      "2023-02-09 18:27:28.540189 | <127.0.0.1> |               Status Request | <613f39621a1f713f11869e914ead2c20> | Trajectories: 1 |               Task ID: 613f39621a1f713f11869e914ead2c20:1:bacf8f8a7a70d08f\n",
      "2023-02-09 18:27:28.541750 | <613f39621a1f713f11869e914ead2c20> | <613f39621a1f713f11869e914ead2c20:1:bacf8f8a7a70d08f> |Status: READY\n",
      "2023-02-09 18:27:28.629874 | <127.0.0.1> | Results Request | <613f39621a1f713f11869e914ead2c20>\n",
      "2023-02-09 18:27:28.831018 | <127.0.0.1> |               Status Request | <613f39621a1f713f11869e914ead2c20> | Trajectories: 1 |               Task ID: 613f39621a1f713f11869e914ead2c20:1:8c5b5fca1497e135\n",
      "2023-02-09 18:27:28.832393 | <613f39621a1f713f11869e914ead2c20> | <613f39621a1f713f11869e914ead2c20:1:8c5b5fca1497e135> |Status: READY\n",
      "2023-02-09 18:27:28.978340 | <127.0.0.1> | Results Request | <613f39621a1f713f11869e914ead2c20>\n",
      "2023-02-09 18:27:29.197650 | <127.0.0.1> |               Status Request | <613f39621a1f713f11869e914ead2c20> | Trajectories: 1 |               Task ID: 613f39621a1f713f11869e914ead2c20:1:b044b2b40f491c1f\n",
      "2023-02-09 18:27:29.199441 | <613f39621a1f713f11869e914ead2c20> | <613f39621a1f713f11869e914ead2c20:1:b044b2b40f491c1f> |Status: READY\n",
      "2023-02-09 18:27:29.292827 | <127.0.0.1> | Results Request | <613f39621a1f713f11869e914ead2c20>\n",
      "2023-02-09 18:27:29.503548 | <127.0.0.1> |               Status Request | <613f39621a1f713f11869e914ead2c20> | Trajectories: 1 |               Task ID: 613f39621a1f713f11869e914ead2c20:1:3320271f046a40a1\n",
      "2023-02-09 18:27:29.505015 | <613f39621a1f713f11869e914ead2c20> | <613f39621a1f713f11869e914ead2c20:1:3320271f046a40a1> |Status: READY\n",
      "2023-02-09 18:27:29.597541 | <127.0.0.1> | Results Request | <613f39621a1f713f11869e914ead2c20>\n",
      "2023-02-09 18:27:29.788803 | <127.0.0.1> |               Status Request | <613f39621a1f713f11869e914ead2c20> | Trajectories: 1 |               Task ID: 613f39621a1f713f11869e914ead2c20:1:f8f11dafcd490e85\n",
      "2023-02-09 18:27:29.790528 | <613f39621a1f713f11869e914ead2c20> | <613f39621a1f713f11869e914ead2c20:1:f8f11dafcd490e85> |Status: READY\n",
      "2023-02-09 18:27:29.879453 | <127.0.0.1> | Results Request | <613f39621a1f713f11869e914ead2c20>\n",
      "2023-02-09 18:27:30.075477 | <127.0.0.1> |               Status Request | <613f39621a1f713f11869e914ead2c20> | Trajectories: 1 |               Task ID: 613f39621a1f713f11869e914ead2c20:1:421243c0710f2508\n",
      "2023-02-09 18:27:30.076983 | <613f39621a1f713f11869e914ead2c20> | <613f39621a1f713f11869e914ead2c20:1:421243c0710f2508> |Status: READY\n",
      "2023-02-09 18:27:30.202089 | <127.0.0.1> | Results Request | <613f39621a1f713f11869e914ead2c20>\n",
      "2023-02-09 18:27:30.406696 | <127.0.0.1> |               Status Request | <613f39621a1f713f11869e914ead2c20> | Trajectories: 1 |               Task ID: 613f39621a1f713f11869e914ead2c20:1:7499c0601c4c1922\n",
      "2023-02-09 18:27:30.408211 | <613f39621a1f713f11869e914ead2c20> | <613f39621a1f713f11869e914ead2c20:1:7499c0601c4c1922> |Status: READY\n",
      "2023-02-09 18:27:30.498249 | <127.0.0.1> | Results Request | <613f39621a1f713f11869e914ead2c20>\n",
      "2023-02-09 18:27:30.702776 | <127.0.0.1> |               Status Request | <613f39621a1f713f11869e914ead2c20> | Trajectories: 1 |               Task ID: 613f39621a1f713f11869e914ead2c20:1:077b75643b1ebd1c\n",
      "2023-02-09 18:27:30.704594 | <613f39621a1f713f11869e914ead2c20> | <613f39621a1f713f11869e914ead2c20:1:077b75643b1ebd1c> |Status: READY\n",
      "2023-02-09 18:27:30.794834 | <127.0.0.1> | Results Request | <613f39621a1f713f11869e914ead2c20>\n",
      "2023-02-09 18:27:31.051558 | <127.0.0.1> |               Status Request | <613f39621a1f713f11869e914ead2c20> | Trajectories: 1 |               Task ID: 613f39621a1f713f11869e914ead2c20:1:bc1bdc6eed963f68\n",
      "2023-02-09 18:27:31.052949 | <613f39621a1f713f11869e914ead2c20> | <613f39621a1f713f11869e914ead2c20:1:bc1bdc6eed963f68> |Status: READY\n",
      "2023-02-09 18:27:31.146862 | <127.0.0.1> | Results Request | <613f39621a1f713f11869e914ead2c20>\n",
      "2023-02-09 18:27:31.342384 | <127.0.0.1> |               Status Request | <613f39621a1f713f11869e914ead2c20> | Trajectories: 1 |               Task ID: 613f39621a1f713f11869e914ead2c20:1:cce07ca96d21b414\n",
      "2023-02-09 18:27:31.343733 | <613f39621a1f713f11869e914ead2c20> | <613f39621a1f713f11869e914ead2c20:1:cce07ca96d21b414> |Status: READY\n",
      "2023-02-09 18:27:31.431896 | <127.0.0.1> | Results Request | <613f39621a1f713f11869e914ead2c20>\n",
      "2023-02-09 18:27:31.627789 | <127.0.0.1> |               Status Request | <613f39621a1f713f11869e914ead2c20> | Trajectories: 1 |               Task ID: 613f39621a1f713f11869e914ead2c20:1:93490e563bc18797\n",
      "2023-02-09 18:27:31.629429 | <613f39621a1f713f11869e914ead2c20> | <613f39621a1f713f11869e914ead2c20:1:93490e563bc18797> |Status: READY\n",
      "2023-02-09 18:27:31.719753 | <127.0.0.1> | Results Request | <613f39621a1f713f11869e914ead2c20>\n",
      "2023-02-09 18:27:31.925051 | <127.0.0.1> |               Status Request | <613f39621a1f713f11869e914ead2c20> | Trajectories: 1 |               Task ID: 613f39621a1f713f11869e914ead2c20:1:de57576c5b34e003\n",
      "2023-02-09 18:27:31.926633 | <613f39621a1f713f11869e914ead2c20> | <613f39621a1f713f11869e914ead2c20:1:de57576c5b34e003> |Status: READY\n",
      "2023-02-09 18:27:32.018256 | <127.0.0.1> | Results Request | <613f39621a1f713f11869e914ead2c20>\n",
      "2023-02-09 18:27:32.212018 | <127.0.0.1> |               Status Request | <613f39621a1f713f11869e914ead2c20> | Trajectories: 1 |               Task ID: 613f39621a1f713f11869e914ead2c20:1:19e140e9cb62227e\n",
      "2023-02-09 18:27:32.213844 | <613f39621a1f713f11869e914ead2c20> | <613f39621a1f713f11869e914ead2c20:1:19e140e9cb62227e> |Status: READY\n",
      "2023-02-09 18:27:32.301982 | <127.0.0.1> | Results Request | <613f39621a1f713f11869e914ead2c20>\n",
      "2023-02-09 18:27:32.501155 | <127.0.0.1> |               Status Request | <613f39621a1f713f11869e914ead2c20> | Trajectories: 1 |               Task ID: 613f39621a1f713f11869e914ead2c20:1:0c47cdd7825a7bb2\n",
      "2023-02-09 18:27:32.502654 | <613f39621a1f713f11869e914ead2c20> | <613f39621a1f713f11869e914ead2c20:1:0c47cdd7825a7bb2> |Status: READY\n",
      "2023-02-09 18:27:32.590441 | <127.0.0.1> | Results Request | <613f39621a1f713f11869e914ead2c20>\n",
      "2023-02-09 18:27:32.789095 | <127.0.0.1> |               Status Request | <613f39621a1f713f11869e914ead2c20> | Trajectories: 1 |               Task ID: 613f39621a1f713f11869e914ead2c20:1:96cd8286a32a4322\n",
      "2023-02-09 18:27:32.790854 | <613f39621a1f713f11869e914ead2c20> | <613f39621a1f713f11869e914ead2c20:1:96cd8286a32a4322> |Status: READY\n",
      "2023-02-09 18:27:32.945881 | <127.0.0.1> | Results Request | <613f39621a1f713f11869e914ead2c20>\n",
      "2023-02-09 18:27:33.145457 | <127.0.0.1> |               Status Request | <613f39621a1f713f11869e914ead2c20> | Trajectories: 1 |               Task ID: 613f39621a1f713f11869e914ead2c20:1:6f418bdd370b6e62\n",
      "2023-02-09 18:27:33.146853 | <613f39621a1f713f11869e914ead2c20> | <613f39621a1f713f11869e914ead2c20:1:6f418bdd370b6e62> |Status: READY\n",
      "2023-02-09 18:27:33.233312 | <127.0.0.1> | Results Request | <613f39621a1f713f11869e914ead2c20>\n",
      "2023-02-09 18:27:33.434621 | <127.0.0.1> |               Status Request | <613f39621a1f713f11869e914ead2c20> | Trajectories: 1 |               Task ID: 613f39621a1f713f11869e914ead2c20:1:dac3e393a48d29f5\n",
      "2023-02-09 18:27:33.436369 | <613f39621a1f713f11869e914ead2c20> | <613f39621a1f713f11869e914ead2c20:1:dac3e393a48d29f5> |Status: READY\n",
      "2023-02-09 18:27:33.527379 | <127.0.0.1> | Results Request | <613f39621a1f713f11869e914ead2c20>\n",
      "2023-02-09 18:27:33.728831 | <127.0.0.1> |               Status Request | <613f39621a1f713f11869e914ead2c20> | Trajectories: 1 |               Task ID: 613f39621a1f713f11869e914ead2c20:1:f350efd767255905\n",
      "2023-02-09 18:27:33.730164 | <613f39621a1f713f11869e914ead2c20> | <613f39621a1f713f11869e914ead2c20:1:f350efd767255905> |Status: READY\n",
      "2023-02-09 18:27:33.829827 | <127.0.0.1> | Results Request | <613f39621a1f713f11869e914ead2c20>\n",
      "2023-02-09 18:27:34.029824 | <127.0.0.1> |               Status Request | <613f39621a1f713f11869e914ead2c20> | Trajectories: 1 |               Task ID: 613f39621a1f713f11869e914ead2c20:1:0a5d27f1c556c606\n",
      "2023-02-09 18:27:34.031391 | <613f39621a1f713f11869e914ead2c20> | <613f39621a1f713f11869e914ead2c20:1:0a5d27f1c556c606> |Status: READY\n",
      "2023-02-09 18:27:34.122248 | <127.0.0.1> | Results Request | <613f39621a1f713f11869e914ead2c20>\n",
      "2023-02-09 18:27:34.319905 | <127.0.0.1> |               Status Request | <613f39621a1f713f11869e914ead2c20> | Trajectories: 1 |               Task ID: 613f39621a1f713f11869e914ead2c20:1:bc2ad57a7d7b287f\n",
      "2023-02-09 18:27:34.321538 | <613f39621a1f713f11869e914ead2c20> | <613f39621a1f713f11869e914ead2c20:1:bc2ad57a7d7b287f> |Status: READY\n",
      "2023-02-09 18:27:34.414554 | <127.0.0.1> | Results Request | <613f39621a1f713f11869e914ead2c20>\n",
      "2023-02-09 18:27:34.618114 | <127.0.0.1> |               Status Request | <613f39621a1f713f11869e914ead2c20> | Trajectories: 1 |               Task ID: 613f39621a1f713f11869e914ead2c20:1:851f331cb98d6b1c\n",
      "2023-02-09 18:27:34.619695 | <613f39621a1f713f11869e914ead2c20> | <613f39621a1f713f11869e914ead2c20:1:851f331cb98d6b1c> |Status: READY\n",
      "2023-02-09 18:27:34.760233 | <127.0.0.1> | Results Request | <613f39621a1f713f11869e914ead2c20>\n",
      "2023-02-09 18:27:34.965209 | <127.0.0.1> |               Status Request | <613f39621a1f713f11869e914ead2c20> | Trajectories: 1 |               Task ID: 613f39621a1f713f11869e914ead2c20:1:7338cdbfa98a481a\n",
      "2023-02-09 18:27:34.966735 | <613f39621a1f713f11869e914ead2c20> | <613f39621a1f713f11869e914ead2c20:1:7338cdbfa98a481a> |Status: READY\n",
      "2023-02-09 18:27:35.055854 | <127.0.0.1> | Results Request | <613f39621a1f713f11869e914ead2c20>\n",
      "2023-02-09 18:27:35.257123 | <127.0.0.1> |               Status Request | <613f39621a1f713f11869e914ead2c20> | Trajectories: 1 |               Task ID: 613f39621a1f713f11869e914ead2c20:1:ce4a4c676ecf15ad\n",
      "2023-02-09 18:27:35.258697 | <613f39621a1f713f11869e914ead2c20> | <613f39621a1f713f11869e914ead2c20:1:ce4a4c676ecf15ad> |Status: READY\n",
      "2023-02-09 18:27:35.349686 | <127.0.0.1> | Results Request | <613f39621a1f713f11869e914ead2c20>\n",
      "2023-02-09 18:27:35.574336 | <127.0.0.1> |               Status Request | <613f39621a1f713f11869e914ead2c20> | Trajectories: 1 |               Task ID: 613f39621a1f713f11869e914ead2c20:1:3eca2e6ec79c6996\n",
      "2023-02-09 18:27:35.575918 | <613f39621a1f713f11869e914ead2c20> | <613f39621a1f713f11869e914ead2c20:1:3eca2e6ec79c6996> |Status: READY\n",
      "2023-02-09 18:27:35.667365 | <127.0.0.1> | Results Request | <613f39621a1f713f11869e914ead2c20>\n",
      "2023-02-09 18:27:35.865547 | <127.0.0.1> |               Status Request | <613f39621a1f713f11869e914ead2c20> | Trajectories: 1 |               Task ID: 613f39621a1f713f11869e914ead2c20:1:eb3f844aa98f8456\n",
      "2023-02-09 18:27:35.867286 | <613f39621a1f713f11869e914ead2c20> | <613f39621a1f713f11869e914ead2c20:1:eb3f844aa98f8456> |Status: READY\n",
      "2023-02-09 18:27:35.953934 | <127.0.0.1> | Results Request | <613f39621a1f713f11869e914ead2c20>\n",
      "2023-02-09 18:27:36.315511 | <127.0.0.1> |               Status Request | <613f39621a1f713f11869e914ead2c20> | Trajectories: 1 |               Task ID: 613f39621a1f713f11869e914ead2c20:1:16f6ef5ac729e124\n",
      "2023-02-09 18:27:36.316952 | <613f39621a1f713f11869e914ead2c20> | <613f39621a1f713f11869e914ead2c20:1:16f6ef5ac729e124> |Status: READY\n",
      "2023-02-09 18:27:36.405371 | <127.0.0.1> | Results Request | <613f39621a1f713f11869e914ead2c20>\n",
      "2023-02-09 18:27:36.611063 | <127.0.0.1> |               Status Request | <613f39621a1f713f11869e914ead2c20> | Trajectories: 1 |               Task ID: 613f39621a1f713f11869e914ead2c20:1:ee28509950c9460a\n",
      "2023-02-09 18:27:36.613249 | <613f39621a1f713f11869e914ead2c20> | <613f39621a1f713f11869e914ead2c20:1:ee28509950c9460a> |Status: READY\n",
      "2023-02-09 18:27:36.699538 | <127.0.0.1> | Results Request | <613f39621a1f713f11869e914ead2c20>\n",
      "2023-02-09 18:27:36.947457 | <127.0.0.1> |               Status Request | <613f39621a1f713f11869e914ead2c20> | Trajectories: 1 |               Task ID: 613f39621a1f713f11869e914ead2c20:1:620e3ae914afcf1b\n",
      "2023-02-09 18:27:36.949050 | <613f39621a1f713f11869e914ead2c20> | <613f39621a1f713f11869e914ead2c20:1:620e3ae914afcf1b> |Status: READY\n",
      "2023-02-09 18:27:37.034152 | <127.0.0.1> | Results Request | <613f39621a1f713f11869e914ead2c20>\n",
      "2023-02-09 18:27:37.225585 | <127.0.0.1> |               Status Request | <613f39621a1f713f11869e914ead2c20> | Trajectories: 1 |               Task ID: 613f39621a1f713f11869e914ead2c20:1:b514282eb23a55b1\n",
      "2023-02-09 18:27:37.227351 | <613f39621a1f713f11869e914ead2c20> | <613f39621a1f713f11869e914ead2c20:1:b514282eb23a55b1> |Status: READY\n",
      "2023-02-09 18:27:37.316226 | <127.0.0.1> | Results Request | <613f39621a1f713f11869e914ead2c20>\n",
      "2023-02-09 18:27:37.512089 | <127.0.0.1> |               Status Request | <613f39621a1f713f11869e914ead2c20> | Trajectories: 1 |               Task ID: 613f39621a1f713f11869e914ead2c20:1:76bcaf0186361b11\n",
      "2023-02-09 18:27:37.513872 | <613f39621a1f713f11869e914ead2c20> | <613f39621a1f713f11869e914ead2c20:1:76bcaf0186361b11> |Status: READY\n",
      "2023-02-09 18:27:37.603550 | <127.0.0.1> | Results Request | <613f39621a1f713f11869e914ead2c20>\n",
      "2023-02-09 18:27:37.806309 | <127.0.0.1> |               Status Request | <613f39621a1f713f11869e914ead2c20> | Trajectories: 1 |               Task ID: 613f39621a1f713f11869e914ead2c20:1:dd6036c55793ce9b\n",
      "2023-02-09 18:27:37.807797 | <613f39621a1f713f11869e914ead2c20> | <613f39621a1f713f11869e914ead2c20:1:dd6036c55793ce9b> |Status: READY\n",
      "2023-02-09 18:27:37.897748 | <127.0.0.1> | Results Request | <613f39621a1f713f11869e914ead2c20>\n",
      "2023-02-09 18:27:38.124599 | <127.0.0.1> |               Status Request | <613f39621a1f713f11869e914ead2c20> | Trajectories: 1 |               Task ID: 613f39621a1f713f11869e914ead2c20:1:1e8b5dfd30db36a3\n",
      "2023-02-09 18:27:38.126200 | <613f39621a1f713f11869e914ead2c20> | <613f39621a1f713f11869e914ead2c20:1:1e8b5dfd30db36a3> |Status: READY\n",
      "2023-02-09 18:27:38.219263 | <127.0.0.1> | Results Request | <613f39621a1f713f11869e914ead2c20>\n",
      "2023-02-09 18:27:38.425905 | <127.0.0.1> |               Status Request | <613f39621a1f713f11869e914ead2c20> | Trajectories: 1 |               Task ID: 613f39621a1f713f11869e914ead2c20:1:56f00d17e674c92f\n",
      "2023-02-09 18:27:38.427492 | <613f39621a1f713f11869e914ead2c20> | <613f39621a1f713f11869e914ead2c20:1:56f00d17e674c92f> |Status: READY\n",
      "2023-02-09 18:27:38.518132 | <127.0.0.1> | Results Request | <613f39621a1f713f11869e914ead2c20>\n",
      "2023-02-09 18:27:38.719364 | <127.0.0.1> |               Status Request | <613f39621a1f713f11869e914ead2c20> | Trajectories: 1 |               Task ID: 613f39621a1f713f11869e914ead2c20:1:8eb83111bb2adf26\n",
      "2023-02-09 18:27:38.720832 | <613f39621a1f713f11869e914ead2c20> | <613f39621a1f713f11869e914ead2c20:1:8eb83111bb2adf26> |Status: READY\n",
      "2023-02-09 18:27:38.866746 | <127.0.0.1> | Results Request | <613f39621a1f713f11869e914ead2c20>\n",
      "2023-02-09 18:27:39.063761 | <127.0.0.1> |               Status Request | <613f39621a1f713f11869e914ead2c20> | Trajectories: 1 |               Task ID: 613f39621a1f713f11869e914ead2c20:1:537ea23c3a333871\n",
      "2023-02-09 18:27:39.065479 | <613f39621a1f713f11869e914ead2c20> | <613f39621a1f713f11869e914ead2c20:1:537ea23c3a333871> |Status: READY\n",
      "2023-02-09 18:27:39.164084 | <127.0.0.1> | Results Request | <613f39621a1f713f11869e914ead2c20>\n",
      "2023-02-09 18:27:39.357365 | <127.0.0.1> |               Status Request | <613f39621a1f713f11869e914ead2c20> | Trajectories: 1 |               Task ID: 613f39621a1f713f11869e914ead2c20:1:b7300ce5d3fd1c76\n",
      "2023-02-09 18:27:39.359002 | <613f39621a1f713f11869e914ead2c20> | <613f39621a1f713f11869e914ead2c20:1:b7300ce5d3fd1c76> |Status: READY\n",
      "2023-02-09 18:27:39.449928 | <127.0.0.1> | Results Request | <613f39621a1f713f11869e914ead2c20>\n"
     ]
    },
    {
     "name": "stderr",
     "output_type": "stream",
     "text": [
      "2023-02-09 18:27:01,989 - distributed.scheduler - INFO - Receive client connection: Client-418e833a-a8d1-11ed-90b5-bffce49803b2\n",
      "2023-02-09 18:27:01,990 - distributed.core - INFO - Starting established connection to tcp://127.0.0.1:40692\n",
      "2023-02-09 18:27:02,014 - distributed.scheduler - INFO - Receive client connection: Client-4191fd90-a8d1-11ed-90b5-bffce49803b2\n",
      "2023-02-09 18:27:02,016 - distributed.core - INFO - Starting established connection to tcp://127.0.0.1:40712\n",
      "2023-02-09 18:27:02,017 - distributed.scheduler - INFO - Remove client Client-418e833a-a8d1-11ed-90b5-bffce49803b2\n",
      "2023-02-09 18:27:02,018 - distributed.core - INFO - Received 'close-stream' from tcp://127.0.0.1:40692; closing.\n",
      "2023-02-09 18:27:02,020 - distributed.scheduler - INFO - Remove client Client-418e833a-a8d1-11ed-90b5-bffce49803b2\n",
      "2023-02-09 18:27:02,021 - distributed.scheduler - INFO - Close client connection: Client-418e833a-a8d1-11ed-90b5-bffce49803b2\n",
      "2023-02-09 18:27:02,078 - distributed.scheduler - INFO - Remove client Client-4191fd90-a8d1-11ed-90b5-bffce49803b2\n",
      "2023-02-09 18:27:02,079 - distributed.core - INFO - Received 'close-stream' from tcp://127.0.0.1:40712; closing.\n",
      "2023-02-09 18:27:02,080 - distributed.scheduler - INFO - Remove client Client-4191fd90-a8d1-11ed-90b5-bffce49803b2\n",
      "2023-02-09 18:27:02,080 - distributed.scheduler - INFO - Close client connection: Client-4191fd90-a8d1-11ed-90b5-bffce49803b2\n"
     ]
    },
    {
     "name": "stdout",
     "output_type": "stream",
     "text": [
      "[SimulationRunRequest] http://localhost:29681/api/v2/simulation/gillespy2/run\n",
      "[SimulationRunRequest] http://localhost:29681/api/v2/simulation/gillespy2/run\n"
     ]
    },
    {
     "name": "stderr",
     "output_type": "stream",
     "text": [
      "2023-02-09 18:27:02,397 - distributed.scheduler - INFO - Receive client connection: Client-41c9a564-a8d1-11ed-90b5-bffce49803b2\n",
      "2023-02-09 18:27:02,401 - distributed.core - INFO - Starting established connection to tcp://127.0.0.1:40726\n",
      "2023-02-09 18:27:02,473 - distributed.scheduler - INFO - Remove client Client-41c9a564-a8d1-11ed-90b5-bffce49803b2\n",
      "2023-02-09 18:27:02,474 - distributed.core - INFO - Received 'close-stream' from tcp://127.0.0.1:40726; closing.\n",
      "2023-02-09 18:27:02,474 - distributed.scheduler - INFO - Remove client Client-41c9a564-a8d1-11ed-90b5-bffce49803b2\n",
      "2023-02-09 18:27:02,475 - distributed.scheduler - INFO - Close client connection: Client-41c9a564-a8d1-11ed-90b5-bffce49803b2\n"
     ]
    },
    {
     "name": "stdout",
     "output_type": "stream",
     "text": [
      "[SimulationRunRequest] http://localhost:29681/api/v2/simulation/gillespy2/run\n"
     ]
    },
    {
     "name": "stderr",
     "output_type": "stream",
     "text": [
      "2023-02-09 18:27:03,055 - distributed.scheduler - INFO - Receive client connection: Client-422fe5bd-a8d1-11ed-90b5-bffce49803b2\n",
      "2023-02-09 18:27:03,059 - distributed.core - INFO - Starting established connection to tcp://127.0.0.1:40736\n",
      "2023-02-09 18:27:03,099 - distributed.scheduler - INFO - Remove client Client-422fe5bd-a8d1-11ed-90b5-bffce49803b2\n",
      "2023-02-09 18:27:03,100 - distributed.core - INFO - Received 'close-stream' from tcp://127.0.0.1:40736; closing.\n",
      "2023-02-09 18:27:03,101 - distributed.scheduler - INFO - Remove client Client-422fe5bd-a8d1-11ed-90b5-bffce49803b2\n",
      "2023-02-09 18:27:03,103 - distributed.scheduler - INFO - Receive client connection: Client-42376925-a8d1-11ed-90b5-bffce49803b2\n",
      "2023-02-09 18:27:03,104 - distributed.core - INFO - Starting established connection to tcp://127.0.0.1:40756\n",
      "2023-02-09 18:27:03,105 - distributed.scheduler - INFO - Close client connection: Client-422fe5bd-a8d1-11ed-90b5-bffce49803b2\n",
      "2023-02-09 18:27:03,183 - distributed.scheduler - INFO - Remove client Client-42376925-a8d1-11ed-90b5-bffce49803b2\n",
      "2023-02-09 18:27:03,184 - distributed.core - INFO - Received 'close-stream' from tcp://127.0.0.1:40756; closing.\n",
      "2023-02-09 18:27:03,184 - distributed.scheduler - INFO - Remove client Client-42376925-a8d1-11ed-90b5-bffce49803b2\n",
      "2023-02-09 18:27:03,185 - distributed.scheduler - INFO - Close client connection: Client-42376925-a8d1-11ed-90b5-bffce49803b2\n"
     ]
    },
    {
     "name": "stdout",
     "output_type": "stream",
     "text": [
      "[SimulationRunRequest] http://localhost:29681/api/v2/simulation/gillespy2/run\n",
      "[SimulationRunRequest] http://localhost:29681/api/v2/simulation/gillespy2/run\n"
     ]
    },
    {
     "name": "stderr",
     "output_type": "stream",
     "text": [
      "2023-02-09 18:27:03,747 - distributed.scheduler - INFO - Receive client connection: Client-4299e665-a8d1-11ed-90b5-bffce49803b2\n",
      "2023-02-09 18:27:03,750 - distributed.core - INFO - Starting established connection to tcp://127.0.0.1:40762\n",
      "2023-02-09 18:27:03,785 - distributed.scheduler - INFO - Remove client Client-4299e665-a8d1-11ed-90b5-bffce49803b2\n",
      "2023-02-09 18:27:03,786 - distributed.core - INFO - Received 'close-stream' from tcp://127.0.0.1:40762; closing.\n",
      "2023-02-09 18:27:03,787 - distributed.scheduler - INFO - Remove client Client-4299e665-a8d1-11ed-90b5-bffce49803b2\n",
      "2023-02-09 18:27:03,790 - distributed.scheduler - INFO - Close client connection: Client-4299e665-a8d1-11ed-90b5-bffce49803b2\n",
      "2023-02-09 18:27:03,822 - distributed.scheduler - INFO - Receive client connection: Client-42a08ee3-a8d1-11ed-90b5-bffce49803b2\n",
      "2023-02-09 18:27:03,823 - distributed.core - INFO - Starting established connection to tcp://127.0.0.1:40782\n",
      "2023-02-09 18:27:03,882 - distributed.scheduler - INFO - Remove client Client-42a08ee3-a8d1-11ed-90b5-bffce49803b2\n",
      "2023-02-09 18:27:03,883 - distributed.core - INFO - Received 'close-stream' from tcp://127.0.0.1:40782; closing.\n",
      "2023-02-09 18:27:03,884 - distributed.scheduler - INFO - Remove client Client-42a08ee3-a8d1-11ed-90b5-bffce49803b2\n",
      "2023-02-09 18:27:03,884 - distributed.scheduler - INFO - Close client connection: Client-42a08ee3-a8d1-11ed-90b5-bffce49803b2\n"
     ]
    },
    {
     "name": "stdout",
     "output_type": "stream",
     "text": [
      "[SimulationRunRequest] http://localhost:29681/api/v2/simulation/gillespy2/run\n",
      "[SimulationRunRequest] http://localhost:29681/api/v2/simulation/gillespy2/run\n"
     ]
    },
    {
     "name": "stderr",
     "output_type": "stream",
     "text": [
      "2023-02-09 18:27:04,468 - distributed.scheduler - INFO - Receive client connection: Client-4308ef42-a8d1-11ed-90b5-bffce49803b2\n",
      "2023-02-09 18:27:04,468 - distributed.core - INFO - Starting established connection to tcp://127.0.0.1:40794\n",
      "2023-02-09 18:27:04,484 - distributed.scheduler - INFO - Receive client connection: Client-430b6d3f-a8d1-11ed-90b5-bffce49803b2\n",
      "2023-02-09 18:27:04,485 - distributed.core - INFO - Starting established connection to tcp://127.0.0.1:40816\n",
      "2023-02-09 18:27:04,491 - distributed.scheduler - INFO - Remove client Client-4308ef42-a8d1-11ed-90b5-bffce49803b2\n",
      "2023-02-09 18:27:04,492 - distributed.core - INFO - Received 'close-stream' from tcp://127.0.0.1:40794; closing.\n",
      "2023-02-09 18:27:04,493 - distributed.scheduler - INFO - Remove client Client-4308ef42-a8d1-11ed-90b5-bffce49803b2\n",
      "2023-02-09 18:27:04,495 - distributed.scheduler - INFO - Close client connection: Client-4308ef42-a8d1-11ed-90b5-bffce49803b2\n",
      "2023-02-09 18:27:04,556 - distributed.scheduler - INFO - Remove client Client-430b6d3f-a8d1-11ed-90b5-bffce49803b2\n",
      "2023-02-09 18:27:04,557 - distributed.core - INFO - Received 'close-stream' from tcp://127.0.0.1:40816; closing.\n",
      "2023-02-09 18:27:04,557 - distributed.scheduler - INFO - Remove client Client-430b6d3f-a8d1-11ed-90b5-bffce49803b2\n",
      "2023-02-09 18:27:04,558 - distributed.scheduler - INFO - Close client connection: Client-430b6d3f-a8d1-11ed-90b5-bffce49803b2\n"
     ]
    },
    {
     "name": "stdout",
     "output_type": "stream",
     "text": [
      "[SimulationRunRequest] http://localhost:29681/api/v2/simulation/gillespy2/run\n",
      "[SimulationRunRequest] http://localhost:29681/api/v2/simulation/gillespy2/run\n"
     ]
    },
    {
     "name": "stderr",
     "output_type": "stream",
     "text": [
      "2023-02-09 18:27:04,791 - distributed.scheduler - INFO - Receive client connection: Client-433a4cee-a8d1-11ed-90b5-bffce49803b2\n",
      "2023-02-09 18:27:04,792 - distributed.core - INFO - Starting established connection to tcp://127.0.0.1:40834\n",
      "2023-02-09 18:27:04,809 - distributed.scheduler - INFO - Receive client connection: Client-433cf5b4-a8d1-11ed-90b5-bffce49803b2\n",
      "2023-02-09 18:27:04,810 - distributed.core - INFO - Starting established connection to tcp://127.0.0.1:40848\n",
      "2023-02-09 18:27:04,815 - distributed.scheduler - INFO - Remove client Client-433a4cee-a8d1-11ed-90b5-bffce49803b2\n",
      "2023-02-09 18:27:04,816 - distributed.core - INFO - Received 'close-stream' from tcp://127.0.0.1:40834; closing.\n",
      "2023-02-09 18:27:04,817 - distributed.scheduler - INFO - Remove client Client-433a4cee-a8d1-11ed-90b5-bffce49803b2\n",
      "2023-02-09 18:27:04,818 - distributed.scheduler - INFO - Close client connection: Client-433a4cee-a8d1-11ed-90b5-bffce49803b2\n",
      "2023-02-09 18:27:04,863 - distributed.scheduler - INFO - Remove client Client-433cf5b4-a8d1-11ed-90b5-bffce49803b2\n",
      "2023-02-09 18:27:04,864 - distributed.core - INFO - Received 'close-stream' from tcp://127.0.0.1:40848; closing.\n",
      "2023-02-09 18:27:04,864 - distributed.scheduler - INFO - Remove client Client-433cf5b4-a8d1-11ed-90b5-bffce49803b2\n",
      "2023-02-09 18:27:04,865 - distributed.scheduler - INFO - Close client connection: Client-433cf5b4-a8d1-11ed-90b5-bffce49803b2\n"
     ]
    },
    {
     "name": "stdout",
     "output_type": "stream",
     "text": [
      "[SimulationRunRequest] http://localhost:29681/api/v2/simulation/gillespy2/run\n",
      "[SimulationRunRequest] http://localhost:29681/api/v2/simulation/gillespy2/run\n"
     ]
    },
    {
     "name": "stderr",
     "output_type": "stream",
     "text": [
      "2023-02-09 18:27:05,468 - distributed.scheduler - INFO - Receive client connection: Client-439f72f6-a8d1-11ed-90b5-bffce49803b2\n",
      "2023-02-09 18:27:05,472 - distributed.core - INFO - Starting established connection to tcp://127.0.0.1:41930\n",
      "2023-02-09 18:27:05,570 - distributed.scheduler - INFO - Remove client Client-439f72f6-a8d1-11ed-90b5-bffce49803b2\n",
      "2023-02-09 18:27:05,571 - distributed.core - INFO - Received 'close-stream' from tcp://127.0.0.1:41930; closing.\n",
      "2023-02-09 18:27:05,571 - distributed.scheduler - INFO - Remove client Client-439f72f6-a8d1-11ed-90b5-bffce49803b2\n",
      "2023-02-09 18:27:05,572 - distributed.scheduler - INFO - Close client connection: Client-439f72f6-a8d1-11ed-90b5-bffce49803b2\n"
     ]
    },
    {
     "name": "stdout",
     "output_type": "stream",
     "text": [
      "[SimulationRunRequest] http://localhost:29681/api/v2/simulation/gillespy2/run\n"
     ]
    },
    {
     "name": "stderr",
     "output_type": "stream",
     "text": [
      "2023-02-09 18:27:05,848 - distributed.scheduler - INFO - Receive client connection: Client-43db9032-a8d1-11ed-90b5-bffce49803b2\n",
      "2023-02-09 18:27:05,849 - distributed.core - INFO - Starting established connection to tcp://127.0.0.1:41956\n",
      "2023-02-09 18:27:06,054 - distributed.scheduler - INFO - Remove client Client-43db9032-a8d1-11ed-90b5-bffce49803b2\n",
      "2023-02-09 18:27:06,054 - distributed.core - INFO - Received 'close-stream' from tcp://127.0.0.1:41956; closing.\n",
      "2023-02-09 18:27:06,055 - distributed.scheduler - INFO - Remove client Client-43db9032-a8d1-11ed-90b5-bffce49803b2\n",
      "2023-02-09 18:27:06,057 - distributed.scheduler - INFO - Close client connection: Client-43db9032-a8d1-11ed-90b5-bffce49803b2\n"
     ]
    },
    {
     "name": "stdout",
     "output_type": "stream",
     "text": [
      "[SimulationRunRequest] http://localhost:29681/api/v2/simulation/gillespy2/run\n"
     ]
    },
    {
     "name": "stderr",
     "output_type": "stream",
     "text": [
      "2023-02-09 18:27:06,116 - distributed.scheduler - INFO - Receive client connection: Client-43e24d23-a8d1-11ed-90b5-bffce49803b2\n",
      "2023-02-09 18:27:06,117 - distributed.core - INFO - Starting established connection to tcp://127.0.0.1:41976\n",
      "2023-02-09 18:27:06,214 - distributed.scheduler - INFO - Remove client Client-43e24d23-a8d1-11ed-90b5-bffce49803b2\n",
      "2023-02-09 18:27:06,214 - distributed.core - INFO - Received 'close-stream' from tcp://127.0.0.1:41976; closing.\n",
      "2023-02-09 18:27:06,215 - distributed.scheduler - INFO - Remove client Client-43e24d23-a8d1-11ed-90b5-bffce49803b2\n",
      "2023-02-09 18:27:06,216 - distributed.scheduler - INFO - Close client connection: Client-43e24d23-a8d1-11ed-90b5-bffce49803b2\n"
     ]
    },
    {
     "name": "stdout",
     "output_type": "stream",
     "text": [
      "[SimulationRunRequest] http://localhost:29681/api/v2/simulation/gillespy2/run\n"
     ]
    },
    {
     "name": "stderr",
     "output_type": "stream",
     "text": [
      "2023-02-09 18:27:06,863 - distributed.scheduler - INFO - Receive client connection: Client-447675e3-a8d1-11ed-90b5-bffce49803b2\n",
      "2023-02-09 18:27:06,864 - distributed.core - INFO - Starting established connection to tcp://127.0.0.1:41988\n",
      "2023-02-09 18:27:06,886 - distributed.scheduler - INFO - Receive client connection: Client-4479ceed-a8d1-11ed-90b5-bffce49803b2\n",
      "2023-02-09 18:27:06,887 - distributed.core - INFO - Starting established connection to tcp://127.0.0.1:41994\n",
      "2023-02-09 18:27:06,889 - distributed.scheduler - INFO - Remove client Client-447675e3-a8d1-11ed-90b5-bffce49803b2\n",
      "2023-02-09 18:27:06,890 - distributed.core - INFO - Received 'close-stream' from tcp://127.0.0.1:41988; closing.\n",
      "2023-02-09 18:27:06,891 - distributed.scheduler - INFO - Remove client Client-447675e3-a8d1-11ed-90b5-bffce49803b2\n",
      "2023-02-09 18:27:06,892 - distributed.scheduler - INFO - Close client connection: Client-447675e3-a8d1-11ed-90b5-bffce49803b2\n",
      "2023-02-09 18:27:06,941 - distributed.scheduler - INFO - Remove client Client-4479ceed-a8d1-11ed-90b5-bffce49803b2\n",
      "2023-02-09 18:27:06,941 - distributed.core - INFO - Received 'close-stream' from tcp://127.0.0.1:41994; closing.\n",
      "2023-02-09 18:27:06,942 - distributed.scheduler - INFO - Remove client Client-4479ceed-a8d1-11ed-90b5-bffce49803b2\n",
      "2023-02-09 18:27:06,943 - distributed.scheduler - INFO - Close client connection: Client-4479ceed-a8d1-11ed-90b5-bffce49803b2\n"
     ]
    },
    {
     "name": "stdout",
     "output_type": "stream",
     "text": [
      "[SimulationRunRequest] http://localhost:29681/api/v2/simulation/gillespy2/run\n",
      "[SimulationRunRequest] http://localhost:29681/api/v2/simulation/gillespy2/run\n"
     ]
    },
    {
     "name": "stderr",
     "output_type": "stream",
     "text": [
      "2023-02-09 18:27:07,561 - distributed.scheduler - INFO - Receive client connection: Client-44e0bb8c-a8d1-11ed-90b5-bffce49803b2\n",
      "2023-02-09 18:27:07,562 - distributed.core - INFO - Starting established connection to tcp://127.0.0.1:42022\n",
      "2023-02-09 18:27:07,584 - distributed.scheduler - INFO - Remove client Client-44e0bb8c-a8d1-11ed-90b5-bffce49803b2\n",
      "2023-02-09 18:27:07,585 - distributed.core - INFO - Received 'close-stream' from tcp://127.0.0.1:42022; closing.\n",
      "2023-02-09 18:27:07,586 - distributed.scheduler - INFO - Remove client Client-44e0bb8c-a8d1-11ed-90b5-bffce49803b2\n",
      "2023-02-09 18:27:07,588 - distributed.scheduler - INFO - Close client connection: Client-44e0bb8c-a8d1-11ed-90b5-bffce49803b2\n",
      "2023-02-09 18:27:07,625 - distributed.scheduler - INFO - Receive client connection: Client-44e45bea-a8d1-11ed-90b5-bffce49803b2\n",
      "2023-02-09 18:27:07,626 - distributed.core - INFO - Starting established connection to tcp://127.0.0.1:42032\n",
      "2023-02-09 18:27:07,732 - distributed.scheduler - INFO - Remove client Client-44e45bea-a8d1-11ed-90b5-bffce49803b2\n",
      "2023-02-09 18:27:07,733 - distributed.core - INFO - Received 'close-stream' from tcp://127.0.0.1:42032; closing.\n",
      "2023-02-09 18:27:07,734 - distributed.scheduler - INFO - Remove client Client-44e45bea-a8d1-11ed-90b5-bffce49803b2\n",
      "2023-02-09 18:27:07,734 - distributed.scheduler - INFO - Close client connection: Client-44e45bea-a8d1-11ed-90b5-bffce49803b2\n"
     ]
    },
    {
     "name": "stdout",
     "output_type": "stream",
     "text": [
      "[SimulationRunRequest] http://localhost:29681/api/v2/simulation/gillespy2/run\n",
      "[SimulationRunRequest] http://localhost:29681/api/v2/simulation/gillespy2/run\n"
     ]
    },
    {
     "name": "stderr",
     "output_type": "stream",
     "text": [
      "2023-02-09 18:27:07,939 - distributed.scheduler - INFO - Receive client connection: Client-451a8dd3-a8d1-11ed-90b5-bffce49803b2\n",
      "2023-02-09 18:27:07,939 - distributed.core - INFO - Starting established connection to tcp://127.0.0.1:42054\n"
     ]
    }
   ],
   "source": [
    "results = run_parallel(100)"
   ]
  },
  {
   "cell_type": "code",
   "execution_count": 16,
   "metadata": {},
   "outputs": [
    {
     "name": "stderr",
     "output_type": "stream",
     "text": [
      "2023-02-09 18:27:07,963 - distributed.scheduler - INFO - Remove client Client-451a8dd3-a8d1-11ed-90b5-bffce49803b2\n",
      "2023-02-09 18:27:07,964 - distributed.core - INFO - Received 'close-stream' from tcp://127.0.0.1:42054; closing.\n",
      "2023-02-09 18:27:07,964 - distributed.scheduler - INFO - Remove client Client-451a8dd3-a8d1-11ed-90b5-bffce49803b2\n",
      "2023-02-09 18:27:07,965 - distributed.scheduler - INFO - Close client connection: Client-451a8dd3-a8d1-11ed-90b5-bffce49803b2\n"
     ]
    }
   ],
   "source": [
    "def combine(results):\n",
    "    _results = []\n",
    "    for result in results:\n",
    "        _results = _results + result.data\n",
    "    return gp2.Results(_results)"
   ]
  },
  {
   "cell_type": "code",
   "execution_count": 17,
   "metadata": {},
   "outputs": [
    {
     "name": "stdout",
     "output_type": "stream",
     "text": [
      "Results ready. Fetching.......\n",
      "Results ready. Fetching.......\n",
      "Results ready. Fetching.......\n",
      "Results ready. Fetching.......\n",
      "Results ready. Fetching.......\n",
      "Results ready. Fetching.......\n",
      "Results ready. Fetching.......\n",
      "Results ready. Fetching.......\n",
      "Results ready. Fetching.......\n",
      "Results ready. Fetching.......\n",
      "Results ready. Fetching.......\n"
     ]
    },
    {
     "name": "stderr",
     "output_type": "stream",
     "text": [
      "2023-02-09 18:27:12,308 - distributed.utils_perf - INFO - full garbage collection released 24.56 MiB from 1323 reference cycles (threshold: 9.54 MiB)\n"
     ]
    },
    {
     "name": "stdout",
     "output_type": "stream",
     "text": [
      "Results ready. Fetching.......\n",
      "Results ready. Fetching.......\n",
      "Results ready. Fetching.......\n",
      "Results ready. Fetching.......\n",
      "Results ready. Fetching.......\n",
      "Results ready. Fetching.......\n",
      "Results ready. Fetching.......\n",
      "Results ready. Fetching.......\n",
      "Results ready. Fetching.......\n",
      "Results ready. Fetching.......\n",
      "Results ready. Fetching.......\n",
      "Results ready. Fetching.......\n",
      "Results ready. Fetching.......\n",
      "Results ready. Fetching.......\n",
      "Results ready. Fetching.......\n",
      "Results ready. Fetching.......\n",
      "Results ready. Fetching.......\n",
      "Results ready. Fetching.......\n",
      "Results ready. Fetching.......\n",
      "Results ready. Fetching.......\n",
      "Results ready. Fetching.......\n",
      "Results ready. Fetching.......\n",
      "Results ready. Fetching.......\n",
      "Results ready. Fetching.......\n",
      "Results ready. Fetching.......\n",
      "Results ready. Fetching.......\n",
      "Results ready. Fetching.......\n",
      "Results ready. Fetching.......\n",
      "Results ready. Fetching.......\n",
      "Results ready. Fetching.......\n",
      "Results ready. Fetching.......\n"
     ]
    },
    {
     "name": "stderr",
     "output_type": "stream",
     "text": [
      "2023-02-09 18:27:21,660 - distributed.utils_perf - INFO - full garbage collection released 21.23 MiB from 1375 reference cycles (threshold: 9.54 MiB)\n"
     ]
    },
    {
     "name": "stdout",
     "output_type": "stream",
     "text": [
      "Results ready. Fetching.......\n",
      "Results ready. Fetching.......\n",
      "Results ready. Fetching.......\n",
      "Results ready. Fetching.......\n",
      "Results ready. Fetching.......\n",
      "Results ready. Fetching.......\n",
      "Results ready. Fetching.......\n",
      "Results ready. Fetching.......\n",
      "Results ready. Fetching.......\n",
      "Results ready. Fetching.......\n",
      "Results ready. Fetching.......\n",
      "Results ready. Fetching.......\n",
      "Results ready. Fetching.......\n",
      "Results ready. Fetching.......\n",
      "Results ready. Fetching.......\n",
      "Results ready. Fetching.......\n",
      "Results ready. Fetching.......\n",
      "Results ready. Fetching.......\n",
      "Results ready. Fetching.......\n",
      "Results ready. Fetching.......\n",
      "Results ready. Fetching.......\n"
     ]
    },
    {
     "name": "stderr",
     "output_type": "stream",
     "text": [
      "2023-02-09 18:27:28,213 - distributed.utils_perf - INFO - full garbage collection released 15.09 MiB from 1464 reference cycles (threshold: 9.54 MiB)\n"
     ]
    },
    {
     "name": "stdout",
     "output_type": "stream",
     "text": [
      "Results ready. Fetching.......\n",
      "Results ready. Fetching.......\n",
      "Results ready. Fetching.......\n",
      "Results ready. Fetching.......\n",
      "Results ready. Fetching.......\n",
      "Results ready. Fetching.......\n",
      "Results ready. Fetching.......\n",
      "Results ready. Fetching.......\n",
      "Results ready. Fetching.......\n",
      "Results ready. Fetching.......\n",
      "Results ready. Fetching.......\n",
      "Results ready. Fetching.......\n",
      "Results ready. Fetching.......\n",
      "Results ready. Fetching.......\n",
      "Results ready. Fetching.......\n",
      "Results ready. Fetching.......\n",
      "Results ready. Fetching.......\n",
      "Results ready. Fetching.......\n",
      "Results ready. Fetching.......\n",
      "Results ready. Fetching.......\n",
      "Results ready. Fetching.......\n",
      "Results ready. Fetching.......\n",
      "Results ready. Fetching.......\n",
      "Results ready. Fetching.......\n",
      "Results ready. Fetching.......\n",
      "Results ready. Fetching.......\n"
     ]
    },
    {
     "name": "stderr",
     "output_type": "stream",
     "text": [
      "2023-02-09 18:27:36,232 - distributed.utils_perf - INFO - full garbage collection released 24.34 MiB from 1873 reference cycles (threshold: 9.54 MiB)\n"
     ]
    },
    {
     "name": "stdout",
     "output_type": "stream",
     "text": [
      "Results ready. Fetching.......\n",
      "Results ready. Fetching.......\n",
      "Results ready. Fetching.......\n",
      "Results ready. Fetching.......\n",
      "Results ready. Fetching.......\n",
      "Results ready. Fetching.......\n",
      "Results ready. Fetching.......\n",
      "Results ready. Fetching.......\n",
      "Results ready. Fetching.......\n",
      "Results ready. Fetching.......\n",
      "Results ready. Fetching.......\n"
     ]
    }
   ],
   "source": [
    "final = combine(results)"
   ]
  },
  {
   "cell_type": "code",
   "execution_count": 18,
   "metadata": {},
   "outputs": [
    {
     "data": {
      "image/png": "[encoded data removed]",
      "text/plain": [
       "<Figure size 1800x1000 with 1 Axes>"
      ]
     },
     "metadata": {},
     "output_type": "display_data"
    }
   ],
   "source": [
    "final.plot()"
   ]
  },
  {
   "cell_type": "code",
   "execution_count": 19,
   "metadata": {},
   "outputs": [],
   "source": [
    "process.terminate()"
   ]
  },
  {
   "cell_type": "code",
   "execution_count": 20,
   "metadata": {},
   "outputs": [
    {
     "name": "stderr",
     "output_type": "stream",
     "text": [
      "2023-02-09 18:28:04,923 - distributed.nanny - INFO - Closing Nanny at 'tcp://127.0.0.1:44383'. Reason: nanny-close\n",
      "2023-02-09 18:28:04,924 - distributed.nanny - INFO - Nanny asking worker to close. Reason: nanny-close\n",
      "2023-02-09 18:28:04,925 - distributed.nanny - INFO - Closing Nanny at 'tcp://127.0.0.1:35687'. Reason: nanny-close\n",
      "2023-02-09 18:28:04,925 - distributed.worker - INFO - Stopping worker at tcp://127.0.0.1:43991. Reason: nanny-close\n",
      "2023-02-09 18:28:04,926 - distributed.nanny - INFO - Nanny asking worker to close. Reason: nanny-close\n",
      "2023-02-09 18:28:04,927 - distributed.nanny - INFO - Closing Nanny at 'tcp://127.0.0.1:37415'. Reason: nanny-close\n",
      "2023-02-09 18:28:04,926 - distributed.core - INFO - Connection to tcp://127.0.0.1:38435 has been closed.\n",
      "2023-02-09 18:28:04,928 - distributed.worker - INFO - Stopping worker at tcp://127.0.0.1:36375. Reason: nanny-close\n",
      "2023-02-09 18:28:04,929 - distributed.nanny - INFO - Nanny asking worker to close. Reason: nanny-close\n",
      "2023-02-09 18:28:04,929 - distributed.nanny - INFO - Closing Nanny at 'tcp://127.0.0.1:38563'. Reason: nanny-close\n",
      "2023-02-09 18:28:04,930 - distributed.worker - INFO - Stopping worker at tcp://127.0.0.1:36795. Reason: nanny-close\n",
      "2023-02-09 18:28:04,931 - distributed.nanny - INFO - Nanny asking worker to close. Reason: nanny-close\n",
      "2023-02-09 18:28:04,931 - distributed.core - INFO - Connection to tcp://127.0.0.1:38435 has been closed.\n",
      "2023-02-09 18:28:04,931 - distributed.core - INFO - Connection to tcp://127.0.0.1:38435 has been closed.\n",
      "2023-02-09 18:28:04,932 - distributed.worker - INFO - Stopping worker at tcp://127.0.0.1:42185. Reason: nanny-close\n",
      "2023-02-09 18:28:04,934 - distributed.core - INFO - Connection to tcp://127.0.0.1:38435 has been closed.\n",
      "2023-02-09 18:28:04,934 - distributed.core - INFO - Received 'close-stream' from tcp://127.0.0.1:57618; closing.\n",
      "2023-02-09 18:28:04,935 - distributed.core - INFO - Received 'close-stream' from tcp://127.0.0.1:57606; closing.\n",
      "2023-02-09 18:28:04,936 - distributed.core - INFO - Received 'close-stream' from tcp://127.0.0.1:57622; closing.\n",
      "2023-02-09 18:28:04,937 - distributed.scheduler - INFO - Remove worker <WorkerState 'tcp://127.0.0.1:43991', name: 0, status: closing, memory: 0, processing: 0>\n",
      "2023-02-09 18:28:04,938 - distributed.core - INFO - Removing comms to tcp://127.0.0.1:43991\n",
      "2023-02-09 18:28:04,939 - distributed.scheduler - INFO - Remove worker <WorkerState 'tcp://127.0.0.1:36375', name: 1, status: closing, memory: 0, processing: 0>\n",
      "2023-02-09 18:28:04,939 - distributed.core - INFO - Removing comms to tcp://127.0.0.1:36375\n",
      "2023-02-09 18:28:04,940 - distributed.scheduler - INFO - Remove worker <WorkerState 'tcp://127.0.0.1:36795', name: 2, status: closing, memory: 0, processing: 0>\n",
      "2023-02-09 18:28:04,941 - distributed.core - INFO - Removing comms to tcp://127.0.0.1:36795\n",
      "2023-02-09 18:28:04,942 - distributed.core - INFO - Received 'close-stream' from tcp://127.0.0.1:57626; closing.\n",
      "2023-02-09 18:28:04,943 - distributed.scheduler - INFO - Remove worker <WorkerState 'tcp://127.0.0.1:42185', name: 3, status: closing, memory: 0, processing: 0>\n",
      "2023-02-09 18:28:04,944 - distributed.core - INFO - Removing comms to tcp://127.0.0.1:42185\n",
      "2023-02-09 18:28:04,944 - distributed.scheduler - INFO - Lost all workers\n",
      "2023-02-09 18:28:05,066 - distributed.scheduler - INFO - Scheduler closing...\n",
      "2023-02-09 18:28:05,067 - distributed.scheduler - INFO - Scheduler closing all comms\n"
     ]
    }
   ],
   "source": [
    "dask.close()"
   ]
  }
 ],
 "metadata": {
  "kernelspec": {
   "display_name": "Python 3 (ipykernel)",
   "language": "python",
   "name": "python3"
  },
  "language_info": {
   "codemirror_mode": {
    "name": "ipython",
    "version": 3
   },
   "file_extension": ".py",
   "mimetype": "text/x-python",
   "name": "python",
   "nbconvert_exporter": "python",
   "pygments_lexer": "ipython3",
   "version": "3.11.1+"
  },
  "vscode": {
   "interpreter": {
    "hash": "ef56f9d787682a6ac61c29852cd545f557bd05dd1aa39793e08a6cd6ebb9b699"
   }
  }
 },
 "nbformat": 4,
 "nbformat_minor": 2
}
